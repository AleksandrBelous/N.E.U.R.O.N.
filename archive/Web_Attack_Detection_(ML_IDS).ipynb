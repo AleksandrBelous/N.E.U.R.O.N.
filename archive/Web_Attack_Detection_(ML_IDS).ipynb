{
 "cells": [
  {
   "cell_type": "markdown",
   "metadata": {
    "id": "tGLYJuXmFBZI"
   },
   "source": [
    "# Web attack detection using CICIDS2017 dataset"
   ]
  },
  {
   "cell_type": "markdown",
   "metadata": {
    "id": "sNPL1uYLFF1U"
   },
   "source": [
    "Training data: \"Intrusion Detection Evaluation Dataset\" (CICIDS2017). Description page: https://www.unb.ca/cic/datasets/ids-2017.html\n",
    "\n",
    "The data set is public. Download link: http://205.174.165.80/CICDataset/CIC-IDS-2017/Dataset/\n",
    "\n",
    "CICIDS2017 combines 8 files recorded on different days of observation (PCAP + CSV). Used archive: http://205.174.165.80/CICDataset/CIC-IDS-2017/Dataset/GeneratedLabelledFlows.zip\n",
    "\n",
    "In the downloaded archive GeneratedLabelledFlows.zip the file \"Thursday\" Thursday-WorkingHours-Morning-WebAttacks.pcap_ISCX.csv is selected.\n",
    "\n",
    "Sources:\n",
    "\n",
    "* [Sharafaldin2018] Iman Sharafaldin, Arash Habibi Lashkari and Ali A. Ghorbani. Toward Generating a New Intrusion Detection Dataset and Intrusion Traffic Characterization. 2018\n",
    "* [Kostas2018] Kahraman Kostas. Anomaly Detection in Networks Using Machine Learning. 2018 (error was found in assessing the importance of features)\n",
    "* https://github.com/bozbil/Anomaly-Detection-in-Networks-Using-Machine-Learning (error was found in assessing the importance of features)"
   ]
  },
  {
   "cell_type": "code",
   "execution_count": 1,
   "metadata": {
    "ExecuteTime": {
     "end_time": "2024-04-14T07:16:39.414826Z",
     "start_time": "2024-04-14T07:16:38.407001Z"
    },
    "id": "hJVAToeYFV2Q"
   },
   "outputs": [],
   "source": [
    "import pandas as pd\n",
    "import numpy as np\n",
    "import matplotlib.pyplot as plt\n",
    "%matplotlib inline"
   ]
  },
  {
   "cell_type": "code",
   "execution_count": 2,
   "metadata": {
    "ExecuteTime": {
     "end_time": "2024-04-14T07:16:39.504265Z",
     "start_time": "2024-04-14T07:16:39.418548Z"
    }
   },
   "outputs": [
    {
     "data": {
      "text/html": [
       "<div>\n",
       "<style scoped>\n",
       "    .dataframe tbody tr th:only-of-type {\n",
       "        vertical-align: middle;\n",
       "    }\n",
       "\n",
       "    .dataframe tbody tr th {\n",
       "        vertical-align: top;\n",
       "    }\n",
       "\n",
       "    .dataframe thead th {\n",
       "        text-align: right;\n",
       "    }\n",
       "</style>\n",
       "<table border=\"1\" class=\"dataframe\">\n",
       "  <thead>\n",
       "    <tr style=\"text-align: right;\">\n",
       "      <th></th>\n",
       "      <th>Average Packet Size</th>\n",
       "      <th>Flow Bytes/s</th>\n",
       "      <th>Fwd Packet Length Mean</th>\n",
       "      <th>Max Packet Length</th>\n",
       "      <th>Fwd IAT Min</th>\n",
       "      <th>Total Length of Fwd Packets</th>\n",
       "      <th>Flow IAT Mean</th>\n",
       "      <th>Fwd IAT Std</th>\n",
       "      <th>Fwd Packet Length Max</th>\n",
       "      <th>Fwd Header Length</th>\n",
       "      <th>Label</th>\n",
       "    </tr>\n",
       "  </thead>\n",
       "  <tbody>\n",
       "    <tr>\n",
       "      <th>0</th>\n",
       "      <td>158.3</td>\n",
       "      <td>270.947</td>\n",
       "      <td>526</td>\n",
       "      <td>144.3</td>\n",
       "      <td>0.004</td>\n",
       "      <td>1443</td>\n",
       "      <td>1.65100</td>\n",
       "      <td>0.64916</td>\n",
       "      <td>512</td>\n",
       "      <td>536</td>\n",
       "      <td>1</td>\n",
       "    </tr>\n",
       "    <tr>\n",
       "      <th>1</th>\n",
       "      <td>181.3</td>\n",
       "      <td>118.621</td>\n",
       "      <td>666</td>\n",
       "      <td>167.3</td>\n",
       "      <td>0.004</td>\n",
       "      <td>1673</td>\n",
       "      <td>2.66759</td>\n",
       "      <td>2.02854</td>\n",
       "      <td>652</td>\n",
       "      <td>536</td>\n",
       "      <td>1</td>\n",
       "    </tr>\n",
       "    <tr>\n",
       "      <th>2</th>\n",
       "      <td>179.8</td>\n",
       "      <td>37.896</td>\n",
       "      <td>665</td>\n",
       "      <td>165.8</td>\n",
       "      <td>0.049</td>\n",
       "      <td>1658</td>\n",
       "      <td>8.98554</td>\n",
       "      <td>4.74464</td>\n",
       "      <td>651</td>\n",
       "      <td>536</td>\n",
       "      <td>1</td>\n",
       "    </tr>\n",
       "    <tr>\n",
       "      <th>3</th>\n",
       "      <td>174.9</td>\n",
       "      <td>68.606</td>\n",
       "      <td>603</td>\n",
       "      <td>160.9</td>\n",
       "      <td>0.004</td>\n",
       "      <td>1609</td>\n",
       "      <td>3.42530</td>\n",
       "      <td>2.54967</td>\n",
       "      <td>589</td>\n",
       "      <td>536</td>\n",
       "      <td>1</td>\n",
       "    </tr>\n",
       "    <tr>\n",
       "      <th>4</th>\n",
       "      <td>126.8</td>\n",
       "      <td>100.780</td>\n",
       "      <td>666</td>\n",
       "      <td>112.8</td>\n",
       "      <td>0.003</td>\n",
       "      <td>1128</td>\n",
       "      <td>2.12797</td>\n",
       "      <td>1.25877</td>\n",
       "      <td>652</td>\n",
       "      <td>528</td>\n",
       "      <td>1</td>\n",
       "    </tr>\n",
       "    <tr>\n",
       "      <th>...</th>\n",
       "      <td>...</td>\n",
       "      <td>...</td>\n",
       "      <td>...</td>\n",
       "      <td>...</td>\n",
       "      <td>...</td>\n",
       "      <td>...</td>\n",
       "      <td>...</td>\n",
       "      <td>...</td>\n",
       "      <td>...</td>\n",
       "      <td>...</td>\n",
       "      <td>...</td>\n",
       "    </tr>\n",
       "    <tr>\n",
       "      <th>313</th>\n",
       "      <td>982.9</td>\n",
       "      <td>3502.007</td>\n",
       "      <td>1935</td>\n",
       "      <td>968.9</td>\n",
       "      <td>4.035</td>\n",
       "      <td>9689</td>\n",
       "      <td>0.31952</td>\n",
       "      <td>0.30548</td>\n",
       "      <td>1921</td>\n",
       "      <td>544</td>\n",
       "      <td>1</td>\n",
       "    </tr>\n",
       "    <tr>\n",
       "      <th>314</th>\n",
       "      <td>1158.7</td>\n",
       "      <td>3638.156</td>\n",
       "      <td>1934</td>\n",
       "      <td>1144.7</td>\n",
       "      <td>3.942</td>\n",
       "      <td>11447</td>\n",
       "      <td>0.33230</td>\n",
       "      <td>0.40012</td>\n",
       "      <td>1920</td>\n",
       "      <td>536</td>\n",
       "      <td>1</td>\n",
       "    </tr>\n",
       "    <tr>\n",
       "      <th>315</th>\n",
       "      <td>1158.7</td>\n",
       "      <td>3470.817</td>\n",
       "      <td>1934</td>\n",
       "      <td>1144.7</td>\n",
       "      <td>4.145</td>\n",
       "      <td>11447</td>\n",
       "      <td>0.36742</td>\n",
       "      <td>0.40015</td>\n",
       "      <td>1920</td>\n",
       "      <td>536</td>\n",
       "      <td>1</td>\n",
       "    </tr>\n",
       "    <tr>\n",
       "      <th>316</th>\n",
       "      <td>1158.7</td>\n",
       "      <td>3319.433</td>\n",
       "      <td>1933</td>\n",
       "      <td>1144.7</td>\n",
       "      <td>4.308</td>\n",
       "      <td>11447</td>\n",
       "      <td>0.33678</td>\n",
       "      <td>0.40009</td>\n",
       "      <td>1919</td>\n",
       "      <td>536</td>\n",
       "      <td>1</td>\n",
       "    </tr>\n",
       "    <tr>\n",
       "      <th>317</th>\n",
       "      <td>1158.6</td>\n",
       "      <td>3795.148</td>\n",
       "      <td>1933</td>\n",
       "      <td>1144.6</td>\n",
       "      <td>4.022</td>\n",
       "      <td>11446</td>\n",
       "      <td>0.31464</td>\n",
       "      <td>0.34414</td>\n",
       "      <td>1919</td>\n",
       "      <td>536</td>\n",
       "      <td>1</td>\n",
       "    </tr>\n",
       "  </tbody>\n",
       "</table>\n",
       "<p>15006 rows × 11 columns</p>\n",
       "</div>"
      ],
      "text/plain": [
       "     Average Packet Size  Flow Bytes/s  Fwd Packet Length Mean  \\\n",
       "0                  158.3       270.947                     526   \n",
       "1                  181.3       118.621                     666   \n",
       "2                  179.8        37.896                     665   \n",
       "3                  174.9        68.606                     603   \n",
       "4                  126.8       100.780                     666   \n",
       "..                   ...           ...                     ...   \n",
       "313                982.9      3502.007                    1935   \n",
       "314               1158.7      3638.156                    1934   \n",
       "315               1158.7      3470.817                    1934   \n",
       "316               1158.7      3319.433                    1933   \n",
       "317               1158.6      3795.148                    1933   \n",
       "\n",
       "     Max Packet Length  Fwd IAT Min  Total Length of Fwd Packets  \\\n",
       "0                144.3        0.004                         1443   \n",
       "1                167.3        0.004                         1673   \n",
       "2                165.8        0.049                         1658   \n",
       "3                160.9        0.004                         1609   \n",
       "4                112.8        0.003                         1128   \n",
       "..                 ...          ...                          ...   \n",
       "313              968.9        4.035                         9689   \n",
       "314             1144.7        3.942                        11447   \n",
       "315             1144.7        4.145                        11447   \n",
       "316             1144.7        4.308                        11447   \n",
       "317             1144.6        4.022                        11446   \n",
       "\n",
       "     Flow IAT Mean  Fwd IAT Std  Fwd Packet Length Max  Fwd Header Length  \\\n",
       "0          1.65100      0.64916                    512                536   \n",
       "1          2.66759      2.02854                    652                536   \n",
       "2          8.98554      4.74464                    651                536   \n",
       "3          3.42530      2.54967                    589                536   \n",
       "4          2.12797      1.25877                    652                528   \n",
       "..             ...          ...                    ...                ...   \n",
       "313        0.31952      0.30548                   1921                544   \n",
       "314        0.33230      0.40012                   1920                536   \n",
       "315        0.36742      0.40015                   1920                536   \n",
       "316        0.33678      0.40009                   1919                536   \n",
       "317        0.31464      0.34414                   1919                536   \n",
       "\n",
       "     Label  \n",
       "0        1  \n",
       "1        1  \n",
       "2        1  \n",
       "3        1  \n",
       "4        1  \n",
       "..     ...  \n",
       "313      1  \n",
       "314      1  \n",
       "315      1  \n",
       "316      1  \n",
       "317      1  \n",
       "\n",
       "[15006 rows x 11 columns]"
      ]
     },
     "execution_count": 2,
     "metadata": {},
     "output_type": "execute_result"
    }
   ],
   "source": [
    "import os\n",
    "dfs = [pd.read_csv('csvs/'+file) for file in os.listdir('csvs/')]\n",
    "df = pd.concat(dfs)\n",
    "df"
   ]
  },
  {
   "cell_type": "code",
   "execution_count": 3,
   "metadata": {
    "ExecuteTime": {
     "end_time": "2024-04-14T07:16:39.513468Z",
     "start_time": "2024-04-14T07:16:39.508109Z"
    }
   },
   "outputs": [],
   "source": [
    "# df.to_csv('combined.csv', index=False)"
   ]
  },
  {
   "cell_type": "code",
   "execution_count": 4,
   "metadata": {
    "ExecuteTime": {
     "end_time": "2024-04-14T07:16:39.524115Z",
     "start_time": "2024-04-14T07:16:39.517630Z"
    }
   },
   "outputs": [],
   "source": [
    "# df=pd.read_csv('combined.csv')\n",
    "# df"
   ]
  },
  {
   "cell_type": "code",
   "execution_count": 5,
   "metadata": {
    "ExecuteTime": {
     "end_time": "2024-04-14T07:16:39.536365Z",
     "start_time": "2024-04-14T07:16:39.528283Z"
    }
   },
   "outputs": [
    {
     "data": {
      "text/plain": [
       "array([1, 0])"
      ]
     },
     "execution_count": 5,
     "metadata": {},
     "output_type": "execute_result"
    }
   ],
   "source": [
    "df['Label'].unique()"
   ]
  },
  {
   "cell_type": "code",
   "execution_count": 6,
   "metadata": {
    "ExecuteTime": {
     "end_time": "2024-04-14T07:16:39.550931Z",
     "start_time": "2024-04-14T07:16:39.538555Z"
    }
   },
   "outputs": [
    {
     "data": {
      "text/plain": [
       "Label\n",
       "0    12500\n",
       "1     2506\n",
       "Name: count, dtype: int64"
      ]
     },
     "execution_count": 6,
     "metadata": {},
     "output_type": "execute_result"
    }
   ],
   "source": [
    "df['Label'].value_counts()"
   ]
  },
  {
   "cell_type": "code",
   "execution_count": 7,
   "metadata": {
    "ExecuteTime": {
     "end_time": "2024-04-14T07:16:39.563401Z",
     "start_time": "2024-04-14T07:16:39.553812Z"
    },
    "colab": {
     "base_uri": "https://localhost:8080/",
     "height": 34
    },
    "id": "a-FDOBmOufo6",
    "outputId": "8ba70aa2-818b-48d5-a74b-9a5ddf0b76f7"
   },
   "outputs": [
    {
     "name": "stdout",
     "output_type": "stream",
     "text": [
      "(15006, 10) (15006,)\n"
     ]
    }
   ],
   "source": [
    "y = df['Label'].values\n",
    "X = df.drop(columns=['Label'])\n",
    "print(X.shape, y.shape)"
   ]
  },
  {
   "cell_type": "code",
   "execution_count": 8,
   "metadata": {
    "ExecuteTime": {
     "end_time": "2024-04-14T07:16:40.290866Z",
     "start_time": "2024-04-14T07:16:39.569876Z"
    },
    "colab": {
     "base_uri": "https://localhost:8080/",
     "height": 34
    },
    "id": "4BbvfnjTuzeX",
    "outputId": "55719ff0-84a0-4568-ebda-df2f479bc71c"
   },
   "outputs": [],
   "source": [
    "from sklearn.model_selection import train_test_split\n",
    "X_train, X_other, y_train, y_other = train_test_split(X, y, \n",
    "                                                    train_size=0.7, \n",
    "                                                    random_state=42,\n",
    "                                                    stratify=y)\n",
    "X_test, X_val, y_test, y_val = train_test_split(X_other, y_other, \n",
    "                                                    test_size=0.5, \n",
    "                                                    random_state=42,\n",
    "                                                    stratify=y_other)"
   ]
  },
  {
   "cell_type": "code",
   "execution_count": 9,
   "metadata": {
    "ExecuteTime": {
     "end_time": "2024-04-14T07:16:40.299862Z",
     "start_time": "2024-04-14T07:16:40.294141Z"
    }
   },
   "outputs": [
    {
     "data": {
      "text/plain": [
       "(10504, 10)"
      ]
     },
     "execution_count": 9,
     "metadata": {},
     "output_type": "execute_result"
    }
   ],
   "source": [
    "X_train.shape"
   ]
  },
  {
   "cell_type": "code",
   "execution_count": 10,
   "metadata": {
    "ExecuteTime": {
     "end_time": "2024-04-14T07:16:40.310293Z",
     "start_time": "2024-04-14T07:16:40.302941Z"
    }
   },
   "outputs": [
    {
     "data": {
      "text/plain": [
       "(10504,)"
      ]
     },
     "execution_count": 10,
     "metadata": {},
     "output_type": "execute_result"
    }
   ],
   "source": [
    "y_train.shape"
   ]
  },
  {
   "cell_type": "code",
   "execution_count": 11,
   "metadata": {
    "ExecuteTime": {
     "end_time": "2024-04-14T07:16:40.323130Z",
     "start_time": "2024-04-14T07:16:40.313344Z"
    }
   },
   "outputs": [
    {
     "data": {
      "text/plain": [
       "{0: 8750, 1: 1754}"
      ]
     },
     "execution_count": 11,
     "metadata": {},
     "output_type": "execute_result"
    }
   ],
   "source": [
    "unique, counts = np.unique(y_train, return_counts=True)\n",
    "dict(zip(unique, counts))"
   ]
  },
  {
   "cell_type": "code",
   "execution_count": 12,
   "metadata": {
    "ExecuteTime": {
     "end_time": "2024-04-14T07:16:40.332432Z",
     "start_time": "2024-04-14T07:16:40.325941Z"
    }
   },
   "outputs": [
    {
     "data": {
      "text/plain": [
       "(2251, 10)"
      ]
     },
     "execution_count": 12,
     "metadata": {},
     "output_type": "execute_result"
    }
   ],
   "source": [
    "X_val.shape"
   ]
  },
  {
   "cell_type": "code",
   "execution_count": 13,
   "metadata": {
    "ExecuteTime": {
     "end_time": "2024-04-14T07:16:40.343949Z",
     "start_time": "2024-04-14T07:16:40.334991Z"
    }
   },
   "outputs": [
    {
     "data": {
      "text/plain": [
       "(2251,)"
      ]
     },
     "execution_count": 13,
     "metadata": {},
     "output_type": "execute_result"
    }
   ],
   "source": [
    "y_val.shape"
   ]
  },
  {
   "cell_type": "code",
   "execution_count": 14,
   "metadata": {
    "ExecuteTime": {
     "end_time": "2024-04-14T07:16:40.356098Z",
     "start_time": "2024-04-14T07:16:40.346138Z"
    }
   },
   "outputs": [
    {
     "data": {
      "text/plain": [
       "(2251, 10)"
      ]
     },
     "execution_count": 14,
     "metadata": {},
     "output_type": "execute_result"
    }
   ],
   "source": [
    "X_test.shape"
   ]
  },
  {
   "cell_type": "code",
   "execution_count": 15,
   "metadata": {
    "ExecuteTime": {
     "end_time": "2024-04-14T07:16:40.366695Z",
     "start_time": "2024-04-14T07:16:40.358566Z"
    }
   },
   "outputs": [
    {
     "data": {
      "text/plain": [
       "(2251,)"
      ]
     },
     "execution_count": 15,
     "metadata": {},
     "output_type": "execute_result"
    }
   ],
   "source": [
    "y_test.shape"
   ]
  },
  {
   "cell_type": "code",
   "execution_count": 16,
   "metadata": {
    "ExecuteTime": {
     "end_time": "2024-04-14T07:16:40.378634Z",
     "start_time": "2024-04-14T07:16:40.369114Z"
    }
   },
   "outputs": [
    {
     "data": {
      "text/plain": [
       "(4502, 10)"
      ]
     },
     "execution_count": 16,
     "metadata": {},
     "output_type": "execute_result"
    }
   ],
   "source": [
    "X_other.shape"
   ]
  },
  {
   "cell_type": "code",
   "execution_count": 17,
   "metadata": {
    "ExecuteTime": {
     "end_time": "2024-04-14T07:16:40.388091Z",
     "start_time": "2024-04-14T07:16:40.380763Z"
    }
   },
   "outputs": [
    {
     "data": {
      "text/plain": [
       "(4502,)"
      ]
     },
     "execution_count": 17,
     "metadata": {},
     "output_type": "execute_result"
    }
   ],
   "source": [
    "y_other.shape"
   ]
  },
  {
   "cell_type": "code",
   "execution_count": 18,
   "metadata": {
    "ExecuteTime": {
     "end_time": "2024-04-14T07:16:43.130114Z",
     "start_time": "2024-04-14T07:16:40.390508Z"
    }
   },
   "outputs": [],
   "source": [
    "import tensorflow as tf"
   ]
  },
  {
   "cell_type": "code",
   "execution_count": 19,
   "metadata": {
    "ExecuteTime": {
     "end_time": "2024-04-14T07:17:05.638317Z",
     "start_time": "2024-04-14T07:16:43.133762Z"
    }
   },
   "outputs": [
    {
     "name": "stderr",
     "output_type": "stream",
     "text": [
      "2024-04-14 10:16:43.155428: I tensorflow/core/common_runtime/process_util.cc:146] Creating new thread pool with default inter op setting: 2. Tune using inter_op_parallelism_threads for best performance.\n"
     ]
    },
    {
     "name": "stdout",
     "output_type": "stream",
     "text": [
      "Epoch 1/10\n",
      "329/329 [==============================] - 3s 6ms/step - loss: 2.6939 - binary_accuracy: 0.9490 - val_loss: 4.4100 - val_binary_accuracy: 0.9525\n",
      "Epoch 2/10\n",
      "329/329 [==============================] - 2s 5ms/step - loss: 1.4092 - binary_accuracy: 0.9558 - val_loss: 2.4109 - val_binary_accuracy: 0.9409\n",
      "Epoch 3/10\n",
      "329/329 [==============================] - 2s 5ms/step - loss: 0.8681 - binary_accuracy: 0.9603 - val_loss: 2.0029 - val_binary_accuracy: 0.9516\n",
      "Epoch 4/10\n",
      "329/329 [==============================] - 2s 6ms/step - loss: 1.2365 - binary_accuracy: 0.9600 - val_loss: 2.3715 - val_binary_accuracy: 0.9525\n",
      "Epoch 5/10\n",
      "329/329 [==============================] - 2s 5ms/step - loss: 1.0674 - binary_accuracy: 0.9622 - val_loss: 2.2575 - val_binary_accuracy: 0.9525\n",
      "Epoch 6/10\n",
      "329/329 [==============================] - 1s 5ms/step - loss: 0.6113 - binary_accuracy: 0.9661 - val_loss: 2.7632 - val_binary_accuracy: 0.9636\n",
      "Epoch 7/10\n",
      "329/329 [==============================] - 2s 5ms/step - loss: 1.2304 - binary_accuracy: 0.9605 - val_loss: 1.4401 - val_binary_accuracy: 0.9676\n",
      "Epoch 8/10\n",
      "329/329 [==============================] - 2s 5ms/step - loss: 0.8564 - binary_accuracy: 0.9631 - val_loss: 2.8025 - val_binary_accuracy: 0.9454\n",
      "Epoch 9/10\n",
      "329/329 [==============================] - 2s 5ms/step - loss: 0.8258 - binary_accuracy: 0.9613 - val_loss: 1.7589 - val_binary_accuracy: 0.9520\n",
      "Epoch 10/10\n",
      "329/329 [==============================] - 2s 6ms/step - loss: 0.5513 - binary_accuracy: 0.9655 - val_loss: 1.5270 - val_binary_accuracy: 0.9676\n",
      "71/71 [==============================] - 1s 8ms/step - loss: 0.2230 - binary_accuracy: 0.9640\n",
      "\n",
      "Test accuracy: 0.9640160202980042\n"
     ]
    }
   ],
   "source": [
    "model = tf.keras.Sequential([\n",
    "                tf.keras.layers.Dense(64, activation=tf.nn.relu, input_shape=(10,)),\n",
    "                tf.keras.layers.Dense(32, activation=tf.nn.relu),\n",
    "                tf.keras.layers.Dense(1, activation=tf.nn.sigmoid)\n",
    "                ]\n",
    "                )\n",
    "learning_rate = 1*1e-3\n",
    "model.compile(optimizer=tf.keras.optimizers.Adam(learning_rate),\n",
    "              loss=tf.keras.losses.binary_crossentropy,\n",
    "              metrics=[tf.keras.metrics.binary_accuracy])\n",
    "\n",
    "model.fit(X_train, y_train, epochs=10, batch_size=32, validation_data=(X_val, y_val))\n",
    "test_loss, test_acc = model.evaluate(X_test, y_test)\n",
    "print('\\nTest accuracy:', test_acc)"
   ]
  },
  {
   "cell_type": "code",
   "execution_count": 20,
   "metadata": {
    "ExecuteTime": {
     "end_time": "2024-04-14T07:17:05.885165Z",
     "start_time": "2024-04-14T07:17:05.644992Z"
    }
   },
   "outputs": [],
   "source": [
    "file_name = 'my_model.h5'\n",
    "model.save(file_name)\n",
    "loaded_model = tf.keras.models.load_model(file_name)"
   ]
  },
  {
   "cell_type": "code",
   "execution_count": 21,
   "metadata": {
    "ExecuteTime": {
     "end_time": "2024-04-14T07:17:07.388568Z",
     "start_time": "2024-04-14T07:17:05.888456Z"
    }
   },
   "outputs": [
    {
     "name": "stdout",
     "output_type": "stream",
     "text": [
      "141/141 [==============================] - 1s 5ms/step\n"
     ]
    },
    {
     "data": {
      "text/plain": [
       "array([[1.],\n",
       "       [0.],\n",
       "       [0.],\n",
       "       ...,\n",
       "       [0.],\n",
       "       [0.],\n",
       "       [0.]], dtype=float32)"
      ]
     },
     "execution_count": 21,
     "metadata": {},
     "output_type": "execute_result"
    }
   ],
   "source": [
    "loaded_model.predict(X_other)"
   ]
  },
  {
   "cell_type": "code",
   "execution_count": 22,
   "metadata": {
    "ExecuteTime": {
     "end_time": "2024-04-14T07:17:07.409828Z",
     "start_time": "2024-04-14T07:17:07.391548Z"
    }
   },
   "outputs": [
    {
     "data": {
      "text/html": [
       "<div>\n",
       "<style scoped>\n",
       "    .dataframe tbody tr th:only-of-type {\n",
       "        vertical-align: middle;\n",
       "    }\n",
       "\n",
       "    .dataframe tbody tr th {\n",
       "        vertical-align: top;\n",
       "    }\n",
       "\n",
       "    .dataframe thead th {\n",
       "        text-align: right;\n",
       "    }\n",
       "</style>\n",
       "<table border=\"1\" class=\"dataframe\">\n",
       "  <thead>\n",
       "    <tr style=\"text-align: right;\">\n",
       "      <th></th>\n",
       "      <th>Average Packet Size</th>\n",
       "      <th>Flow Bytes/s</th>\n",
       "      <th>Fwd Packet Length Mean</th>\n",
       "      <th>Max Packet Length</th>\n",
       "      <th>Fwd IAT Min</th>\n",
       "      <th>Total Length of Fwd Packets</th>\n",
       "      <th>Flow IAT Mean</th>\n",
       "      <th>Fwd IAT Std</th>\n",
       "      <th>Fwd Packet Length Max</th>\n",
       "      <th>Fwd Header Length</th>\n",
       "    </tr>\n",
       "  </thead>\n",
       "  <tbody>\n",
       "    <tr>\n",
       "      <th>303</th>\n",
       "      <td>1158.7</td>\n",
       "      <td>4.089442e+03</td>\n",
       "      <td>1933</td>\n",
       "      <td>1144.7</td>\n",
       "      <td>4.063</td>\n",
       "      <td>11447</td>\n",
       "      <td>0.31266</td>\n",
       "      <td>0.38543</td>\n",
       "      <td>1919</td>\n",
       "      <td>536</td>\n",
       "    </tr>\n",
       "    <tr>\n",
       "      <th>2679</th>\n",
       "      <td>1806.0</td>\n",
       "      <td>2.621571e+06</td>\n",
       "      <td>2962</td>\n",
       "      <td>1792.0</td>\n",
       "      <td>0.000</td>\n",
       "      <td>17920</td>\n",
       "      <td>0.00058</td>\n",
       "      <td>0.00069</td>\n",
       "      <td>2948</td>\n",
       "      <td>544</td>\n",
       "    </tr>\n",
       "    <tr>\n",
       "      <th>6690</th>\n",
       "      <td>195.9</td>\n",
       "      <td>4.424119e+04</td>\n",
       "      <td>809</td>\n",
       "      <td>181.9</td>\n",
       "      <td>0.000</td>\n",
       "      <td>1819</td>\n",
       "      <td>0.00907</td>\n",
       "      <td>0.00599</td>\n",
       "      <td>795</td>\n",
       "      <td>528</td>\n",
       "    </tr>\n",
       "    <tr>\n",
       "      <th>2976</th>\n",
       "      <td>680.9</td>\n",
       "      <td>6.047069e+06</td>\n",
       "      <td>1514</td>\n",
       "      <td>666.9</td>\n",
       "      <td>0.000</td>\n",
       "      <td>6669</td>\n",
       "      <td>0.00022</td>\n",
       "      <td>0.00011</td>\n",
       "      <td>1500</td>\n",
       "      <td>544</td>\n",
       "    </tr>\n",
       "    <tr>\n",
       "      <th>1609</th>\n",
       "      <td>296.4</td>\n",
       "      <td>3.459788e+05</td>\n",
       "      <td>1482</td>\n",
       "      <td>282.4</td>\n",
       "      <td>-0.034</td>\n",
       "      <td>2824</td>\n",
       "      <td>0.00131</td>\n",
       "      <td>0.00086</td>\n",
       "      <td>1468</td>\n",
       "      <td>520</td>\n",
       "    </tr>\n",
       "    <tr>\n",
       "      <th>...</th>\n",
       "      <td>...</td>\n",
       "      <td>...</td>\n",
       "      <td>...</td>\n",
       "      <td>...</td>\n",
       "      <td>...</td>\n",
       "      <td>...</td>\n",
       "      <td>...</td>\n",
       "      <td>...</td>\n",
       "      <td>...</td>\n",
       "      <td>...</td>\n",
       "    </tr>\n",
       "    <tr>\n",
       "      <th>1056</th>\n",
       "      <td>178.8</td>\n",
       "      <td>5.132695e+03</td>\n",
       "      <td>451</td>\n",
       "      <td>164.8</td>\n",
       "      <td>0.058</td>\n",
       "      <td>1648</td>\n",
       "      <td>0.06642</td>\n",
       "      <td>0.03530</td>\n",
       "      <td>437</td>\n",
       "      <td>520</td>\n",
       "    </tr>\n",
       "    <tr>\n",
       "      <th>6223</th>\n",
       "      <td>345.8</td>\n",
       "      <td>1.015208e+05</td>\n",
       "      <td>2862</td>\n",
       "      <td>331.8</td>\n",
       "      <td>0.005</td>\n",
       "      <td>3318</td>\n",
       "      <td>0.00696</td>\n",
       "      <td>0.00341</td>\n",
       "      <td>2848</td>\n",
       "      <td>520</td>\n",
       "    </tr>\n",
       "    <tr>\n",
       "      <th>392</th>\n",
       "      <td>1200.0</td>\n",
       "      <td>1.932367e+07</td>\n",
       "      <td>2898</td>\n",
       "      <td>1186.0</td>\n",
       "      <td>0.000</td>\n",
       "      <td>11860</td>\n",
       "      <td>0.00014</td>\n",
       "      <td>0.00010</td>\n",
       "      <td>2884</td>\n",
       "      <td>532</td>\n",
       "    </tr>\n",
       "    <tr>\n",
       "      <th>161</th>\n",
       "      <td>755.8</td>\n",
       "      <td>5.495928e+05</td>\n",
       "      <td>2914</td>\n",
       "      <td>741.8</td>\n",
       "      <td>0.000</td>\n",
       "      <td>7418</td>\n",
       "      <td>0.00255</td>\n",
       "      <td>0.00151</td>\n",
       "      <td>2900</td>\n",
       "      <td>532</td>\n",
       "    </tr>\n",
       "    <tr>\n",
       "      <th>5862</th>\n",
       "      <td>1225.6</td>\n",
       "      <td>1.295150e+06</td>\n",
       "      <td>2962</td>\n",
       "      <td>1211.6</td>\n",
       "      <td>-0.041</td>\n",
       "      <td>12116</td>\n",
       "      <td>0.00119</td>\n",
       "      <td>0.00095</td>\n",
       "      <td>2948</td>\n",
       "      <td>532</td>\n",
       "    </tr>\n",
       "  </tbody>\n",
       "</table>\n",
       "<p>4502 rows × 10 columns</p>\n",
       "</div>"
      ],
      "text/plain": [
       "      Average Packet Size  Flow Bytes/s  Fwd Packet Length Mean  \\\n",
       "303                1158.7  4.089442e+03                    1933   \n",
       "2679               1806.0  2.621571e+06                    2962   \n",
       "6690                195.9  4.424119e+04                     809   \n",
       "2976                680.9  6.047069e+06                    1514   \n",
       "1609                296.4  3.459788e+05                    1482   \n",
       "...                   ...           ...                     ...   \n",
       "1056                178.8  5.132695e+03                     451   \n",
       "6223                345.8  1.015208e+05                    2862   \n",
       "392                1200.0  1.932367e+07                    2898   \n",
       "161                 755.8  5.495928e+05                    2914   \n",
       "5862               1225.6  1.295150e+06                    2962   \n",
       "\n",
       "      Max Packet Length  Fwd IAT Min  Total Length of Fwd Packets  \\\n",
       "303              1144.7        4.063                        11447   \n",
       "2679             1792.0        0.000                        17920   \n",
       "6690              181.9        0.000                         1819   \n",
       "2976              666.9        0.000                         6669   \n",
       "1609              282.4       -0.034                         2824   \n",
       "...                 ...          ...                          ...   \n",
       "1056              164.8        0.058                         1648   \n",
       "6223              331.8        0.005                         3318   \n",
       "392              1186.0        0.000                        11860   \n",
       "161               741.8        0.000                         7418   \n",
       "5862             1211.6       -0.041                        12116   \n",
       "\n",
       "      Flow IAT Mean  Fwd IAT Std  Fwd Packet Length Max  Fwd Header Length  \n",
       "303         0.31266      0.38543                   1919                536  \n",
       "2679        0.00058      0.00069                   2948                544  \n",
       "6690        0.00907      0.00599                    795                528  \n",
       "2976        0.00022      0.00011                   1500                544  \n",
       "1609        0.00131      0.00086                   1468                520  \n",
       "...             ...          ...                    ...                ...  \n",
       "1056        0.06642      0.03530                    437                520  \n",
       "6223        0.00696      0.00341                   2848                520  \n",
       "392         0.00014      0.00010                   2884                532  \n",
       "161         0.00255      0.00151                   2900                532  \n",
       "5862        0.00119      0.00095                   2948                532  \n",
       "\n",
       "[4502 rows x 10 columns]"
      ]
     },
     "execution_count": 22,
     "metadata": {},
     "output_type": "execute_result"
    }
   ],
   "source": [
    "X_other"
   ]
  },
  {
   "cell_type": "code",
   "execution_count": 23,
   "metadata": {
    "ExecuteTime": {
     "end_time": "2024-04-14T07:17:07.419446Z",
     "start_time": "2024-04-14T07:17:07.411925Z"
    }
   },
   "outputs": [],
   "source": [
    "good = (454.8,11590.893,2866,440.8,-0.047,4408,0.09773,0.0436,2852,536)\n",
    "bad = (158.3,270.947,526,144.3,0.004,1443,1.651,0.64916,512,536)"
   ]
  },
  {
   "cell_type": "code",
   "execution_count": 24,
   "metadata": {
    "ExecuteTime": {
     "end_time": "2024-04-14T07:17:07.430828Z",
     "start_time": "2024-04-14T07:17:07.421973Z"
    }
   },
   "outputs": [],
   "source": [
    "def get_prediction(single):\n",
    "    prediction = loaded_model.predict([single])\n",
    "    print(f'pred={prediction}')\n",
    "    threshold = 0.5\n",
    "    if prediction >= threshold:\n",
    "        print(\"Предупреждение: Вредоносная активность обнаружена!\")\n",
    "    else:\n",
    "        print(\"Нет предупреждения: Вредоносная активность не обнаружена.\")"
   ]
  },
  {
   "cell_type": "code",
   "execution_count": 25,
   "metadata": {
    "ExecuteTime": {
     "end_time": "2024-04-14T07:17:07.728647Z",
     "start_time": "2024-04-14T07:17:07.433746Z"
    }
   },
   "outputs": [
    {
     "name": "stdout",
     "output_type": "stream",
     "text": [
      "1/1 [==============================] - 0s 102ms/step\n",
      "pred=[[0.]]\n",
      "Нет предупреждения: Вредоносная активность не обнаружена.\n",
      "1/1 [==============================] - 0s 54ms/step\n",
      "pred=[[1.442228e-13]]\n",
      "Нет предупреждения: Вредоносная активность не обнаружена.\n"
     ]
    }
   ],
   "source": [
    "get_prediction(good)\n",
    "get_prediction(bad)"
   ]
  },
  {
   "cell_type": "code",
   "execution_count": 56,
   "metadata": {
    "ExecuteTime": {
     "end_time": "2024-04-14T07:30:09.605710Z",
     "start_time": "2024-04-14T07:30:09.587851Z"
    }
   },
   "outputs": [],
   "source": [
    "def get_single_prediction(single):\n",
    "    prediction = loaded_model.predict([single])\n",
    "    threshold = 0.5\n",
    "    return prediction >= threshold\n",
    "\n",
    "\n",
    "def update_model(X, y, epochs=10, batch_size=32):\n",
    "    \"\"\"\n",
    "    update the pretrained model ('loaded_model' attribute) in real time\n",
    "    :param X: list of network characteristics, shape=(N, 10) for N sniffed packets\n",
    "    :param y: labels\n",
    "    :param epochs: number of epochs\n",
    "    :param batch_size: size of bathes\n",
    "    :return: None, update the 'loaded_model' attribute\n",
    "    \"\"\"\n",
    "    if loaded_model is None:\n",
    "        load_model()\n",
    "    if get_single_prediction(X) == y:\n",
    "        learning_rate = 1 * 1e-3\n",
    "        loaded_model.compile(optimizer=tf.keras.optimizers.Adam(learning_rate),\n",
    "                                  loss=tf.keras.losses.binary_crossentropy,\n",
    "                                  metrics=[tf.keras.metrics.binary_accuracy]\n",
    "                                  )\n",
    "        loaded_model.fit([X], y, epochs=epochs, batch_size=batch_size)\n",
    "#         save_loaded_model()"
   ]
  },
  {
   "cell_type": "code",
   "execution_count": 47,
   "metadata": {
    "ExecuteTime": {
     "end_time": "2024-04-14T07:26:18.069174Z",
     "start_time": "2024-04-14T07:26:18.030511Z"
    }
   },
   "outputs": [
    {
     "data": {
      "text/html": [
       "<div>\n",
       "<style scoped>\n",
       "    .dataframe tbody tr th:only-of-type {\n",
       "        vertical-align: middle;\n",
       "    }\n",
       "\n",
       "    .dataframe tbody tr th {\n",
       "        vertical-align: top;\n",
       "    }\n",
       "\n",
       "    .dataframe thead th {\n",
       "        text-align: right;\n",
       "    }\n",
       "</style>\n",
       "<table border=\"1\" class=\"dataframe\">\n",
       "  <thead>\n",
       "    <tr style=\"text-align: right;\">\n",
       "      <th></th>\n",
       "      <th>Average Packet Size</th>\n",
       "      <th>Flow Bytes/s</th>\n",
       "      <th>Fwd Packet Length Mean</th>\n",
       "      <th>Max Packet Length</th>\n",
       "      <th>Fwd IAT Min</th>\n",
       "      <th>Total Length of Fwd Packets</th>\n",
       "      <th>Flow IAT Mean</th>\n",
       "      <th>Fwd IAT Std</th>\n",
       "      <th>Fwd Packet Length Max</th>\n",
       "      <th>Fwd Header Length</th>\n",
       "    </tr>\n",
       "  </thead>\n",
       "  <tbody>\n",
       "    <tr>\n",
       "      <th>303</th>\n",
       "      <td>1158.7</td>\n",
       "      <td>4089.442</td>\n",
       "      <td>1933</td>\n",
       "      <td>1144.7</td>\n",
       "      <td>4.063</td>\n",
       "      <td>11447</td>\n",
       "      <td>0.31266</td>\n",
       "      <td>0.38543</td>\n",
       "      <td>1919</td>\n",
       "      <td>536</td>\n",
       "    </tr>\n",
       "  </tbody>\n",
       "</table>\n",
       "</div>"
      ],
      "text/plain": [
       "     Average Packet Size  Flow Bytes/s  Fwd Packet Length Mean  \\\n",
       "303               1158.7      4089.442                    1933   \n",
       "\n",
       "     Max Packet Length  Fwd IAT Min  Total Length of Fwd Packets  \\\n",
       "303             1144.7        4.063                        11447   \n",
       "\n",
       "     Flow IAT Mean  Fwd IAT Std  Fwd Packet Length Max  Fwd Header Length  \n",
       "303        0.31266      0.38543                   1919                536  "
      ]
     },
     "execution_count": 47,
     "metadata": {},
     "output_type": "execute_result"
    }
   ],
   "source": [
    "X_other[0:1]"
   ]
  },
  {
   "cell_type": "code",
   "execution_count": 52,
   "metadata": {
    "ExecuteTime": {
     "end_time": "2024-04-14T07:28:41.101418Z",
     "start_time": "2024-04-14T07:28:41.089500Z"
    }
   },
   "outputs": [
    {
     "data": {
      "text/plain": [
       "(454.8, 11590.893, 2866, 440.8, -0.047, 4408, 0.09773, 0.0436, 2852, 536)"
      ]
     },
     "execution_count": 52,
     "metadata": {},
     "output_type": "execute_result"
    }
   ],
   "source": [
    "good = (454.8,11590.893,2866,440.8,-0.047,4408,0.09773,0.0436,2852,536)\n",
    "good = good\n",
    "good"
   ]
  },
  {
   "cell_type": "code",
   "execution_count": 48,
   "metadata": {
    "ExecuteTime": {
     "end_time": "2024-04-14T07:26:29.571936Z",
     "start_time": "2024-04-14T07:26:29.558299Z"
    }
   },
   "outputs": [
    {
     "data": {
      "text/plain": [
       "array([1])"
      ]
     },
     "execution_count": 48,
     "metadata": {},
     "output_type": "execute_result"
    }
   ],
   "source": [
    " y_other[0:1]"
   ]
  },
  {
   "cell_type": "code",
   "execution_count": 36,
   "metadata": {
    "ExecuteTime": {
     "end_time": "2024-04-14T07:24:05.309686Z",
     "start_time": "2024-04-14T07:24:05.119749Z"
    }
   },
   "outputs": [
    {
     "name": "stdout",
     "output_type": "stream",
     "text": [
      "Epoch 1/2\n",
      "1/1 [==============================] - 0s 24ms/step - loss: 0.0000e+00 - binary_accuracy: 1.0000\n",
      "Epoch 2/2\n",
      "1/1 [==============================] - 0s 16ms/step - loss: 9.0840e-38 - binary_accuracy: 1.0000\n"
     ]
    },
    {
     "data": {
      "text/plain": [
       "<keras.callbacks.History at 0x77614b45a290>"
      ]
     },
     "execution_count": 36,
     "metadata": {},
     "output_type": "execute_result"
    }
   ],
   "source": [
    "loaded_model.fit(X_other[0:1], y_other[0:1], epochs=2, batch_size=32)"
   ]
  },
  {
   "cell_type": "code",
   "execution_count": 57,
   "metadata": {
    "ExecuteTime": {
     "end_time": "2024-04-14T07:30:16.792448Z",
     "start_time": "2024-04-14T07:30:14.472445Z"
    }
   },
   "outputs": [
    {
     "name": "stdout",
     "output_type": "stream",
     "text": [
      "WARNING:tensorflow:6 out of the last 148 calls to <function Model.make_predict_function.<locals>.predict_function at 0x77614b2d4540> triggered tf.function retracing. Tracing is expensive and the excessive number of tracings could be due to (1) creating @tf.function repeatedly in a loop, (2) passing tensors with different shapes, (3) passing Python objects instead of tensors. For (1), please define your @tf.function outside of the loop. For (2), @tf.function has reduce_retracing=True option that can avoid unnecessary retracing. For (3), please refer to https://www.tensorflow.org/guide/function#controlling_retracing and https://www.tensorflow.org/api_docs/python/tf/function for  more details.\n",
      "1/1 [==============================] - 0s 90ms/step\n",
      "Epoch 1/10\n",
      "1/1 [==============================] - 1s 982ms/step - loss: 0.0000e+00 - binary_accuracy: 1.0000\n",
      "Epoch 2/10\n",
      "1/1 [==============================] - 0s 52ms/step - loss: 0.0000e+00 - binary_accuracy: 1.0000\n",
      "Epoch 3/10\n",
      "1/1 [==============================] - 0s 31ms/step - loss: 0.0000e+00 - binary_accuracy: 1.0000\n",
      "Epoch 4/10\n",
      "1/1 [==============================] - 0s 21ms/step - loss: 0.0000e+00 - binary_accuracy: 1.0000\n",
      "Epoch 5/10\n",
      "1/1 [==============================] - 0s 26ms/step - loss: 0.0000e+00 - binary_accuracy: 1.0000\n",
      "Epoch 6/10\n",
      "1/1 [==============================] - 0s 38ms/step - loss: 0.0000e+00 - binary_accuracy: 1.0000\n",
      "Epoch 7/10\n",
      "1/1 [==============================] - 0s 35ms/step - loss: 0.0000e+00 - binary_accuracy: 1.0000\n",
      "Epoch 8/10\n",
      "1/1 [==============================] - 0s 39ms/step - loss: 0.0000e+00 - binary_accuracy: 1.0000\n",
      "Epoch 9/10\n",
      "1/1 [==============================] - 0s 33ms/step - loss: 0.0000e+00 - binary_accuracy: 1.0000\n",
      "Epoch 10/10\n",
      "1/1 [==============================] - 0s 26ms/step - loss: 0.0000e+00 - binary_accuracy: 1.0000\n"
     ]
    }
   ],
   "source": [
    "update_model(good, (0,))"
   ]
  },
  {
   "cell_type": "code",
   "execution_count": 26,
   "metadata": {
    "ExecuteTime": {
     "end_time": "2024-04-14T07:17:07.743222Z",
     "start_time": "2024-04-14T07:17:07.734793Z"
    }
   },
   "outputs": [
    {
     "name": "stdout",
     "output_type": "stream",
     "text": [
      "(186.356, 845.243, 2962.0, 172.356, -621169.97695, 499832.0, 11.55217, 0.00628, 2948.0, 150924.0)\n"
     ]
    }
   ],
   "source": [
    "def get_single_dataset():\n",
    "    with open('Xy.txt', 'r') as f:\n",
    "        df = f.readline().split(',')\n",
    "        X, y = df[0:-1:], (int(df[-1]),)\n",
    "        X = tuple(tuple(float(e) for e in X),)\n",
    "        return X, y\n",
    "\n",
    "X, y = get_single_dataset()\n",
    "print(X)"
   ]
  },
  {
   "cell_type": "code",
   "execution_count": null,
   "metadata": {},
   "outputs": [],
   "source": []
  }
 ],
 "metadata": {
  "colab": {
   "collapsed_sections": [
    "SCEkDfpOFPQX",
    "3P69z9kfupES",
    "eLikdx9Legm0",
    "eh-k8KdMhJ_Q",
    "Iiskwr3VmoL5",
    "5PElFLh5oYzU",
    "pnHSPBrDodIs"
   ],
   "name": "Web Attack Detection (ML IDS)",
   "provenance": []
  },
  "kernelspec": {
   "display_name": "tf",
   "language": "python",
   "name": "tf"
  },
  "language_info": {
   "codemirror_mode": {
    "name": "ipython",
    "version": 3
   },
   "file_extension": ".py",
   "mimetype": "text/x-python",
   "name": "python",
   "nbconvert_exporter": "python",
   "pygments_lexer": "ipython3",
   "version": "3.11.5"
  },
  "toc": {
   "base_numbering": 1,
   "nav_menu": {},
   "number_sections": true,
   "sideBar": true,
   "skip_h1_title": false,
   "title_cell": "Table of Contents",
   "title_sidebar": "Contents",
   "toc_cell": false,
   "toc_position": {},
   "toc_section_display": true,
   "toc_window_display": false
  }
 },
 "nbformat": 4,
 "nbformat_minor": 1
}
