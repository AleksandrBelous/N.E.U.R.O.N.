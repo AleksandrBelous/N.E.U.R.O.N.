{
 "cells": [
  {
   "cell_type": "code",
   "execution_count": 1,
   "metadata": {
    "execution": {
     "iopub.execute_input": "2024-11-13T19:55:47.807197Z",
     "iopub.status.busy": "2024-11-13T19:55:47.806344Z",
     "iopub.status.idle": "2024-11-13T19:55:47.868894Z",
     "shell.execute_reply": "2024-11-13T19:55:47.868038Z",
     "shell.execute_reply.started": "2024-11-13T19:55:47.807171Z"
    },
    "tags": []
   },
   "outputs": [],
   "source": [
    "import os\n",
    "import pandas as pd\n",
    "import warnings\n",
    "\n",
    "warnings.filterwarnings(\"ignore\")"
   ]
  },
  {
   "cell_type": "code",
   "execution_count": null,
   "metadata": {
    "execution": {
     "iopub.execute_input": "2024-11-13T20:11:16.833090Z",
     "iopub.status.busy": "2024-11-13T20:11:16.832504Z",
     "iopub.status.idle": "2024-11-13T20:11:17.051061Z",
     "shell.execute_reply": "2024-11-13T20:11:17.050478Z",
     "shell.execute_reply.started": "2024-11-13T20:11:16.833066Z"
    },
    "tags": []
   },
   "outputs": [
    {
     "name": "stdout",
     "output_type": "stream",
     "text": [
      "{'Accuracy': array([0.847, 0.841, 0.839]), 'Macro F1 Score': array([0.858, 0.825, 0.765]), 'Micro F1 Score': array([0.847, 0.841, 0.839]), 'Weighted F1 Score': array([0.843, 0.841, 0.839]), 'Macro Precision': array([0.885, 0.837, 0.777]), 'Micro Precision': array([0.847, 0.841, 0.839]), \"Cohen's Kappa\": array([0.81 , 0.804, 0.802]), 'Precision_0': array([0.733, 0.726, 0.69 ]), 'Recall_0': array([0.851, 0.831, 0.827]), 'F1_0': array([0.762, 0.759, 0.747]), 'Precision_1': array([1.   , 1.   , 0.985]), 'Recall_1': array([1.   , 0.949, 0.938]), 'F1_1': array([0.968, 0.957, 0.931]), 'Precision_2': array([1.   , 1.   , 0.987]), 'Recall_2': array([1.   , 1.   , 0.981]), 'F1_2': array([1.   , 0.991, 0.95 ]), 'Precision_3': array([1.   , 1.   , 0.927]), 'Recall_3': array([0.933, 0.875, 0.875]), 'F1_3': array([0.933, 0.93 , 0.889]), 'Precision_4': array([1.   , 0.965, 0.955]), 'Recall_4': array([0.933, 0.9  , 0.875]), 'F1_4': array([0.947, 0.944, 0.877]), 'Precision_5': array([0.967, 0.929, 0.913]), 'Recall_5': array([0.949, 0.935, 0.903]), 'F1_5': array([0.931, 0.929, 0.924]), 'Precision_6': array([0.937, 0.928, 0.914]), 'Recall_6': array([1.   , 0.866, 0.842]), 'F1_6': array([0.889, 0.877, 0.869]), 'Precision_7': array([0.761, 0.757, 0.752]), 'Recall_7': array([0.714, 0.714, 0.648]), 'F1_7': array([0.717, 0.709, 0.7  ]), 'Precision_8': array([0.885, 0.846, 0.837]), 'Recall_8': array([0.847, 0.838, 0.817]), 'F1_8': array([0.858, 0.839, 0.825]), 'Precision_macro avg': array([0.851, 0.849, 0.792]), 'Recall_macro avg': array([0.841, 0.839, 0.795]), 'F1_macro avg': array([0.843, 0.841, 0.791]), 'Precision_weighted avg': array([0.839, 0.824, 0.798]), 'Recall_weighted avg': array([0.83 , 0.803, 0.764]), 'F1_weighted avg': array([0.832, 0.807, 0.77 ])}\n",
      "{'Accuracy': array([0.847, 0.808, 0.791]), 'Macro F1 Score': array([0.828, 0.792, 0.772]), 'Micro F1 Score': array([0.847, 0.808, 0.791]), 'Weighted F1 Score': array([0.849, 0.811, 0.796]), 'Macro Precision': array([0.839, 0.783, 0.764]), 'Micro Precision': array([0.847, 0.808, 0.791]), \"Cohen's Kappa\": array([0.811, 0.765, 0.746]), 'Precision_0': array([1.   , 0.857, 0.696]), 'Recall_0': array([0.857, 0.743, 0.681]), 'F1_0': array([0.857, 0.8  , 0.717]), 'Precision_1': array([1.   , 0.983, 0.949]), 'Recall_1': array([1.   , 0.917, 0.826]), 'F1_1': array([0.957, 0.865, 0.847]), 'Precision_2': array([1.   , 0.927, 0.893]), 'Recall_2': array([1.   , 1.   , 0.927]), 'F1_2': array([1.   , 0.941, 0.927]), 'Precision_3': array([1.   , 0.702, 0.7  ]), 'Recall_3': array([1.   , 1.   , 0.927]), 'F1_3': array([0.889, 0.8  , 0.786]), 'Precision_4': array([1. , 1. , 0.7]), 'Recall_4': array([1.   , 0.9  , 0.889]), 'F1_4': array([0.947, 0.857, 0.778]), 'Precision_5': array([0.966, 0.957, 0.929]), 'Recall_5': array([0.88 , 0.848, 0.838]), 'F1_5': array([0.917, 0.903, 0.867]), 'Precision_6': array([0.934, 0.872, 0.868]), 'Recall_6': array([0.875, 0.829, 0.807]), 'F1_6': array([0.85 , 0.846, 0.829]), 'Precision_7': array([0.825, 0.696, 0.595]), 'Recall_7': array([0.786, 0.741, 0.706]), 'F1_7': array([0.79 , 0.699, 0.64 ]), 'Precision_8': array([0.857, 0.839, 0.764]), 'Recall_8': array([0.848, 0.847, 0.832]), 'F1_8': array([0.849, 0.828, 0.792]), 'Precision_macro avg': array([0.817, 0.813, 0.746]), 'Recall_macro avg': array([0.808, 0.791, 0.728]), 'F1_macro avg': array([0.811, 0.796, 0.731]), 'Precision_weighted avg': array([0.678, 0.646, 0.528]), 'Recall_weighted avg': array([0.66 , 0.615, 0.499]), 'F1_weighted avg': array([0.651, 0.612, 0.46 ])}\n",
      "{'Accuracy': array([0.881, 0.797, 0.793]), 'Macro F1 Score': array([0.791, 0.777, 0.762]), 'Micro F1 Score': array([0.881, 0.797, 0.793]), 'Weighted F1 Score': array([0.876, 0.797, 0.794]), 'Macro Precision': array([0.839, 0.833, 0.815]), 'Micro Precision': array([0.881, 0.797, 0.793]), \"Cohen's Kappa\": array([0.852, 0.75 , 0.745]), 'Precision_0': array([0.722, 0.671, 0.661]), 'Recall_0': array([0.929, 0.814, 0.81 ]), 'F1_0': array([0.813, 0.735, 0.728]), 'Precision_1': array([0.932, 0.925, 0.907]), 'Recall_1': array([1.   , 0.957, 0.932]), 'F1_1': array([0.932, 0.879, 0.83 ]), 'Precision_2': array([1.   , 1.   , 0.927]), 'Recall_2': array([1.   , 1.   , 0.927]), 'F1_2': array([1.   , 1.   , 0.927]), 'Precision_3': array([1.   , 0.911, 0.908]), 'Recall_3': array([1.   , 0.875, 0.872]), 'F1_3': array([0.891, 0.888, 0.87 ]), 'Precision_4': array([1., 1., 1.]), 'Recall_4': array([1.   , 0.911, 0.875]), 'F1_4': array([1.   , 0.901, 0.842]), 'Precision_5': array([0.936, 0.929, 0.911]), 'Recall_5': array([0.894, 0.891, 0.88 ]), 'F1_5': array([0.907, 0.894, 0.89 ]), 'Precision_6': array([1.   , 0.897, 0.883]), 'Recall_6': array([0.854, 0.842, 0.817]), 'F1_6': array([0.869, 0.857, 0.849]), 'Precision_7': array([1.   , 0.784, 0.76 ]), 'Recall_7': array([0.784, 0.679, 0.537]), 'F1_7': array([0.762, 0.664, 0.637]), 'Precision_8': array([0.886, 0.839, 0.815]), 'Recall_8': array([0.881, 0.777, 0.771]), 'F1_8': array([0.876, 0.791, 0.777]), 'Precision_macro avg': array([0.833, 0.807, 0.798]), 'Recall_macro avg': array([0.797, 0.792, 0.783]), 'F1_macro avg': array([0.797, 0.787, 0.783]), 'Precision_weighted avg': array([0.799, 0.787, 0.772]), 'Recall_weighted avg': array([0.793, 0.776, 0.755]), 'F1_weighted avg': array([0.794, 0.778, 0.759])}\n",
      "{'Accuracy': array([0.808, 0.803, 0.771]), 'Macro F1 Score': array([0.717, 0.692, 0.687]), 'Micro F1 Score': array([0.808, 0.803, 0.771]), 'Weighted F1 Score': array([0.8  , 0.799, 0.765]), 'Macro Precision': array([0.824, 0.737, 0.736]), 'Micro Precision': array([0.808, 0.803, 0.771]), \"Cohen's Kappa\": array([0.763, 0.757, 0.717]), 'Precision_0': array([0.75 , 0.667, 0.621]), 'Recall_0': array([0.915, 0.915, 0.914]), 'F1_0': array([0.8  , 0.74 , 0.738]), 'Precision_1': array([0.994, 0.976, 0.885]), 'Recall_1': array([1.   , 0.917, 0.913]), 'F1_1': array([0.849, 0.833, 0.815]), 'Precision_2': array([1.   , 0.944, 0.893]), 'Recall_2': array([0.944, 0.902, 0.828]), 'F1_2': array([0.949, 0.944, 0.859]), 'Precision_3': array([1.   , 0.909, 0.804]), 'Recall_3': array([0.878, 0.875, 0.8  ]), 'F1_3': array([0.933, 0.84 , 0.741]), 'Precision_4': array([1., 1., 1.]), 'Recall_4': array([1.   , 1.   , 0.644]), 'F1_4': array([0.889, 0.784, 0.698]), 'Precision_5': array([0.967, 0.904, 0.867]), 'Recall_5': array([0.94 , 0.894, 0.889]), 'F1_5': array([0.929, 0.922, 0.871]), 'Precision_6': array([1.   , 0.962, 0.953]), 'Recall_6': array([0.875, 0.817, 0.77 ]), 'F1_6': array([0.933, 0.876, 0.855]), 'Precision_7': array([0.848, 0.762, 0.696]), 'Recall_7': array([0.643, 0.578, 0.519]), 'F1_7': array([0.644, 0.58 , 0.537]), 'Precision_8': array([0.824, 0.801, 0.774]), 'Recall_8': array([0.729, 0.719, 0.718]), 'F1_8': array([0.717, 0.692, 0.687]), 'Precision_macro avg': array([0.829, 0.819, 0.811]), 'Recall_macro avg': array([0.808, 0.803, 0.771]), 'F1_macro avg': array([0.8  , 0.799, 0.765]), 'Precision_weighted avg': array([0.781, 0.772, 0.745]), 'Recall_weighted avg': array([0.74 , 0.706, 0.685]), 'F1_weighted avg': array([0.73 , 0.689, 0.66 ])}\n",
      "{'Accuracy': array([0.856, 0.851, 0.84 ]), 'Macro F1 Score': array([0.871, 0.864, 0.847]), 'Micro F1 Score': array([0.856, 0.851, 0.84 ]), 'Weighted F1 Score': array([0.857, 0.852, 0.84 ]), 'Macro Precision': array([0.907, 0.898, 0.876]), 'Micro Precision': array([0.856, 0.851, 0.84 ]), \"Cohen's Kappa\": array([0.823, 0.816, 0.802]), 'Precision_0': array([0.722, 0.714, 0.693]), 'Recall_0': array([0.859, 0.84 , 0.817]), 'F1_0': array([0.767, 0.766, 0.756]), 'Precision_1': array([1., 1., 1.]), 'Recall_1': array([1.   , 1.   , 0.966]), 'F1_1': array([1.   , 1.   , 0.966]), 'Precision_2': array([1., 1., 1.]), 'Recall_2': array([1.   , 1.   , 0.981]), 'F1_2': array([1.   , 1.   , 0.981]), 'Precision_3': array([1., 1., 1.]), 'Recall_3': array([1.   , 1.   , 0.938]), 'F1_3': array([1.   , 0.968, 0.957]), 'Precision_4': array([1., 1., 1.]), 'Recall_4': array([1.   , 1.   , 0.875]), 'F1_4': array([1.   , 0.957, 0.882]), 'Precision_5': array([0.984, 0.94 , 0.929]), 'Recall_5': array([0.94 , 0.939, 0.939]), 'F1_5': array([0.961, 0.94 , 0.93 ]), 'Precision_6': array([0.941, 0.91 , 0.907]), 'Recall_6': array([0.878, 0.875, 0.867]), 'F1_6': array([0.902, 0.868, 0.863]), 'Precision_7': array([0.783, 0.749, 0.731]), 'Recall_7': array([0.75 , 0.7  , 0.667]), 'F1_7': array([0.745, 0.72 , 0.694]), 'Precision_8': array([0.907, 0.898, 0.876]), 'Recall_8': array([0.852, 0.846, 0.831]), 'F1_8': array([0.871, 0.864, 0.847]), 'Precision_macro avg': array([0.866, 0.86 , 0.814]), 'Recall_macro avg': array([0.856, 0.851, 0.815]), 'F1_macro avg': array([0.857, 0.852, 0.812]), 'Precision_weighted avg': array([0.842, 0.825, 0.802]), 'Recall_weighted avg': array([0.84 , 0.814, 0.79 ]), 'F1_weighted avg': array([0.84 , 0.817, 0.793])}\n"
     ]
    }
   ],
   "source": [
    "# Создание папки для модифицированных промежуточных файлов\n",
    "intermediate_path_modified = \"./multiclass_models_results_modified_max-1--3/\"\n",
    "os.makedirs(intermediate_path_modified, exist_ok=True)\n",
    "\n",
    "# Путь к промежуточным файлам\n",
    "intermediate_path = \"./multiclass_models_results/\"\n",
    "model_results_files = [f for f in os.listdir(intermediate_path) if f.endswith(\"_multiclass_results.csv\")]\n",
    "\n",
    "# Создаем итоговый DataFrame для всех моделей\n",
    "final_results = []\n",
    "\n",
    "# Процесс обработки каждого промежуточного файла модели\n",
    "for model_results_file in model_results_files:\n",
    "    # Чтение промежуточного CSV файла\n",
    "    df = pd.read_csv(os.path.join(intermediate_path, model_results_file))\n",
    "    # display(df)\n",
    "\n",
    "    # Получаем список метрик, исключая \"Packet Size\" и \"Model\"\n",
    "    metrics_columns = [col for col in df.columns if col not in ['Packet Size', 'Model', 'File']]\n",
    "\n",
    "    # Определение лучшей выборки для каждой метрики\n",
    "    best = {}\n",
    "    counts = {}\n",
    "\n",
    "    # Определяем 1, 2 и 3 максимумы по каждому столбцу в пределах самого столбца\n",
    "    metrics_cols_max_values = {col: df[col].nlargest(3).values for col in metrics_columns}\n",
    "    # print(metrics_cols_max_values)\n",
    "\n",
    "    # Добавление столбцов для первого, второго и третьего максимумов\n",
    "    max1_counts_column = []\n",
    "    max2_counts_column = []\n",
    "    max3_counts_column = []\n",
    "\n",
    "    for index, row in df.iterrows():\n",
    "        # Создаем словарь значений метрик для текущей строки\n",
    "\n",
    "        # Сортируем уникальные значения по убыванию\n",
    "        # sorted_values = sorted(set(metrics_cols_max_values.values()), reverse=True)\n",
    "\n",
    "        # Подсчет для первого максимума\n",
    "        max1_count = sum(\n",
    "            1 for col in metrics_columns if row[col] == metrics_cols_max_values[col][0]\n",
    "        )\n",
    "        max1_counts_column.append(max1_count)\n",
    "\n",
    "        # Подсчет для второго максимума (если есть)\n",
    "        # max2_count = 0\n",
    "\n",
    "        max2_count = sum(\n",
    "            1 for col in metrics_columns if row[col] == metrics_cols_max_values[col][1]\n",
    "        )\n",
    "        max2_counts_column.append(max2_count)\n",
    "\n",
    "        # Подсчет для третьего максимума (если есть)\n",
    "        # max3_count = 0\n",
    "\n",
    "        max3_count = sum(\n",
    "            1 for col in metrics_columns if row[col] == metrics_cols_max_values[col][2]\n",
    "        )\n",
    "        max3_counts_column.append(max3_count)\n",
    "\n",
    "    df[\"max 1\"] = max1_counts_column\n",
    "    df[\"max 2\"] = max2_counts_column\n",
    "    df[\"max 3\"] = max3_counts_column\n",
    "\n",
    "    # Для каждой метрики находим наилучшие выборки\n",
    "    for col in metrics_columns:  # Перебираем только метрики\n",
    "        max_value = df[col].max()  # Находим максимальное значение для метрики\n",
    "        best[col] = df[df[col] == max_value][\"Packet Size\"].tolist()  # Сохраняем размеры выборок с максимальным значением\n",
    "\n",
    "        # Подсчитаем, сколько раз каждая выборка была максимальной для этой метрики\n",
    "        counts[col] = df[col].value_counts().get(max_value, 0)  # Подсчитаем сколько раз максимальное значение встречается\n",
    "\n",
    "    # Строка Best\n",
    "    best_row = {\"Packet Size\": \"Best\"}\n",
    "    for col in metrics_columns:\n",
    "        best_row[col] = best[col]  # Присваиваем лучшие выборки для каждой метрики\n",
    "\n",
    "    # Добавление строки Best в DataFrame\n",
    "    df_best = pd.DataFrame([best_row])\n",
    "\n",
    "    # Добавление строки Best в DataFrame\n",
    "    df = pd.concat([df, df_best], ignore_index=True)\n",
    "\n",
    "    model_results_file_modified = os.path.join(\n",
    "            intermediate_path_modified, f\"{os.path.splitext(model_results_file)[0]}_modified_max-1--3.csv\"\n",
    "        )\n",
    "\n",
    "    # Запись результатов в новый CSV файл\n",
    "    df.to_csv(model_results_file_modified, index=False)"
   ]
  },
  {
   "cell_type": "code",
   "execution_count": null,
   "metadata": {},
   "outputs": [],
   "source": []
  }
 ],
 "metadata": {
  "kernelspec": {
   "display_name": "tf-2-12",
   "language": "python",
   "name": "tf-2-12"
  },
  "language_info": {
   "codemirror_mode": {
    "name": "ipython",
    "version": 3
   },
   "file_extension": ".py",
   "mimetype": "text/x-python",
   "name": "python",
   "nbconvert_exporter": "python",
   "pygments_lexer": "ipython3",
   "version": "3.11.5"
  }
 },
 "nbformat": 4,
 "nbformat_minor": 4
}
