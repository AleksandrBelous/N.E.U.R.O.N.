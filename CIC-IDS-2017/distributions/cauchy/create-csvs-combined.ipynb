{
 "cells": [
  {
   "cell_type": "code",
   "execution_count": 1,
   "metadata": {},
   "outputs": [],
   "source": [
    "import os\n",
    "import re\n",
    "import numpy as np\n",
    "import pandas as pd\n",
    "import seaborn as sns\n",
    "import matplotlib.pyplot as plt\n",
    "from sklearn.feature_selection import mutual_info_classif\n",
    "from sklearn.ensemble import RandomForestClassifier"
   ]
  },
  {
   "cell_type": "code",
   "execution_count": 8,
   "metadata": {},
   "outputs": [
    {
     "data": {
      "text/plain": [
       "{'attack': 1, 'normal': 2}"
      ]
     },
     "execution_count": 8,
     "metadata": {},
     "output_type": "execute_result"
    }
   ],
   "source": [
    "# Путь к папке с атаками\n",
    "csvs_path = \"csvs\"\n",
    "\n",
    "csvs_path_combined = \"combined_csvs\"\n",
    "os.makedirs(csvs_path_combined, exist_ok=True)\n",
    "\n",
    "traffic_types = os.listdir(csvs_path)\n",
    "traffic_type_label = {attack: idx + 1 for idx, attack in enumerate(traffic_types)}\n",
    "traffic_type_label"
   ]
  },
  {
   "cell_type": "code",
   "execution_count": 9,
   "metadata": {},
   "outputs": [
    {
     "name": "stdout",
     "output_type": "stream",
     "text": [
      "csvs\\attack\n",
      "csvs\\normal\n",
      "Найденные размеры выборок пакетов: [10, 50, 100, 250, 500, 750, 1000, 5000, 10000]\n"
     ]
    }
   ],
   "source": [
    "# Найти все уникальные размеры выборок\n",
    "packet_intervals = set()\n",
    "\n",
    "for traffic_type in traffic_types:\n",
    "    traffic_path = os.path.join(csvs_path, traffic_type)\n",
    "    print(traffic_path)\n",
    "    for filename in os.listdir(traffic_path):\n",
    "        # Извлечение размера выборки из имени файла с помощью регулярного выражения\n",
    "        match = re.search(r\"_(\\d+)_\\d+_\", filename)\n",
    "        if match:\n",
    "            packet_intervals.add(int(match.group(1)))\n",
    "\n",
    "# Сортируем размеры выборок\n",
    "packet_intervals = sorted(packet_intervals)\n",
    "print(\"Найденные размеры выборок пакетов:\", packet_intervals)"
   ]
  },
  {
   "cell_type": "code",
   "execution_count": 14,
   "metadata": {},
   "outputs": [],
   "source": [
    "# Объединение данных для каждого размера выборки\n",
    "for packet_size in packet_intervals:\n",
    "    combined_df = pd.DataFrame()\n",
    "\n",
    "    # Определяем единственный файл нормального и атакующего трафика для текущего размера выборки\n",
    "    normal_file = next(\n",
    "        (\n",
    "            f\n",
    "            for f in os.listdir(os.path.join(csvs_path, \"normal\"))\n",
    "            if f\"_{packet_size}_0_\" in f\n",
    "        ),\n",
    "        None,\n",
    "    )\n",
    "    attack_file = next(\n",
    "        (\n",
    "            f\n",
    "            for f in os.listdir(os.path.join(csvs_path, \"attack\"))\n",
    "            if f\"_{packet_size}_1_\" in f\n",
    "        ),\n",
    "        None,\n",
    "    )\n",
    "\n",
    "    if normal_file and attack_file:\n",
    "        # Чтение файла с нормальным трафиком и добавление метки\n",
    "        normal_df = pd.read_csv(os.path.join(csvs_path, \"normal\", normal_file))\n",
    "        normal_df[\"Label\"] = 0  # Метка для нормального трафика\n",
    "        combined_df = pd.concat([combined_df, normal_df], ignore_index=True)\n",
    "\n",
    "        # Чтение файла с атакующим трафиком и добавление метки\n",
    "        attack_df = pd.read_csv(os.path.join(csvs_path, \"attack\", attack_file))\n",
    "        attack_df[\"Label\"] = 1#traffic_type_label[traffic_type]  # Уникальная метка для атаки\n",
    "        combined_df = pd.concat([combined_df, attack_df], ignore_index=True)\n",
    "\n",
    "    # Сохранение объединенного CSV для текущего размера выборки\n",
    "    combined_file = os.path.join(csvs_path_combined, f\"combined_{packet_size}_packets.csv\")\n",
    "    combined_df.to_csv(combined_file, index=False)"
   ]
  }
 ],
 "metadata": {
  "kernelspec": {
   "display_name": "cuda",
   "language": "python",
   "name": "cuda"
  },
  "language_info": {
   "codemirror_mode": {
    "name": "ipython",
    "version": 3
   },
   "file_extension": ".py",
   "mimetype": "text/x-python",
   "name": "python",
   "nbconvert_exporter": "python",
   "pygments_lexer": "ipython3",
   "version": "3.12.8"
  }
 },
 "nbformat": 4,
 "nbformat_minor": 2
}
