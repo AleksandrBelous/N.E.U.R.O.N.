{
 "cells": [
  {
   "cell_type": "code",
   "execution_count": 1,
   "metadata": {
    "ExecuteTime": {
     "end_time": "2025-03-03T17:29:37.977659Z",
     "start_time": "2025-03-03T17:29:37.682990Z"
    }
   },
   "outputs": [],
   "source": [
    "import scapy\n",
    "from scapy.utils import rdpcap\n",
    "import os\n",
    "from statistics import stdev\n",
    "from scapy.all import *\n",
    "# from scapy.all import sniff, rdpcap, wrpcap"
   ]
  },
  {
   "cell_type": "code",
   "execution_count": 2,
   "metadata": {
    "ExecuteTime": {
     "end_time": "2025-03-03T17:29:37.992766Z",
     "start_time": "2025-03-03T17:29:37.986624Z"
    }
   },
   "outputs": [],
   "source": [
    "def analyze_NUM_packets(pkts):\n",
    "    \"\"\"\n",
    "    analyze NUM packets to get target network characteristics\n",
    "    :param pkts: NUM target packets, TCP/IP only !!!\n",
    "    :return:\n",
    "    - \"Average Packet Size\", the average length of the TCP/IP packet data field (hereinafter referred to as the packet length)\n",
    "    - \"Flow Bytes/s\", the data flow rate\n",
    "    - \"Max Packet Length\", the maximum packet length\n",
    "    - \"Fwd Packet Length Mean\", the average length of packets transmitted in the forward direction\n",
    "    - \"Fwd IAT Min\", the minimum value of the inter-packet interval (IAT, inter-arrival time) in the forward direction\n",
    "    - \"Total Length of Fwd Packets\", the total length of packets transmitted in the forward direction\n",
    "    - \"Fwd IAT Std\", the standard deviation of the value of the inter-packet interval in the forward direction of the packets\n",
    "    - \"Flow IAT Mean\", the average value of the batch interval\n",
    "    - \"Fwd Packet Length Max\", the maximum length of a packet transmitted in the forward direction\n",
    "    - \"Fwd Header Length\", the total length of the headers of packets transmitted in the forward direction\n",
    "    \"\"\"\n",
    "\n",
    "    last_time = None\n",
    "\n",
    "    total_length = 0\n",
    "    max_pkt_len = 0\n",
    "    fwd_pkts_len = []\n",
    "    fwd_ia_times = []\n",
    "    fwd_header_len = 0\n",
    "\n",
    "    for packet in pkts:\n",
    "        # raw_data = packet[Raw].load\n",
    "        # if len(raw_data) >= 14:  # Минимальная длина Ethernet-заголовка\n",
    "        #     try:\n",
    "        #         packet = Ether(raw_data)\n",
    "        #         packet.show2()\n",
    "        #     except:\n",
    "        #         print(\"Ошибка парсинга Ethernet\")\n",
    "        # else:\n",
    "        #     print(\"Недостаточно данных для Ethernet-кадра\")\n",
    "        try:\n",
    "            total_length += len(packet)\n",
    "            max_pkt_len = max(max_pkt_len, len(packet))\n",
    "            fwd_pkts_len.append(len(packet))  # Общая длина пакета\n",
    "\n",
    "            header_length = 0  # Общая длина заголовков для текущего пакета\n",
    "            # Ethernet (14 или 18 байт с VLAN)\n",
    "            if Ether in packet:\n",
    "                if Dot1Q in packet:\n",
    "                    header_length += 14 + 4  # Ethernet + VLAN\n",
    "                else:\n",
    "                    header_length += 14\n",
    "            # LLC/SNAP\n",
    "            if LLC in packet:\n",
    "                header_length += 3  # LLC заголовок\n",
    "                if SNAP in packet:\n",
    "                    header_length += 5  # SNAP заголовок\n",
    "            # IP\n",
    "            if IP in packet:\n",
    "                ip_header_len = packet[IP].ihl * 4\n",
    "                header_length += ip_header_len\n",
    "                # TCP\n",
    "                if TCP in packet:\n",
    "                    tcp_header_len = packet[TCP].dataofs * 4\n",
    "                    header_length += tcp_header_len\n",
    "                # UDP\n",
    "                elif UDP in packet:\n",
    "                    header_length += 8  # UDP заголовок\n",
    "            # Добавляем длину заголовков текущего пакета в общую сумму\n",
    "            fwd_header_len += header_length\n",
    "\n",
    "            if last_time is not None:\n",
    "                # print(f\"a={self.last_time} b={packet.time} d=b-a={packet.time - self.last_time}\")\n",
    "                fwd_ia_times.append(packet.time - last_time)\n",
    "            last_time = packet.time\n",
    "            # Обработка заголовков только для IP-пакетов\n",
    "            # if packet.haslayer(IP):\n",
    "            #     ip_header_len = packet[IP].ihl * 4\n",
    "            #     if packet.haslayer(TCP):\n",
    "            #         tcp_header_len = packet[TCP].dataofs * 4\n",
    "            #         fwd_header_len += ip_header_len + tcp_header_len\n",
    "            #     else:\n",
    "            #         fwd_header_len += ip_header_len\n",
    "        except Exception as e:\n",
    "            print(f\"can't analyze packet:\")\n",
    "            print(f\"Err: {e}\")\n",
    "            packet.show2()\n",
    "            # exit(1)\n",
    "    try:\n",
    "        avg_pkt_size = float(round(total_length / len(pkts), 3))\n",
    "        flow_bytes_per_s = float(round(total_length / (pkts[-1].time - pkts[0].time), 3))\n",
    "        fwd_pkt_mean_len = float(round(sum(fwd_pkts_len) / len(fwd_pkts_len), 3))\n",
    "        fwd_iat_min = float(round(min(fwd_ia_times) * 1000, 5))\n",
    "        tot_len_fwd_pkts = sum(fwd_pkts_len)\n",
    "        fwd_iat_std = float(round(stdev(fwd_ia_times), 5))\n",
    "        flow_iat_mean = float(round(sum(fwd_ia_times) / len(fwd_ia_times), 5))\n",
    "        fwd_pkt_max_len = max(fwd_pkts_len)\n",
    "\n",
    "        # print(len(fwd_ia_times), fwd_ia_times)\n",
    "        # print(\"Average Packet Size:\", avg_pkt_size)\n",
    "        # print(\"Flow Bytes/s:\", flow_bytes_per_s)\n",
    "        # print(\"Max Packet Length:\", max_pkt_len)\n",
    "        # print(\"Fwd Packet Length Mean:\", fwd_pkt_mean_len)\n",
    "        # print(\"Fwd IAT Min:\", fwd_iat_min)\n",
    "        # print(\"Total Length of Fwd Packets:\", tot_len_fwd_pkts)\n",
    "        # print(\"Fwd IAT Std:\", fwd_iat_std)\n",
    "        # print(\"Flow IAT Mean:\", flow_iat_mean)\n",
    "        # print(\"Fwd Packet Length Max:\", fwd_pkt_max_len)\n",
    "        # print(\"Fwd Header Length:\", fwd_header_len)\n",
    "        return (\n",
    "                avg_pkt_size,\n",
    "                flow_bytes_per_s,\n",
    "                max_pkt_len,\n",
    "                fwd_pkt_mean_len,\n",
    "                fwd_iat_min,\n",
    "                tot_len_fwd_pkts,\n",
    "                fwd_iat_std,\n",
    "                flow_iat_mean,\n",
    "                fwd_pkt_max_len,\n",
    "                fwd_header_len,\n",
    "                )\n",
    "    except Exception as e:\n",
    "        print(f\"can't count stats:\")\n",
    "        print(f\"Err: {e}\")\n",
    "        packet.show2()"
   ]
  },
  {
   "cell_type": "code",
   "execution_count": 3,
   "metadata": {
    "ExecuteTime": {
     "end_time": "2025-03-03T17:29:38.048231Z",
     "start_time": "2025-03-03T17:29:38.045520Z"
    }
   },
   "outputs": [],
   "source": [
    "def analyze_pcap(pkts, NUM, row_data):\n",
    "    \"\"\"\n",
    "    group and analyze packets by NUM\n",
    "    :param pkts: target list with packets\n",
    "    :return: None, put unlabeled data samples at 'row_data' attribute\n",
    "    \"\"\"\n",
    "    print(f\"Analyzing for every {NUM} packets\")\n",
    "    n = len(pkts) + 1\n",
    "    i, j = 0, NUM\n",
    "    while i + NUM < n:\n",
    "        # print(f\"in analyze fn, num={NUM}, i={i}, j={j}\")\n",
    "        row_data.append(analyze_NUM_packets(pkts[i:j]))\n",
    "        i, j = j, j + NUM"
   ]
  },
  {
   "cell_type": "code",
   "execution_count": 4,
   "metadata": {
    "ExecuteTime": {
     "end_time": "2025-03-03T17:29:38.097181Z",
     "start_time": "2025-03-03T17:29:38.094509Z"
    }
   },
   "outputs": [],
   "source": [
    "pcap_to_read = ''\n",
    "\n",
    "\n",
    "def read_pcap():\n",
    "    \"\"\"\n",
    "    put the .pcap file at 'sniffed_pkts_list' attribute\n",
    "    :return: None, put the .pcap file at 'sniffed_pkts_list' attribute\n",
    "    \"\"\"\n",
    "    return rdpcap(pcap_to_read)"
   ]
  },
  {
   "cell_type": "code",
   "execution_count": 5,
   "metadata": {
    "ExecuteTime": {
     "end_time": "2025-03-03T17:29:38.147515Z",
     "start_time": "2025-03-03T17:29:38.143780Z"
    }
   },
   "outputs": [],
   "source": [
    "def create_csv(y_correct, NUM, row_data, attack_type):\n",
    "    \"\"\"\n",
    "    create local './csvs/' folder with .csv datasets based on 'pcap_to_read' attribute\n",
    "    :return: None, create local './csvs/' folder\n",
    "    \"\"\"\n",
    "    print(f\"Creating csv for {NUM} packets\")\n",
    "    file_name, file_extension = os.path.splitext(pcap_to_read)\n",
    "    # print(file_name, file_extension)\n",
    "    new_folder = os.path.join(os.getcwd(), \"csvs\", attack_type)\n",
    "    os.makedirs(new_folder, exist_ok=True)\n",
    "    if row_data:\n",
    "        with open(\n",
    "                os.path.join(new_folder, os.path.split(file_name)[-1] + f\"_{NUM}_{y_correct}_\" + \".csv\"), \"w\"\n",
    "                ) as f:\n",
    "            f.write(\n",
    "                    \"Average Packet Size,Flow Bytes/s,Fwd Packet Length Mean,Max Packet Length,Fwd IAT Min,Total Length of Fwd Packets,Flow IAT Mean,Fwd IAT Std,Fwd Packet Length Max,Fwd Header Length,Label\\n\"\n",
    "                    )\n",
    "            y_correct = str(y_correct) + \"\\n\"\n",
    "            for tpl in row_data:\n",
    "                # print(f'row_tuple : {tpl}')\n",
    "                f.write(\",\".join([str(e) for e in tpl] + [y_correct]))"
   ]
  },
  {
   "cell_type": "code",
   "execution_count": 6,
   "metadata": {},
   "outputs": [],
   "source": [
    "pcap_to_read = \"normal-median-500-timeout-5400-seed-42-tcp-udp-sender7-anomal.pcap\"\n",
    "sniffed_pkts_list = read_pcap()"
   ]
  },
  {
   "cell_type": "code",
   "execution_count": 7,
   "metadata": {},
   "outputs": [
    {
     "name": "stdout",
     "output_type": "stream",
     "text": [
      "Analyzing for every 10 packets\n",
      "Creating csv for 10 packets\n",
      "Analyzing for every 50 packets\n",
      "Creating csv for 50 packets\n",
      "Analyzing for every 100 packets\n",
      "Creating csv for 100 packets\n",
      "Analyzing for every 250 packets\n",
      "Creating csv for 250 packets\n",
      "Analyzing for every 500 packets\n",
      "Creating csv for 500 packets\n",
      "Analyzing for every 750 packets\n",
      "Creating csv for 750 packets\n",
      "Analyzing for every 1000 packets\n",
      "Creating csv for 1000 packets\n",
      "Analyzing for every 5000 packets\n",
      "Creating csv for 5000 packets\n",
      "Analyzing for every 10000 packets\n",
      "Creating csv for 10000 packets\n"
     ]
    }
   ],
   "source": [
    "for NUM in [10, 50, 100, 250, 500, 750, 1000, 5000, 10000]:\n",
    "    row_data = []\n",
    "    analyze_pcap(sniffed_pkts_list, NUM, row_data)\n",
    "    attack_type = \"attack\"\n",
    "    y_correct = 1\n",
    "    create_csv(y_correct, NUM, row_data, attack_type)"
   ]
  },
  {
   "cell_type": "code",
   "execution_count": 8,
   "metadata": {},
   "outputs": [],
   "source": [
    "del sniffed_pkts_list"
   ]
  },
  {
   "cell_type": "code",
   "execution_count": 9,
   "metadata": {},
   "outputs": [],
   "source": [
    "pcap_to_read = \"normal-median-500-timeout-5400-seed-42-tcp-udp-sender7.pcap\"\n",
    "sniffed_pkts_list = read_pcap()"
   ]
  },
  {
   "cell_type": "code",
   "execution_count": 10,
   "metadata": {},
   "outputs": [
    {
     "name": "stdout",
     "output_type": "stream",
     "text": [
      "Analyzing for every 10 packets\n",
      "Creating csv for 10 packets\n",
      "Analyzing for every 50 packets\n",
      "Creating csv for 50 packets\n",
      "Analyzing for every 100 packets\n",
      "Creating csv for 100 packets\n",
      "Analyzing for every 250 packets\n",
      "Creating csv for 250 packets\n",
      "Analyzing for every 500 packets\n",
      "Creating csv for 500 packets\n",
      "Analyzing for every 750 packets\n",
      "Creating csv for 750 packets\n",
      "Analyzing for every 1000 packets\n",
      "Creating csv for 1000 packets\n",
      "Analyzing for every 5000 packets\n",
      "Creating csv for 5000 packets\n",
      "Analyzing for every 10000 packets\n",
      "Creating csv for 10000 packets\n"
     ]
    }
   ],
   "source": [
    "for NUM in [10, 50, 100, 250, 500, 750, 1000, 5000, 10000]:\n",
    "    row_data = []\n",
    "    analyze_pcap(sniffed_pkts_list, NUM, row_data)\n",
    "    attack_type = \"normal\"\n",
    "    y_correct = 0\n",
    "    create_csv(y_correct, NUM, row_data, attack_type)"
   ]
  }
 ],
 "metadata": {
  "kernelspec": {
   "display_name": "cuda",
   "language": "python",
   "name": "cuda"
  },
  "language_info": {
   "codemirror_mode": {
    "name": "ipython",
    "version": 3
   },
   "file_extension": ".py",
   "mimetype": "text/x-python",
   "name": "python",
   "nbconvert_exporter": "python",
   "pygments_lexer": "ipython3",
   "version": "3.12.8"
  }
 },
 "nbformat": 4,
 "nbformat_minor": 2
}
