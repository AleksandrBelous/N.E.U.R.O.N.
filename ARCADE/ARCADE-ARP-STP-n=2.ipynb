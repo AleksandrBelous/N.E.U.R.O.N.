{
 "cells": [
  {
   "metadata": {},
   "cell_type": "markdown",
   "source": "1. Загрузка библиотек и настройка параметров",
   "id": "956f6a225f04cbe"
  },
  {
   "metadata": {
    "collapsed": true,
    "ExecuteTime": {
     "end_time": "2025-03-31T16:30:40.141748Z",
     "start_time": "2025-03-31T16:30:37.991201Z"
    }
   },
   "cell_type": "code",
   "source": [
    "import torch\n",
    "import torch.nn as nn\n",
    "import torch.optim as optim\n",
    "from torch.autograd import grad\n",
    "from torch.utils.data import Dataset, DataLoader, random_split\n",
    "from sklearn.metrics import roc_auc_score, accuracy_score, precision_score, recall_score, f1_score, confusion_matrix, \\\n",
    "    roc_curve, auc\n",
    "import matplotlib.pyplot as plt\n",
    "from tqdm.auto import tqdm\n",
    "import numpy as np\n",
    "import pandas as pd\n",
    "import os\n",
    "import random"
   ],
   "id": "initial_id",
   "outputs": [],
   "execution_count": 1
  },
  {
   "metadata": {
    "ExecuteTime": {
     "end_time": "2025-03-31T16:30:40.159662Z",
     "start_time": "2025-03-31T16:30:40.148841Z"
    }
   },
   "cell_type": "code",
   "source": [
    "# Фиксация всех случайных seed для воспроизводимости\n",
    "SEED = 42\n",
    "torch.manual_seed(SEED)\n",
    "torch.cuda.manual_seed(SEED)\n",
    "torch.cuda.manual_seed_all(SEED)  # если используются многопоточные GPU\n",
    "np.random.seed(SEED)\n",
    "torch.backends.cudnn.deterministic = True\n",
    "torch.backends.cudnn.benchmark = False\n",
    "random.seed(SEED)  # если используется стандартный модуль random\n",
    "\n",
    "\n",
    "# Для воспроизводимости DataLoader при использовании многопоточности\n",
    "def seed_worker(worker_id):\n",
    "    worker_seed = torch.initial_seed() % 2 ** 32\n",
    "    np.random.seed(worker_seed)\n",
    "    random.seed(worker_seed)\n",
    "\n",
    "\n",
    "g = torch.Generator()\n",
    "g.manual_seed(SEED)"
   ],
   "id": "755de91fdafcf635",
   "outputs": [
    {
     "data": {
      "text/plain": [
       "<torch._C.Generator at 0x7e8bc4e40a90>"
      ]
     },
     "execution_count": 2,
     "metadata": {},
     "output_type": "execute_result"
    }
   ],
   "execution_count": 2
  },
  {
   "metadata": {
    "ExecuteTime": {
     "end_time": "2025-03-31T16:30:40.279690Z",
     "start_time": "2025-03-31T16:30:40.276270Z"
    }
   },
   "cell_type": "code",
   "source": [
    "device = torch.device(\"cuda\" if torch.cuda.is_available() else \"cpu\")\n",
    "device"
   ],
   "id": "726c1280f48fd788",
   "outputs": [
    {
     "data": {
      "text/plain": [
       "device(type='cpu')"
      ]
     },
     "execution_count": 3,
     "metadata": {},
     "output_type": "execute_result"
    }
   ],
   "execution_count": 3
  },
  {
   "metadata": {},
   "cell_type": "markdown",
   "source": [
    "2. Подготовка и предобработка данных\n",
    "\n",
    "2.1. Датасеты\n",
    "\n",
    "В статье используются публичные датасеты, содержащие как нормальный сетевой трафик, так и аномальные/злоумышленные потоки. Например, можно попробовать использовать:\n",
    "\n",
    "- USTC-TFC (University of Science and Technology of China – Traffic Flow Collection)\n",
    "\n",
    "- Другие датасеты для сетевого обнаружения аномалий\n",
    "\n",
    "2.2. Предобработка\n",
    "\n",
    "Согласно статье, на вход модели подаются первые n пакетов каждого сетевого потока, причем:\n",
    "\n",
    "- Фильтрация: Выбираются пакеты, принадлежащие одному 5-тuple (IP-адреса, порты, протокол).\n",
    "\n",
    "- Анонимизация: MAC- и IP-адреса маскируются.\n",
    "\n",
    "- Трансформация: Каждый пакет приводится к фиксированной длине l (если пакет длиннее – усечение, если короче – дополнение нулями).\n",
    "\n",
    "- Нормализация: Значения байтов нормализуются (например, делением на 255).\n",
    "\n",
    "- Конкатенация: n пакетов объединяются в единый входной вектор.\n",
    "\n",
    "Пример кода для обработки может выглядеть следующим образом (упрощённо):"
   ],
   "id": "20dfd0a9b7be6afc"
  },
  {
   "metadata": {
    "ExecuteTime": {
     "end_time": "2025-03-31T16:30:40.327209Z",
     "start_time": "2025-03-31T16:30:40.322826Z"
    }
   },
   "cell_type": "code",
   "source": [
    "# Класс Dataset для загрузки данных из CSV\n",
    "class CSVAttackDataset(Dataset):\n",
    "    def __init__(self, attack_dir, data_type='normal', transform=None):\n",
    "        \"\"\"\n",
    "        attack_dir: путь к папке с CSV-файлами атаки (например, 'sql-inj')\n",
    "        data_type: 'attack' или 'normal'\n",
    "        \"\"\"\n",
    "        self.file_path = os.path.join(attack_dir, f\"{os.path.basename(attack_dir)}_{data_type}.csv\")\n",
    "        self.data = self._load_and_filter_data()\n",
    "        self.transform = transform\n",
    "\n",
    "    def _load_and_filter_data(self):\n",
    "        if not os.path.exists(self.file_path):\n",
    "            return pd.DataFrame()\n",
    "\n",
    "        df = pd.read_csv(self.file_path)\n",
    "        # Фильтрация данных (для обучения используем только нормальный трафик)\n",
    "        df = df[df['label'] == 0] if 'normal' in self.file_path else df\n",
    "        return df\n",
    "\n",
    "    def __len__(self):\n",
    "        return len(self.data)\n",
    "\n",
    "    def __getitem__(self, idx):\n",
    "        sample = self.data.iloc[idx]\n",
    "        # Извлекаем байты и нормализуем в [0, 1]\n",
    "        features = sample.filter(like='byte_').values.astype(np.float32) / 255.0\n",
    "        tensor = torch.tensor(features, dtype=torch.float32)\n",
    "        # Добавляем размерность канала: [1, input_length]\n",
    "        return tensor.unsqueeze(0)"
   ],
   "id": "1d7d66ae90f761fa",
   "outputs": [],
   "execution_count": 4
  },
  {
   "metadata": {
    "ExecuteTime": {
     "end_time": "2025-03-31T16:30:40.377157Z",
     "start_time": "2025-03-31T16:30:40.372924Z"
    }
   },
   "cell_type": "code",
   "source": [
    "# Класс для комбинированного тестового набора\n",
    "class CombinedTestDataset(Dataset):\n",
    "    def __init__(self, attack_dir):\n",
    "        attack_df = pd.read_csv(os.path.join(attack_dir, f\"{os.path.basename(attack_dir)}_attack.csv\"))\n",
    "        normal_df = pd.read_csv(os.path.join(attack_dir, f\"{os.path.basename(attack_dir)}_normal.csv\"))\n",
    "        self.data = pd.concat([attack_df, normal_df], ignore_index=True)\n",
    "\n",
    "    def __len__(self):\n",
    "        return len(self.data)\n",
    "\n",
    "    def __getitem__(self, idx):\n",
    "        sample = self.data.iloc[idx]\n",
    "        features = sample.filter(like='byte_').values.astype(np.float32) / 255.0\n",
    "        label = sample['label']\n",
    "        return torch.tensor(features).unsqueeze(0), torch.tensor(label, dtype=torch.float32)"
   ],
   "id": "ec981b7981eefe89",
   "outputs": [],
   "execution_count": 5
  },
  {
   "metadata": {},
   "cell_type": "markdown",
   "source": [
    "3. Модель и архитектура\n",
    "\n",
    "ARCADE состоит из двух компонентов:\n",
    "\n",
    "3.1. Автоэнкодер (AE)\n",
    "\n",
    "Используется компактная свёрточная архитектура (inspired by DCGAN) для кодирования и декодирования входных сетевых потоков.\n",
    "\n",
    "Основная идея:\n",
    "\n",
    "- Encoder: Преобразует входной сигнал в компактное латентное представление.\n",
    "\n",
    "- Decoder: Восстанавливает исходный сигнал из латентного представления.\n",
    "\n",
    "3.2. Критик (Critic)\n",
    "\n",
    "Отдельная нейросеть, выполняющая роль дискриминатора (как в WGAN-GP), оценивающая, насколько реконструкция (выход AE) соответствует нормальному распределению трафика. При обучении используется штраф за градиент (gradient penalty) для соблюдения условий липшицевости."
   ],
   "id": "db9098c78cb55f78"
  },
  {
   "metadata": {
    "ExecuteTime": {
     "end_time": "2025-03-31T16:30:40.426314Z",
     "start_time": "2025-03-31T16:30:40.422573Z"
    }
   },
   "cell_type": "code",
   "source": [
    "class Encoder(nn.Module):\n",
    "    def __init__(self):\n",
    "        super(Encoder, self).__init__()\n",
    "\n",
    "        self.model = nn.Sequential(\n",
    "                # Input: (batch, 1, 200)\n",
    "                nn.Conv1d(1, 16, kernel_size=4, stride=2, padding=1),  # Output: (16, 100)\n",
    "                nn.BatchNorm1d(16),\n",
    "                nn.LeakyReLU(),\n",
    "\n",
    "                nn.Conv1d(16, 32, kernel_size=4, stride=2, padding=1),  # Output: (32, 50)\n",
    "                nn.BatchNorm1d(32),\n",
    "                nn.LeakyReLU(),\n",
    "\n",
    "                nn.Conv1d(32, 64, kernel_size=4, stride=2, padding=1),  # Output: (64, 25)\n",
    "                nn.BatchNorm1d(64),\n",
    "                nn.LeakyReLU(),\n",
    "\n",
    "                nn.Flatten(),\n",
    "                nn.Linear(64 * 25, 50, bias=False)  # Parameters: 64*25*50 = 80,000\n",
    "                )\n",
    "\n",
    "    def forward(self, x):\n",
    "        return self.model(x)"
   ],
   "id": "26bebf2a949f2e70",
   "outputs": [],
   "execution_count": 6
  },
  {
   "metadata": {
    "ExecuteTime": {
     "end_time": "2025-03-31T16:30:40.474259Z",
     "start_time": "2025-03-31T16:30:40.470943Z"
    }
   },
   "cell_type": "code",
   "source": [
    "class Decoder(nn.Module):\n",
    "    def __init__(self):\n",
    "        super(Decoder, self).__init__()\n",
    "\n",
    "        self.model = nn.Sequential(\n",
    "                # Input: (batch, 50)\n",
    "                nn.Linear(50, 64 * 25, bias=False),  # Parameters: 50*64*25 = 80,000\n",
    "                nn.Unflatten(1, (64, 25)),  # Reshape to (64, 25)\n",
    "\n",
    "                nn.BatchNorm1d(64),\n",
    "                nn.ReLU(),\n",
    "\n",
    "                nn.ConvTranspose1d(64, 32, kernel_size=4, stride=2, padding=1),  # Output: (32, 50)\n",
    "                nn.BatchNorm1d(32),\n",
    "                nn.ReLU(),\n",
    "\n",
    "                nn.ConvTranspose1d(32, 16, kernel_size=4, stride=2, padding=1),  # Output: (16, 100)\n",
    "                nn.BatchNorm1d(16),\n",
    "                nn.ReLU(),\n",
    "\n",
    "                nn.ConvTranspose1d(16, 1, kernel_size=4, stride=2, padding=1),  # Output: (1, 200)\n",
    "                nn.Sigmoid()\n",
    "                )\n",
    "\n",
    "    def forward(self, x):\n",
    "        return self.model(x)"
   ],
   "id": "63f1cd0b79254742",
   "outputs": [],
   "execution_count": 7
  },
  {
   "metadata": {
    "ExecuteTime": {
     "end_time": "2025-03-31T16:30:40.519463Z",
     "start_time": "2025-03-31T16:30:40.516914Z"
    }
   },
   "cell_type": "code",
   "source": [
    "class Autoencoder(nn.Module):\n",
    "    def __init__(self):\n",
    "        super(Autoencoder, self).__init__()\n",
    "        self.encoder = Encoder()\n",
    "        self.decoder = Decoder()\n",
    "\n",
    "    def forward(self, x):\n",
    "        latent = self.encoder(x)\n",
    "        reconstruction = self.decoder(latent)\n",
    "        return reconstruction"
   ],
   "id": "40330db6fc8291e",
   "outputs": [],
   "execution_count": 8
  },
  {
   "metadata": {
    "ExecuteTime": {
     "end_time": "2025-03-31T16:30:40.569116Z",
     "start_time": "2025-03-31T16:30:40.564886Z"
    }
   },
   "cell_type": "code",
   "source": [
    "class Critic(nn.Module):\n",
    "    def __init__(self):\n",
    "        super(Critic, self).__init__()\n",
    "\n",
    "        self.model = nn.Sequential(\n",
    "                # Input: (batch, 1, 200)\n",
    "                nn.Conv1d(1, 16, kernel_size=4, stride=2, padding=1),  # Output: (16, 100)\n",
    "                nn.LayerNorm([16, 100]),\n",
    "                nn.LeakyReLU(),\n",
    "\n",
    "                nn.Conv1d(16, 32, kernel_size=4, stride=2, padding=1),  # Output: (32, 50)\n",
    "                nn.LayerNorm([32, 50]),\n",
    "                nn.LeakyReLU(),\n",
    "\n",
    "                nn.Conv1d(32, 64, kernel_size=4, stride=2, padding=1),  # Output: (64, 25)\n",
    "                nn.LayerNorm([64, 25]),\n",
    "                nn.LeakyReLU(),\n",
    "\n",
    "                nn.Flatten(),\n",
    "                nn.Linear(64 * 25, 50, bias=False),  # Parameters: 64*25*50 = 80,000\n",
    "                nn.LayerNorm(50),\n",
    "                nn.LeakyReLU(),\n",
    "\n",
    "                nn.Linear(50, 1, bias=False)  # Parameters: 50*1 = 50\n",
    "                )\n",
    "\n",
    "    def forward(self, x):\n",
    "        return self.model(x)"
   ],
   "id": "9b786f9b4804b66f",
   "outputs": [],
   "execution_count": 9
  },
  {
   "metadata": {},
   "cell_type": "markdown",
   "source": [
    "4. Функции потерь и штраф за градиент\n",
    "\n",
    "4.1. Функция реконструкции\n",
    "\n",
    "Чаще всего используется MSE (Mean Squared Error) или L1 loss:"
   ],
   "id": "4a0d1af56b1ad2dc"
  },
  {
   "metadata": {},
   "cell_type": "markdown",
   "source": [
    "4.2. Adversarial loss (WGAN-GP)\n",
    "\n",
    "Критик обучается по следующему принципу:\n",
    "\n",
    "- Максимизировать оценку для реальных нормальных потоков.\n",
    "\n",
    "- Минимизировать оценку для реконструкций, полученных автоэнкодером.\n",
    "\n",
    "При этом применяется штраф за градиент, как описано в статье (см. уравнение (4)).\n",
    "\n",
    "Пример функции для расчёта gradient penalty:"
   ],
   "id": "941adf48eb70152f"
  },
  {
   "metadata": {
    "ExecuteTime": {
     "end_time": "2025-03-31T16:30:40.618549Z",
     "start_time": "2025-03-31T16:30:40.615232Z"
    }
   },
   "cell_type": "code",
   "source": [
    "def compute_gradient_penalty(critic, real_data, fake_data, device, lambda_gp=10):\n",
    "    batch_size = real_data.size(0)\n",
    "    alpha = torch.rand(batch_size, 1, 1, device=device)\n",
    "    interpolates = alpha * real_data + ((1 - alpha) * fake_data)\n",
    "    interpolates.requires_grad_(True)\n",
    "    critic_interpolates = critic(interpolates)\n",
    "    gradients = grad(\n",
    "            outputs=critic_interpolates,\n",
    "            inputs=interpolates,\n",
    "            grad_outputs=torch.ones_like(critic_interpolates, device=device),\n",
    "            create_graph=True,\n",
    "            retain_graph=True,\n",
    "            only_inputs=True\n",
    "            )[0]\n",
    "    gradients = gradients.view(batch_size, -1)\n",
    "    gradient_penalty = ((gradients.norm(2, dim=1) - 1) ** 2).mean() * lambda_gp\n",
    "    return gradient_penalty"
   ],
   "id": "5e564b154710934a",
   "outputs": [],
   "execution_count": 10
  },
  {
   "metadata": {},
   "cell_type": "markdown",
   "source": [
    "5. Процедура обучения\n",
    "\n",
    "5.1. Стратегия обучения\n",
    "\n",
    "Архитектура обучается по схеме adversarial training:\n",
    "\n",
    "- Шаг 1. Обучение критика:\n",
    "    - Используйте реальные нормальные данные и реконструкции автоэнкодера.\n",
    "\n",
    "    - Обновляйте веса критика, максимизируя разницу между оценками (реальные – реконструированные), добавляя штраф за градиент.\n",
    "\n",
    "- Шаг 2. Обучение автоэнкодера:\n",
    "\n",
    "    - Минимизируйте комбинированную функцию потерь, состоящую из ошибки реконструкции и adversarial loss (то есть, ошибка между оценкой критика для реконструкций и целевым значением).\n",
    "\n",
    "5.2. Пример цикла обучения\n",
    "\n",
    "Ниже приведён псевдокод, демонстрирующий общий цикл обучения:"
   ],
   "id": "6d027b9a34359bbe"
  },
  {
   "metadata": {
    "ExecuteTime": {
     "end_time": "2025-03-31T16:30:40.668875Z",
     "start_time": "2025-03-31T16:30:40.666047Z"
    }
   },
   "cell_type": "code",
   "source": [
    "def evaluate_validation(autoencoder, val_loader, device, reconstruction_criterion):\n",
    "    autoencoder.eval()\n",
    "    val_loss = 0.0\n",
    "    count = 0\n",
    "    with torch.no_grad():\n",
    "        for data in val_loader:\n",
    "            data = data.to(device)\n",
    "            reconstruction = autoencoder(data)\n",
    "            loss = reconstruction_criterion(reconstruction, data)\n",
    "            val_loss += loss.item() * data.size(0)\n",
    "            count += data.size(0)\n",
    "    autoencoder.train()\n",
    "    return val_loss / count"
   ],
   "id": "f1e8baff460001ff",
   "outputs": [],
   "execution_count": 11
  },
  {
   "metadata": {
    "ExecuteTime": {
     "end_time": "2025-03-31T16:30:40.734080Z",
     "start_time": "2025-03-31T16:30:40.726369Z"
    }
   },
   "cell_type": "code",
   "source": [
    "def train_arcade(autoencoder, critic, train_loader, val_loader, device,\n",
    "                 searching_epochs=100, fine_tuning_epochs=50,\n",
    "                 lr_searching=1e-4, lr_finetuning=1e-5,\n",
    "                 lambda_gp=10, lambda_adv=0.01,\n",
    "                 critic_iters=5,\n",
    "                 balance_threshold=0.001, balance_patience=5,\n",
    "                 early_stopping_patience=10\n",
    "                 ):\n",
    "    total_epochs = searching_epochs + fine_tuning_epochs\n",
    "\n",
    "    # Инициализация оптимизаторов с β1=0, β2=0.9\n",
    "    optimizer_AE = optim.Adam(autoencoder.parameters(), lr=lr_searching, betas=(0, 0.9))\n",
    "    optimizer_Critic = optim.Adam(critic.parameters(), lr=lr_searching, betas=(0, 0.9))\n",
    "\n",
    "    reconstruction_criterion = nn.MSELoss()\n",
    "\n",
    "    best_val_loss = float('inf')\n",
    "    epochs_without_improvement = 0\n",
    "    balance_counter = 0  # Количество последовательных эпох, когда разница лоссов меньше порога\n",
    "\n",
    "    epoch = 0\n",
    "    while epoch < total_epochs:\n",
    "        total_loss_ae = 0.0\n",
    "        total_loss_critic = 0.0\n",
    "        num_batches = 0\n",
    "\n",
    "        # Если перешли в фазу fine-tuning, обновляем lr оптимизаторов\n",
    "        if epoch == searching_epochs:\n",
    "            for param_group in optimizer_AE.param_groups:\n",
    "                param_group['lr'] = lr_finetuning\n",
    "            for param_group in optimizer_Critic.param_groups:\n",
    "                param_group['lr'] = lr_finetuning\n",
    "\n",
    "        batch_pbar = tqdm(enumerate(train_loader), total=len(train_loader),\n",
    "                          desc=f\"Epoch {epoch + 1}/{total_epochs}\", unit=\"batch\"\n",
    "                          )\n",
    "        for i, real_data in batch_pbar:\n",
    "            real_data = real_data.to(device)\n",
    "\n",
    "            # Обновление критика (несколько итераций)\n",
    "            critic_loss_epoch = 0.0\n",
    "            for _ in range(critic_iters):\n",
    "                optimizer_Critic.zero_grad()\n",
    "                reconstruction = autoencoder(real_data)\n",
    "                critic_real = critic(real_data)\n",
    "                critic_fake = critic(reconstruction.detach())\n",
    "                gp = compute_gradient_penalty(critic, real_data, reconstruction.detach(), device, lambda_gp)\n",
    "                loss_critic = -(torch.mean(critic_real) - torch.mean(critic_fake)) + gp\n",
    "                loss_critic.backward()\n",
    "                optimizer_Critic.step()\n",
    "                critic_loss_epoch += loss_critic.item()\n",
    "            avg_critic_loss = critic_loss_epoch / critic_iters\n",
    "\n",
    "            # Обновление автоэнкодера\n",
    "            optimizer_AE.zero_grad()\n",
    "            reconstruction = autoencoder(real_data)\n",
    "            loss_reconstruction = reconstruction_criterion(reconstruction, real_data)\n",
    "            loss_adv = -torch.mean(critic(reconstruction))\n",
    "            loss_AE = loss_reconstruction + lambda_adv * loss_adv\n",
    "            loss_AE.backward()\n",
    "            optimizer_AE.step()\n",
    "\n",
    "            total_loss_ae += loss_AE.item()\n",
    "            total_loss_critic += avg_critic_loss\n",
    "            num_batches += 1\n",
    "\n",
    "            batch_pbar.set_postfix({\n",
    "                    \"MSE Loss\"   : f\"{loss_reconstruction:.4f}\",\n",
    "                    \"AE Loss\"    : f\"{loss_AE.item():.4f}\",\n",
    "                    \"Critic Loss\": f\"{avg_critic_loss:.4f}\"\n",
    "                    }\n",
    "                    )\n",
    "        batch_pbar.close()\n",
    "\n",
    "        avg_ae_loss = total_loss_ae / num_batches\n",
    "        avg_critic_loss = total_loss_critic / num_batches\n",
    "\n",
    "        # Проверка условия балансировки лоссов\n",
    "        if abs(avg_ae_loss - avg_critic_loss) < balance_threshold:\n",
    "            balance_counter += 1\n",
    "        else:\n",
    "            balance_counter = 0\n",
    "\n",
    "        # Вычисляем ошибку на валидационном наборе\n",
    "        val_loss = evaluate_validation(autoencoder, val_loader, device, reconstruction_criterion)\n",
    "        print(\n",
    "                f\"- Epoch {epoch + 1}: Avg AE Loss = {avg_ae_loss:.4f}, Avg Critic Loss = {avg_critic_loss:.4f}, Val Loss = {val_loss:.4f}\"\n",
    "                )\n",
    "\n",
    "        # Раннее прекращение по валидации\n",
    "        if val_loss < best_val_loss:\n",
    "            best_val_loss = val_loss\n",
    "            epochs_without_improvement = 0\n",
    "        else:\n",
    "            epochs_without_improvement += 1\n",
    "\n",
    "        # Если баланс достигнут в течение balance_patience эпох или нет улучшения валидации\n",
    "        if balance_counter >= balance_patience:\n",
    "            print(\"Баланс между лоссами достигнут, остановка обучения.\")\n",
    "            break\n",
    "        if epochs_without_improvement >= early_stopping_patience:\n",
    "            print(\"Нет улучшения на валидации, early stopping.\")\n",
    "            break\n",
    "\n",
    "        epoch += 1\n",
    "    print(\"Обучение завершено.\")"
   ],
   "id": "1e24436b17cd1047",
   "outputs": [],
   "execution_count": 12
  },
  {
   "metadata": {
    "ExecuteTime": {
     "end_time": "2025-03-31T16:30:40.788843Z",
     "start_time": "2025-03-31T16:30:40.781416Z"
    }
   },
   "cell_type": "code",
   "source": [
    "def evaluate_metrics(autoencoder, dataloader, device):\n",
    "    all_scores = []\n",
    "    all_labels = []\n",
    "    autoencoder.eval()\n",
    "\n",
    "    # Сбор ошибок реконструкции и меток для всех примеров\n",
    "    with torch.no_grad():\n",
    "        for data, labels in dataloader:\n",
    "            data = data.to(device)\n",
    "            reconstruction = autoencoder(data)\n",
    "            # Вычисление ошибки реконструкции (например, среднеквадратичная ошибка по каждому примеру)\n",
    "            scores = torch.mean((data - reconstruction) ** 2, dim=[1, 2]).cpu().numpy()\n",
    "            all_scores.extend(scores)\n",
    "            all_labels.extend(labels.cpu().numpy())\n",
    "\n",
    "    all_scores = np.array(all_scores)\n",
    "    all_labels = np.array(all_labels)\n",
    "\n",
    "    # Вычисление AUROC без пороговой бинаризации\n",
    "    auroc = roc_auc_score(all_labels, all_scores)\n",
    "\n",
    "    # Подбор порога на основе максимизации F1-метрики\n",
    "    thresholds = np.linspace(np.min(all_scores), np.max(all_scores), num=100)\n",
    "    f1_scores = []\n",
    "    for thr in thresholds:\n",
    "        preds = (all_scores > thr).astype(int)\n",
    "        f1 = f1_score(all_labels, preds)\n",
    "        f1_scores.append(f1)\n",
    "    best_threshold = thresholds[np.argmax(f1_scores)]\n",
    "\n",
    "    # Применение оптимального порога для вычисления остальных метрик\n",
    "    predictions = (all_scores > best_threshold).astype(int)\n",
    "    accuracy = accuracy_score(all_labels, predictions)\n",
    "    precision = precision_score(all_labels, predictions)\n",
    "    recall = recall_score(all_labels, predictions)\n",
    "    f1 = f1_score(all_labels, predictions)\n",
    "\n",
    "    # Вычисление матрицы ошибок\n",
    "    tn, fp, fn, tp = confusion_matrix(all_labels, predictions).ravel()\n",
    "\n",
    "    print(f\"AUROC: {auroc:.4f}\")\n",
    "    print(f\"Лучший threshold: {best_threshold:.4f}\")\n",
    "    print(f\"Accuracy: {accuracy:.4f}\")\n",
    "    print(f\"Precision: {precision:.4f}\")\n",
    "    print(f\"Recall: {recall:.4f}\")\n",
    "    print(f\"F1: {f1:.4f}\")\n",
    "    print(f\"Матрица ошибок:\")\n",
    "    print(f\"TN: {tn:.4f}\")\n",
    "    print(f\"FP: {fp:.4f}\")\n",
    "    print(f\"FN: {fn:.4f}\")\n",
    "    print(f\"TP: {tp:.4f}\")\n",
    "\n",
    "    # ------------------ Построение графиков ------------------\n",
    "\n",
    "    # 1. Гистограмма распределения ошибок реконструкции\n",
    "    plt.figure(figsize=(12, 5))\n",
    "    plt.hist(all_scores[all_labels == 0], bins=50, alpha=0.6, label='Нормальные')\n",
    "    plt.hist(all_scores[all_labels == 1], bins=50, alpha=0.6, label='Аномалии')\n",
    "    plt.axvline(best_threshold, color='red', linestyle='--', label=f'Лучший threshold: {best_threshold:.4f}')\n",
    "    plt.xlabel('Ошибка реконструкции')\n",
    "    plt.ylabel('Количество примеров')\n",
    "    plt.title('Распределение ошибок реконструкции')\n",
    "    plt.legend()\n",
    "    plt.show()\n",
    "\n",
    "    # 2. ROC-кривая\n",
    "    fpr, tpr, _ = roc_curve(all_labels, all_scores)\n",
    "    roc_auc = auc(fpr, tpr)\n",
    "    plt.figure(figsize=(6, 6))\n",
    "    plt.plot(fpr, tpr, label=f'ROC кривая (AUC = {roc_auc:.2f})')\n",
    "    plt.plot([0, 1], [0, 1], linestyle='--', color='gray')\n",
    "    plt.xlabel('False Positive Rate')\n",
    "    plt.ylabel('True Positive Rate')\n",
    "    plt.title('ROC кривая')\n",
    "    plt.legend(loc='lower right')\n",
    "    plt.show()\n",
    "\n",
    "    # 3. Зависимость F1-score от порога\n",
    "    plt.figure(figsize=(8, 5))\n",
    "    plt.plot(thresholds, f1_scores, marker='o')\n",
    "    plt.xlabel('Threshold')\n",
    "    plt.ylabel('F1-score')\n",
    "    plt.title('Зависимость F1-score от порога')\n",
    "    plt.axvline(best_threshold, color='red', linestyle='--', label=f'Лучший threshold: {best_threshold:.4f}')\n",
    "    plt.legend()\n",
    "    plt.show()\n",
    "\n",
    "    return auroc, predictions, accuracy, precision, recall, f1, tn, fp, fn, tp, roc_auc"
   ],
   "id": "a436283aaf643fe8",
   "outputs": [],
   "execution_count": 13
  },
  {
   "metadata": {
    "ExecuteTime": {
     "end_time": "2025-03-31T16:30:40.831496Z",
     "start_time": "2025-03-31T16:30:40.829417Z"
    }
   },
   "cell_type": "code",
   "source": "results = []",
   "id": "ea99e680304a37c3",
   "outputs": [],
   "execution_count": 14
  },
  {
   "metadata": {
    "ExecuteTime": {
     "end_time": "2025-03-31T16:30:40.881654Z",
     "start_time": "2025-03-31T16:30:40.876685Z"
    }
   },
   "cell_type": "code",
   "source": [
    "def train_attack_category(distribution, base_dir='ARP-STP-n_packets=2_l=100'):\n",
    "    print(f\"\\n< ---------- {distribution} ---------- >\")\n",
    "\n",
    "    # Создаем Dataset только для нормального трафика для обучения\n",
    "    train_dataset = CSVAttackDataset(\n",
    "            attack_dir=os.path.join(base_dir, distribution),\n",
    "            data_type='normal'\n",
    "            )\n",
    "\n",
    "    # Разбиение на train/validation\n",
    "    train_size = int(0.9 * len(train_dataset))\n",
    "    val_size = len(train_dataset) - train_size\n",
    "    train_dataset, val_dataset = random_split(train_dataset, [train_size, val_size])\n",
    "\n",
    "    # Тестовый набор (attack + normal)\n",
    "    test_dataset = CombinedTestDataset(os.path.join(base_dir, distribution))\n",
    "\n",
    "    # Создаем DataLoader-ы\n",
    "    batch_size = 32\n",
    "\n",
    "    train_dataloader = DataLoader(\n",
    "            train_dataset,\n",
    "            batch_size=batch_size,\n",
    "            shuffle=True,\n",
    "            worker_init_fn=seed_worker,  # <- для воркеров\n",
    "            generator=g,  # <- для перемешивания\n",
    "            num_workers=4\n",
    "            )\n",
    "\n",
    "    val_dataloader = DataLoader(\n",
    "            val_dataset,\n",
    "            batch_size=batch_size,\n",
    "            shuffle=False,\n",
    "            worker_init_fn=seed_worker,  # важно, если есть аугментации\n",
    "            generator=g  # не влияет при shuffle=False, но для единообразия\n",
    "            )\n",
    "\n",
    "    test_dataloader = DataLoader(\n",
    "            test_dataset,\n",
    "            batch_size=batch_size,\n",
    "            shuffle=False,\n",
    "            worker_init_fn=seed_worker,  # если есть преобразования данных\n",
    "            generator=g  # можно опустить, но лучше оставить\n",
    "            )\n",
    "\n",
    "    # Инициализация моделей\n",
    "    autoencoder = Autoencoder().to(device)\n",
    "    critic = Critic().to(device)\n",
    "\n",
    "    # Обучение ARCADE\n",
    "    searching_epochs = 10  # Фаза \"searching\"\n",
    "    fine_tuning_epochs = 5  # Фаза \"fine-tuning\"\n",
    "    train_arcade(autoencoder, critic, train_dataloader, val_dataloader, device)\n",
    "\n",
    "    # Оценка и сохранение метрик\n",
    "    auroc, predictions, accuracy, precision, recall, f1, tn, fp, fn, tp, roc_auc = evaluate_metrics(\n",
    "            autoencoder,\n",
    "            test_dataloader,\n",
    "            device\n",
    "            )\n",
    "\n",
    "    # Добавляем результат в список\n",
    "    results.append({\n",
    "            'Distribution'  : distribution,\n",
    "            'AUROC'         : auroc,\n",
    "            'Accuracy'      : accuracy,\n",
    "            'Precision'     : precision,\n",
    "            'Recall'        : recall,\n",
    "            'F1 Score'      : f1,\n",
    "            'True Negative' : tn,\n",
    "            'False Positive': fp,\n",
    "            'False Negative': fn,\n",
    "            'True Positive' : tp,\n",
    "            'ROC AUC'       : roc_auc\n",
    "            }\n",
    "            )\n",
    "    print()"
   ],
   "id": "9d9e41409a6f1f0b",
   "outputs": [],
   "execution_count": 15
  },
  {
   "metadata": {
    "ExecuteTime": {
     "end_time": "2025-03-31T18:04:20.613641Z",
     "start_time": "2025-03-31T16:30:44.651125Z"
    }
   },
   "cell_type": "code",
   "source": "train_attack_category('cauchy')",
   "id": "4a4233405d5c68be",
   "outputs": [
    {
     "name": "stdout",
     "output_type": "stream",
     "text": [
      "\n",
      "< ---------- cauchy ---------- >\n"
     ]
    },
    {
     "data": {
      "text/plain": [
       "Epoch 1/150:   0%|          | 0/451 [00:00<?, ?batch/s]"
      ],
      "application/vnd.jupyter.widget-view+json": {
       "version_major": 2,
       "version_minor": 0,
       "model_id": "48cf7656c6f84223b3a71a5deeb1d2d1"
      }
     },
     "metadata": {},
     "output_type": "display_data"
    },
    {
     "name": "stdout",
     "output_type": "stream",
     "text": [
      "- Epoch 1: Avg AE Loss = 0.1332, Avg Critic Loss = -4.4865, Val Loss = 0.0557\n"
     ]
    },
    {
     "data": {
      "text/plain": [
       "Epoch 2/150:   0%|          | 0/451 [00:00<?, ?batch/s]"
      ],
      "application/vnd.jupyter.widget-view+json": {
       "version_major": 2,
       "version_minor": 0,
       "model_id": "f68d09d76b504fcc86d04c178fa5ec57"
      }
     },
     "metadata": {},
     "output_type": "display_data"
    },
    {
     "name": "stdout",
     "output_type": "stream",
     "text": [
      "- Epoch 2: Avg AE Loss = 0.0544, Avg Critic Loss = -2.6948, Val Loss = 0.0180\n"
     ]
    },
    {
     "data": {
      "text/plain": [
       "Epoch 3/150:   0%|          | 0/451 [00:00<?, ?batch/s]"
      ],
      "application/vnd.jupyter.widget-view+json": {
       "version_major": 2,
       "version_minor": 0,
       "model_id": "c5a99816593042c0963ae48f8b9e54b6"
      }
     },
     "metadata": {},
     "output_type": "display_data"
    },
    {
     "name": "stdout",
     "output_type": "stream",
     "text": [
      "- Epoch 3: Avg AE Loss = 0.0243, Avg Critic Loss = -1.4813, Val Loss = 0.0067\n"
     ]
    },
    {
     "data": {
      "text/plain": [
       "Epoch 4/150:   0%|          | 0/451 [00:00<?, ?batch/s]"
      ],
      "application/vnd.jupyter.widget-view+json": {
       "version_major": 2,
       "version_minor": 0,
       "model_id": "60e6cbd57b6b4e8f9eab3213e20d11da"
      }
     },
     "metadata": {},
     "output_type": "display_data"
    },
    {
     "name": "stdout",
     "output_type": "stream",
     "text": [
      "- Epoch 4: Avg AE Loss = 0.0047, Avg Critic Loss = -0.5949, Val Loss = 0.0005\n"
     ]
    },
    {
     "data": {
      "text/plain": [
       "Epoch 5/150:   0%|          | 0/451 [00:00<?, ?batch/s]"
      ],
      "application/vnd.jupyter.widget-view+json": {
       "version_major": 2,
       "version_minor": 0,
       "model_id": "314b0350d89e4fe3bf2cc16a031a4747"
      }
     },
     "metadata": {},
     "output_type": "display_data"
    },
    {
     "name": "stdout",
     "output_type": "stream",
     "text": [
      "- Epoch 5: Avg AE Loss = -0.0047, Avg Critic Loss = -0.2048, Val Loss = 0.0001\n"
     ]
    },
    {
     "data": {
      "text/plain": [
       "Epoch 6/150:   0%|          | 0/451 [00:00<?, ?batch/s]"
      ],
      "application/vnd.jupyter.widget-view+json": {
       "version_major": 2,
       "version_minor": 0,
       "model_id": "42a948b69e65445da591761b2b568caa"
      }
     },
     "metadata": {},
     "output_type": "display_data"
    },
    {
     "name": "stdout",
     "output_type": "stream",
     "text": [
      "- Epoch 6: Avg AE Loss = -0.0081, Avg Critic Loss = -0.0647, Val Loss = 0.0000\n"
     ]
    },
    {
     "data": {
      "text/plain": [
       "Epoch 7/150:   0%|          | 0/451 [00:00<?, ?batch/s]"
      ],
      "application/vnd.jupyter.widget-view+json": {
       "version_major": 2,
       "version_minor": 0,
       "model_id": "3ed1f08277614887afe19b6beee77e8e"
      }
     },
     "metadata": {},
     "output_type": "display_data"
    },
    {
     "name": "stdout",
     "output_type": "stream",
     "text": [
      "- Epoch 7: Avg AE Loss = -0.0097, Avg Critic Loss = -0.0160, Val Loss = 0.0000\n"
     ]
    },
    {
     "data": {
      "text/plain": [
       "Epoch 8/150:   0%|          | 0/451 [00:00<?, ?batch/s]"
      ],
      "application/vnd.jupyter.widget-view+json": {
       "version_major": 2,
       "version_minor": 0,
       "model_id": "ec39e53f698f433ea2e6b0183db4c65e"
      }
     },
     "metadata": {},
     "output_type": "display_data"
    },
    {
     "name": "stdout",
     "output_type": "stream",
     "text": [
      "- Epoch 8: Avg AE Loss = -0.0116, Avg Critic Loss = -0.0019, Val Loss = 0.0000\n"
     ]
    },
    {
     "data": {
      "text/plain": [
       "Epoch 9/150:   0%|          | 0/451 [00:00<?, ?batch/s]"
      ],
      "application/vnd.jupyter.widget-view+json": {
       "version_major": 2,
       "version_minor": 0,
       "model_id": "3f176250918f45e4ac89f5fe7b0f50f8"
      }
     },
     "metadata": {},
     "output_type": "display_data"
    },
    {
     "name": "stdout",
     "output_type": "stream",
     "text": [
      "- Epoch 9: Avg AE Loss = -0.0133, Avg Critic Loss = 0.0010, Val Loss = 0.0000\n"
     ]
    },
    {
     "data": {
      "text/plain": [
       "Epoch 10/150:   0%|          | 0/451 [00:00<?, ?batch/s]"
      ],
      "application/vnd.jupyter.widget-view+json": {
       "version_major": 2,
       "version_minor": 0,
       "model_id": "05adc858e0fe4b24b2bfc269c51fb4cb"
      }
     },
     "metadata": {},
     "output_type": "display_data"
    },
    {
     "name": "stdout",
     "output_type": "stream",
     "text": [
      "- Epoch 10: Avg AE Loss = -0.0149, Avg Critic Loss = 0.0013, Val Loss = 0.0000\n"
     ]
    },
    {
     "data": {
      "text/plain": [
       "Epoch 11/150:   0%|          | 0/451 [00:00<?, ?batch/s]"
      ],
      "application/vnd.jupyter.widget-view+json": {
       "version_major": 2,
       "version_minor": 0,
       "model_id": "594e69aa4605476a9255fce6311333fe"
      }
     },
     "metadata": {},
     "output_type": "display_data"
    },
    {
     "name": "stdout",
     "output_type": "stream",
     "text": [
      "- Epoch 11: Avg AE Loss = -0.0162, Avg Critic Loss = 0.0013, Val Loss = 0.0000\n"
     ]
    },
    {
     "data": {
      "text/plain": [
       "Epoch 12/150:   0%|          | 0/451 [00:00<?, ?batch/s]"
      ],
      "application/vnd.jupyter.widget-view+json": {
       "version_major": 2,
       "version_minor": 0,
       "model_id": "c2e40888d5b741959899b29d19ec25a9"
      }
     },
     "metadata": {},
     "output_type": "display_data"
    },
    {
     "name": "stdout",
     "output_type": "stream",
     "text": [
      "- Epoch 12: Avg AE Loss = -0.0173, Avg Critic Loss = 0.0011, Val Loss = 0.0000\n"
     ]
    },
    {
     "data": {
      "text/plain": [
       "Epoch 13/150:   0%|          | 0/451 [00:00<?, ?batch/s]"
      ],
      "application/vnd.jupyter.widget-view+json": {
       "version_major": 2,
       "version_minor": 0,
       "model_id": "16098224d881497ab615f33dd98db9af"
      }
     },
     "metadata": {},
     "output_type": "display_data"
    },
    {
     "name": "stdout",
     "output_type": "stream",
     "text": [
      "- Epoch 13: Avg AE Loss = -0.0184, Avg Critic Loss = 0.0010, Val Loss = 0.0000\n"
     ]
    },
    {
     "data": {
      "text/plain": [
       "Epoch 14/150:   0%|          | 0/451 [00:00<?, ?batch/s]"
      ],
      "application/vnd.jupyter.widget-view+json": {
       "version_major": 2,
       "version_minor": 0,
       "model_id": "68cba3e234b9497eac659ec94a9f0d6b"
      }
     },
     "metadata": {},
     "output_type": "display_data"
    },
    {
     "name": "stdout",
     "output_type": "stream",
     "text": [
      "- Epoch 14: Avg AE Loss = -0.0199, Avg Critic Loss = 0.0010, Val Loss = 0.0000\n"
     ]
    },
    {
     "data": {
      "text/plain": [
       "Epoch 15/150:   0%|          | 0/451 [00:00<?, ?batch/s]"
      ],
      "application/vnd.jupyter.widget-view+json": {
       "version_major": 2,
       "version_minor": 0,
       "model_id": "b5175a5bf799416e8d9c102cd48b4ad7"
      }
     },
     "metadata": {},
     "output_type": "display_data"
    },
    {
     "name": "stdout",
     "output_type": "stream",
     "text": [
      "- Epoch 15: Avg AE Loss = -0.0211, Avg Critic Loss = 0.0009, Val Loss = 0.0000\n"
     ]
    },
    {
     "data": {
      "text/plain": [
       "Epoch 16/150:   0%|          | 0/451 [00:00<?, ?batch/s]"
      ],
      "application/vnd.jupyter.widget-view+json": {
       "version_major": 2,
       "version_minor": 0,
       "model_id": "7195ab83da4646e3a7804a756029c419"
      }
     },
     "metadata": {},
     "output_type": "display_data"
    },
    {
     "name": "stdout",
     "output_type": "stream",
     "text": [
      "- Epoch 16: Avg AE Loss = -0.0221, Avg Critic Loss = 0.0008, Val Loss = 0.0000\n"
     ]
    },
    {
     "data": {
      "text/plain": [
       "Epoch 17/150:   0%|          | 0/451 [00:00<?, ?batch/s]"
      ],
      "application/vnd.jupyter.widget-view+json": {
       "version_major": 2,
       "version_minor": 0,
       "model_id": "bf76c7ed97b14b52b9486c5bf3e25509"
      }
     },
     "metadata": {},
     "output_type": "display_data"
    },
    {
     "name": "stdout",
     "output_type": "stream",
     "text": [
      "- Epoch 17: Avg AE Loss = -0.0229, Avg Critic Loss = 0.0007, Val Loss = 0.0000\n"
     ]
    },
    {
     "data": {
      "text/plain": [
       "Epoch 18/150:   0%|          | 0/451 [00:00<?, ?batch/s]"
      ],
      "application/vnd.jupyter.widget-view+json": {
       "version_major": 2,
       "version_minor": 0,
       "model_id": "3ae2644c0181440db9d43fe361b06adc"
      }
     },
     "metadata": {},
     "output_type": "display_data"
    },
    {
     "name": "stdout",
     "output_type": "stream",
     "text": [
      "- Epoch 18: Avg AE Loss = -0.0236, Avg Critic Loss = 0.0007, Val Loss = 0.0000\n"
     ]
    },
    {
     "data": {
      "text/plain": [
       "Epoch 19/150:   0%|          | 0/451 [00:00<?, ?batch/s]"
      ],
      "application/vnd.jupyter.widget-view+json": {
       "version_major": 2,
       "version_minor": 0,
       "model_id": "acefd4e37b124752ad33d379df3a3e38"
      }
     },
     "metadata": {},
     "output_type": "display_data"
    },
    {
     "name": "stdout",
     "output_type": "stream",
     "text": [
      "- Epoch 19: Avg AE Loss = -0.0238, Avg Critic Loss = 0.0007, Val Loss = 0.0000\n"
     ]
    },
    {
     "data": {
      "text/plain": [
       "Epoch 20/150:   0%|          | 0/451 [00:00<?, ?batch/s]"
      ],
      "application/vnd.jupyter.widget-view+json": {
       "version_major": 2,
       "version_minor": 0,
       "model_id": "bce4d5f9ca0348ad8e3bc44c881e10de"
      }
     },
     "metadata": {},
     "output_type": "display_data"
    },
    {
     "name": "stdout",
     "output_type": "stream",
     "text": [
      "- Epoch 20: Avg AE Loss = -0.0240, Avg Critic Loss = 0.0006, Val Loss = 0.0000\n"
     ]
    },
    {
     "data": {
      "text/plain": [
       "Epoch 21/150:   0%|          | 0/451 [00:00<?, ?batch/s]"
      ],
      "application/vnd.jupyter.widget-view+json": {
       "version_major": 2,
       "version_minor": 0,
       "model_id": "15b2aa6affa84e37be988f087abb3672"
      }
     },
     "metadata": {},
     "output_type": "display_data"
    },
    {
     "name": "stdout",
     "output_type": "stream",
     "text": [
      "- Epoch 21: Avg AE Loss = -0.0244, Avg Critic Loss = 0.0006, Val Loss = 0.0000\n"
     ]
    },
    {
     "data": {
      "text/plain": [
       "Epoch 22/150:   0%|          | 0/451 [00:00<?, ?batch/s]"
      ],
      "application/vnd.jupyter.widget-view+json": {
       "version_major": 2,
       "version_minor": 0,
       "model_id": "0920666a3a814c3db6fc0a51cf3e4aac"
      }
     },
     "metadata": {},
     "output_type": "display_data"
    },
    {
     "name": "stdout",
     "output_type": "stream",
     "text": [
      "- Epoch 22: Avg AE Loss = -0.0246, Avg Critic Loss = 0.0006, Val Loss = 0.0000\n"
     ]
    },
    {
     "data": {
      "text/plain": [
       "Epoch 23/150:   0%|          | 0/451 [00:00<?, ?batch/s]"
      ],
      "application/vnd.jupyter.widget-view+json": {
       "version_major": 2,
       "version_minor": 0,
       "model_id": "d19738363b3c4f4b9c6299d6772baf5c"
      }
     },
     "metadata": {},
     "output_type": "display_data"
    },
    {
     "name": "stdout",
     "output_type": "stream",
     "text": [
      "- Epoch 23: Avg AE Loss = -0.0247, Avg Critic Loss = 0.0006, Val Loss = 0.0000\n"
     ]
    },
    {
     "data": {
      "text/plain": [
       "Epoch 24/150:   0%|          | 0/451 [00:00<?, ?batch/s]"
      ],
      "application/vnd.jupyter.widget-view+json": {
       "version_major": 2,
       "version_minor": 0,
       "model_id": "c28d23a159c34ce8a8095b01a678c443"
      }
     },
     "metadata": {},
     "output_type": "display_data"
    },
    {
     "name": "stdout",
     "output_type": "stream",
     "text": [
      "- Epoch 24: Avg AE Loss = -0.0247, Avg Critic Loss = 0.0005, Val Loss = 0.0000\n"
     ]
    },
    {
     "data": {
      "text/plain": [
       "Epoch 25/150:   0%|          | 0/451 [00:00<?, ?batch/s]"
      ],
      "application/vnd.jupyter.widget-view+json": {
       "version_major": 2,
       "version_minor": 0,
       "model_id": "fea27db2d3b84f8ca6b025769fc7d20b"
      }
     },
     "metadata": {},
     "output_type": "display_data"
    },
    {
     "name": "stdout",
     "output_type": "stream",
     "text": [
      "- Epoch 25: Avg AE Loss = -0.0245, Avg Critic Loss = 0.0005, Val Loss = 0.0000\n"
     ]
    },
    {
     "data": {
      "text/plain": [
       "Epoch 26/150:   0%|          | 0/451 [00:00<?, ?batch/s]"
      ],
      "application/vnd.jupyter.widget-view+json": {
       "version_major": 2,
       "version_minor": 0,
       "model_id": "76503ec613434f738e2b5c54a17b9ef6"
      }
     },
     "metadata": {},
     "output_type": "display_data"
    },
    {
     "name": "stdout",
     "output_type": "stream",
     "text": [
      "- Epoch 26: Avg AE Loss = -0.0242, Avg Critic Loss = 0.0005, Val Loss = 0.0000\n"
     ]
    },
    {
     "data": {
      "text/plain": [
       "Epoch 27/150:   0%|          | 0/451 [00:00<?, ?batch/s]"
      ],
      "application/vnd.jupyter.widget-view+json": {
       "version_major": 2,
       "version_minor": 0,
       "model_id": "fd00508417164dda87981ff252e31c95"
      }
     },
     "metadata": {},
     "output_type": "display_data"
    },
    {
     "name": "stdout",
     "output_type": "stream",
     "text": [
      "- Epoch 27: Avg AE Loss = -0.0241, Avg Critic Loss = 0.0005, Val Loss = 0.0000\n"
     ]
    },
    {
     "data": {
      "text/plain": [
       "Epoch 28/150:   0%|          | 0/451 [00:00<?, ?batch/s]"
      ],
      "application/vnd.jupyter.widget-view+json": {
       "version_major": 2,
       "version_minor": 0,
       "model_id": "b75679f8b92f49ae8521edd1aff816f5"
      }
     },
     "metadata": {},
     "output_type": "display_data"
    },
    {
     "name": "stdout",
     "output_type": "stream",
     "text": [
      "- Epoch 28: Avg AE Loss = -0.0240, Avg Critic Loss = 0.0005, Val Loss = 0.0000\n"
     ]
    },
    {
     "data": {
      "text/plain": [
       "Epoch 29/150:   0%|          | 0/451 [00:00<?, ?batch/s]"
      ],
      "application/vnd.jupyter.widget-view+json": {
       "version_major": 2,
       "version_minor": 0,
       "model_id": "4a14be98d40e41adb108d4e4f69fae7f"
      }
     },
     "metadata": {},
     "output_type": "display_data"
    },
    {
     "name": "stdout",
     "output_type": "stream",
     "text": [
      "- Epoch 29: Avg AE Loss = -0.0240, Avg Critic Loss = 0.0004, Val Loss = 0.0000\n"
     ]
    },
    {
     "data": {
      "text/plain": [
       "Epoch 30/150:   0%|          | 0/451 [00:00<?, ?batch/s]"
      ],
      "application/vnd.jupyter.widget-view+json": {
       "version_major": 2,
       "version_minor": 0,
       "model_id": "56ffc2c36fe3481e855a32a7d3c0c566"
      }
     },
     "metadata": {},
     "output_type": "display_data"
    },
    {
     "name": "stdout",
     "output_type": "stream",
     "text": [
      "- Epoch 30: Avg AE Loss = -0.0237, Avg Critic Loss = 0.0004, Val Loss = 0.0000\n"
     ]
    },
    {
     "data": {
      "text/plain": [
       "Epoch 31/150:   0%|          | 0/451 [00:00<?, ?batch/s]"
      ],
      "application/vnd.jupyter.widget-view+json": {
       "version_major": 2,
       "version_minor": 0,
       "model_id": "113bacc79c474f7384f5a81ac2218a0a"
      }
     },
     "metadata": {},
     "output_type": "display_data"
    },
    {
     "name": "stdout",
     "output_type": "stream",
     "text": [
      "- Epoch 31: Avg AE Loss = -0.0235, Avg Critic Loss = 0.0004, Val Loss = 0.0000\n"
     ]
    },
    {
     "data": {
      "text/plain": [
       "Epoch 32/150:   0%|          | 0/451 [00:00<?, ?batch/s]"
      ],
      "application/vnd.jupyter.widget-view+json": {
       "version_major": 2,
       "version_minor": 0,
       "model_id": "065f7917c11342fbbd479158160234b9"
      }
     },
     "metadata": {},
     "output_type": "display_data"
    },
    {
     "name": "stdout",
     "output_type": "stream",
     "text": [
      "- Epoch 32: Avg AE Loss = -0.0231, Avg Critic Loss = 0.0004, Val Loss = 0.0000\n"
     ]
    },
    {
     "data": {
      "text/plain": [
       "Epoch 33/150:   0%|          | 0/451 [00:00<?, ?batch/s]"
      ],
      "application/vnd.jupyter.widget-view+json": {
       "version_major": 2,
       "version_minor": 0,
       "model_id": "4d8cb926a29643efae649c42227036ca"
      }
     },
     "metadata": {},
     "output_type": "display_data"
    },
    {
     "name": "stdout",
     "output_type": "stream",
     "text": [
      "- Epoch 33: Avg AE Loss = -0.0226, Avg Critic Loss = 0.0004, Val Loss = 0.0000\n"
     ]
    },
    {
     "data": {
      "text/plain": [
       "Epoch 34/150:   0%|          | 0/451 [00:00<?, ?batch/s]"
      ],
      "application/vnd.jupyter.widget-view+json": {
       "version_major": 2,
       "version_minor": 0,
       "model_id": "08ecb77ef6334505ae6d010da152c1c4"
      }
     },
     "metadata": {},
     "output_type": "display_data"
    },
    {
     "name": "stdout",
     "output_type": "stream",
     "text": [
      "- Epoch 34: Avg AE Loss = -0.0220, Avg Critic Loss = 0.0004, Val Loss = 0.0000\n"
     ]
    },
    {
     "data": {
      "text/plain": [
       "Epoch 35/150:   0%|          | 0/451 [00:00<?, ?batch/s]"
      ],
      "application/vnd.jupyter.widget-view+json": {
       "version_major": 2,
       "version_minor": 0,
       "model_id": "a62c08f0184248d6824e943c669bfcd1"
      }
     },
     "metadata": {},
     "output_type": "display_data"
    },
    {
     "name": "stdout",
     "output_type": "stream",
     "text": [
      "- Epoch 35: Avg AE Loss = -0.0219, Avg Critic Loss = 0.0004, Val Loss = 0.0000\n"
     ]
    },
    {
     "data": {
      "text/plain": [
       "Epoch 36/150:   0%|          | 0/451 [00:00<?, ?batch/s]"
      ],
      "application/vnd.jupyter.widget-view+json": {
       "version_major": 2,
       "version_minor": 0,
       "model_id": "bcd0980fd8354b948b09dab7ee7cdc17"
      }
     },
     "metadata": {},
     "output_type": "display_data"
    },
    {
     "name": "stdout",
     "output_type": "stream",
     "text": [
      "- Epoch 36: Avg AE Loss = -0.0215, Avg Critic Loss = 0.0003, Val Loss = 0.0000\n"
     ]
    },
    {
     "data": {
      "text/plain": [
       "Epoch 37/150:   0%|          | 0/451 [00:00<?, ?batch/s]"
      ],
      "application/vnd.jupyter.widget-view+json": {
       "version_major": 2,
       "version_minor": 0,
       "model_id": "436b688d76fc4cf6b353d9ee87943e2f"
      }
     },
     "metadata": {},
     "output_type": "display_data"
    },
    {
     "name": "stdout",
     "output_type": "stream",
     "text": [
      "- Epoch 37: Avg AE Loss = -0.0211, Avg Critic Loss = 0.0003, Val Loss = 0.0000\n"
     ]
    },
    {
     "data": {
      "text/plain": [
       "Epoch 38/150:   0%|          | 0/451 [00:00<?, ?batch/s]"
      ],
      "application/vnd.jupyter.widget-view+json": {
       "version_major": 2,
       "version_minor": 0,
       "model_id": "5aa1015c720d4fd391afba0b69429c28"
      }
     },
     "metadata": {},
     "output_type": "display_data"
    },
    {
     "name": "stdout",
     "output_type": "stream",
     "text": [
      "- Epoch 38: Avg AE Loss = -0.0207, Avg Critic Loss = 0.0003, Val Loss = 0.0000\n"
     ]
    },
    {
     "data": {
      "text/plain": [
       "Epoch 39/150:   0%|          | 0/451 [00:00<?, ?batch/s]"
      ],
      "application/vnd.jupyter.widget-view+json": {
       "version_major": 2,
       "version_minor": 0,
       "model_id": "6254d1f2b4f746858d09e199b36d3f18"
      }
     },
     "metadata": {},
     "output_type": "display_data"
    },
    {
     "name": "stdout",
     "output_type": "stream",
     "text": [
      "- Epoch 39: Avg AE Loss = -0.0203, Avg Critic Loss = 0.0003, Val Loss = 0.0000\n"
     ]
    },
    {
     "data": {
      "text/plain": [
       "Epoch 40/150:   0%|          | 0/451 [00:00<?, ?batch/s]"
      ],
      "application/vnd.jupyter.widget-view+json": {
       "version_major": 2,
       "version_minor": 0,
       "model_id": "bea2dcbc89e34bb8bd0cdf15b27038c7"
      }
     },
     "metadata": {},
     "output_type": "display_data"
    },
    {
     "name": "stdout",
     "output_type": "stream",
     "text": [
      "- Epoch 40: Avg AE Loss = -0.0202, Avg Critic Loss = 0.0003, Val Loss = 0.0000\n"
     ]
    },
    {
     "data": {
      "text/plain": [
       "Epoch 41/150:   0%|          | 0/451 [00:00<?, ?batch/s]"
      ],
      "application/vnd.jupyter.widget-view+json": {
       "version_major": 2,
       "version_minor": 0,
       "model_id": "a2e6a40a12c144c4ba62a1b678fcc226"
      }
     },
     "metadata": {},
     "output_type": "display_data"
    },
    {
     "name": "stdout",
     "output_type": "stream",
     "text": [
      "- Epoch 41: Avg AE Loss = -0.0201, Avg Critic Loss = 0.0003, Val Loss = 0.0000\n"
     ]
    },
    {
     "data": {
      "text/plain": [
       "Epoch 42/150:   0%|          | 0/451 [00:00<?, ?batch/s]"
      ],
      "application/vnd.jupyter.widget-view+json": {
       "version_major": 2,
       "version_minor": 0,
       "model_id": "26125b82e6c442a6a2a34e1c85b73ec2"
      }
     },
     "metadata": {},
     "output_type": "display_data"
    },
    {
     "name": "stdout",
     "output_type": "stream",
     "text": [
      "- Epoch 42: Avg AE Loss = -0.0199, Avg Critic Loss = 0.0003, Val Loss = 0.0000\n"
     ]
    },
    {
     "data": {
      "text/plain": [
       "Epoch 43/150:   0%|          | 0/451 [00:00<?, ?batch/s]"
      ],
      "application/vnd.jupyter.widget-view+json": {
       "version_major": 2,
       "version_minor": 0,
       "model_id": "e35caa7c60f74de19bdac3b66b82c557"
      }
     },
     "metadata": {},
     "output_type": "display_data"
    },
    {
     "name": "stdout",
     "output_type": "stream",
     "text": [
      "- Epoch 43: Avg AE Loss = -0.0198, Avg Critic Loss = 0.0003, Val Loss = 0.0000\n"
     ]
    },
    {
     "data": {
      "text/plain": [
       "Epoch 44/150:   0%|          | 0/451 [00:00<?, ?batch/s]"
      ],
      "application/vnd.jupyter.widget-view+json": {
       "version_major": 2,
       "version_minor": 0,
       "model_id": "99ec7124be6d4eeb820b07dc23439267"
      }
     },
     "metadata": {},
     "output_type": "display_data"
    },
    {
     "name": "stdout",
     "output_type": "stream",
     "text": [
      "- Epoch 44: Avg AE Loss = -0.0194, Avg Critic Loss = 0.0003, Val Loss = 0.0000\n"
     ]
    },
    {
     "data": {
      "text/plain": [
       "Epoch 45/150:   0%|          | 0/451 [00:00<?, ?batch/s]"
      ],
      "application/vnd.jupyter.widget-view+json": {
       "version_major": 2,
       "version_minor": 0,
       "model_id": "fb6d99f114364ade94a4a707621f2bf0"
      }
     },
     "metadata": {},
     "output_type": "display_data"
    },
    {
     "name": "stdout",
     "output_type": "stream",
     "text": [
      "- Epoch 45: Avg AE Loss = -0.0192, Avg Critic Loss = 0.0002, Val Loss = 0.0000\n"
     ]
    },
    {
     "data": {
      "text/plain": [
       "Epoch 46/150:   0%|          | 0/451 [00:00<?, ?batch/s]"
      ],
      "application/vnd.jupyter.widget-view+json": {
       "version_major": 2,
       "version_minor": 0,
       "model_id": "14286062e74140feb004efedb5df473a"
      }
     },
     "metadata": {},
     "output_type": "display_data"
    },
    {
     "name": "stdout",
     "output_type": "stream",
     "text": [
      "- Epoch 46: Avg AE Loss = -0.0186, Avg Critic Loss = 0.0003, Val Loss = 0.0000\n"
     ]
    },
    {
     "data": {
      "text/plain": [
       "Epoch 47/150:   0%|          | 0/451 [00:00<?, ?batch/s]"
      ],
      "application/vnd.jupyter.widget-view+json": {
       "version_major": 2,
       "version_minor": 0,
       "model_id": "2c22a99ca5ae44fb9cbc4f451bd1836a"
      }
     },
     "metadata": {},
     "output_type": "display_data"
    },
    {
     "name": "stdout",
     "output_type": "stream",
     "text": [
      "- Epoch 47: Avg AE Loss = -0.0185, Avg Critic Loss = 0.0002, Val Loss = 0.0000\n"
     ]
    },
    {
     "data": {
      "text/plain": [
       "Epoch 48/150:   0%|          | 0/451 [00:00<?, ?batch/s]"
      ],
      "application/vnd.jupyter.widget-view+json": {
       "version_major": 2,
       "version_minor": 0,
       "model_id": "0e78adc8068e4e92be1692d597cacdff"
      }
     },
     "metadata": {},
     "output_type": "display_data"
    },
    {
     "name": "stdout",
     "output_type": "stream",
     "text": [
      "- Epoch 48: Avg AE Loss = -0.0184, Avg Critic Loss = 0.0002, Val Loss = 0.0000\n"
     ]
    },
    {
     "data": {
      "text/plain": [
       "Epoch 49/150:   0%|          | 0/451 [00:00<?, ?batch/s]"
      ],
      "application/vnd.jupyter.widget-view+json": {
       "version_major": 2,
       "version_minor": 0,
       "model_id": "2621c13c58b644d5b229e921c7aa0251"
      }
     },
     "metadata": {},
     "output_type": "display_data"
    },
    {
     "name": "stdout",
     "output_type": "stream",
     "text": [
      "- Epoch 49: Avg AE Loss = -0.0182, Avg Critic Loss = 0.0002, Val Loss = 0.0000\n"
     ]
    },
    {
     "data": {
      "text/plain": [
       "Epoch 50/150:   0%|          | 0/451 [00:00<?, ?batch/s]"
      ],
      "application/vnd.jupyter.widget-view+json": {
       "version_major": 2,
       "version_minor": 0,
       "model_id": "9937d2acc2ce46e4bcca0948012f099a"
      }
     },
     "metadata": {},
     "output_type": "display_data"
    },
    {
     "name": "stdout",
     "output_type": "stream",
     "text": [
      "- Epoch 50: Avg AE Loss = -0.0179, Avg Critic Loss = 0.0002, Val Loss = 0.0000\n"
     ]
    },
    {
     "data": {
      "text/plain": [
       "Epoch 51/150:   0%|          | 0/451 [00:00<?, ?batch/s]"
      ],
      "application/vnd.jupyter.widget-view+json": {
       "version_major": 2,
       "version_minor": 0,
       "model_id": "a008b33fe11a4141bf36d83fcbc05522"
      }
     },
     "metadata": {},
     "output_type": "display_data"
    },
    {
     "name": "stdout",
     "output_type": "stream",
     "text": [
      "- Epoch 51: Avg AE Loss = -0.0178, Avg Critic Loss = 0.0002, Val Loss = 0.0000\n"
     ]
    },
    {
     "data": {
      "text/plain": [
       "Epoch 52/150:   0%|          | 0/451 [00:00<?, ?batch/s]"
      ],
      "application/vnd.jupyter.widget-view+json": {
       "version_major": 2,
       "version_minor": 0,
       "model_id": "a309cff521724fe5898fb32642d917c7"
      }
     },
     "metadata": {},
     "output_type": "display_data"
    },
    {
     "name": "stdout",
     "output_type": "stream",
     "text": [
      "- Epoch 52: Avg AE Loss = -0.0175, Avg Critic Loss = 0.0002, Val Loss = 0.0000\n"
     ]
    },
    {
     "data": {
      "text/plain": [
       "Epoch 53/150:   0%|          | 0/451 [00:00<?, ?batch/s]"
      ],
      "application/vnd.jupyter.widget-view+json": {
       "version_major": 2,
       "version_minor": 0,
       "model_id": "458b96b4d70d454e995aaa4a6735729f"
      }
     },
     "metadata": {},
     "output_type": "display_data"
    },
    {
     "name": "stdout",
     "output_type": "stream",
     "text": [
      "- Epoch 53: Avg AE Loss = -0.0173, Avg Critic Loss = 0.0002, Val Loss = 0.0000\n"
     ]
    },
    {
     "data": {
      "text/plain": [
       "Epoch 54/150:   0%|          | 0/451 [00:00<?, ?batch/s]"
      ],
      "application/vnd.jupyter.widget-view+json": {
       "version_major": 2,
       "version_minor": 0,
       "model_id": "af1f45d8eddd4965be1898833f98458b"
      }
     },
     "metadata": {},
     "output_type": "display_data"
    },
    {
     "name": "stdout",
     "output_type": "stream",
     "text": [
      "- Epoch 54: Avg AE Loss = -0.0172, Avg Critic Loss = 0.0002, Val Loss = 0.0000\n"
     ]
    },
    {
     "data": {
      "text/plain": [
       "Epoch 55/150:   0%|          | 0/451 [00:00<?, ?batch/s]"
      ],
      "application/vnd.jupyter.widget-view+json": {
       "version_major": 2,
       "version_minor": 0,
       "model_id": "2b79e37fe2464ffcba8145d3b7852e1d"
      }
     },
     "metadata": {},
     "output_type": "display_data"
    },
    {
     "name": "stdout",
     "output_type": "stream",
     "text": [
      "- Epoch 55: Avg AE Loss = -0.0173, Avg Critic Loss = 0.0002, Val Loss = 0.0000\n"
     ]
    },
    {
     "data": {
      "text/plain": [
       "Epoch 56/150:   0%|          | 0/451 [00:00<?, ?batch/s]"
      ],
      "application/vnd.jupyter.widget-view+json": {
       "version_major": 2,
       "version_minor": 0,
       "model_id": "4142560d8b4d4b9598c8fd5be02f11df"
      }
     },
     "metadata": {},
     "output_type": "display_data"
    },
    {
     "name": "stdout",
     "output_type": "stream",
     "text": [
      "- Epoch 56: Avg AE Loss = -0.0173, Avg Critic Loss = 0.0002, Val Loss = 0.0000\n"
     ]
    },
    {
     "data": {
      "text/plain": [
       "Epoch 57/150:   0%|          | 0/451 [00:00<?, ?batch/s]"
      ],
      "application/vnd.jupyter.widget-view+json": {
       "version_major": 2,
       "version_minor": 0,
       "model_id": "1b54932ab51149e39c4a81307659b2a3"
      }
     },
     "metadata": {},
     "output_type": "display_data"
    },
    {
     "name": "stdout",
     "output_type": "stream",
     "text": [
      "- Epoch 57: Avg AE Loss = -0.0172, Avg Critic Loss = 0.0002, Val Loss = 0.0000\n"
     ]
    },
    {
     "data": {
      "text/plain": [
       "Epoch 58/150:   0%|          | 0/451 [00:00<?, ?batch/s]"
      ],
      "application/vnd.jupyter.widget-view+json": {
       "version_major": 2,
       "version_minor": 0,
       "model_id": "03af1a5774b74e2386745040b3112215"
      }
     },
     "metadata": {},
     "output_type": "display_data"
    },
    {
     "name": "stdout",
     "output_type": "stream",
     "text": [
      "- Epoch 58: Avg AE Loss = -0.0172, Avg Critic Loss = 0.0002, Val Loss = 0.0000\n"
     ]
    },
    {
     "data": {
      "text/plain": [
       "Epoch 59/150:   0%|          | 0/451 [00:00<?, ?batch/s]"
      ],
      "application/vnd.jupyter.widget-view+json": {
       "version_major": 2,
       "version_minor": 0,
       "model_id": "35598810e83c418f888ec6563285a3bf"
      }
     },
     "metadata": {},
     "output_type": "display_data"
    },
    {
     "name": "stdout",
     "output_type": "stream",
     "text": [
      "- Epoch 59: Avg AE Loss = -0.0171, Avg Critic Loss = 0.0002, Val Loss = 0.0000\n"
     ]
    },
    {
     "data": {
      "text/plain": [
       "Epoch 60/150:   0%|          | 0/451 [00:00<?, ?batch/s]"
      ],
      "application/vnd.jupyter.widget-view+json": {
       "version_major": 2,
       "version_minor": 0,
       "model_id": "0438650b24394975bc30b244808b2535"
      }
     },
     "metadata": {},
     "output_type": "display_data"
    },
    {
     "name": "stdout",
     "output_type": "stream",
     "text": [
      "- Epoch 60: Avg AE Loss = -0.0170, Avg Critic Loss = 0.0001, Val Loss = 0.0000\n"
     ]
    },
    {
     "data": {
      "text/plain": [
       "Epoch 61/150:   0%|          | 0/451 [00:00<?, ?batch/s]"
      ],
      "application/vnd.jupyter.widget-view+json": {
       "version_major": 2,
       "version_minor": 0,
       "model_id": "98440b72b7a54bcd8d3015b0ff26fbf3"
      }
     },
     "metadata": {},
     "output_type": "display_data"
    },
    {
     "name": "stdout",
     "output_type": "stream",
     "text": [
      "- Epoch 61: Avg AE Loss = -0.0170, Avg Critic Loss = 0.0001, Val Loss = 0.0000\n"
     ]
    },
    {
     "data": {
      "text/plain": [
       "Epoch 62/150:   0%|          | 0/451 [00:00<?, ?batch/s]"
      ],
      "application/vnd.jupyter.widget-view+json": {
       "version_major": 2,
       "version_minor": 0,
       "model_id": "886b18b7e40044cfa770cde788c4753f"
      }
     },
     "metadata": {},
     "output_type": "display_data"
    },
    {
     "name": "stdout",
     "output_type": "stream",
     "text": [
      "- Epoch 62: Avg AE Loss = -0.0170, Avg Critic Loss = 0.0001, Val Loss = 0.0000\n"
     ]
    },
    {
     "data": {
      "text/plain": [
       "Epoch 63/150:   0%|          | 0/451 [00:00<?, ?batch/s]"
      ],
      "application/vnd.jupyter.widget-view+json": {
       "version_major": 2,
       "version_minor": 0,
       "model_id": "86af8255d7f54856938da9cf0d93aabf"
      }
     },
     "metadata": {},
     "output_type": "display_data"
    },
    {
     "name": "stdout",
     "output_type": "stream",
     "text": [
      "- Epoch 63: Avg AE Loss = -0.0170, Avg Critic Loss = 0.0001, Val Loss = 0.0000\n"
     ]
    },
    {
     "data": {
      "text/plain": [
       "Epoch 64/150:   0%|          | 0/451 [00:00<?, ?batch/s]"
      ],
      "application/vnd.jupyter.widget-view+json": {
       "version_major": 2,
       "version_minor": 0,
       "model_id": "df051d069ae846a7994cc80ec83b9b56"
      }
     },
     "metadata": {},
     "output_type": "display_data"
    },
    {
     "name": "stdout",
     "output_type": "stream",
     "text": [
      "- Epoch 64: Avg AE Loss = -0.0169, Avg Critic Loss = 0.0001, Val Loss = 0.0000\n"
     ]
    },
    {
     "data": {
      "text/plain": [
       "Epoch 65/150:   0%|          | 0/451 [00:00<?, ?batch/s]"
      ],
      "application/vnd.jupyter.widget-view+json": {
       "version_major": 2,
       "version_minor": 0,
       "model_id": "9507e05a34ef437bb2a0bbc12ed5e4b8"
      }
     },
     "metadata": {},
     "output_type": "display_data"
    },
    {
     "name": "stdout",
     "output_type": "stream",
     "text": [
      "- Epoch 65: Avg AE Loss = -0.0169, Avg Critic Loss = 0.0001, Val Loss = 0.0000\n"
     ]
    },
    {
     "data": {
      "text/plain": [
       "Epoch 66/150:   0%|          | 0/451 [00:00<?, ?batch/s]"
      ],
      "application/vnd.jupyter.widget-view+json": {
       "version_major": 2,
       "version_minor": 0,
       "model_id": "7d69732114a64f6d967d09673075cbf1"
      }
     },
     "metadata": {},
     "output_type": "display_data"
    },
    {
     "name": "stdout",
     "output_type": "stream",
     "text": [
      "- Epoch 66: Avg AE Loss = -0.0168, Avg Critic Loss = 0.0001, Val Loss = 0.0000\n"
     ]
    },
    {
     "data": {
      "text/plain": [
       "Epoch 67/150:   0%|          | 0/451 [00:00<?, ?batch/s]"
      ],
      "application/vnd.jupyter.widget-view+json": {
       "version_major": 2,
       "version_minor": 0,
       "model_id": "05507929ef264edebd376a72d43375b0"
      }
     },
     "metadata": {},
     "output_type": "display_data"
    },
    {
     "name": "stdout",
     "output_type": "stream",
     "text": [
      "- Epoch 67: Avg AE Loss = -0.0166, Avg Critic Loss = 0.0001, Val Loss = 0.0000\n"
     ]
    },
    {
     "data": {
      "text/plain": [
       "Epoch 68/150:   0%|          | 0/451 [00:00<?, ?batch/s]"
      ],
      "application/vnd.jupyter.widget-view+json": {
       "version_major": 2,
       "version_minor": 0,
       "model_id": "f2930f5731a44e0cbbf6146aca005017"
      }
     },
     "metadata": {},
     "output_type": "display_data"
    },
    {
     "name": "stdout",
     "output_type": "stream",
     "text": [
      "- Epoch 68: Avg AE Loss = -0.0166, Avg Critic Loss = 0.0001, Val Loss = 0.0000\n"
     ]
    },
    {
     "data": {
      "text/plain": [
       "Epoch 69/150:   0%|          | 0/451 [00:00<?, ?batch/s]"
      ],
      "application/vnd.jupyter.widget-view+json": {
       "version_major": 2,
       "version_minor": 0,
       "model_id": "283d9174888646f3bd47eacc90aed7df"
      }
     },
     "metadata": {},
     "output_type": "display_data"
    },
    {
     "name": "stdout",
     "output_type": "stream",
     "text": [
      "- Epoch 69: Avg AE Loss = -0.0166, Avg Critic Loss = 0.0001, Val Loss = 0.0000\n"
     ]
    },
    {
     "data": {
      "text/plain": [
       "Epoch 70/150:   0%|          | 0/451 [00:00<?, ?batch/s]"
      ],
      "application/vnd.jupyter.widget-view+json": {
       "version_major": 2,
       "version_minor": 0,
       "model_id": "58d8f2a874c245f19b8706aba01eeff2"
      }
     },
     "metadata": {},
     "output_type": "display_data"
    },
    {
     "name": "stdout",
     "output_type": "stream",
     "text": [
      "- Epoch 70: Avg AE Loss = -0.0167, Avg Critic Loss = 0.0001, Val Loss = 0.0000\n"
     ]
    },
    {
     "data": {
      "text/plain": [
       "Epoch 71/150:   0%|          | 0/451 [00:00<?, ?batch/s]"
      ],
      "application/vnd.jupyter.widget-view+json": {
       "version_major": 2,
       "version_minor": 0,
       "model_id": "1ab91179553b4832980342eeccb0ea50"
      }
     },
     "metadata": {},
     "output_type": "display_data"
    },
    {
     "name": "stdout",
     "output_type": "stream",
     "text": [
      "- Epoch 71: Avg AE Loss = -0.0165, Avg Critic Loss = 0.0001, Val Loss = 0.0000\n"
     ]
    },
    {
     "data": {
      "text/plain": [
       "Epoch 72/150:   0%|          | 0/451 [00:00<?, ?batch/s]"
      ],
      "application/vnd.jupyter.widget-view+json": {
       "version_major": 2,
       "version_minor": 0,
       "model_id": "eae213f5f2c54f21964b06bad55cc96e"
      }
     },
     "metadata": {},
     "output_type": "display_data"
    },
    {
     "name": "stdout",
     "output_type": "stream",
     "text": [
      "- Epoch 72: Avg AE Loss = -0.0164, Avg Critic Loss = 0.0001, Val Loss = 0.0000\n"
     ]
    },
    {
     "data": {
      "text/plain": [
       "Epoch 73/150:   0%|          | 0/451 [00:00<?, ?batch/s]"
      ],
      "application/vnd.jupyter.widget-view+json": {
       "version_major": 2,
       "version_minor": 0,
       "model_id": "c4bb6c84d0594d38974bbed49149823b"
      }
     },
     "metadata": {},
     "output_type": "display_data"
    },
    {
     "name": "stdout",
     "output_type": "stream",
     "text": [
      "- Epoch 73: Avg AE Loss = -0.0164, Avg Critic Loss = 0.0001, Val Loss = 0.0000\n"
     ]
    },
    {
     "data": {
      "text/plain": [
       "Epoch 74/150:   0%|          | 0/451 [00:00<?, ?batch/s]"
      ],
      "application/vnd.jupyter.widget-view+json": {
       "version_major": 2,
       "version_minor": 0,
       "model_id": "58b40e26b9cf4b05809c9c24278856a1"
      }
     },
     "metadata": {},
     "output_type": "display_data"
    },
    {
     "name": "stdout",
     "output_type": "stream",
     "text": [
      "- Epoch 74: Avg AE Loss = -0.0163, Avg Critic Loss = 0.0001, Val Loss = 0.0000\n"
     ]
    },
    {
     "data": {
      "text/plain": [
       "Epoch 75/150:   0%|          | 0/451 [00:00<?, ?batch/s]"
      ],
      "application/vnd.jupyter.widget-view+json": {
       "version_major": 2,
       "version_minor": 0,
       "model_id": "4719c0c7b8ce487b9df98c9209632733"
      }
     },
     "metadata": {},
     "output_type": "display_data"
    },
    {
     "name": "stdout",
     "output_type": "stream",
     "text": [
      "- Epoch 75: Avg AE Loss = -0.0164, Avg Critic Loss = 0.0001, Val Loss = 0.0000\n"
     ]
    },
    {
     "data": {
      "text/plain": [
       "Epoch 76/150:   0%|          | 0/451 [00:00<?, ?batch/s]"
      ],
      "application/vnd.jupyter.widget-view+json": {
       "version_major": 2,
       "version_minor": 0,
       "model_id": "988b40e64b014f529599e8f2531a62a7"
      }
     },
     "metadata": {},
     "output_type": "display_data"
    },
    {
     "name": "stdout",
     "output_type": "stream",
     "text": [
      "- Epoch 76: Avg AE Loss = -0.0162, Avg Critic Loss = 0.0001, Val Loss = 0.0000\n"
     ]
    },
    {
     "data": {
      "text/plain": [
       "Epoch 77/150:   0%|          | 0/451 [00:00<?, ?batch/s]"
      ],
      "application/vnd.jupyter.widget-view+json": {
       "version_major": 2,
       "version_minor": 0,
       "model_id": "65bc11b2a4204981bde0eb59448d9887"
      }
     },
     "metadata": {},
     "output_type": "display_data"
    },
    {
     "name": "stdout",
     "output_type": "stream",
     "text": [
      "- Epoch 77: Avg AE Loss = -0.0162, Avg Critic Loss = 0.0001, Val Loss = 0.0000\n"
     ]
    },
    {
     "data": {
      "text/plain": [
       "Epoch 78/150:   0%|          | 0/451 [00:00<?, ?batch/s]"
      ],
      "application/vnd.jupyter.widget-view+json": {
       "version_major": 2,
       "version_minor": 0,
       "model_id": "28aefe6cb1b34988a9f2f1ede5ce71df"
      }
     },
     "metadata": {},
     "output_type": "display_data"
    },
    {
     "name": "stdout",
     "output_type": "stream",
     "text": [
      "- Epoch 78: Avg AE Loss = -0.0162, Avg Critic Loss = 0.0001, Val Loss = 0.0000\n"
     ]
    },
    {
     "data": {
      "text/plain": [
       "Epoch 79/150:   0%|          | 0/451 [00:00<?, ?batch/s]"
      ],
      "application/vnd.jupyter.widget-view+json": {
       "version_major": 2,
       "version_minor": 0,
       "model_id": "fbdf665f695a4e48b65ff860534b3ffb"
      }
     },
     "metadata": {},
     "output_type": "display_data"
    },
    {
     "name": "stdout",
     "output_type": "stream",
     "text": [
      "- Epoch 79: Avg AE Loss = -0.0162, Avg Critic Loss = 0.0001, Val Loss = 0.0000\n"
     ]
    },
    {
     "data": {
      "text/plain": [
       "Epoch 80/150:   0%|          | 0/451 [00:00<?, ?batch/s]"
      ],
      "application/vnd.jupyter.widget-view+json": {
       "version_major": 2,
       "version_minor": 0,
       "model_id": "d37e22949a5c4fc087890dd0dc6b8c6e"
      }
     },
     "metadata": {},
     "output_type": "display_data"
    },
    {
     "name": "stdout",
     "output_type": "stream",
     "text": [
      "- Epoch 80: Avg AE Loss = -0.0161, Avg Critic Loss = 0.0001, Val Loss = 0.0000\n"
     ]
    },
    {
     "data": {
      "text/plain": [
       "Epoch 81/150:   0%|          | 0/451 [00:00<?, ?batch/s]"
      ],
      "application/vnd.jupyter.widget-view+json": {
       "version_major": 2,
       "version_minor": 0,
       "model_id": "c647f3d320df4ba2aac54db2c4a48bd3"
      }
     },
     "metadata": {},
     "output_type": "display_data"
    },
    {
     "name": "stdout",
     "output_type": "stream",
     "text": [
      "- Epoch 81: Avg AE Loss = -0.0161, Avg Critic Loss = 0.0001, Val Loss = 0.0000\n"
     ]
    },
    {
     "data": {
      "text/plain": [
       "Epoch 82/150:   0%|          | 0/451 [00:00<?, ?batch/s]"
      ],
      "application/vnd.jupyter.widget-view+json": {
       "version_major": 2,
       "version_minor": 0,
       "model_id": "3628bde5e275487db5c23f98380cf014"
      }
     },
     "metadata": {},
     "output_type": "display_data"
    },
    {
     "name": "stdout",
     "output_type": "stream",
     "text": [
      "- Epoch 82: Avg AE Loss = -0.0162, Avg Critic Loss = 0.0001, Val Loss = 0.0000\n"
     ]
    },
    {
     "data": {
      "text/plain": [
       "Epoch 83/150:   0%|          | 0/451 [00:00<?, ?batch/s]"
      ],
      "application/vnd.jupyter.widget-view+json": {
       "version_major": 2,
       "version_minor": 0,
       "model_id": "e0f091dbfdd541ad843afd4b2caa0456"
      }
     },
     "metadata": {},
     "output_type": "display_data"
    },
    {
     "name": "stdout",
     "output_type": "stream",
     "text": [
      "- Epoch 83: Avg AE Loss = -0.0161, Avg Critic Loss = 0.0001, Val Loss = 0.0000\n"
     ]
    },
    {
     "data": {
      "text/plain": [
       "Epoch 84/150:   0%|          | 0/451 [00:00<?, ?batch/s]"
      ],
      "application/vnd.jupyter.widget-view+json": {
       "version_major": 2,
       "version_minor": 0,
       "model_id": "32dc5573e84d4c0cac3f367ca37647a6"
      }
     },
     "metadata": {},
     "output_type": "display_data"
    },
    {
     "name": "stdout",
     "output_type": "stream",
     "text": [
      "- Epoch 84: Avg AE Loss = -0.0162, Avg Critic Loss = 0.0001, Val Loss = 0.0000\n"
     ]
    },
    {
     "data": {
      "text/plain": [
       "Epoch 85/150:   0%|          | 0/451 [00:00<?, ?batch/s]"
      ],
      "application/vnd.jupyter.widget-view+json": {
       "version_major": 2,
       "version_minor": 0,
       "model_id": "f05825e650104b379ae45d29eb7261bf"
      }
     },
     "metadata": {},
     "output_type": "display_data"
    },
    {
     "name": "stdout",
     "output_type": "stream",
     "text": [
      "- Epoch 85: Avg AE Loss = -0.0161, Avg Critic Loss = 0.0001, Val Loss = 0.0000\n"
     ]
    },
    {
     "data": {
      "text/plain": [
       "Epoch 86/150:   0%|          | 0/451 [00:00<?, ?batch/s]"
      ],
      "application/vnd.jupyter.widget-view+json": {
       "version_major": 2,
       "version_minor": 0,
       "model_id": "916aa0a54bb04954a7225b3649f527f6"
      }
     },
     "metadata": {},
     "output_type": "display_data"
    },
    {
     "name": "stdout",
     "output_type": "stream",
     "text": [
      "- Epoch 86: Avg AE Loss = -0.0161, Avg Critic Loss = 0.0001, Val Loss = 0.0000\n"
     ]
    },
    {
     "data": {
      "text/plain": [
       "Epoch 87/150:   0%|          | 0/451 [00:00<?, ?batch/s]"
      ],
      "application/vnd.jupyter.widget-view+json": {
       "version_major": 2,
       "version_minor": 0,
       "model_id": "1f25abd185dc42db81447452c061f70b"
      }
     },
     "metadata": {},
     "output_type": "display_data"
    },
    {
     "name": "stdout",
     "output_type": "stream",
     "text": [
      "- Epoch 87: Avg AE Loss = -0.0161, Avg Critic Loss = 0.0001, Val Loss = 0.0000\n"
     ]
    },
    {
     "data": {
      "text/plain": [
       "Epoch 88/150:   0%|          | 0/451 [00:00<?, ?batch/s]"
      ],
      "application/vnd.jupyter.widget-view+json": {
       "version_major": 2,
       "version_minor": 0,
       "model_id": "e24bf5c3090e4da2b778e8e84c4bbf9f"
      }
     },
     "metadata": {},
     "output_type": "display_data"
    },
    {
     "name": "stdout",
     "output_type": "stream",
     "text": [
      "- Epoch 88: Avg AE Loss = -0.0162, Avg Critic Loss = 0.0001, Val Loss = 0.0000\n"
     ]
    },
    {
     "data": {
      "text/plain": [
       "Epoch 89/150:   0%|          | 0/451 [00:00<?, ?batch/s]"
      ],
      "application/vnd.jupyter.widget-view+json": {
       "version_major": 2,
       "version_minor": 0,
       "model_id": "af5dfb42832b476aaf9bdc5a0b66ce7f"
      }
     },
     "metadata": {},
     "output_type": "display_data"
    },
    {
     "name": "stdout",
     "output_type": "stream",
     "text": [
      "- Epoch 89: Avg AE Loss = -0.0163, Avg Critic Loss = 0.0001, Val Loss = 0.0000\n"
     ]
    },
    {
     "data": {
      "text/plain": [
       "Epoch 90/150:   0%|          | 0/451 [00:00<?, ?batch/s]"
      ],
      "application/vnd.jupyter.widget-view+json": {
       "version_major": 2,
       "version_minor": 0,
       "model_id": "540432a45e9a4cae8159becf40179cdb"
      }
     },
     "metadata": {},
     "output_type": "display_data"
    },
    {
     "name": "stdout",
     "output_type": "stream",
     "text": [
      "- Epoch 90: Avg AE Loss = -0.0162, Avg Critic Loss = 0.0001, Val Loss = 0.0000\n"
     ]
    },
    {
     "data": {
      "text/plain": [
       "Epoch 91/150:   0%|          | 0/451 [00:00<?, ?batch/s]"
      ],
      "application/vnd.jupyter.widget-view+json": {
       "version_major": 2,
       "version_minor": 0,
       "model_id": "197c44c2d5684f49b0daa5a1bfd15d09"
      }
     },
     "metadata": {},
     "output_type": "display_data"
    },
    {
     "name": "stdout",
     "output_type": "stream",
     "text": [
      "- Epoch 91: Avg AE Loss = -0.0161, Avg Critic Loss = 0.0001, Val Loss = 0.0000\n"
     ]
    },
    {
     "data": {
      "text/plain": [
       "Epoch 92/150:   0%|          | 0/451 [00:00<?, ?batch/s]"
      ],
      "application/vnd.jupyter.widget-view+json": {
       "version_major": 2,
       "version_minor": 0,
       "model_id": "4370afc93b7a4af998aa3066b8414e63"
      }
     },
     "metadata": {},
     "output_type": "display_data"
    },
    {
     "name": "stdout",
     "output_type": "stream",
     "text": [
      "- Epoch 92: Avg AE Loss = -0.0161, Avg Critic Loss = 0.0001, Val Loss = 0.0000\n"
     ]
    },
    {
     "data": {
      "text/plain": [
       "Epoch 93/150:   0%|          | 0/451 [00:00<?, ?batch/s]"
      ],
      "application/vnd.jupyter.widget-view+json": {
       "version_major": 2,
       "version_minor": 0,
       "model_id": "9a9025c5fc7644528b4695cf7f424a22"
      }
     },
     "metadata": {},
     "output_type": "display_data"
    },
    {
     "name": "stdout",
     "output_type": "stream",
     "text": [
      "- Epoch 93: Avg AE Loss = -0.0162, Avg Critic Loss = 0.0001, Val Loss = 0.0000\n"
     ]
    },
    {
     "data": {
      "text/plain": [
       "Epoch 94/150:   0%|          | 0/451 [00:00<?, ?batch/s]"
      ],
      "application/vnd.jupyter.widget-view+json": {
       "version_major": 2,
       "version_minor": 0,
       "model_id": "3990c7975ec241368afd5f657acbbfec"
      }
     },
     "metadata": {},
     "output_type": "display_data"
    },
    {
     "name": "stdout",
     "output_type": "stream",
     "text": [
      "- Epoch 94: Avg AE Loss = -0.0162, Avg Critic Loss = 0.0001, Val Loss = 0.0000\n"
     ]
    },
    {
     "data": {
      "text/plain": [
       "Epoch 95/150:   0%|          | 0/451 [00:00<?, ?batch/s]"
      ],
      "application/vnd.jupyter.widget-view+json": {
       "version_major": 2,
       "version_minor": 0,
       "model_id": "3d7cc3f831084e74b31e37b6efa684ac"
      }
     },
     "metadata": {},
     "output_type": "display_data"
    },
    {
     "name": "stdout",
     "output_type": "stream",
     "text": [
      "- Epoch 95: Avg AE Loss = -0.0163, Avg Critic Loss = 0.0001, Val Loss = 0.0000\n"
     ]
    },
    {
     "data": {
      "text/plain": [
       "Epoch 96/150:   0%|          | 0/451 [00:00<?, ?batch/s]"
      ],
      "application/vnd.jupyter.widget-view+json": {
       "version_major": 2,
       "version_minor": 0,
       "model_id": "7a9c3e5a41d94322ae2ebae6719070c1"
      }
     },
     "metadata": {},
     "output_type": "display_data"
    },
    {
     "name": "stdout",
     "output_type": "stream",
     "text": [
      "- Epoch 96: Avg AE Loss = -0.0162, Avg Critic Loss = 0.0001, Val Loss = 0.0000\n"
     ]
    },
    {
     "data": {
      "text/plain": [
       "Epoch 97/150:   0%|          | 0/451 [00:00<?, ?batch/s]"
      ],
      "application/vnd.jupyter.widget-view+json": {
       "version_major": 2,
       "version_minor": 0,
       "model_id": "e91c1e8642904595aa78173d3460d440"
      }
     },
     "metadata": {},
     "output_type": "display_data"
    },
    {
     "name": "stdout",
     "output_type": "stream",
     "text": [
      "- Epoch 97: Avg AE Loss = -0.0162, Avg Critic Loss = 0.0001, Val Loss = 0.0000\n"
     ]
    },
    {
     "data": {
      "text/plain": [
       "Epoch 98/150:   0%|          | 0/451 [00:00<?, ?batch/s]"
      ],
      "application/vnd.jupyter.widget-view+json": {
       "version_major": 2,
       "version_minor": 0,
       "model_id": "8a62ef312bbb49bc8dd41f7de9c30ed7"
      }
     },
     "metadata": {},
     "output_type": "display_data"
    },
    {
     "name": "stdout",
     "output_type": "stream",
     "text": [
      "- Epoch 98: Avg AE Loss = -0.0163, Avg Critic Loss = 0.0001, Val Loss = 0.0000\n"
     ]
    },
    {
     "data": {
      "text/plain": [
       "Epoch 99/150:   0%|          | 0/451 [00:00<?, ?batch/s]"
      ],
      "application/vnd.jupyter.widget-view+json": {
       "version_major": 2,
       "version_minor": 0,
       "model_id": "70b7ec04d1444e32a9667b0b9a06bd1a"
      }
     },
     "metadata": {},
     "output_type": "display_data"
    },
    {
     "name": "stdout",
     "output_type": "stream",
     "text": [
      "- Epoch 99: Avg AE Loss = -0.0162, Avg Critic Loss = 0.0001, Val Loss = 0.0000\n"
     ]
    },
    {
     "data": {
      "text/plain": [
       "Epoch 100/150:   0%|          | 0/451 [00:00<?, ?batch/s]"
      ],
      "application/vnd.jupyter.widget-view+json": {
       "version_major": 2,
       "version_minor": 0,
       "model_id": "89965438a8c84a489e15ea1de60ccbdf"
      }
     },
     "metadata": {},
     "output_type": "display_data"
    },
    {
     "name": "stdout",
     "output_type": "stream",
     "text": [
      "- Epoch 100: Avg AE Loss = -0.0162, Avg Critic Loss = 0.0001, Val Loss = 0.0000\n"
     ]
    },
    {
     "data": {
      "text/plain": [
       "Epoch 101/150:   0%|          | 0/451 [00:00<?, ?batch/s]"
      ],
      "application/vnd.jupyter.widget-view+json": {
       "version_major": 2,
       "version_minor": 0,
       "model_id": "645a33beb8b0461abd4636c9448c5bca"
      }
     },
     "metadata": {},
     "output_type": "display_data"
    },
    {
     "name": "stdout",
     "output_type": "stream",
     "text": [
      "- Epoch 101: Avg AE Loss = -0.0162, Avg Critic Loss = 0.0000, Val Loss = 0.0000\n"
     ]
    },
    {
     "data": {
      "text/plain": [
       "Epoch 102/150:   0%|          | 0/451 [00:00<?, ?batch/s]"
      ],
      "application/vnd.jupyter.widget-view+json": {
       "version_major": 2,
       "version_minor": 0,
       "model_id": "96949231cc0b4c62b1bdd9402e4c79ef"
      }
     },
     "metadata": {},
     "output_type": "display_data"
    },
    {
     "name": "stdout",
     "output_type": "stream",
     "text": [
      "- Epoch 102: Avg AE Loss = -0.0162, Avg Critic Loss = 0.0000, Val Loss = 0.0000\n"
     ]
    },
    {
     "data": {
      "text/plain": [
       "Epoch 103/150:   0%|          | 0/451 [00:00<?, ?batch/s]"
      ],
      "application/vnd.jupyter.widget-view+json": {
       "version_major": 2,
       "version_minor": 0,
       "model_id": "467b59f2a0b047cb987850a1b0004e85"
      }
     },
     "metadata": {},
     "output_type": "display_data"
    },
    {
     "name": "stdout",
     "output_type": "stream",
     "text": [
      "- Epoch 103: Avg AE Loss = -0.0162, Avg Critic Loss = 0.0000, Val Loss = 0.0000\n"
     ]
    },
    {
     "data": {
      "text/plain": [
       "Epoch 104/150:   0%|          | 0/451 [00:00<?, ?batch/s]"
      ],
      "application/vnd.jupyter.widget-view+json": {
       "version_major": 2,
       "version_minor": 0,
       "model_id": "afccaf2192044271ab61bbce665f60c0"
      }
     },
     "metadata": {},
     "output_type": "display_data"
    },
    {
     "name": "stdout",
     "output_type": "stream",
     "text": [
      "- Epoch 104: Avg AE Loss = -0.0162, Avg Critic Loss = 0.0000, Val Loss = 0.0000\n"
     ]
    },
    {
     "data": {
      "text/plain": [
       "Epoch 105/150:   0%|          | 0/451 [00:00<?, ?batch/s]"
      ],
      "application/vnd.jupyter.widget-view+json": {
       "version_major": 2,
       "version_minor": 0,
       "model_id": "818346e28ea947209f2b993c87c861f9"
      }
     },
     "metadata": {},
     "output_type": "display_data"
    },
    {
     "name": "stdout",
     "output_type": "stream",
     "text": [
      "- Epoch 105: Avg AE Loss = -0.0161, Avg Critic Loss = 0.0000, Val Loss = 0.0000\n"
     ]
    },
    {
     "data": {
      "text/plain": [
       "Epoch 106/150:   0%|          | 0/451 [00:00<?, ?batch/s]"
      ],
      "application/vnd.jupyter.widget-view+json": {
       "version_major": 2,
       "version_minor": 0,
       "model_id": "cee375dbbb37413b96f200af56cf9f79"
      }
     },
     "metadata": {},
     "output_type": "display_data"
    },
    {
     "name": "stdout",
     "output_type": "stream",
     "text": [
      "- Epoch 106: Avg AE Loss = -0.0162, Avg Critic Loss = 0.0000, Val Loss = 0.0000\n"
     ]
    },
    {
     "data": {
      "text/plain": [
       "Epoch 107/150:   0%|          | 0/451 [00:00<?, ?batch/s]"
      ],
      "application/vnd.jupyter.widget-view+json": {
       "version_major": 2,
       "version_minor": 0,
       "model_id": "42c3ce28fd8d48ae949dea81b41d0666"
      }
     },
     "metadata": {},
     "output_type": "display_data"
    },
    {
     "name": "stdout",
     "output_type": "stream",
     "text": [
      "- Epoch 107: Avg AE Loss = -0.0163, Avg Critic Loss = 0.0000, Val Loss = 0.0000\n"
     ]
    },
    {
     "data": {
      "text/plain": [
       "Epoch 108/150:   0%|          | 0/451 [00:00<?, ?batch/s]"
      ],
      "application/vnd.jupyter.widget-view+json": {
       "version_major": 2,
       "version_minor": 0,
       "model_id": "94483c558704463da7b758181266b962"
      }
     },
     "metadata": {},
     "output_type": "display_data"
    },
    {
     "name": "stdout",
     "output_type": "stream",
     "text": [
      "- Epoch 108: Avg AE Loss = -0.0163, Avg Critic Loss = 0.0000, Val Loss = 0.0000\n"
     ]
    },
    {
     "data": {
      "text/plain": [
       "Epoch 109/150:   0%|          | 0/451 [00:00<?, ?batch/s]"
      ],
      "application/vnd.jupyter.widget-view+json": {
       "version_major": 2,
       "version_minor": 0,
       "model_id": "967deb4bbc3d41a1acb2591ee2228ec4"
      }
     },
     "metadata": {},
     "output_type": "display_data"
    },
    {
     "name": "stdout",
     "output_type": "stream",
     "text": [
      "- Epoch 109: Avg AE Loss = -0.0163, Avg Critic Loss = 0.0000, Val Loss = 0.0000\n"
     ]
    },
    {
     "data": {
      "text/plain": [
       "Epoch 110/150:   0%|          | 0/451 [00:00<?, ?batch/s]"
      ],
      "application/vnd.jupyter.widget-view+json": {
       "version_major": 2,
       "version_minor": 0,
       "model_id": "003bf1d6311348b9afc9d8060eee1121"
      }
     },
     "metadata": {},
     "output_type": "display_data"
    },
    {
     "name": "stdout",
     "output_type": "stream",
     "text": [
      "- Epoch 110: Avg AE Loss = -0.0163, Avg Critic Loss = 0.0000, Val Loss = 0.0000\n"
     ]
    },
    {
     "data": {
      "text/plain": [
       "Epoch 111/150:   0%|          | 0/451 [00:00<?, ?batch/s]"
      ],
      "application/vnd.jupyter.widget-view+json": {
       "version_major": 2,
       "version_minor": 0,
       "model_id": "50f02268d6c34061894e174b09fae596"
      }
     },
     "metadata": {},
     "output_type": "display_data"
    },
    {
     "name": "stdout",
     "output_type": "stream",
     "text": [
      "- Epoch 111: Avg AE Loss = -0.0163, Avg Critic Loss = 0.0000, Val Loss = 0.0000\n"
     ]
    },
    {
     "data": {
      "text/plain": [
       "Epoch 112/150:   0%|          | 0/451 [00:00<?, ?batch/s]"
      ],
      "application/vnd.jupyter.widget-view+json": {
       "version_major": 2,
       "version_minor": 0,
       "model_id": "e2406a912ffd479e87ffbe2e02949145"
      }
     },
     "metadata": {},
     "output_type": "display_data"
    },
    {
     "name": "stdout",
     "output_type": "stream",
     "text": [
      "- Epoch 112: Avg AE Loss = -0.0163, Avg Critic Loss = 0.0000, Val Loss = 0.0000\n"
     ]
    },
    {
     "data": {
      "text/plain": [
       "Epoch 113/150:   0%|          | 0/451 [00:00<?, ?batch/s]"
      ],
      "application/vnd.jupyter.widget-view+json": {
       "version_major": 2,
       "version_minor": 0,
       "model_id": "5219793c90af4f6582c2cea991cf07d2"
      }
     },
     "metadata": {},
     "output_type": "display_data"
    },
    {
     "name": "stdout",
     "output_type": "stream",
     "text": [
      "- Epoch 113: Avg AE Loss = -0.0163, Avg Critic Loss = 0.0000, Val Loss = 0.0000\n"
     ]
    },
    {
     "data": {
      "text/plain": [
       "Epoch 114/150:   0%|          | 0/451 [00:00<?, ?batch/s]"
      ],
      "application/vnd.jupyter.widget-view+json": {
       "version_major": 2,
       "version_minor": 0,
       "model_id": "1c567a626dd9497481775b8de11aa796"
      }
     },
     "metadata": {},
     "output_type": "display_data"
    },
    {
     "name": "stdout",
     "output_type": "stream",
     "text": [
      "- Epoch 114: Avg AE Loss = -0.0163, Avg Critic Loss = 0.0000, Val Loss = 0.0000\n"
     ]
    },
    {
     "data": {
      "text/plain": [
       "Epoch 115/150:   0%|          | 0/451 [00:00<?, ?batch/s]"
      ],
      "application/vnd.jupyter.widget-view+json": {
       "version_major": 2,
       "version_minor": 0,
       "model_id": "1772c6eb5c0243e5a975338ee75ba463"
      }
     },
     "metadata": {},
     "output_type": "display_data"
    },
    {
     "name": "stdout",
     "output_type": "stream",
     "text": [
      "- Epoch 115: Avg AE Loss = -0.0163, Avg Critic Loss = 0.0000, Val Loss = 0.0000\n"
     ]
    },
    {
     "data": {
      "text/plain": [
       "Epoch 116/150:   0%|          | 0/451 [00:00<?, ?batch/s]"
      ],
      "application/vnd.jupyter.widget-view+json": {
       "version_major": 2,
       "version_minor": 0,
       "model_id": "2e7929423a2d4017ab2090101dbbf945"
      }
     },
     "metadata": {},
     "output_type": "display_data"
    },
    {
     "name": "stdout",
     "output_type": "stream",
     "text": [
      "- Epoch 116: Avg AE Loss = -0.0163, Avg Critic Loss = 0.0000, Val Loss = 0.0000\n"
     ]
    },
    {
     "data": {
      "text/plain": [
       "Epoch 117/150:   0%|          | 0/451 [00:00<?, ?batch/s]"
      ],
      "application/vnd.jupyter.widget-view+json": {
       "version_major": 2,
       "version_minor": 0,
       "model_id": "06c77bed353c42d4aa99e4dbcec5106a"
      }
     },
     "metadata": {},
     "output_type": "display_data"
    },
    {
     "name": "stdout",
     "output_type": "stream",
     "text": [
      "- Epoch 117: Avg AE Loss = -0.0163, Avg Critic Loss = 0.0000, Val Loss = 0.0000\n"
     ]
    },
    {
     "data": {
      "text/plain": [
       "Epoch 118/150:   0%|          | 0/451 [00:00<?, ?batch/s]"
      ],
      "application/vnd.jupyter.widget-view+json": {
       "version_major": 2,
       "version_minor": 0,
       "model_id": "f7987ab442434ff78b59bc5aa9aa6169"
      }
     },
     "metadata": {},
     "output_type": "display_data"
    },
    {
     "name": "stdout",
     "output_type": "stream",
     "text": [
      "- Epoch 118: Avg AE Loss = -0.0162, Avg Critic Loss = 0.0000, Val Loss = 0.0000\n"
     ]
    },
    {
     "data": {
      "text/plain": [
       "Epoch 119/150:   0%|          | 0/451 [00:00<?, ?batch/s]"
      ],
      "application/vnd.jupyter.widget-view+json": {
       "version_major": 2,
       "version_minor": 0,
       "model_id": "82495aedf6734ccca47819abf52ff821"
      }
     },
     "metadata": {},
     "output_type": "display_data"
    },
    {
     "name": "stdout",
     "output_type": "stream",
     "text": [
      "- Epoch 119: Avg AE Loss = -0.0162, Avg Critic Loss = 0.0000, Val Loss = 0.0000\n"
     ]
    },
    {
     "data": {
      "text/plain": [
       "Epoch 120/150:   0%|          | 0/451 [00:00<?, ?batch/s]"
      ],
      "application/vnd.jupyter.widget-view+json": {
       "version_major": 2,
       "version_minor": 0,
       "model_id": "299ea57825dc4d4a92cc91a159d41d69"
      }
     },
     "metadata": {},
     "output_type": "display_data"
    },
    {
     "name": "stdout",
     "output_type": "stream",
     "text": [
      "- Epoch 120: Avg AE Loss = -0.0162, Avg Critic Loss = 0.0000, Val Loss = 0.0000\n"
     ]
    },
    {
     "data": {
      "text/plain": [
       "Epoch 121/150:   0%|          | 0/451 [00:00<?, ?batch/s]"
      ],
      "application/vnd.jupyter.widget-view+json": {
       "version_major": 2,
       "version_minor": 0,
       "model_id": "5da6e2f1007a43409b8ee47b369153c1"
      }
     },
     "metadata": {},
     "output_type": "display_data"
    },
    {
     "name": "stdout",
     "output_type": "stream",
     "text": [
      "- Epoch 121: Avg AE Loss = -0.0163, Avg Critic Loss = 0.0000, Val Loss = 0.0000\n"
     ]
    },
    {
     "data": {
      "text/plain": [
       "Epoch 122/150:   0%|          | 0/451 [00:00<?, ?batch/s]"
      ],
      "application/vnd.jupyter.widget-view+json": {
       "version_major": 2,
       "version_minor": 0,
       "model_id": "7d2f275e16fb46fc9fcbebd94c263fd6"
      }
     },
     "metadata": {},
     "output_type": "display_data"
    },
    {
     "name": "stdout",
     "output_type": "stream",
     "text": [
      "- Epoch 122: Avg AE Loss = -0.0163, Avg Critic Loss = 0.0000, Val Loss = 0.0000\n",
      "Нет улучшения на валидации, early stopping.\n",
      "Обучение завершено.\n",
      "AUROC: 0.7347\n",
      "Лучший threshold: 0.0000\n",
      "Accuracy: 0.8375\n",
      "Precision: 0.9929\n",
      "Recall: 0.6821\n",
      "F1: 0.8086\n",
      "Матрица ошибок:\n",
      "TN: 15941.0000\n",
      "FP: 79.0000\n",
      "FN: 5163.0000\n",
      "TP: 11076.0000\n"
     ]
    },
    {
     "data": {
      "text/plain": [
       "<Figure size 1200x500 with 1 Axes>"
      ],
      "image/png": "[encoded data removed]"
     },
     "metadata": {},
     "output_type": "display_data"
    },
    {
     "data": {
      "text/plain": [
       "<Figure size 600x600 with 1 Axes>"
      ],
      "image/png": "[encoded data removed]"
     },
     "metadata": {},
     "output_type": "display_data"
    },
    {
     "data": {
      "text/plain": [
       "<Figure size 800x500 with 1 Axes>"
      ],
      "image/png": "[encoded data removed]"
     },
     "metadata": {},
     "output_type": "display_data"
    },
    {
     "name": "stdout",
     "output_type": "stream",
     "text": [
      "\n"
     ]
    }
   ],
   "execution_count": 16
  },
  {
   "metadata": {
    "ExecuteTime": {
     "end_time": "2025-03-31T20:10:21.608196Z",
     "start_time": "2025-03-31T18:21:44.289223Z"
    }
   },
   "cell_type": "code",
   "source": "train_attack_category('gamma')",
   "id": "fc75bf0deb411709",
   "outputs": [
    {
     "name": "stdout",
     "output_type": "stream",
     "text": [
      "\n",
      "< ---------- gamma ---------- >\n"
     ]
    },
    {
     "data": {
      "text/plain": [
       "Epoch 1/150:   0%|          | 0/445 [00:00<?, ?batch/s]"
      ],
      "application/vnd.jupyter.widget-view+json": {
       "version_major": 2,
       "version_minor": 0,
       "model_id": "ec5fc73872ad46c3a191f8731f9266fd"
      }
     },
     "metadata": {},
     "output_type": "display_data"
    },
    {
     "name": "stdout",
     "output_type": "stream",
     "text": [
      "- Epoch 1: Avg AE Loss = 0.2463, Avg Critic Loss = -6.3027, Val Loss = 0.1455\n"
     ]
    },
    {
     "data": {
      "text/plain": [
       "Epoch 2/150:   0%|          | 0/445 [00:00<?, ?batch/s]"
      ],
      "application/vnd.jupyter.widget-view+json": {
       "version_major": 2,
       "version_minor": 0,
       "model_id": "3a4bbbf0110c454ab569b73a2b8e1c06"
      }
     },
     "metadata": {},
     "output_type": "display_data"
    },
    {
     "name": "stdout",
     "output_type": "stream",
     "text": [
      "- Epoch 2: Avg AE Loss = 0.1322, Avg Critic Loss = -4.9763, Val Loss = 0.0673\n"
     ]
    },
    {
     "data": {
      "text/plain": [
       "Epoch 3/150:   0%|          | 0/445 [00:00<?, ?batch/s]"
      ],
      "application/vnd.jupyter.widget-view+json": {
       "version_major": 2,
       "version_minor": 0,
       "model_id": "7c2fa8928346467e9f8c36f725e7741f"
      }
     },
     "metadata": {},
     "output_type": "display_data"
    },
    {
     "name": "stdout",
     "output_type": "stream",
     "text": [
      "- Epoch 3: Avg AE Loss = 0.0684, Avg Critic Loss = -3.1414, Val Loss = 0.0293\n"
     ]
    },
    {
     "data": {
      "text/plain": [
       "Epoch 4/150:   0%|          | 0/445 [00:00<?, ?batch/s]"
      ],
      "application/vnd.jupyter.widget-view+json": {
       "version_major": 2,
       "version_minor": 0,
       "model_id": "8b85c67a706e42e28a1b3864193f4455"
      }
     },
     "metadata": {},
     "output_type": "display_data"
    },
    {
     "name": "stdout",
     "output_type": "stream",
     "text": [
      "- Epoch 4: Avg AE Loss = 0.0316, Avg Critic Loss = -1.7949, Val Loss = 0.0072\n"
     ]
    },
    {
     "data": {
      "text/plain": [
       "Epoch 5/150:   0%|          | 0/445 [00:00<?, ?batch/s]"
      ],
      "application/vnd.jupyter.widget-view+json": {
       "version_major": 2,
       "version_minor": 0,
       "model_id": "21c47c9e9c864a568f41f50b635f0148"
      }
     },
     "metadata": {},
     "output_type": "display_data"
    },
    {
     "name": "stdout",
     "output_type": "stream",
     "text": [
      "- Epoch 5: Avg AE Loss = 0.0050, Avg Critic Loss = -0.6289, Val Loss = 0.0006\n"
     ]
    },
    {
     "data": {
      "text/plain": [
       "Epoch 6/150:   0%|          | 0/445 [00:00<?, ?batch/s]"
      ],
      "application/vnd.jupyter.widget-view+json": {
       "version_major": 2,
       "version_minor": 0,
       "model_id": "12ade196d24a4a37842a396bbd1c687f"
      }
     },
     "metadata": {},
     "output_type": "display_data"
    },
    {
     "name": "stdout",
     "output_type": "stream",
     "text": [
      "- Epoch 6: Avg AE Loss = -0.0060, Avg Critic Loss = -0.2133, Val Loss = 0.0001\n"
     ]
    },
    {
     "data": {
      "text/plain": [
       "Epoch 7/150:   0%|          | 0/445 [00:00<?, ?batch/s]"
      ],
      "application/vnd.jupyter.widget-view+json": {
       "version_major": 2,
       "version_minor": 0,
       "model_id": "b3bf85da45dd4516b17a2fe0d2396a36"
      }
     },
     "metadata": {},
     "output_type": "display_data"
    },
    {
     "name": "stdout",
     "output_type": "stream",
     "text": [
      "- Epoch 7: Avg AE Loss = -0.0110, Avg Critic Loss = -0.0663, Val Loss = 0.0000\n"
     ]
    },
    {
     "data": {
      "text/plain": [
       "Epoch 8/150:   0%|          | 0/445 [00:00<?, ?batch/s]"
      ],
      "application/vnd.jupyter.widget-view+json": {
       "version_major": 2,
       "version_minor": 0,
       "model_id": "f0795679ff0545aea169dfbc5cc81875"
      }
     },
     "metadata": {},
     "output_type": "display_data"
    },
    {
     "name": "stdout",
     "output_type": "stream",
     "text": [
      "- Epoch 8: Avg AE Loss = -0.0139, Avg Critic Loss = -0.0160, Val Loss = 0.0000\n"
     ]
    },
    {
     "data": {
      "text/plain": [
       "Epoch 9/150:   0%|          | 0/445 [00:00<?, ?batch/s]"
      ],
      "application/vnd.jupyter.widget-view+json": {
       "version_major": 2,
       "version_minor": 0,
       "model_id": "29980e9a1a114be186330d7a4dd83754"
      }
     },
     "metadata": {},
     "output_type": "display_data"
    },
    {
     "name": "stdout",
     "output_type": "stream",
     "text": [
      "- Epoch 9: Avg AE Loss = -0.0163, Avg Critic Loss = -0.0020, Val Loss = 0.0000\n"
     ]
    },
    {
     "data": {
      "text/plain": [
       "Epoch 10/150:   0%|          | 0/445 [00:00<?, ?batch/s]"
      ],
      "application/vnd.jupyter.widget-view+json": {
       "version_major": 2,
       "version_minor": 0,
       "model_id": "3a32f35dae3c49839cd79a3e6759e0bf"
      }
     },
     "metadata": {},
     "output_type": "display_data"
    },
    {
     "name": "stdout",
     "output_type": "stream",
     "text": [
      "- Epoch 10: Avg AE Loss = -0.0178, Avg Critic Loss = 0.0008, Val Loss = 0.0000\n"
     ]
    },
    {
     "data": {
      "text/plain": [
       "Epoch 11/150:   0%|          | 0/445 [00:00<?, ?batch/s]"
      ],
      "application/vnd.jupyter.widget-view+json": {
       "version_major": 2,
       "version_minor": 0,
       "model_id": "33a1bfddcd084dcfb9efb7b609605217"
      }
     },
     "metadata": {},
     "output_type": "display_data"
    },
    {
     "name": "stdout",
     "output_type": "stream",
     "text": [
      "- Epoch 11: Avg AE Loss = -0.0189, Avg Critic Loss = 0.0010, Val Loss = 0.0000\n"
     ]
    },
    {
     "data": {
      "text/plain": [
       "Epoch 12/150:   0%|          | 0/445 [00:00<?, ?batch/s]"
      ],
      "application/vnd.jupyter.widget-view+json": {
       "version_major": 2,
       "version_minor": 0,
       "model_id": "5aaae4c9de0841d1b337cf7082b3eadb"
      }
     },
     "metadata": {},
     "output_type": "display_data"
    },
    {
     "name": "stdout",
     "output_type": "stream",
     "text": [
      "- Epoch 12: Avg AE Loss = -0.0188, Avg Critic Loss = 0.0009, Val Loss = 0.0000\n"
     ]
    },
    {
     "data": {
      "text/plain": [
       "Epoch 13/150:   0%|          | 0/445 [00:00<?, ?batch/s]"
      ],
      "application/vnd.jupyter.widget-view+json": {
       "version_major": 2,
       "version_minor": 0,
       "model_id": "ed9a75d3131744908f22ee1ed1fb02ab"
      }
     },
     "metadata": {},
     "output_type": "display_data"
    },
    {
     "name": "stdout",
     "output_type": "stream",
     "text": [
      "- Epoch 13: Avg AE Loss = -0.0188, Avg Critic Loss = 0.0008, Val Loss = 0.0000\n"
     ]
    },
    {
     "data": {
      "text/plain": [
       "Epoch 14/150:   0%|          | 0/445 [00:00<?, ?batch/s]"
      ],
      "application/vnd.jupyter.widget-view+json": {
       "version_major": 2,
       "version_minor": 0,
       "model_id": "49f7399eecdf45e2aa12e3160ab4ae32"
      }
     },
     "metadata": {},
     "output_type": "display_data"
    },
    {
     "name": "stdout",
     "output_type": "stream",
     "text": [
      "- Epoch 14: Avg AE Loss = -0.0185, Avg Critic Loss = 0.0007, Val Loss = 0.0000\n"
     ]
    },
    {
     "data": {
      "text/plain": [
       "Epoch 15/150:   0%|          | 0/445 [00:00<?, ?batch/s]"
      ],
      "application/vnd.jupyter.widget-view+json": {
       "version_major": 2,
       "version_minor": 0,
       "model_id": "edc57efc5bee4afea01b1c92eeb21870"
      }
     },
     "metadata": {},
     "output_type": "display_data"
    },
    {
     "name": "stdout",
     "output_type": "stream",
     "text": [
      "- Epoch 15: Avg AE Loss = -0.0183, Avg Critic Loss = 0.0006, Val Loss = 0.0000\n"
     ]
    },
    {
     "data": {
      "text/plain": [
       "Epoch 16/150:   0%|          | 0/445 [00:00<?, ?batch/s]"
      ],
      "application/vnd.jupyter.widget-view+json": {
       "version_major": 2,
       "version_minor": 0,
       "model_id": "61aedb37bf114d2880f0e55428cf0947"
      }
     },
     "metadata": {},
     "output_type": "display_data"
    },
    {
     "name": "stdout",
     "output_type": "stream",
     "text": [
      "- Epoch 16: Avg AE Loss = -0.0181, Avg Critic Loss = 0.0006, Val Loss = 0.0000\n"
     ]
    },
    {
     "data": {
      "text/plain": [
       "Epoch 17/150:   0%|          | 0/445 [00:00<?, ?batch/s]"
      ],
      "application/vnd.jupyter.widget-view+json": {
       "version_major": 2,
       "version_minor": 0,
       "model_id": "8c1967c21b514f2885babe4332582128"
      }
     },
     "metadata": {},
     "output_type": "display_data"
    },
    {
     "name": "stdout",
     "output_type": "stream",
     "text": [
      "- Epoch 17: Avg AE Loss = -0.0180, Avg Critic Loss = 0.0005, Val Loss = 0.0000\n"
     ]
    },
    {
     "data": {
      "text/plain": [
       "Epoch 18/150:   0%|          | 0/445 [00:00<?, ?batch/s]"
      ],
      "application/vnd.jupyter.widget-view+json": {
       "version_major": 2,
       "version_minor": 0,
       "model_id": "58f4b002d4704e9fa6d4ce1ec391a3ac"
      }
     },
     "metadata": {},
     "output_type": "display_data"
    },
    {
     "name": "stdout",
     "output_type": "stream",
     "text": [
      "- Epoch 18: Avg AE Loss = -0.0183, Avg Critic Loss = 0.0005, Val Loss = 0.0000\n"
     ]
    },
    {
     "data": {
      "text/plain": [
       "Epoch 19/150:   0%|          | 0/445 [00:00<?, ?batch/s]"
      ],
      "application/vnd.jupyter.widget-view+json": {
       "version_major": 2,
       "version_minor": 0,
       "model_id": "91710312a3754635b51230dc90317798"
      }
     },
     "metadata": {},
     "output_type": "display_data"
    },
    {
     "name": "stdout",
     "output_type": "stream",
     "text": [
      "- Epoch 19: Avg AE Loss = -0.0185, Avg Critic Loss = 0.0004, Val Loss = 0.0000\n"
     ]
    },
    {
     "data": {
      "text/plain": [
       "Epoch 20/150:   0%|          | 0/445 [00:00<?, ?batch/s]"
      ],
      "application/vnd.jupyter.widget-view+json": {
       "version_major": 2,
       "version_minor": 0,
       "model_id": "7c4975c3a14a427fa3266d69ea04f35b"
      }
     },
     "metadata": {},
     "output_type": "display_data"
    },
    {
     "name": "stdout",
     "output_type": "stream",
     "text": [
      "- Epoch 20: Avg AE Loss = -0.0188, Avg Critic Loss = 0.0004, Val Loss = 0.0000\n"
     ]
    },
    {
     "data": {
      "text/plain": [
       "Epoch 21/150:   0%|          | 0/445 [00:00<?, ?batch/s]"
      ],
      "application/vnd.jupyter.widget-view+json": {
       "version_major": 2,
       "version_minor": 0,
       "model_id": "bb0baa5537704064984612f5a394f0a9"
      }
     },
     "metadata": {},
     "output_type": "display_data"
    },
    {
     "name": "stdout",
     "output_type": "stream",
     "text": [
      "- Epoch 21: Avg AE Loss = -0.0193, Avg Critic Loss = 0.0004, Val Loss = 0.0000\n"
     ]
    },
    {
     "data": {
      "text/plain": [
       "Epoch 22/150:   0%|          | 0/445 [00:00<?, ?batch/s]"
      ],
      "application/vnd.jupyter.widget-view+json": {
       "version_major": 2,
       "version_minor": 0,
       "model_id": "e15ebb7e901242ae94799b57501431b4"
      }
     },
     "metadata": {},
     "output_type": "display_data"
    },
    {
     "name": "stdout",
     "output_type": "stream",
     "text": [
      "- Epoch 22: Avg AE Loss = -0.0198, Avg Critic Loss = 0.0004, Val Loss = 0.0000\n"
     ]
    },
    {
     "data": {
      "text/plain": [
       "Epoch 23/150:   0%|          | 0/445 [00:00<?, ?batch/s]"
      ],
      "application/vnd.jupyter.widget-view+json": {
       "version_major": 2,
       "version_minor": 0,
       "model_id": "bf16e5bf826a41329c89587021ab919c"
      }
     },
     "metadata": {},
     "output_type": "display_data"
    },
    {
     "name": "stdout",
     "output_type": "stream",
     "text": [
      "- Epoch 23: Avg AE Loss = -0.0201, Avg Critic Loss = 0.0003, Val Loss = 0.0000\n"
     ]
    },
    {
     "data": {
      "text/plain": [
       "Epoch 24/150:   0%|          | 0/445 [00:00<?, ?batch/s]"
      ],
      "application/vnd.jupyter.widget-view+json": {
       "version_major": 2,
       "version_minor": 0,
       "model_id": "035c2209ba9a44d5b50dc3080d15ec42"
      }
     },
     "metadata": {},
     "output_type": "display_data"
    },
    {
     "name": "stdout",
     "output_type": "stream",
     "text": [
      "- Epoch 24: Avg AE Loss = -0.0207, Avg Critic Loss = 0.0003, Val Loss = 0.0000\n"
     ]
    },
    {
     "data": {
      "text/plain": [
       "Epoch 25/150:   0%|          | 0/445 [00:00<?, ?batch/s]"
      ],
      "application/vnd.jupyter.widget-view+json": {
       "version_major": 2,
       "version_minor": 0,
       "model_id": "1032db61c6b2495faba57675c8eb61bc"
      }
     },
     "metadata": {},
     "output_type": "display_data"
    },
    {
     "name": "stdout",
     "output_type": "stream",
     "text": [
      "- Epoch 25: Avg AE Loss = -0.0211, Avg Critic Loss = 0.0003, Val Loss = 0.0000\n"
     ]
    },
    {
     "data": {
      "text/plain": [
       "Epoch 26/150:   0%|          | 0/445 [00:00<?, ?batch/s]"
      ],
      "application/vnd.jupyter.widget-view+json": {
       "version_major": 2,
       "version_minor": 0,
       "model_id": "2376583c3f0642e897fd30f006a67971"
      }
     },
     "metadata": {},
     "output_type": "display_data"
    },
    {
     "name": "stdout",
     "output_type": "stream",
     "text": [
      "- Epoch 26: Avg AE Loss = -0.0213, Avg Critic Loss = 0.0003, Val Loss = 0.0000\n"
     ]
    },
    {
     "data": {
      "text/plain": [
       "Epoch 27/150:   0%|          | 0/445 [00:00<?, ?batch/s]"
      ],
      "application/vnd.jupyter.widget-view+json": {
       "version_major": 2,
       "version_minor": 0,
       "model_id": "114761f576a14d88a13fe63507608858"
      }
     },
     "metadata": {},
     "output_type": "display_data"
    },
    {
     "name": "stdout",
     "output_type": "stream",
     "text": [
      "- Epoch 27: Avg AE Loss = -0.0216, Avg Critic Loss = 0.0003, Val Loss = 0.0000\n"
     ]
    },
    {
     "data": {
      "text/plain": [
       "Epoch 28/150:   0%|          | 0/445 [00:00<?, ?batch/s]"
      ],
      "application/vnd.jupyter.widget-view+json": {
       "version_major": 2,
       "version_minor": 0,
       "model_id": "30c9c54a7da34bee98764296d6ed324a"
      }
     },
     "metadata": {},
     "output_type": "display_data"
    },
    {
     "name": "stdout",
     "output_type": "stream",
     "text": [
      "- Epoch 28: Avg AE Loss = -0.0219, Avg Critic Loss = 0.0003, Val Loss = 0.0000\n"
     ]
    },
    {
     "data": {
      "text/plain": [
       "Epoch 29/150:   0%|          | 0/445 [00:00<?, ?batch/s]"
      ],
      "application/vnd.jupyter.widget-view+json": {
       "version_major": 2,
       "version_minor": 0,
       "model_id": "8f2f0be0552d484e8e08df6b9013ce41"
      }
     },
     "metadata": {},
     "output_type": "display_data"
    },
    {
     "name": "stdout",
     "output_type": "stream",
     "text": [
      "- Epoch 29: Avg AE Loss = -0.0222, Avg Critic Loss = 0.0002, Val Loss = 0.0000\n"
     ]
    },
    {
     "data": {
      "text/plain": [
       "Epoch 30/150:   0%|          | 0/445 [00:00<?, ?batch/s]"
      ],
      "application/vnd.jupyter.widget-view+json": {
       "version_major": 2,
       "version_minor": 0,
       "model_id": "a82c12be8d7349c1a065f10b2f65c752"
      }
     },
     "metadata": {},
     "output_type": "display_data"
    },
    {
     "name": "stdout",
     "output_type": "stream",
     "text": [
      "- Epoch 30: Avg AE Loss = -0.0226, Avg Critic Loss = 0.0002, Val Loss = 0.0000\n"
     ]
    },
    {
     "data": {
      "text/plain": [
       "Epoch 31/150:   0%|          | 0/445 [00:00<?, ?batch/s]"
      ],
      "application/vnd.jupyter.widget-view+json": {
       "version_major": 2,
       "version_minor": 0,
       "model_id": "aab574afee624e848243cd29335c9eed"
      }
     },
     "metadata": {},
     "output_type": "display_data"
    },
    {
     "name": "stdout",
     "output_type": "stream",
     "text": [
      "- Epoch 31: Avg AE Loss = -0.0230, Avg Critic Loss = 0.0002, Val Loss = 0.0000\n"
     ]
    },
    {
     "data": {
      "text/plain": [
       "Epoch 32/150:   0%|          | 0/445 [00:00<?, ?batch/s]"
      ],
      "application/vnd.jupyter.widget-view+json": {
       "version_major": 2,
       "version_minor": 0,
       "model_id": "1b4018bcb7334e5faf8bc372f7e213b4"
      }
     },
     "metadata": {},
     "output_type": "display_data"
    },
    {
     "name": "stdout",
     "output_type": "stream",
     "text": [
      "- Epoch 32: Avg AE Loss = -0.0233, Avg Critic Loss = 0.0002, Val Loss = 0.0000\n"
     ]
    },
    {
     "data": {
      "text/plain": [
       "Epoch 33/150:   0%|          | 0/445 [00:00<?, ?batch/s]"
      ],
      "application/vnd.jupyter.widget-view+json": {
       "version_major": 2,
       "version_minor": 0,
       "model_id": "2e7c31c508594eceb606d7fcc8b802bd"
      }
     },
     "metadata": {},
     "output_type": "display_data"
    },
    {
     "name": "stdout",
     "output_type": "stream",
     "text": [
      "- Epoch 33: Avg AE Loss = -0.0234, Avg Critic Loss = 0.0002, Val Loss = 0.0000\n"
     ]
    },
    {
     "data": {
      "text/plain": [
       "Epoch 34/150:   0%|          | 0/445 [00:00<?, ?batch/s]"
      ],
      "application/vnd.jupyter.widget-view+json": {
       "version_major": 2,
       "version_minor": 0,
       "model_id": "b4bc86a6d4094164ac27c4a86dbdebbc"
      }
     },
     "metadata": {},
     "output_type": "display_data"
    },
    {
     "name": "stdout",
     "output_type": "stream",
     "text": [
      "- Epoch 34: Avg AE Loss = -0.0235, Avg Critic Loss = 0.0002, Val Loss = 0.0000\n"
     ]
    },
    {
     "data": {
      "text/plain": [
       "Epoch 35/150:   0%|          | 0/445 [00:00<?, ?batch/s]"
      ],
      "application/vnd.jupyter.widget-view+json": {
       "version_major": 2,
       "version_minor": 0,
       "model_id": "d0040adcfb5045cf9148ff046ecfe06a"
      }
     },
     "metadata": {},
     "output_type": "display_data"
    },
    {
     "name": "stdout",
     "output_type": "stream",
     "text": [
      "- Epoch 35: Avg AE Loss = -0.0237, Avg Critic Loss = 0.0002, Val Loss = 0.0000\n"
     ]
    },
    {
     "data": {
      "text/plain": [
       "Epoch 36/150:   0%|          | 0/445 [00:00<?, ?batch/s]"
      ],
      "application/vnd.jupyter.widget-view+json": {
       "version_major": 2,
       "version_minor": 0,
       "model_id": "8a29b2b3d7f345238b68d62c8d924037"
      }
     },
     "metadata": {},
     "output_type": "display_data"
    },
    {
     "name": "stdout",
     "output_type": "stream",
     "text": [
      "- Epoch 36: Avg AE Loss = -0.0239, Avg Critic Loss = 0.0002, Val Loss = 0.0000\n"
     ]
    },
    {
     "data": {
      "text/plain": [
       "Epoch 37/150:   0%|          | 0/445 [00:00<?, ?batch/s]"
      ],
      "application/vnd.jupyter.widget-view+json": {
       "version_major": 2,
       "version_minor": 0,
       "model_id": "4a103bf7297d4cdeb8c50daef54e4822"
      }
     },
     "metadata": {},
     "output_type": "display_data"
    },
    {
     "name": "stdout",
     "output_type": "stream",
     "text": [
      "- Epoch 37: Avg AE Loss = -0.0240, Avg Critic Loss = 0.0002, Val Loss = 0.0000\n"
     ]
    },
    {
     "data": {
      "text/plain": [
       "Epoch 38/150:   0%|          | 0/445 [00:00<?, ?batch/s]"
      ],
      "application/vnd.jupyter.widget-view+json": {
       "version_major": 2,
       "version_minor": 0,
       "model_id": "4e2a4b176bee4a02a93465f818eca848"
      }
     },
     "metadata": {},
     "output_type": "display_data"
    },
    {
     "name": "stdout",
     "output_type": "stream",
     "text": [
      "- Epoch 38: Avg AE Loss = -0.0241, Avg Critic Loss = 0.0002, Val Loss = 0.0000\n"
     ]
    },
    {
     "data": {
      "text/plain": [
       "Epoch 39/150:   0%|          | 0/445 [00:00<?, ?batch/s]"
      ],
      "application/vnd.jupyter.widget-view+json": {
       "version_major": 2,
       "version_minor": 0,
       "model_id": "36d6f4dd4a5340a690366d75584e0b11"
      }
     },
     "metadata": {},
     "output_type": "display_data"
    },
    {
     "name": "stdout",
     "output_type": "stream",
     "text": [
      "- Epoch 39: Avg AE Loss = -0.0243, Avg Critic Loss = 0.0001, Val Loss = 0.0000\n"
     ]
    },
    {
     "data": {
      "text/plain": [
       "Epoch 40/150:   0%|          | 0/445 [00:00<?, ?batch/s]"
      ],
      "application/vnd.jupyter.widget-view+json": {
       "version_major": 2,
       "version_minor": 0,
       "model_id": "2f29d6670a564b7097e84248e760882e"
      }
     },
     "metadata": {},
     "output_type": "display_data"
    },
    {
     "name": "stdout",
     "output_type": "stream",
     "text": [
      "- Epoch 40: Avg AE Loss = -0.0243, Avg Critic Loss = 0.0001, Val Loss = 0.0000\n"
     ]
    },
    {
     "data": {
      "text/plain": [
       "Epoch 41/150:   0%|          | 0/445 [00:00<?, ?batch/s]"
      ],
      "application/vnd.jupyter.widget-view+json": {
       "version_major": 2,
       "version_minor": 0,
       "model_id": "bd7412803d214756a0d367596a17661a"
      }
     },
     "metadata": {},
     "output_type": "display_data"
    },
    {
     "name": "stdout",
     "output_type": "stream",
     "text": [
      "- Epoch 41: Avg AE Loss = -0.0244, Avg Critic Loss = 0.0001, Val Loss = 0.0000\n"
     ]
    },
    {
     "data": {
      "text/plain": [
       "Epoch 42/150:   0%|          | 0/445 [00:00<?, ?batch/s]"
      ],
      "application/vnd.jupyter.widget-view+json": {
       "version_major": 2,
       "version_minor": 0,
       "model_id": "edb0ab2464084d73a3e64926509fa5c8"
      }
     },
     "metadata": {},
     "output_type": "display_data"
    },
    {
     "name": "stdout",
     "output_type": "stream",
     "text": [
      "- Epoch 42: Avg AE Loss = -0.0245, Avg Critic Loss = 0.0001, Val Loss = 0.0000\n"
     ]
    },
    {
     "data": {
      "text/plain": [
       "Epoch 43/150:   0%|          | 0/445 [00:00<?, ?batch/s]"
      ],
      "application/vnd.jupyter.widget-view+json": {
       "version_major": 2,
       "version_minor": 0,
       "model_id": "d2159883681b47558bbb6f8c32b41626"
      }
     },
     "metadata": {},
     "output_type": "display_data"
    },
    {
     "name": "stdout",
     "output_type": "stream",
     "text": [
      "- Epoch 43: Avg AE Loss = -0.0245, Avg Critic Loss = 0.0001, Val Loss = 0.0000\n"
     ]
    },
    {
     "data": {
      "text/plain": [
       "Epoch 44/150:   0%|          | 0/445 [00:00<?, ?batch/s]"
      ],
      "application/vnd.jupyter.widget-view+json": {
       "version_major": 2,
       "version_minor": 0,
       "model_id": "ab41d0619dbf4ae7984645d524cfb7d9"
      }
     },
     "metadata": {},
     "output_type": "display_data"
    },
    {
     "name": "stdout",
     "output_type": "stream",
     "text": [
      "- Epoch 44: Avg AE Loss = -0.0247, Avg Critic Loss = 0.0001, Val Loss = 0.0000\n"
     ]
    },
    {
     "data": {
      "text/plain": [
       "Epoch 45/150:   0%|          | 0/445 [00:00<?, ?batch/s]"
      ],
      "application/vnd.jupyter.widget-view+json": {
       "version_major": 2,
       "version_minor": 0,
       "model_id": "eae18b26da1f49c79c3cc493109d062d"
      }
     },
     "metadata": {},
     "output_type": "display_data"
    },
    {
     "name": "stdout",
     "output_type": "stream",
     "text": [
      "- Epoch 45: Avg AE Loss = -0.0247, Avg Critic Loss = 0.0001, Val Loss = 0.0000\n"
     ]
    },
    {
     "data": {
      "text/plain": [
       "Epoch 46/150:   0%|          | 0/445 [00:00<?, ?batch/s]"
      ],
      "application/vnd.jupyter.widget-view+json": {
       "version_major": 2,
       "version_minor": 0,
       "model_id": "9ab6fefa6c104612a9f321388ea1f9cb"
      }
     },
     "metadata": {},
     "output_type": "display_data"
    },
    {
     "name": "stdout",
     "output_type": "stream",
     "text": [
      "- Epoch 46: Avg AE Loss = -0.0248, Avg Critic Loss = 0.0001, Val Loss = 0.0000\n"
     ]
    },
    {
     "data": {
      "text/plain": [
       "Epoch 47/150:   0%|          | 0/445 [00:00<?, ?batch/s]"
      ],
      "application/vnd.jupyter.widget-view+json": {
       "version_major": 2,
       "version_minor": 0,
       "model_id": "3f78877963514a1b8e94ecc909cf49cd"
      }
     },
     "metadata": {},
     "output_type": "display_data"
    },
    {
     "name": "stdout",
     "output_type": "stream",
     "text": [
      "- Epoch 47: Avg AE Loss = -0.0248, Avg Critic Loss = 0.0001, Val Loss = 0.0000\n"
     ]
    },
    {
     "data": {
      "text/plain": [
       "Epoch 48/150:   0%|          | 0/445 [00:00<?, ?batch/s]"
      ],
      "application/vnd.jupyter.widget-view+json": {
       "version_major": 2,
       "version_minor": 0,
       "model_id": "2518481132594a92b702fa1d07f8d6d3"
      }
     },
     "metadata": {},
     "output_type": "display_data"
    },
    {
     "name": "stdout",
     "output_type": "stream",
     "text": [
      "- Epoch 48: Avg AE Loss = -0.0249, Avg Critic Loss = 0.0001, Val Loss = 0.0000\n"
     ]
    },
    {
     "data": {
      "text/plain": [
       "Epoch 49/150:   0%|          | 0/445 [00:00<?, ?batch/s]"
      ],
      "application/vnd.jupyter.widget-view+json": {
       "version_major": 2,
       "version_minor": 0,
       "model_id": "0b63dbea2d7c4575be7fbd6e1568357c"
      }
     },
     "metadata": {},
     "output_type": "display_data"
    },
    {
     "name": "stdout",
     "output_type": "stream",
     "text": [
      "- Epoch 49: Avg AE Loss = -0.0250, Avg Critic Loss = 0.0001, Val Loss = 0.0000\n"
     ]
    },
    {
     "data": {
      "text/plain": [
       "Epoch 50/150:   0%|          | 0/445 [00:00<?, ?batch/s]"
      ],
      "application/vnd.jupyter.widget-view+json": {
       "version_major": 2,
       "version_minor": 0,
       "model_id": "f7e32a3918b8403f8d26c27e88c6bd01"
      }
     },
     "metadata": {},
     "output_type": "display_data"
    },
    {
     "name": "stdout",
     "output_type": "stream",
     "text": [
      "- Epoch 50: Avg AE Loss = -0.0251, Avg Critic Loss = 0.0001, Val Loss = 0.0000\n"
     ]
    },
    {
     "data": {
      "text/plain": [
       "Epoch 51/150:   0%|          | 0/445 [00:00<?, ?batch/s]"
      ],
      "application/vnd.jupyter.widget-view+json": {
       "version_major": 2,
       "version_minor": 0,
       "model_id": "118a4f3733034291bd3cab80192a8c39"
      }
     },
     "metadata": {},
     "output_type": "display_data"
    },
    {
     "name": "stdout",
     "output_type": "stream",
     "text": [
      "- Epoch 51: Avg AE Loss = -0.0251, Avg Critic Loss = 0.0001, Val Loss = 0.0000\n"
     ]
    },
    {
     "data": {
      "text/plain": [
       "Epoch 52/150:   0%|          | 0/445 [00:00<?, ?batch/s]"
      ],
      "application/vnd.jupyter.widget-view+json": {
       "version_major": 2,
       "version_minor": 0,
       "model_id": "0923ea9a333c43168f28e218f69d4572"
      }
     },
     "metadata": {},
     "output_type": "display_data"
    },
    {
     "name": "stdout",
     "output_type": "stream",
     "text": [
      "- Epoch 52: Avg AE Loss = -0.0252, Avg Critic Loss = 0.0001, Val Loss = 0.0000\n"
     ]
    },
    {
     "data": {
      "text/plain": [
       "Epoch 53/150:   0%|          | 0/445 [00:00<?, ?batch/s]"
      ],
      "application/vnd.jupyter.widget-view+json": {
       "version_major": 2,
       "version_minor": 0,
       "model_id": "91e0bb3c80d5482896790a819f533004"
      }
     },
     "metadata": {},
     "output_type": "display_data"
    },
    {
     "name": "stdout",
     "output_type": "stream",
     "text": [
      "- Epoch 53: Avg AE Loss = -0.0253, Avg Critic Loss = 0.0001, Val Loss = 0.0000\n"
     ]
    },
    {
     "data": {
      "text/plain": [
       "Epoch 54/150:   0%|          | 0/445 [00:00<?, ?batch/s]"
      ],
      "application/vnd.jupyter.widget-view+json": {
       "version_major": 2,
       "version_minor": 0,
       "model_id": "989de609c07748848b5d83bd6d721354"
      }
     },
     "metadata": {},
     "output_type": "display_data"
    },
    {
     "name": "stdout",
     "output_type": "stream",
     "text": [
      "- Epoch 54: Avg AE Loss = -0.0254, Avg Critic Loss = 0.0001, Val Loss = 0.0000\n"
     ]
    },
    {
     "data": {
      "text/plain": [
       "Epoch 55/150:   0%|          | 0/445 [00:00<?, ?batch/s]"
      ],
      "application/vnd.jupyter.widget-view+json": {
       "version_major": 2,
       "version_minor": 0,
       "model_id": "eda9f3d3895a469ba091fa843062a499"
      }
     },
     "metadata": {},
     "output_type": "display_data"
    },
    {
     "name": "stdout",
     "output_type": "stream",
     "text": [
      "- Epoch 55: Avg AE Loss = -0.0254, Avg Critic Loss = 0.0001, Val Loss = 0.0000\n"
     ]
    },
    {
     "data": {
      "text/plain": [
       "Epoch 56/150:   0%|          | 0/445 [00:00<?, ?batch/s]"
      ],
      "application/vnd.jupyter.widget-view+json": {
       "version_major": 2,
       "version_minor": 0,
       "model_id": "e8874177ea274878acf57bb9652e30ac"
      }
     },
     "metadata": {},
     "output_type": "display_data"
    },
    {
     "name": "stdout",
     "output_type": "stream",
     "text": [
      "- Epoch 56: Avg AE Loss = -0.0254, Avg Critic Loss = 0.0001, Val Loss = 0.0000\n"
     ]
    },
    {
     "data": {
      "text/plain": [
       "Epoch 57/150:   0%|          | 0/445 [00:00<?, ?batch/s]"
      ],
      "application/vnd.jupyter.widget-view+json": {
       "version_major": 2,
       "version_minor": 0,
       "model_id": "7161eb0deff646ba8c029bc59c3035b1"
      }
     },
     "metadata": {},
     "output_type": "display_data"
    },
    {
     "name": "stdout",
     "output_type": "stream",
     "text": [
      "- Epoch 57: Avg AE Loss = -0.0254, Avg Critic Loss = 0.0001, Val Loss = 0.0000\n"
     ]
    },
    {
     "data": {
      "text/plain": [
       "Epoch 58/150:   0%|          | 0/445 [00:00<?, ?batch/s]"
      ],
      "application/vnd.jupyter.widget-view+json": {
       "version_major": 2,
       "version_minor": 0,
       "model_id": "07a71dc127374e2d86d757c216d7228c"
      }
     },
     "metadata": {},
     "output_type": "display_data"
    },
    {
     "name": "stdout",
     "output_type": "stream",
     "text": [
      "- Epoch 58: Avg AE Loss = -0.0255, Avg Critic Loss = 0.0001, Val Loss = 0.0000\n"
     ]
    },
    {
     "data": {
      "text/plain": [
       "Epoch 59/150:   0%|          | 0/445 [00:00<?, ?batch/s]"
      ],
      "application/vnd.jupyter.widget-view+json": {
       "version_major": 2,
       "version_minor": 0,
       "model_id": "e4713d56b2b04109bc2cad6a670d8721"
      }
     },
     "metadata": {},
     "output_type": "display_data"
    },
    {
     "name": "stdout",
     "output_type": "stream",
     "text": [
      "- Epoch 59: Avg AE Loss = -0.0256, Avg Critic Loss = 0.0001, Val Loss = 0.0000\n"
     ]
    },
    {
     "data": {
      "text/plain": [
       "Epoch 60/150:   0%|          | 0/445 [00:00<?, ?batch/s]"
      ],
      "application/vnd.jupyter.widget-view+json": {
       "version_major": 2,
       "version_minor": 0,
       "model_id": "1256a608814e4517a4c08fc9d88c056f"
      }
     },
     "metadata": {},
     "output_type": "display_data"
    },
    {
     "name": "stdout",
     "output_type": "stream",
     "text": [
      "- Epoch 60: Avg AE Loss = -0.0257, Avg Critic Loss = 0.0001, Val Loss = 0.0000\n"
     ]
    },
    {
     "data": {
      "text/plain": [
       "Epoch 61/150:   0%|          | 0/445 [00:00<?, ?batch/s]"
      ],
      "application/vnd.jupyter.widget-view+json": {
       "version_major": 2,
       "version_minor": 0,
       "model_id": "dc4d247046a341a88bc05dae78f08659"
      }
     },
     "metadata": {},
     "output_type": "display_data"
    },
    {
     "name": "stdout",
     "output_type": "stream",
     "text": [
      "- Epoch 61: Avg AE Loss = -0.0258, Avg Critic Loss = 0.0001, Val Loss = 0.0000\n"
     ]
    },
    {
     "data": {
      "text/plain": [
       "Epoch 62/150:   0%|          | 0/445 [00:00<?, ?batch/s]"
      ],
      "application/vnd.jupyter.widget-view+json": {
       "version_major": 2,
       "version_minor": 0,
       "model_id": "bc69af5753d14a61a70d1e6fb4047959"
      }
     },
     "metadata": {},
     "output_type": "display_data"
    },
    {
     "name": "stdout",
     "output_type": "stream",
     "text": [
      "- Epoch 62: Avg AE Loss = -0.0258, Avg Critic Loss = 0.0001, Val Loss = 0.0000\n"
     ]
    },
    {
     "data": {
      "text/plain": [
       "Epoch 63/150:   0%|          | 0/445 [00:00<?, ?batch/s]"
      ],
      "application/vnd.jupyter.widget-view+json": {
       "version_major": 2,
       "version_minor": 0,
       "model_id": "5045b37a09cf4740873f47393d89a7b5"
      }
     },
     "metadata": {},
     "output_type": "display_data"
    },
    {
     "name": "stdout",
     "output_type": "stream",
     "text": [
      "- Epoch 63: Avg AE Loss = -0.0258, Avg Critic Loss = 0.0001, Val Loss = 0.0000\n"
     ]
    },
    {
     "data": {
      "text/plain": [
       "Epoch 64/150:   0%|          | 0/445 [00:00<?, ?batch/s]"
      ],
      "application/vnd.jupyter.widget-view+json": {
       "version_major": 2,
       "version_minor": 0,
       "model_id": "96a29a0ea3314ffdb886e25550d2a413"
      }
     },
     "metadata": {},
     "output_type": "display_data"
    },
    {
     "name": "stdout",
     "output_type": "stream",
     "text": [
      "- Epoch 64: Avg AE Loss = -0.0259, Avg Critic Loss = 0.0001, Val Loss = 0.0000\n"
     ]
    },
    {
     "data": {
      "text/plain": [
       "Epoch 65/150:   0%|          | 0/445 [00:00<?, ?batch/s]"
      ],
      "application/vnd.jupyter.widget-view+json": {
       "version_major": 2,
       "version_minor": 0,
       "model_id": "a947cc6b12fb45a889ef0b0ade497bcd"
      }
     },
     "metadata": {},
     "output_type": "display_data"
    },
    {
     "name": "stdout",
     "output_type": "stream",
     "text": [
      "- Epoch 65: Avg AE Loss = -0.0260, Avg Critic Loss = 0.0001, Val Loss = 0.0000\n"
     ]
    },
    {
     "data": {
      "text/plain": [
       "Epoch 66/150:   0%|          | 0/445 [00:00<?, ?batch/s]"
      ],
      "application/vnd.jupyter.widget-view+json": {
       "version_major": 2,
       "version_minor": 0,
       "model_id": "cc6c488e969e42ffb7f904041e228cdc"
      }
     },
     "metadata": {},
     "output_type": "display_data"
    },
    {
     "name": "stdout",
     "output_type": "stream",
     "text": [
      "- Epoch 66: Avg AE Loss = -0.0260, Avg Critic Loss = 0.0001, Val Loss = 0.0000\n"
     ]
    },
    {
     "data": {
      "text/plain": [
       "Epoch 67/150:   0%|          | 0/445 [00:00<?, ?batch/s]"
      ],
      "application/vnd.jupyter.widget-view+json": {
       "version_major": 2,
       "version_minor": 0,
       "model_id": "30c2c208b540438bb6b73b971d2db880"
      }
     },
     "metadata": {},
     "output_type": "display_data"
    },
    {
     "name": "stdout",
     "output_type": "stream",
     "text": [
      "- Epoch 67: Avg AE Loss = -0.0261, Avg Critic Loss = 0.0001, Val Loss = 0.0000\n"
     ]
    },
    {
     "data": {
      "text/plain": [
       "Epoch 68/150:   0%|          | 0/445 [00:00<?, ?batch/s]"
      ],
      "application/vnd.jupyter.widget-view+json": {
       "version_major": 2,
       "version_minor": 0,
       "model_id": "c5c152e82e894031b0bb8ddd522774e4"
      }
     },
     "metadata": {},
     "output_type": "display_data"
    },
    {
     "name": "stdout",
     "output_type": "stream",
     "text": [
      "- Epoch 68: Avg AE Loss = -0.0261, Avg Critic Loss = 0.0001, Val Loss = 0.0000\n"
     ]
    },
    {
     "data": {
      "text/plain": [
       "Epoch 69/150:   0%|          | 0/445 [00:00<?, ?batch/s]"
      ],
      "application/vnd.jupyter.widget-view+json": {
       "version_major": 2,
       "version_minor": 0,
       "model_id": "c31cb8c7fa29476cb0b4455a8b293995"
      }
     },
     "metadata": {},
     "output_type": "display_data"
    },
    {
     "name": "stdout",
     "output_type": "stream",
     "text": [
      "- Epoch 69: Avg AE Loss = -0.0261, Avg Critic Loss = 0.0001, Val Loss = 0.0000\n"
     ]
    },
    {
     "data": {
      "text/plain": [
       "Epoch 70/150:   0%|          | 0/445 [00:00<?, ?batch/s]"
      ],
      "application/vnd.jupyter.widget-view+json": {
       "version_major": 2,
       "version_minor": 0,
       "model_id": "b103897eed5d4fe9b7c97a918a44f684"
      }
     },
     "metadata": {},
     "output_type": "display_data"
    },
    {
     "name": "stdout",
     "output_type": "stream",
     "text": [
      "- Epoch 70: Avg AE Loss = -0.0261, Avg Critic Loss = 0.0001, Val Loss = 0.0000\n"
     ]
    },
    {
     "data": {
      "text/plain": [
       "Epoch 71/150:   0%|          | 0/445 [00:00<?, ?batch/s]"
      ],
      "application/vnd.jupyter.widget-view+json": {
       "version_major": 2,
       "version_minor": 0,
       "model_id": "b88ec06e3c1043038addd6da494820a6"
      }
     },
     "metadata": {},
     "output_type": "display_data"
    },
    {
     "name": "stdout",
     "output_type": "stream",
     "text": [
      "- Epoch 71: Avg AE Loss = -0.0262, Avg Critic Loss = 0.0001, Val Loss = 0.0000\n"
     ]
    },
    {
     "data": {
      "text/plain": [
       "Epoch 72/150:   0%|          | 0/445 [00:00<?, ?batch/s]"
      ],
      "application/vnd.jupyter.widget-view+json": {
       "version_major": 2,
       "version_minor": 0,
       "model_id": "499e667a37df45c6914d60143144539e"
      }
     },
     "metadata": {},
     "output_type": "display_data"
    },
    {
     "name": "stdout",
     "output_type": "stream",
     "text": [
      "- Epoch 72: Avg AE Loss = -0.0262, Avg Critic Loss = 0.0001, Val Loss = 0.0000\n"
     ]
    },
    {
     "data": {
      "text/plain": [
       "Epoch 73/150:   0%|          | 0/445 [00:00<?, ?batch/s]"
      ],
      "application/vnd.jupyter.widget-view+json": {
       "version_major": 2,
       "version_minor": 0,
       "model_id": "bf541946a767404f94252ba94f200837"
      }
     },
     "metadata": {},
     "output_type": "display_data"
    },
    {
     "name": "stdout",
     "output_type": "stream",
     "text": [
      "- Epoch 73: Avg AE Loss = -0.0262, Avg Critic Loss = 0.0001, Val Loss = 0.0000\n"
     ]
    },
    {
     "data": {
      "text/plain": [
       "Epoch 74/150:   0%|          | 0/445 [00:00<?, ?batch/s]"
      ],
      "application/vnd.jupyter.widget-view+json": {
       "version_major": 2,
       "version_minor": 0,
       "model_id": "0c2dc43fef0a428f8e3457384f13748c"
      }
     },
     "metadata": {},
     "output_type": "display_data"
    },
    {
     "name": "stdout",
     "output_type": "stream",
     "text": [
      "- Epoch 74: Avg AE Loss = -0.0262, Avg Critic Loss = 0.0001, Val Loss = 0.0000\n"
     ]
    },
    {
     "data": {
      "text/plain": [
       "Epoch 75/150:   0%|          | 0/445 [00:00<?, ?batch/s]"
      ],
      "application/vnd.jupyter.widget-view+json": {
       "version_major": 2,
       "version_minor": 0,
       "model_id": "fc854d76cb3c48d686a2127e7a67930c"
      }
     },
     "metadata": {},
     "output_type": "display_data"
    },
    {
     "name": "stdout",
     "output_type": "stream",
     "text": [
      "- Epoch 75: Avg AE Loss = -0.0263, Avg Critic Loss = 0.0001, Val Loss = 0.0000\n"
     ]
    },
    {
     "data": {
      "text/plain": [
       "Epoch 76/150:   0%|          | 0/445 [00:00<?, ?batch/s]"
      ],
      "application/vnd.jupyter.widget-view+json": {
       "version_major": 2,
       "version_minor": 0,
       "model_id": "bc6f000f1c0a4008b1f8bcdfaeba97f5"
      }
     },
     "metadata": {},
     "output_type": "display_data"
    },
    {
     "name": "stdout",
     "output_type": "stream",
     "text": [
      "- Epoch 76: Avg AE Loss = -0.0263, Avg Critic Loss = 0.0001, Val Loss = 0.0000\n"
     ]
    },
    {
     "data": {
      "text/plain": [
       "Epoch 77/150:   0%|          | 0/445 [00:00<?, ?batch/s]"
      ],
      "application/vnd.jupyter.widget-view+json": {
       "version_major": 2,
       "version_minor": 0,
       "model_id": "21988cb75d0f40988d31740352f01454"
      }
     },
     "metadata": {},
     "output_type": "display_data"
    },
    {
     "name": "stdout",
     "output_type": "stream",
     "text": [
      "- Epoch 77: Avg AE Loss = -0.0263, Avg Critic Loss = 0.0001, Val Loss = 0.0000\n"
     ]
    },
    {
     "data": {
      "text/plain": [
       "Epoch 78/150:   0%|          | 0/445 [00:00<?, ?batch/s]"
      ],
      "application/vnd.jupyter.widget-view+json": {
       "version_major": 2,
       "version_minor": 0,
       "model_id": "8bc0fa289f9f485189b1f38587dad18f"
      }
     },
     "metadata": {},
     "output_type": "display_data"
    },
    {
     "name": "stdout",
     "output_type": "stream",
     "text": [
      "- Epoch 78: Avg AE Loss = -0.0264, Avg Critic Loss = 0.0001, Val Loss = 0.0000\n"
     ]
    },
    {
     "data": {
      "text/plain": [
       "Epoch 79/150:   0%|          | 0/445 [00:00<?, ?batch/s]"
      ],
      "application/vnd.jupyter.widget-view+json": {
       "version_major": 2,
       "version_minor": 0,
       "model_id": "103237e12fe741fd95dc758634e4e840"
      }
     },
     "metadata": {},
     "output_type": "display_data"
    },
    {
     "name": "stdout",
     "output_type": "stream",
     "text": [
      "- Epoch 79: Avg AE Loss = -0.0264, Avg Critic Loss = 0.0001, Val Loss = 0.0000\n"
     ]
    },
    {
     "data": {
      "text/plain": [
       "Epoch 80/150:   0%|          | 0/445 [00:00<?, ?batch/s]"
      ],
      "application/vnd.jupyter.widget-view+json": {
       "version_major": 2,
       "version_minor": 0,
       "model_id": "5c1125bb3fa7465c934e8751e1264ad3"
      }
     },
     "metadata": {},
     "output_type": "display_data"
    },
    {
     "name": "stdout",
     "output_type": "stream",
     "text": [
      "- Epoch 80: Avg AE Loss = -0.0264, Avg Critic Loss = 0.0001, Val Loss = 0.0000\n"
     ]
    },
    {
     "data": {
      "text/plain": [
       "Epoch 81/150:   0%|          | 0/445 [00:00<?, ?batch/s]"
      ],
      "application/vnd.jupyter.widget-view+json": {
       "version_major": 2,
       "version_minor": 0,
       "model_id": "15d9816000ea472998c3600a09a3d586"
      }
     },
     "metadata": {},
     "output_type": "display_data"
    },
    {
     "name": "stdout",
     "output_type": "stream",
     "text": [
      "- Epoch 81: Avg AE Loss = -0.0264, Avg Critic Loss = 0.0001, Val Loss = 0.0000\n"
     ]
    },
    {
     "data": {
      "text/plain": [
       "Epoch 82/150:   0%|          | 0/445 [00:00<?, ?batch/s]"
      ],
      "application/vnd.jupyter.widget-view+json": {
       "version_major": 2,
       "version_minor": 0,
       "model_id": "0c2a4b8c1a614c80b8442601240b48bf"
      }
     },
     "metadata": {},
     "output_type": "display_data"
    },
    {
     "name": "stdout",
     "output_type": "stream",
     "text": [
      "- Epoch 82: Avg AE Loss = -0.0264, Avg Critic Loss = 0.0001, Val Loss = 0.0000\n"
     ]
    },
    {
     "data": {
      "text/plain": [
       "Epoch 83/150:   0%|          | 0/445 [00:00<?, ?batch/s]"
      ],
      "application/vnd.jupyter.widget-view+json": {
       "version_major": 2,
       "version_minor": 0,
       "model_id": "683c195dbe5b461b81ac1b46ec0a87c3"
      }
     },
     "metadata": {},
     "output_type": "display_data"
    },
    {
     "name": "stdout",
     "output_type": "stream",
     "text": [
      "- Epoch 83: Avg AE Loss = -0.0264, Avg Critic Loss = 0.0001, Val Loss = 0.0000\n"
     ]
    },
    {
     "data": {
      "text/plain": [
       "Epoch 84/150:   0%|          | 0/445 [00:00<?, ?batch/s]"
      ],
      "application/vnd.jupyter.widget-view+json": {
       "version_major": 2,
       "version_minor": 0,
       "model_id": "b349045ff37641fea680f4b42d167a30"
      }
     },
     "metadata": {},
     "output_type": "display_data"
    },
    {
     "name": "stdout",
     "output_type": "stream",
     "text": [
      "- Epoch 84: Avg AE Loss = -0.0265, Avg Critic Loss = 0.0001, Val Loss = 0.0000\n"
     ]
    },
    {
     "data": {
      "text/plain": [
       "Epoch 85/150:   0%|          | 0/445 [00:00<?, ?batch/s]"
      ],
      "application/vnd.jupyter.widget-view+json": {
       "version_major": 2,
       "version_minor": 0,
       "model_id": "1cb9302ebb06493c9af4f5b9ad38d1f1"
      }
     },
     "metadata": {},
     "output_type": "display_data"
    },
    {
     "name": "stdout",
     "output_type": "stream",
     "text": [
      "- Epoch 85: Avg AE Loss = -0.0265, Avg Critic Loss = 0.0001, Val Loss = 0.0000\n"
     ]
    },
    {
     "data": {
      "text/plain": [
       "Epoch 86/150:   0%|          | 0/445 [00:00<?, ?batch/s]"
      ],
      "application/vnd.jupyter.widget-view+json": {
       "version_major": 2,
       "version_minor": 0,
       "model_id": "3d0401f7bbc74c71861a88a3891e2a69"
      }
     },
     "metadata": {},
     "output_type": "display_data"
    },
    {
     "name": "stdout",
     "output_type": "stream",
     "text": [
      "- Epoch 86: Avg AE Loss = -0.0265, Avg Critic Loss = 0.0001, Val Loss = 0.0000\n"
     ]
    },
    {
     "data": {
      "text/plain": [
       "Epoch 87/150:   0%|          | 0/445 [00:00<?, ?batch/s]"
      ],
      "application/vnd.jupyter.widget-view+json": {
       "version_major": 2,
       "version_minor": 0,
       "model_id": "7e53e12207f745879dfb793131687d4f"
      }
     },
     "metadata": {},
     "output_type": "display_data"
    },
    {
     "name": "stdout",
     "output_type": "stream",
     "text": [
      "- Epoch 87: Avg AE Loss = -0.0265, Avg Critic Loss = 0.0001, Val Loss = 0.0000\n"
     ]
    },
    {
     "data": {
      "text/plain": [
       "Epoch 88/150:   0%|          | 0/445 [00:00<?, ?batch/s]"
      ],
      "application/vnd.jupyter.widget-view+json": {
       "version_major": 2,
       "version_minor": 0,
       "model_id": "847c564fa30c4231b7f6d7560c60845e"
      }
     },
     "metadata": {},
     "output_type": "display_data"
    },
    {
     "name": "stdout",
     "output_type": "stream",
     "text": [
      "- Epoch 88: Avg AE Loss = -0.0266, Avg Critic Loss = 0.0001, Val Loss = 0.0000\n"
     ]
    },
    {
     "data": {
      "text/plain": [
       "Epoch 89/150:   0%|          | 0/445 [00:00<?, ?batch/s]"
      ],
      "application/vnd.jupyter.widget-view+json": {
       "version_major": 2,
       "version_minor": 0,
       "model_id": "ceb2531a8e6741cb8cc603c2bd7ad608"
      }
     },
     "metadata": {},
     "output_type": "display_data"
    },
    {
     "name": "stdout",
     "output_type": "stream",
     "text": [
      "- Epoch 89: Avg AE Loss = -0.0267, Avg Critic Loss = 0.0001, Val Loss = 0.0000\n"
     ]
    },
    {
     "data": {
      "text/plain": [
       "Epoch 90/150:   0%|          | 0/445 [00:00<?, ?batch/s]"
      ],
      "application/vnd.jupyter.widget-view+json": {
       "version_major": 2,
       "version_minor": 0,
       "model_id": "16aff55024a14148b81b8b0c941aab45"
      }
     },
     "metadata": {},
     "output_type": "display_data"
    },
    {
     "name": "stdout",
     "output_type": "stream",
     "text": [
      "- Epoch 90: Avg AE Loss = -0.0268, Avg Critic Loss = 0.0001, Val Loss = 0.0000\n"
     ]
    },
    {
     "data": {
      "text/plain": [
       "Epoch 91/150:   0%|          | 0/445 [00:00<?, ?batch/s]"
      ],
      "application/vnd.jupyter.widget-view+json": {
       "version_major": 2,
       "version_minor": 0,
       "model_id": "bc9c3a94313246a3a8813698c9f9a336"
      }
     },
     "metadata": {},
     "output_type": "display_data"
    },
    {
     "name": "stdout",
     "output_type": "stream",
     "text": [
      "- Epoch 91: Avg AE Loss = -0.0268, Avg Critic Loss = 0.0001, Val Loss = 0.0000\n"
     ]
    },
    {
     "data": {
      "text/plain": [
       "Epoch 92/150:   0%|          | 0/445 [00:00<?, ?batch/s]"
      ],
      "application/vnd.jupyter.widget-view+json": {
       "version_major": 2,
       "version_minor": 0,
       "model_id": "9dc9e09cd62040ec858c3aadb7795aa6"
      }
     },
     "metadata": {},
     "output_type": "display_data"
    },
    {
     "name": "stdout",
     "output_type": "stream",
     "text": [
      "- Epoch 92: Avg AE Loss = -0.0268, Avg Critic Loss = 0.0001, Val Loss = 0.0000\n"
     ]
    },
    {
     "data": {
      "text/plain": [
       "Epoch 93/150:   0%|          | 0/445 [00:00<?, ?batch/s]"
      ],
      "application/vnd.jupyter.widget-view+json": {
       "version_major": 2,
       "version_minor": 0,
       "model_id": "77a30202b1424e189663d40653d570ae"
      }
     },
     "metadata": {},
     "output_type": "display_data"
    },
    {
     "name": "stdout",
     "output_type": "stream",
     "text": [
      "- Epoch 93: Avg AE Loss = -0.0268, Avg Critic Loss = 0.0001, Val Loss = 0.0000\n"
     ]
    },
    {
     "data": {
      "text/plain": [
       "Epoch 94/150:   0%|          | 0/445 [00:00<?, ?batch/s]"
      ],
      "application/vnd.jupyter.widget-view+json": {
       "version_major": 2,
       "version_minor": 0,
       "model_id": "968b2bb393b74de98ef5bd097672d128"
      }
     },
     "metadata": {},
     "output_type": "display_data"
    },
    {
     "name": "stdout",
     "output_type": "stream",
     "text": [
      "- Epoch 94: Avg AE Loss = -0.0268, Avg Critic Loss = 0.0001, Val Loss = 0.0000\n"
     ]
    },
    {
     "data": {
      "text/plain": [
       "Epoch 95/150:   0%|          | 0/445 [00:00<?, ?batch/s]"
      ],
      "application/vnd.jupyter.widget-view+json": {
       "version_major": 2,
       "version_minor": 0,
       "model_id": "a34c6e76400d4f4a9d6c08446dfc9a6a"
      }
     },
     "metadata": {},
     "output_type": "display_data"
    },
    {
     "name": "stdout",
     "output_type": "stream",
     "text": [
      "- Epoch 95: Avg AE Loss = -0.0268, Avg Critic Loss = 0.0001, Val Loss = 0.0000\n"
     ]
    },
    {
     "data": {
      "text/plain": [
       "Epoch 96/150:   0%|          | 0/445 [00:00<?, ?batch/s]"
      ],
      "application/vnd.jupyter.widget-view+json": {
       "version_major": 2,
       "version_minor": 0,
       "model_id": "18de81f4a15f483882ef9a2033734076"
      }
     },
     "metadata": {},
     "output_type": "display_data"
    },
    {
     "name": "stdout",
     "output_type": "stream",
     "text": [
      "- Epoch 96: Avg AE Loss = -0.0268, Avg Critic Loss = 0.0001, Val Loss = 0.0000\n"
     ]
    },
    {
     "data": {
      "text/plain": [
       "Epoch 97/150:   0%|          | 0/445 [00:00<?, ?batch/s]"
      ],
      "application/vnd.jupyter.widget-view+json": {
       "version_major": 2,
       "version_minor": 0,
       "model_id": "5c0d56536efe4966891ef691f260f2f6"
      }
     },
     "metadata": {},
     "output_type": "display_data"
    },
    {
     "name": "stdout",
     "output_type": "stream",
     "text": [
      "- Epoch 97: Avg AE Loss = -0.0267, Avg Critic Loss = 0.0001, Val Loss = 0.0000\n"
     ]
    },
    {
     "data": {
      "text/plain": [
       "Epoch 98/150:   0%|          | 0/445 [00:00<?, ?batch/s]"
      ],
      "application/vnd.jupyter.widget-view+json": {
       "version_major": 2,
       "version_minor": 0,
       "model_id": "9d75b36d45fa4422808d8421a439d8c6"
      }
     },
     "metadata": {},
     "output_type": "display_data"
    },
    {
     "name": "stdout",
     "output_type": "stream",
     "text": [
      "- Epoch 98: Avg AE Loss = -0.0267, Avg Critic Loss = 0.0001, Val Loss = 0.0000\n"
     ]
    },
    {
     "data": {
      "text/plain": [
       "Epoch 99/150:   0%|          | 0/445 [00:00<?, ?batch/s]"
      ],
      "application/vnd.jupyter.widget-view+json": {
       "version_major": 2,
       "version_minor": 0,
       "model_id": "de2803c5fe624dfd9ef4588abfce82fc"
      }
     },
     "metadata": {},
     "output_type": "display_data"
    },
    {
     "name": "stdout",
     "output_type": "stream",
     "text": [
      "- Epoch 99: Avg AE Loss = -0.0268, Avg Critic Loss = 0.0000, Val Loss = 0.0000\n"
     ]
    },
    {
     "data": {
      "text/plain": [
       "Epoch 100/150:   0%|          | 0/445 [00:00<?, ?batch/s]"
      ],
      "application/vnd.jupyter.widget-view+json": {
       "version_major": 2,
       "version_minor": 0,
       "model_id": "0484b16626a947e8be20f2c2989c8b85"
      }
     },
     "metadata": {},
     "output_type": "display_data"
    },
    {
     "name": "stdout",
     "output_type": "stream",
     "text": [
      "- Epoch 100: Avg AE Loss = -0.0268, Avg Critic Loss = 0.0000, Val Loss = 0.0000\n"
     ]
    },
    {
     "data": {
      "text/plain": [
       "Epoch 101/150:   0%|          | 0/445 [00:00<?, ?batch/s]"
      ],
      "application/vnd.jupyter.widget-view+json": {
       "version_major": 2,
       "version_minor": 0,
       "model_id": "25acc3dcdc8f4da795b0beaa444ac2bb"
      }
     },
     "metadata": {},
     "output_type": "display_data"
    },
    {
     "name": "stdout",
     "output_type": "stream",
     "text": [
      "- Epoch 101: Avg AE Loss = -0.0268, Avg Critic Loss = 0.0000, Val Loss = 0.0000\n"
     ]
    },
    {
     "data": {
      "text/plain": [
       "Epoch 102/150:   0%|          | 0/445 [00:00<?, ?batch/s]"
      ],
      "application/vnd.jupyter.widget-view+json": {
       "version_major": 2,
       "version_minor": 0,
       "model_id": "2edd0da2c72b4fffbdbcf098d953790d"
      }
     },
     "metadata": {},
     "output_type": "display_data"
    },
    {
     "name": "stdout",
     "output_type": "stream",
     "text": [
      "- Epoch 102: Avg AE Loss = -0.0269, Avg Critic Loss = 0.0000, Val Loss = 0.0000\n"
     ]
    },
    {
     "data": {
      "text/plain": [
       "Epoch 103/150:   0%|          | 0/445 [00:00<?, ?batch/s]"
      ],
      "application/vnd.jupyter.widget-view+json": {
       "version_major": 2,
       "version_minor": 0,
       "model_id": "a4bead1325464b3ca96eaf1955a10788"
      }
     },
     "metadata": {},
     "output_type": "display_data"
    },
    {
     "name": "stdout",
     "output_type": "stream",
     "text": [
      "- Epoch 103: Avg AE Loss = -0.0269, Avg Critic Loss = 0.0000, Val Loss = 0.0000\n"
     ]
    },
    {
     "data": {
      "text/plain": [
       "Epoch 104/150:   0%|          | 0/445 [00:00<?, ?batch/s]"
      ],
      "application/vnd.jupyter.widget-view+json": {
       "version_major": 2,
       "version_minor": 0,
       "model_id": "2bc231d84fbf4d20947f682463360b85"
      }
     },
     "metadata": {},
     "output_type": "display_data"
    },
    {
     "name": "stdout",
     "output_type": "stream",
     "text": [
      "- Epoch 104: Avg AE Loss = -0.0269, Avg Critic Loss = 0.0000, Val Loss = 0.0000\n"
     ]
    },
    {
     "data": {
      "text/plain": [
       "Epoch 105/150:   0%|          | 0/445 [00:00<?, ?batch/s]"
      ],
      "application/vnd.jupyter.widget-view+json": {
       "version_major": 2,
       "version_minor": 0,
       "model_id": "1c7bfb60d97d4a11b5e7beb4ef8da178"
      }
     },
     "metadata": {},
     "output_type": "display_data"
    },
    {
     "name": "stdout",
     "output_type": "stream",
     "text": [
      "- Epoch 105: Avg AE Loss = -0.0269, Avg Critic Loss = 0.0000, Val Loss = 0.0000\n"
     ]
    },
    {
     "data": {
      "text/plain": [
       "Epoch 106/150:   0%|          | 0/445 [00:00<?, ?batch/s]"
      ],
      "application/vnd.jupyter.widget-view+json": {
       "version_major": 2,
       "version_minor": 0,
       "model_id": "fd503299b25b4c5ea14d4a618d9096c5"
      }
     },
     "metadata": {},
     "output_type": "display_data"
    },
    {
     "name": "stdout",
     "output_type": "stream",
     "text": [
      "- Epoch 106: Avg AE Loss = -0.0270, Avg Critic Loss = 0.0000, Val Loss = 0.0000\n"
     ]
    },
    {
     "data": {
      "text/plain": [
       "Epoch 107/150:   0%|          | 0/445 [00:00<?, ?batch/s]"
      ],
      "application/vnd.jupyter.widget-view+json": {
       "version_major": 2,
       "version_minor": 0,
       "model_id": "eada64b9fd004f858c5a081291941643"
      }
     },
     "metadata": {},
     "output_type": "display_data"
    },
    {
     "name": "stdout",
     "output_type": "stream",
     "text": [
      "- Epoch 107: Avg AE Loss = -0.0270, Avg Critic Loss = 0.0000, Val Loss = 0.0000\n"
     ]
    },
    {
     "data": {
      "text/plain": [
       "Epoch 108/150:   0%|          | 0/445 [00:00<?, ?batch/s]"
      ],
      "application/vnd.jupyter.widget-view+json": {
       "version_major": 2,
       "version_minor": 0,
       "model_id": "1444dedba3a946cdbb37365edbde3b5f"
      }
     },
     "metadata": {},
     "output_type": "display_data"
    },
    {
     "name": "stdout",
     "output_type": "stream",
     "text": [
      "- Epoch 108: Avg AE Loss = -0.0270, Avg Critic Loss = 0.0000, Val Loss = 0.0000\n"
     ]
    },
    {
     "data": {
      "text/plain": [
       "Epoch 109/150:   0%|          | 0/445 [00:00<?, ?batch/s]"
      ],
      "application/vnd.jupyter.widget-view+json": {
       "version_major": 2,
       "version_minor": 0,
       "model_id": "5c5d8cd49cb64a3b8912d54a75bce3c2"
      }
     },
     "metadata": {},
     "output_type": "display_data"
    },
    {
     "name": "stdout",
     "output_type": "stream",
     "text": [
      "- Epoch 109: Avg AE Loss = -0.0270, Avg Critic Loss = 0.0000, Val Loss = 0.0000\n"
     ]
    },
    {
     "data": {
      "text/plain": [
       "Epoch 110/150:   0%|          | 0/445 [00:00<?, ?batch/s]"
      ],
      "application/vnd.jupyter.widget-view+json": {
       "version_major": 2,
       "version_minor": 0,
       "model_id": "3a0fdae9118743f2b33291f5ce0cbce2"
      }
     },
     "metadata": {},
     "output_type": "display_data"
    },
    {
     "name": "stdout",
     "output_type": "stream",
     "text": [
      "- Epoch 110: Avg AE Loss = -0.0270, Avg Critic Loss = 0.0000, Val Loss = 0.0000\n"
     ]
    },
    {
     "data": {
      "text/plain": [
       "Epoch 111/150:   0%|          | 0/445 [00:00<?, ?batch/s]"
      ],
      "application/vnd.jupyter.widget-view+json": {
       "version_major": 2,
       "version_minor": 0,
       "model_id": "6613999e18324c1bb652a73e5a81da7d"
      }
     },
     "metadata": {},
     "output_type": "display_data"
    },
    {
     "name": "stdout",
     "output_type": "stream",
     "text": [
      "- Epoch 111: Avg AE Loss = -0.0270, Avg Critic Loss = 0.0000, Val Loss = 0.0000\n"
     ]
    },
    {
     "data": {
      "text/plain": [
       "Epoch 112/150:   0%|          | 0/445 [00:00<?, ?batch/s]"
      ],
      "application/vnd.jupyter.widget-view+json": {
       "version_major": 2,
       "version_minor": 0,
       "model_id": "7f62eb4685ee410b8169ab7a41fe3f73"
      }
     },
     "metadata": {},
     "output_type": "display_data"
    },
    {
     "name": "stdout",
     "output_type": "stream",
     "text": [
      "- Epoch 112: Avg AE Loss = -0.0271, Avg Critic Loss = 0.0000, Val Loss = 0.0000\n"
     ]
    },
    {
     "data": {
      "text/plain": [
       "Epoch 113/150:   0%|          | 0/445 [00:00<?, ?batch/s]"
      ],
      "application/vnd.jupyter.widget-view+json": {
       "version_major": 2,
       "version_minor": 0,
       "model_id": "b3d1bcddc4254b82b9260a35f3f6cb64"
      }
     },
     "metadata": {},
     "output_type": "display_data"
    },
    {
     "name": "stdout",
     "output_type": "stream",
     "text": [
      "- Epoch 113: Avg AE Loss = -0.0271, Avg Critic Loss = 0.0000, Val Loss = 0.0000\n"
     ]
    },
    {
     "data": {
      "text/plain": [
       "Epoch 114/150:   0%|          | 0/445 [00:00<?, ?batch/s]"
      ],
      "application/vnd.jupyter.widget-view+json": {
       "version_major": 2,
       "version_minor": 0,
       "model_id": "951522946670434ab9fed3c91742446a"
      }
     },
     "metadata": {},
     "output_type": "display_data"
    },
    {
     "name": "stdout",
     "output_type": "stream",
     "text": [
      "- Epoch 114: Avg AE Loss = -0.0271, Avg Critic Loss = 0.0000, Val Loss = 0.0000\n"
     ]
    },
    {
     "data": {
      "text/plain": [
       "Epoch 115/150:   0%|          | 0/445 [00:00<?, ?batch/s]"
      ],
      "application/vnd.jupyter.widget-view+json": {
       "version_major": 2,
       "version_minor": 0,
       "model_id": "6c5ce59edf0d4007bbf7b6d20cf1984b"
      }
     },
     "metadata": {},
     "output_type": "display_data"
    },
    {
     "name": "stdout",
     "output_type": "stream",
     "text": [
      "- Epoch 115: Avg AE Loss = -0.0271, Avg Critic Loss = 0.0000, Val Loss = 0.0000\n"
     ]
    },
    {
     "data": {
      "text/plain": [
       "Epoch 116/150:   0%|          | 0/445 [00:00<?, ?batch/s]"
      ],
      "application/vnd.jupyter.widget-view+json": {
       "version_major": 2,
       "version_minor": 0,
       "model_id": "18b8fd745c7548fd94664f2655938ed8"
      }
     },
     "metadata": {},
     "output_type": "display_data"
    },
    {
     "name": "stdout",
     "output_type": "stream",
     "text": [
      "- Epoch 116: Avg AE Loss = -0.0271, Avg Critic Loss = 0.0000, Val Loss = 0.0000\n"
     ]
    },
    {
     "data": {
      "text/plain": [
       "Epoch 117/150:   0%|          | 0/445 [00:00<?, ?batch/s]"
      ],
      "application/vnd.jupyter.widget-view+json": {
       "version_major": 2,
       "version_minor": 0,
       "model_id": "f16b16a3381f4c4a9f6739326243ff55"
      }
     },
     "metadata": {},
     "output_type": "display_data"
    },
    {
     "name": "stdout",
     "output_type": "stream",
     "text": [
      "- Epoch 117: Avg AE Loss = -0.0272, Avg Critic Loss = 0.0000, Val Loss = 0.0000\n"
     ]
    },
    {
     "data": {
      "text/plain": [
       "Epoch 118/150:   0%|          | 0/445 [00:00<?, ?batch/s]"
      ],
      "application/vnd.jupyter.widget-view+json": {
       "version_major": 2,
       "version_minor": 0,
       "model_id": "8552d2d72f364549a8accb1b0148db91"
      }
     },
     "metadata": {},
     "output_type": "display_data"
    },
    {
     "name": "stdout",
     "output_type": "stream",
     "text": [
      "- Epoch 118: Avg AE Loss = -0.0272, Avg Critic Loss = 0.0000, Val Loss = 0.0000\n"
     ]
    },
    {
     "data": {
      "text/plain": [
       "Epoch 119/150:   0%|          | 0/445 [00:00<?, ?batch/s]"
      ],
      "application/vnd.jupyter.widget-view+json": {
       "version_major": 2,
       "version_minor": 0,
       "model_id": "54163e0b7bbd4865a9811e340bc8829d"
      }
     },
     "metadata": {},
     "output_type": "display_data"
    },
    {
     "name": "stdout",
     "output_type": "stream",
     "text": [
      "- Epoch 119: Avg AE Loss = -0.0272, Avg Critic Loss = 0.0000, Val Loss = 0.0000\n"
     ]
    },
    {
     "data": {
      "text/plain": [
       "Epoch 120/150:   0%|          | 0/445 [00:00<?, ?batch/s]"
      ],
      "application/vnd.jupyter.widget-view+json": {
       "version_major": 2,
       "version_minor": 0,
       "model_id": "4ee70202955649a5a328e88335b7ccdf"
      }
     },
     "metadata": {},
     "output_type": "display_data"
    },
    {
     "name": "stdout",
     "output_type": "stream",
     "text": [
      "- Epoch 120: Avg AE Loss = -0.0272, Avg Critic Loss = 0.0000, Val Loss = 0.0000\n"
     ]
    },
    {
     "data": {
      "text/plain": [
       "Epoch 121/150:   0%|          | 0/445 [00:00<?, ?batch/s]"
      ],
      "application/vnd.jupyter.widget-view+json": {
       "version_major": 2,
       "version_minor": 0,
       "model_id": "56db0ee87370414089235b18fa47d8bc"
      }
     },
     "metadata": {},
     "output_type": "display_data"
    },
    {
     "name": "stdout",
     "output_type": "stream",
     "text": [
      "- Epoch 121: Avg AE Loss = -0.0272, Avg Critic Loss = 0.0000, Val Loss = 0.0000\n"
     ]
    },
    {
     "data": {
      "text/plain": [
       "Epoch 122/150:   0%|          | 0/445 [00:00<?, ?batch/s]"
      ],
      "application/vnd.jupyter.widget-view+json": {
       "version_major": 2,
       "version_minor": 0,
       "model_id": "71c7b1783a6c46dc8514f657a8acd958"
      }
     },
     "metadata": {},
     "output_type": "display_data"
    },
    {
     "name": "stdout",
     "output_type": "stream",
     "text": [
      "- Epoch 122: Avg AE Loss = -0.0273, Avg Critic Loss = 0.0000, Val Loss = 0.0000\n"
     ]
    },
    {
     "data": {
      "text/plain": [
       "Epoch 123/150:   0%|          | 0/445 [00:00<?, ?batch/s]"
      ],
      "application/vnd.jupyter.widget-view+json": {
       "version_major": 2,
       "version_minor": 0,
       "model_id": "55be0e75c68a4dcea45dbe567bca5e91"
      }
     },
     "metadata": {},
     "output_type": "display_data"
    },
    {
     "name": "stdout",
     "output_type": "stream",
     "text": [
      "- Epoch 123: Avg AE Loss = -0.0273, Avg Critic Loss = 0.0000, Val Loss = 0.0000\n"
     ]
    },
    {
     "data": {
      "text/plain": [
       "Epoch 124/150:   0%|          | 0/445 [00:00<?, ?batch/s]"
      ],
      "application/vnd.jupyter.widget-view+json": {
       "version_major": 2,
       "version_minor": 0,
       "model_id": "a1ebea2491ca46f5967b8250a367d292"
      }
     },
     "metadata": {},
     "output_type": "display_data"
    },
    {
     "name": "stdout",
     "output_type": "stream",
     "text": [
      "- Epoch 124: Avg AE Loss = -0.0273, Avg Critic Loss = 0.0000, Val Loss = 0.0000\n"
     ]
    },
    {
     "data": {
      "text/plain": [
       "Epoch 125/150:   0%|          | 0/445 [00:00<?, ?batch/s]"
      ],
      "application/vnd.jupyter.widget-view+json": {
       "version_major": 2,
       "version_minor": 0,
       "model_id": "ea7fb305d4254dad808fca05deb68d7d"
      }
     },
     "metadata": {},
     "output_type": "display_data"
    },
    {
     "name": "stdout",
     "output_type": "stream",
     "text": [
      "- Epoch 125: Avg AE Loss = -0.0273, Avg Critic Loss = 0.0000, Val Loss = 0.0000\n"
     ]
    },
    {
     "data": {
      "text/plain": [
       "Epoch 126/150:   0%|          | 0/445 [00:00<?, ?batch/s]"
      ],
      "application/vnd.jupyter.widget-view+json": {
       "version_major": 2,
       "version_minor": 0,
       "model_id": "0cd65689ebd7483385d46b1eebbf8e7e"
      }
     },
     "metadata": {},
     "output_type": "display_data"
    },
    {
     "name": "stdout",
     "output_type": "stream",
     "text": [
      "- Epoch 126: Avg AE Loss = -0.0273, Avg Critic Loss = 0.0000, Val Loss = 0.0000\n"
     ]
    },
    {
     "data": {
      "text/plain": [
       "Epoch 127/150:   0%|          | 0/445 [00:00<?, ?batch/s]"
      ],
      "application/vnd.jupyter.widget-view+json": {
       "version_major": 2,
       "version_minor": 0,
       "model_id": "a41b2e42b450489b89e6a247c20e0cf3"
      }
     },
     "metadata": {},
     "output_type": "display_data"
    },
    {
     "name": "stdout",
     "output_type": "stream",
     "text": [
      "- Epoch 127: Avg AE Loss = -0.0273, Avg Critic Loss = 0.0000, Val Loss = 0.0000\n"
     ]
    },
    {
     "data": {
      "text/plain": [
       "Epoch 128/150:   0%|          | 0/445 [00:00<?, ?batch/s]"
      ],
      "application/vnd.jupyter.widget-view+json": {
       "version_major": 2,
       "version_minor": 0,
       "model_id": "29956f718a9547819de9fb92622f7c80"
      }
     },
     "metadata": {},
     "output_type": "display_data"
    },
    {
     "name": "stdout",
     "output_type": "stream",
     "text": [
      "- Epoch 128: Avg AE Loss = -0.0274, Avg Critic Loss = 0.0000, Val Loss = 0.0000\n"
     ]
    },
    {
     "data": {
      "text/plain": [
       "Epoch 129/150:   0%|          | 0/445 [00:00<?, ?batch/s]"
      ],
      "application/vnd.jupyter.widget-view+json": {
       "version_major": 2,
       "version_minor": 0,
       "model_id": "7b552786be234068a582ef4e2703f592"
      }
     },
     "metadata": {},
     "output_type": "display_data"
    },
    {
     "name": "stdout",
     "output_type": "stream",
     "text": [
      "- Epoch 129: Avg AE Loss = -0.0274, Avg Critic Loss = 0.0000, Val Loss = 0.0000\n"
     ]
    },
    {
     "data": {
      "text/plain": [
       "Epoch 130/150:   0%|          | 0/445 [00:00<?, ?batch/s]"
      ],
      "application/vnd.jupyter.widget-view+json": {
       "version_major": 2,
       "version_minor": 0,
       "model_id": "d341c4c7004e45caa30df20a6488f037"
      }
     },
     "metadata": {},
     "output_type": "display_data"
    },
    {
     "name": "stdout",
     "output_type": "stream",
     "text": [
      "- Epoch 130: Avg AE Loss = -0.0274, Avg Critic Loss = 0.0000, Val Loss = 0.0000\n"
     ]
    },
    {
     "data": {
      "text/plain": [
       "Epoch 131/150:   0%|          | 0/445 [00:00<?, ?batch/s]"
      ],
      "application/vnd.jupyter.widget-view+json": {
       "version_major": 2,
       "version_minor": 0,
       "model_id": "0a53139ad86b4bf99dbae63b51e5c456"
      }
     },
     "metadata": {},
     "output_type": "display_data"
    },
    {
     "name": "stdout",
     "output_type": "stream",
     "text": [
      "- Epoch 131: Avg AE Loss = -0.0274, Avg Critic Loss = 0.0000, Val Loss = 0.0000\n"
     ]
    },
    {
     "data": {
      "text/plain": [
       "Epoch 132/150:   0%|          | 0/445 [00:00<?, ?batch/s]"
      ],
      "application/vnd.jupyter.widget-view+json": {
       "version_major": 2,
       "version_minor": 0,
       "model_id": "659a5b9792b04cdea2cddaaeef4a21d7"
      }
     },
     "metadata": {},
     "output_type": "display_data"
    },
    {
     "name": "stdout",
     "output_type": "stream",
     "text": [
      "- Epoch 132: Avg AE Loss = -0.0274, Avg Critic Loss = 0.0000, Val Loss = 0.0000\n"
     ]
    },
    {
     "data": {
      "text/plain": [
       "Epoch 133/150:   0%|          | 0/445 [00:00<?, ?batch/s]"
      ],
      "application/vnd.jupyter.widget-view+json": {
       "version_major": 2,
       "version_minor": 0,
       "model_id": "aa0b9117d3c34b9c8c08e59edbf443c4"
      }
     },
     "metadata": {},
     "output_type": "display_data"
    },
    {
     "name": "stdout",
     "output_type": "stream",
     "text": [
      "- Epoch 133: Avg AE Loss = -0.0274, Avg Critic Loss = 0.0000, Val Loss = 0.0000\n"
     ]
    },
    {
     "data": {
      "text/plain": [
       "Epoch 134/150:   0%|          | 0/445 [00:00<?, ?batch/s]"
      ],
      "application/vnd.jupyter.widget-view+json": {
       "version_major": 2,
       "version_minor": 0,
       "model_id": "c306e5ed4e374d409f600e28ed4b7661"
      }
     },
     "metadata": {},
     "output_type": "display_data"
    },
    {
     "name": "stdout",
     "output_type": "stream",
     "text": [
      "- Epoch 134: Avg AE Loss = -0.0275, Avg Critic Loss = 0.0000, Val Loss = 0.0000\n"
     ]
    },
    {
     "data": {
      "text/plain": [
       "Epoch 135/150:   0%|          | 0/445 [00:00<?, ?batch/s]"
      ],
      "application/vnd.jupyter.widget-view+json": {
       "version_major": 2,
       "version_minor": 0,
       "model_id": "2c05a63b583546ceb16205094937e79d"
      }
     },
     "metadata": {},
     "output_type": "display_data"
    },
    {
     "name": "stdout",
     "output_type": "stream",
     "text": [
      "- Epoch 135: Avg AE Loss = -0.0275, Avg Critic Loss = 0.0000, Val Loss = 0.0000\n"
     ]
    },
    {
     "data": {
      "text/plain": [
       "Epoch 136/150:   0%|          | 0/445 [00:00<?, ?batch/s]"
      ],
      "application/vnd.jupyter.widget-view+json": {
       "version_major": 2,
       "version_minor": 0,
       "model_id": "d074f39890f645f1ae9887dbbbd69db6"
      }
     },
     "metadata": {},
     "output_type": "display_data"
    },
    {
     "name": "stdout",
     "output_type": "stream",
     "text": [
      "- Epoch 136: Avg AE Loss = -0.0275, Avg Critic Loss = 0.0000, Val Loss = 0.0000\n"
     ]
    },
    {
     "data": {
      "text/plain": [
       "Epoch 137/150:   0%|          | 0/445 [00:00<?, ?batch/s]"
      ],
      "application/vnd.jupyter.widget-view+json": {
       "version_major": 2,
       "version_minor": 0,
       "model_id": "9085d64287a744f780ebc4601068bafb"
      }
     },
     "metadata": {},
     "output_type": "display_data"
    },
    {
     "name": "stdout",
     "output_type": "stream",
     "text": [
      "- Epoch 137: Avg AE Loss = -0.0275, Avg Critic Loss = 0.0000, Val Loss = 0.0000\n"
     ]
    },
    {
     "data": {
      "text/plain": [
       "Epoch 138/150:   0%|          | 0/445 [00:00<?, ?batch/s]"
      ],
      "application/vnd.jupyter.widget-view+json": {
       "version_major": 2,
       "version_minor": 0,
       "model_id": "4ab3f9b623da4193a99346127af6b117"
      }
     },
     "metadata": {},
     "output_type": "display_data"
    },
    {
     "name": "stdout",
     "output_type": "stream",
     "text": [
      "- Epoch 138: Avg AE Loss = -0.0275, Avg Critic Loss = 0.0000, Val Loss = 0.0000\n"
     ]
    },
    {
     "data": {
      "text/plain": [
       "Epoch 139/150:   0%|          | 0/445 [00:00<?, ?batch/s]"
      ],
      "application/vnd.jupyter.widget-view+json": {
       "version_major": 2,
       "version_minor": 0,
       "model_id": "e1a6446aa2544d8ebe2e0e41631438d4"
      }
     },
     "metadata": {},
     "output_type": "display_data"
    },
    {
     "name": "stdout",
     "output_type": "stream",
     "text": [
      "- Epoch 139: Avg AE Loss = -0.0275, Avg Critic Loss = 0.0000, Val Loss = 0.0000\n"
     ]
    },
    {
     "data": {
      "text/plain": [
       "Epoch 140/150:   0%|          | 0/445 [00:00<?, ?batch/s]"
      ],
      "application/vnd.jupyter.widget-view+json": {
       "version_major": 2,
       "version_minor": 0,
       "model_id": "79591dde3a114a2184859e15efc082b2"
      }
     },
     "metadata": {},
     "output_type": "display_data"
    },
    {
     "name": "stdout",
     "output_type": "stream",
     "text": [
      "- Epoch 140: Avg AE Loss = -0.0275, Avg Critic Loss = 0.0000, Val Loss = 0.0000\n"
     ]
    },
    {
     "data": {
      "text/plain": [
       "Epoch 141/150:   0%|          | 0/445 [00:00<?, ?batch/s]"
      ],
      "application/vnd.jupyter.widget-view+json": {
       "version_major": 2,
       "version_minor": 0,
       "model_id": "5e0f743c1e5c4c27bf38a3d077f027c8"
      }
     },
     "metadata": {},
     "output_type": "display_data"
    },
    {
     "name": "stdout",
     "output_type": "stream",
     "text": [
      "- Epoch 141: Avg AE Loss = -0.0275, Avg Critic Loss = 0.0000, Val Loss = 0.0000\n"
     ]
    },
    {
     "data": {
      "text/plain": [
       "Epoch 142/150:   0%|          | 0/445 [00:00<?, ?batch/s]"
      ],
      "application/vnd.jupyter.widget-view+json": {
       "version_major": 2,
       "version_minor": 0,
       "model_id": "2baef5294bd949248686dec8119f67c4"
      }
     },
     "metadata": {},
     "output_type": "display_data"
    },
    {
     "name": "stdout",
     "output_type": "stream",
     "text": [
      "- Epoch 142: Avg AE Loss = -0.0275, Avg Critic Loss = 0.0000, Val Loss = 0.0000\n"
     ]
    },
    {
     "data": {
      "text/plain": [
       "Epoch 143/150:   0%|          | 0/445 [00:00<?, ?batch/s]"
      ],
      "application/vnd.jupyter.widget-view+json": {
       "version_major": 2,
       "version_minor": 0,
       "model_id": "e8647d8f7b95448d85ea801e7d489470"
      }
     },
     "metadata": {},
     "output_type": "display_data"
    },
    {
     "name": "stdout",
     "output_type": "stream",
     "text": [
      "- Epoch 143: Avg AE Loss = -0.0275, Avg Critic Loss = 0.0000, Val Loss = 0.0000\n"
     ]
    },
    {
     "data": {
      "text/plain": [
       "Epoch 144/150:   0%|          | 0/445 [00:00<?, ?batch/s]"
      ],
      "application/vnd.jupyter.widget-view+json": {
       "version_major": 2,
       "version_minor": 0,
       "model_id": "5900a6974db6461691d5dfac89963c10"
      }
     },
     "metadata": {},
     "output_type": "display_data"
    },
    {
     "name": "stdout",
     "output_type": "stream",
     "text": [
      "- Epoch 144: Avg AE Loss = -0.0276, Avg Critic Loss = 0.0000, Val Loss = 0.0000\n"
     ]
    },
    {
     "data": {
      "text/plain": [
       "Epoch 145/150:   0%|          | 0/445 [00:00<?, ?batch/s]"
      ],
      "application/vnd.jupyter.widget-view+json": {
       "version_major": 2,
       "version_minor": 0,
       "model_id": "2813bf78434342d79aae99baf41d063f"
      }
     },
     "metadata": {},
     "output_type": "display_data"
    },
    {
     "name": "stdout",
     "output_type": "stream",
     "text": [
      "- Epoch 145: Avg AE Loss = -0.0276, Avg Critic Loss = 0.0000, Val Loss = 0.0000\n"
     ]
    },
    {
     "data": {
      "text/plain": [
       "Epoch 146/150:   0%|          | 0/445 [00:00<?, ?batch/s]"
      ],
      "application/vnd.jupyter.widget-view+json": {
       "version_major": 2,
       "version_minor": 0,
       "model_id": "717788bd51814d1496dfc1279702ed59"
      }
     },
     "metadata": {},
     "output_type": "display_data"
    },
    {
     "name": "stdout",
     "output_type": "stream",
     "text": [
      "- Epoch 146: Avg AE Loss = -0.0276, Avg Critic Loss = 0.0000, Val Loss = 0.0000\n",
      "Нет улучшения на валидации, early stopping.\n",
      "Обучение завершено.\n",
      "AUROC: 0.7282\n",
      "Лучший threshold: 0.0000\n",
      "Accuracy: 0.8334\n",
      "Precision: 0.9938\n",
      "Recall: 0.6687\n",
      "F1: 0.7995\n",
      "Матрица ошибок:\n",
      "TN: 15739.0000\n",
      "FP: 65.0000\n",
      "FN: 5169.0000\n",
      "TP: 10435.0000\n"
     ]
    },
    {
     "data": {
      "text/plain": [
       "<Figure size 1200x500 with 1 Axes>"
      ],
      "image/png": "[encoded data removed]"
     },
     "metadata": {},
     "output_type": "display_data"
    },
    {
     "data": {
      "text/plain": [
       "<Figure size 600x600 with 1 Axes>"
      ],
      "image/png": "[encoded data removed]"
     },
     "metadata": {},
     "output_type": "display_data"
    },
    {
     "data": {
      "text/plain": [
       "<Figure size 800x500 with 1 Axes>"
      ],
      "image/png": "[encoded data removed]"
     },
     "metadata": {},
     "output_type": "display_data"
    },
    {
     "name": "stdout",
     "output_type": "stream",
     "text": [
      "\n"
     ]
    }
   ],
   "execution_count": 18
  },
  {
   "metadata": {
    "ExecuteTime": {
     "end_time": "2025-03-31T10:07:17.495124Z",
     "start_time": "2025-03-31T10:01:27.658337Z"
    }
   },
   "cell_type": "code",
   "source": "train_attack_category('normal')",
   "id": "2c244f96124e4502",
   "outputs": [
    {
     "name": "stdout",
     "output_type": "stream",
     "text": [
      "\n",
      "< ---------- brute-http ---------- >\n"
     ]
    },
    {
     "data": {
      "text/plain": [
       "Epoch 1/150:   0%|          | 0/11 [00:00<?, ?batch/s]"
      ],
      "application/vnd.jupyter.widget-view+json": {
       "version_major": 2,
       "version_minor": 0,
       "model_id": "2ac0769d25624706b166bdc7ab042c1a"
      }
     },
     "metadata": {},
     "output_type": "display_data"
    },
    {
     "name": "stdout",
     "output_type": "stream",
     "text": [
      "- Epoch 1: Avg AE Loss = 0.1847, Avg Critic Loss = -2.4915, Val Loss = 0.1349\n"
     ]
    },
    {
     "data": {
      "text/plain": [
       "Epoch 2/150:   0%|          | 0/11 [00:00<?, ?batch/s]"
      ],
      "application/vnd.jupyter.widget-view+json": {
       "version_major": 2,
       "version_minor": 0,
       "model_id": "d127cac7d1364c3fa7ab30f939783f48"
      }
     },
     "metadata": {},
     "output_type": "display_data"
    },
    {
     "name": "stdout",
     "output_type": "stream",
     "text": [
      "- Epoch 2: Avg AE Loss = 0.1610, Avg Critic Loss = -3.7133, Val Loss = 0.1285\n"
     ]
    },
    {
     "data": {
      "text/plain": [
       "Epoch 3/150:   0%|          | 0/11 [00:00<?, ?batch/s]"
      ],
      "application/vnd.jupyter.widget-view+json": {
       "version_major": 2,
       "version_minor": 0,
       "model_id": "ea61aeaad0474eb9ab93489f5ce2abeb"
      }
     },
     "metadata": {},
     "output_type": "display_data"
    },
    {
     "name": "stdout",
     "output_type": "stream",
     "text": [
      "- Epoch 3: Avg AE Loss = 0.1452, Avg Critic Loss = -4.2356, Val Loss = 0.1145\n"
     ]
    },
    {
     "data": {
      "text/plain": [
       "Epoch 4/150:   0%|          | 0/11 [00:00<?, ?batch/s]"
      ],
      "application/vnd.jupyter.widget-view+json": {
       "version_major": 2,
       "version_minor": 0,
       "model_id": "50cc4e701aa04d2395c238bac96ac899"
      }
     },
     "metadata": {},
     "output_type": "display_data"
    },
    {
     "name": "stdout",
     "output_type": "stream",
     "text": [
      "- Epoch 4: Avg AE Loss = 0.1334, Avg Critic Loss = -4.6087, Val Loss = 0.1037\n"
     ]
    },
    {
     "data": {
      "text/plain": [
       "Epoch 5/150:   0%|          | 0/11 [00:00<?, ?batch/s]"
      ],
      "application/vnd.jupyter.widget-view+json": {
       "version_major": 2,
       "version_minor": 0,
       "model_id": "377498dc98404f738634a06b655a13b9"
      }
     },
     "metadata": {},
     "output_type": "display_data"
    },
    {
     "name": "stdout",
     "output_type": "stream",
     "text": [
      "- Epoch 5: Avg AE Loss = 0.1243, Avg Critic Loss = -4.9462, Val Loss = 0.0958\n"
     ]
    },
    {
     "data": {
      "text/plain": [
       "Epoch 6/150:   0%|          | 0/11 [00:00<?, ?batch/s]"
      ],
      "application/vnd.jupyter.widget-view+json": {
       "version_major": 2,
       "version_minor": 0,
       "model_id": "6b466b480a614ae496d9802b590c30ac"
      }
     },
     "metadata": {},
     "output_type": "display_data"
    },
    {
     "name": "stdout",
     "output_type": "stream",
     "text": [
      "- Epoch 6: Avg AE Loss = 0.1198, Avg Critic Loss = -5.2267, Val Loss = 0.0882\n"
     ]
    },
    {
     "data": {
      "text/plain": [
       "Epoch 7/150:   0%|          | 0/11 [00:00<?, ?batch/s]"
      ],
      "application/vnd.jupyter.widget-view+json": {
       "version_major": 2,
       "version_minor": 0,
       "model_id": "70e3b51d9dbd41ea9b2db37ed6ccefa2"
      }
     },
     "metadata": {},
     "output_type": "display_data"
    },
    {
     "name": "stdout",
     "output_type": "stream",
     "text": [
      "- Epoch 7: Avg AE Loss = 0.1138, Avg Critic Loss = -5.5053, Val Loss = 0.0825\n"
     ]
    },
    {
     "data": {
      "text/plain": [
       "Epoch 8/150:   0%|          | 0/11 [00:00<?, ?batch/s]"
      ],
      "application/vnd.jupyter.widget-view+json": {
       "version_major": 2,
       "version_minor": 0,
       "model_id": "63cb4ef9085e4d5f88c5bd04bd6e1057"
      }
     },
     "metadata": {},
     "output_type": "display_data"
    },
    {
     "name": "stdout",
     "output_type": "stream",
     "text": [
      "- Epoch 8: Avg AE Loss = 0.1098, Avg Critic Loss = -5.7413, Val Loss = 0.0771\n"
     ]
    },
    {
     "data": {
      "text/plain": [
       "Epoch 9/150:   0%|          | 0/11 [00:00<?, ?batch/s]"
      ],
      "application/vnd.jupyter.widget-view+json": {
       "version_major": 2,
       "version_minor": 0,
       "model_id": "3cae859fe427408082020c89846ede94"
      }
     },
     "metadata": {},
     "output_type": "display_data"
    },
    {
     "name": "stdout",
     "output_type": "stream",
     "text": [
      "- Epoch 9: Avg AE Loss = 0.1066, Avg Critic Loss = -5.9095, Val Loss = 0.0720\n"
     ]
    },
    {
     "data": {
      "text/plain": [
       "Epoch 10/150:   0%|          | 0/11 [00:00<?, ?batch/s]"
      ],
      "application/vnd.jupyter.widget-view+json": {
       "version_major": 2,
       "version_minor": 0,
       "model_id": "a6eb0bc5d6894ee6b065810f5f7b7d83"
      }
     },
     "metadata": {},
     "output_type": "display_data"
    },
    {
     "name": "stdout",
     "output_type": "stream",
     "text": [
      "- Epoch 10: Avg AE Loss = 0.1038, Avg Critic Loss = -6.0155, Val Loss = 0.0686\n"
     ]
    },
    {
     "data": {
      "text/plain": [
       "Epoch 11/150:   0%|          | 0/11 [00:00<?, ?batch/s]"
      ],
      "application/vnd.jupyter.widget-view+json": {
       "version_major": 2,
       "version_minor": 0,
       "model_id": "558b66135a7d44b8813868b7a1581ae3"
      }
     },
     "metadata": {},
     "output_type": "display_data"
    },
    {
     "name": "stdout",
     "output_type": "stream",
     "text": [
      "- Epoch 11: Avg AE Loss = 0.1000, Avg Critic Loss = -6.0542, Val Loss = 0.0670\n"
     ]
    },
    {
     "data": {
      "text/plain": [
       "Epoch 12/150:   0%|          | 0/11 [00:00<?, ?batch/s]"
      ],
      "application/vnd.jupyter.widget-view+json": {
       "version_major": 2,
       "version_minor": 0,
       "model_id": "9afc464706b54b24be22a7f7d21f6577"
      }
     },
     "metadata": {},
     "output_type": "display_data"
    },
    {
     "name": "stdout",
     "output_type": "stream",
     "text": [
      "- Epoch 12: Avg AE Loss = 0.0970, Avg Critic Loss = -6.0799, Val Loss = 0.0632\n"
     ]
    },
    {
     "data": {
      "text/plain": [
       "Epoch 13/150:   0%|          | 0/11 [00:00<?, ?batch/s]"
      ],
      "application/vnd.jupyter.widget-view+json": {
       "version_major": 2,
       "version_minor": 0,
       "model_id": "711e423ea60e4b0bad25c651dc4bbc20"
      }
     },
     "metadata": {},
     "output_type": "display_data"
    },
    {
     "name": "stdout",
     "output_type": "stream",
     "text": [
      "- Epoch 13: Avg AE Loss = 0.0949, Avg Critic Loss = -6.0219, Val Loss = 0.0610\n"
     ]
    },
    {
     "data": {
      "text/plain": [
       "Epoch 14/150:   0%|          | 0/11 [00:00<?, ?batch/s]"
      ],
      "application/vnd.jupyter.widget-view+json": {
       "version_major": 2,
       "version_minor": 0,
       "model_id": "0c145d094ac3485ab94d5c1c44336040"
      }
     },
     "metadata": {},
     "output_type": "display_data"
    },
    {
     "name": "stdout",
     "output_type": "stream",
     "text": [
      "- Epoch 14: Avg AE Loss = 0.0927, Avg Critic Loss = -5.9699, Val Loss = 0.0592\n"
     ]
    },
    {
     "data": {
      "text/plain": [
       "Epoch 15/150:   0%|          | 0/11 [00:00<?, ?batch/s]"
      ],
      "application/vnd.jupyter.widget-view+json": {
       "version_major": 2,
       "version_minor": 0,
       "model_id": "a52f1329b9404fa99d59b5552e594da8"
      }
     },
     "metadata": {},
     "output_type": "display_data"
    },
    {
     "name": "stdout",
     "output_type": "stream",
     "text": [
      "- Epoch 15: Avg AE Loss = 0.0905, Avg Critic Loss = -5.8722, Val Loss = 0.0555\n"
     ]
    },
    {
     "data": {
      "text/plain": [
       "Epoch 16/150:   0%|          | 0/11 [00:00<?, ?batch/s]"
      ],
      "application/vnd.jupyter.widget-view+json": {
       "version_major": 2,
       "version_minor": 0,
       "model_id": "2d7d430d53d94fc3af5114dd73fab4f4"
      }
     },
     "metadata": {},
     "output_type": "display_data"
    },
    {
     "name": "stdout",
     "output_type": "stream",
     "text": [
      "- Epoch 16: Avg AE Loss = 0.0866, Avg Critic Loss = -5.7774, Val Loss = 0.0553\n"
     ]
    },
    {
     "data": {
      "text/plain": [
       "Epoch 17/150:   0%|          | 0/11 [00:00<?, ?batch/s]"
      ],
      "application/vnd.jupyter.widget-view+json": {
       "version_major": 2,
       "version_minor": 0,
       "model_id": "a66ed8398f66412888d526a6fcf93863"
      }
     },
     "metadata": {},
     "output_type": "display_data"
    },
    {
     "name": "stdout",
     "output_type": "stream",
     "text": [
      "- Epoch 17: Avg AE Loss = 0.0837, Avg Critic Loss = -5.6487, Val Loss = 0.0524\n"
     ]
    },
    {
     "data": {
      "text/plain": [
       "Epoch 18/150:   0%|          | 0/11 [00:00<?, ?batch/s]"
      ],
      "application/vnd.jupyter.widget-view+json": {
       "version_major": 2,
       "version_minor": 0,
       "model_id": "ff714a932b024b11bdf5594d670b7fa8"
      }
     },
     "metadata": {},
     "output_type": "display_data"
    },
    {
     "name": "stdout",
     "output_type": "stream",
     "text": [
      "- Epoch 18: Avg AE Loss = 0.0799, Avg Critic Loss = -5.5415, Val Loss = 0.0527\n"
     ]
    },
    {
     "data": {
      "text/plain": [
       "Epoch 19/150:   0%|          | 0/11 [00:00<?, ?batch/s]"
      ],
      "application/vnd.jupyter.widget-view+json": {
       "version_major": 2,
       "version_minor": 0,
       "model_id": "5ff3540279cc49eaa66e80ef73a978b0"
      }
     },
     "metadata": {},
     "output_type": "display_data"
    },
    {
     "name": "stdout",
     "output_type": "stream",
     "text": [
      "- Epoch 19: Avg AE Loss = 0.0772, Avg Critic Loss = -5.4451, Val Loss = 0.0475\n"
     ]
    },
    {
     "data": {
      "text/plain": [
       "Epoch 20/150:   0%|          | 0/11 [00:00<?, ?batch/s]"
      ],
      "application/vnd.jupyter.widget-view+json": {
       "version_major": 2,
       "version_minor": 0,
       "model_id": "6b52fe82d8a8436a9e4af95a5d992b2b"
      }
     },
     "metadata": {},
     "output_type": "display_data"
    },
    {
     "name": "stdout",
     "output_type": "stream",
     "text": [
      "- Epoch 20: Avg AE Loss = 0.0737, Avg Critic Loss = -5.3439, Val Loss = 0.0462\n"
     ]
    },
    {
     "data": {
      "text/plain": [
       "Epoch 21/150:   0%|          | 0/11 [00:00<?, ?batch/s]"
      ],
      "application/vnd.jupyter.widget-view+json": {
       "version_major": 2,
       "version_minor": 0,
       "model_id": "4c39e9338bb54e789e299dbec3f2c4fb"
      }
     },
     "metadata": {},
     "output_type": "display_data"
    },
    {
     "name": "stdout",
     "output_type": "stream",
     "text": [
      "- Epoch 21: Avg AE Loss = 0.0718, Avg Critic Loss = -5.2394, Val Loss = 0.0451\n"
     ]
    },
    {
     "data": {
      "text/plain": [
       "Epoch 22/150:   0%|          | 0/11 [00:00<?, ?batch/s]"
      ],
      "application/vnd.jupyter.widget-view+json": {
       "version_major": 2,
       "version_minor": 0,
       "model_id": "7888638c12f84a6c993aec2d6a5fa49e"
      }
     },
     "metadata": {},
     "output_type": "display_data"
    },
    {
     "name": "stdout",
     "output_type": "stream",
     "text": [
      "- Epoch 22: Avg AE Loss = 0.0721, Avg Critic Loss = -5.1564, Val Loss = 0.0425\n"
     ]
    },
    {
     "data": {
      "text/plain": [
       "Epoch 23/150:   0%|          | 0/11 [00:00<?, ?batch/s]"
      ],
      "application/vnd.jupyter.widget-view+json": {
       "version_major": 2,
       "version_minor": 0,
       "model_id": "84aeb4810e8a4ecc9b168e8754b5983b"
      }
     },
     "metadata": {},
     "output_type": "display_data"
    },
    {
     "name": "stdout",
     "output_type": "stream",
     "text": [
      "- Epoch 23: Avg AE Loss = 0.0692, Avg Critic Loss = -5.0565, Val Loss = 0.0418\n"
     ]
    },
    {
     "data": {
      "text/plain": [
       "Epoch 24/150:   0%|          | 0/11 [00:00<?, ?batch/s]"
      ],
      "application/vnd.jupyter.widget-view+json": {
       "version_major": 2,
       "version_minor": 0,
       "model_id": "42b15e70fe2e4e36a02f44b8fbfd94f0"
      }
     },
     "metadata": {},
     "output_type": "display_data"
    },
    {
     "name": "stdout",
     "output_type": "stream",
     "text": [
      "- Epoch 24: Avg AE Loss = 0.0684, Avg Critic Loss = -4.9891, Val Loss = 0.0411\n"
     ]
    },
    {
     "data": {
      "text/plain": [
       "Epoch 25/150:   0%|          | 0/11 [00:00<?, ?batch/s]"
      ],
      "application/vnd.jupyter.widget-view+json": {
       "version_major": 2,
       "version_minor": 0,
       "model_id": "6da869729315482cadc204f051168fb9"
      }
     },
     "metadata": {},
     "output_type": "display_data"
    },
    {
     "name": "stdout",
     "output_type": "stream",
     "text": [
      "- Epoch 25: Avg AE Loss = 0.0665, Avg Critic Loss = -4.8975, Val Loss = 0.0386\n"
     ]
    },
    {
     "data": {
      "text/plain": [
       "Epoch 26/150:   0%|          | 0/11 [00:00<?, ?batch/s]"
      ],
      "application/vnd.jupyter.widget-view+json": {
       "version_major": 2,
       "version_minor": 0,
       "model_id": "b095d07af158481eb5140a6b8d9fac3a"
      }
     },
     "metadata": {},
     "output_type": "display_data"
    },
    {
     "name": "stdout",
     "output_type": "stream",
     "text": [
      "- Epoch 26: Avg AE Loss = 0.0631, Avg Critic Loss = -4.8116, Val Loss = 0.0391\n"
     ]
    },
    {
     "data": {
      "text/plain": [
       "Epoch 27/150:   0%|          | 0/11 [00:00<?, ?batch/s]"
      ],
      "application/vnd.jupyter.widget-view+json": {
       "version_major": 2,
       "version_minor": 0,
       "model_id": "cfd4a06a921f42a3b5254b8df7be9d61"
      }
     },
     "metadata": {},
     "output_type": "display_data"
    },
    {
     "name": "stdout",
     "output_type": "stream",
     "text": [
      "- Epoch 27: Avg AE Loss = 0.0630, Avg Critic Loss = -4.7317, Val Loss = 0.0382\n"
     ]
    },
    {
     "data": {
      "text/plain": [
       "Epoch 28/150:   0%|          | 0/11 [00:00<?, ?batch/s]"
      ],
      "application/vnd.jupyter.widget-view+json": {
       "version_major": 2,
       "version_minor": 0,
       "model_id": "75fc6cfdf7cd48d4a07cba48c25fddeb"
      }
     },
     "metadata": {},
     "output_type": "display_data"
    },
    {
     "name": "stdout",
     "output_type": "stream",
     "text": [
      "- Epoch 28: Avg AE Loss = 0.0612, Avg Critic Loss = -4.6627, Val Loss = 0.0345\n"
     ]
    },
    {
     "data": {
      "text/plain": [
       "Epoch 29/150:   0%|          | 0/11 [00:00<?, ?batch/s]"
      ],
      "application/vnd.jupyter.widget-view+json": {
       "version_major": 2,
       "version_minor": 0,
       "model_id": "e9cc4dc194e9447aa0df178abd868140"
      }
     },
     "metadata": {},
     "output_type": "display_data"
    },
    {
     "name": "stdout",
     "output_type": "stream",
     "text": [
      "- Epoch 29: Avg AE Loss = 0.0592, Avg Critic Loss = -4.5807, Val Loss = 0.0356\n"
     ]
    },
    {
     "data": {
      "text/plain": [
       "Epoch 30/150:   0%|          | 0/11 [00:00<?, ?batch/s]"
      ],
      "application/vnd.jupyter.widget-view+json": {
       "version_major": 2,
       "version_minor": 0,
       "model_id": "9c12393a1e0143658b100502133b486c"
      }
     },
     "metadata": {},
     "output_type": "display_data"
    },
    {
     "name": "stdout",
     "output_type": "stream",
     "text": [
      "- Epoch 30: Avg AE Loss = 0.0589, Avg Critic Loss = -4.5155, Val Loss = 0.0346\n"
     ]
    },
    {
     "data": {
      "text/plain": [
       "Epoch 31/150:   0%|          | 0/11 [00:00<?, ?batch/s]"
      ],
      "application/vnd.jupyter.widget-view+json": {
       "version_major": 2,
       "version_minor": 0,
       "model_id": "2e11b9f32e844a629a5d088b3ccd7af5"
      }
     },
     "metadata": {},
     "output_type": "display_data"
    },
    {
     "name": "stdout",
     "output_type": "stream",
     "text": [
      "- Epoch 31: Avg AE Loss = 0.0576, Avg Critic Loss = -4.4412, Val Loss = 0.0319\n"
     ]
    },
    {
     "data": {
      "text/plain": [
       "Epoch 32/150:   0%|          | 0/11 [00:00<?, ?batch/s]"
      ],
      "application/vnd.jupyter.widget-view+json": {
       "version_major": 2,
       "version_minor": 0,
       "model_id": "752219d598a44739a0089708cfa1dcfc"
      }
     },
     "metadata": {},
     "output_type": "display_data"
    },
    {
     "name": "stdout",
     "output_type": "stream",
     "text": [
      "- Epoch 32: Avg AE Loss = 0.0561, Avg Critic Loss = -4.3791, Val Loss = 0.0338\n"
     ]
    },
    {
     "data": {
      "text/plain": [
       "Epoch 33/150:   0%|          | 0/11 [00:00<?, ?batch/s]"
      ],
      "application/vnd.jupyter.widget-view+json": {
       "version_major": 2,
       "version_minor": 0,
       "model_id": "1dacd6e22af9401ebb4686fad82884f3"
      }
     },
     "metadata": {},
     "output_type": "display_data"
    },
    {
     "name": "stdout",
     "output_type": "stream",
     "text": [
      "- Epoch 33: Avg AE Loss = 0.0538, Avg Critic Loss = -4.3076, Val Loss = 0.0315\n"
     ]
    },
    {
     "data": {
      "text/plain": [
       "Epoch 34/150:   0%|          | 0/11 [00:00<?, ?batch/s]"
      ],
      "application/vnd.jupyter.widget-view+json": {
       "version_major": 2,
       "version_minor": 0,
       "model_id": "616c9fad3a8c4a9cb7fa8733963cbcc2"
      }
     },
     "metadata": {},
     "output_type": "display_data"
    },
    {
     "name": "stdout",
     "output_type": "stream",
     "text": [
      "- Epoch 34: Avg AE Loss = 0.0526, Avg Critic Loss = -4.2416, Val Loss = 0.0316\n"
     ]
    },
    {
     "data": {
      "text/plain": [
       "Epoch 35/150:   0%|          | 0/11 [00:00<?, ?batch/s]"
      ],
      "application/vnd.jupyter.widget-view+json": {
       "version_major": 2,
       "version_minor": 0,
       "model_id": "40fd6a2679e34d8fb4bf3470f60d1847"
      }
     },
     "metadata": {},
     "output_type": "display_data"
    },
    {
     "name": "stdout",
     "output_type": "stream",
     "text": [
      "- Epoch 35: Avg AE Loss = 0.0508, Avg Critic Loss = -4.1813, Val Loss = 0.0300\n"
     ]
    },
    {
     "data": {
      "text/plain": [
       "Epoch 36/150:   0%|          | 0/11 [00:00<?, ?batch/s]"
      ],
      "application/vnd.jupyter.widget-view+json": {
       "version_major": 2,
       "version_minor": 0,
       "model_id": "d52e33ea64034a8581eb405453571c68"
      }
     },
     "metadata": {},
     "output_type": "display_data"
    },
    {
     "name": "stdout",
     "output_type": "stream",
     "text": [
      "- Epoch 36: Avg AE Loss = 0.0515, Avg Critic Loss = -4.1149, Val Loss = 0.0289\n"
     ]
    },
    {
     "data": {
      "text/plain": [
       "Epoch 37/150:   0%|          | 0/11 [00:00<?, ?batch/s]"
      ],
      "application/vnd.jupyter.widget-view+json": {
       "version_major": 2,
       "version_minor": 0,
       "model_id": "10adf184958d4d78868651b400c91489"
      }
     },
     "metadata": {},
     "output_type": "display_data"
    },
    {
     "name": "stdout",
     "output_type": "stream",
     "text": [
      "- Epoch 37: Avg AE Loss = 0.0500, Avg Critic Loss = -4.0595, Val Loss = 0.0270\n"
     ]
    },
    {
     "data": {
      "text/plain": [
       "Epoch 38/150:   0%|          | 0/11 [00:00<?, ?batch/s]"
      ],
      "application/vnd.jupyter.widget-view+json": {
       "version_major": 2,
       "version_minor": 0,
       "model_id": "d73ddcaeab814e51854cda1995145796"
      }
     },
     "metadata": {},
     "output_type": "display_data"
    },
    {
     "name": "stdout",
     "output_type": "stream",
     "text": [
      "- Epoch 38: Avg AE Loss = 0.0491, Avg Critic Loss = -3.9991, Val Loss = 0.0271\n"
     ]
    },
    {
     "data": {
      "text/plain": [
       "Epoch 39/150:   0%|          | 0/11 [00:00<?, ?batch/s]"
      ],
      "application/vnd.jupyter.widget-view+json": {
       "version_major": 2,
       "version_minor": 0,
       "model_id": "50a4240dcd65420ba3ed24c53e8d4a25"
      }
     },
     "metadata": {},
     "output_type": "display_data"
    },
    {
     "name": "stdout",
     "output_type": "stream",
     "text": [
      "- Epoch 39: Avg AE Loss = 0.0474, Avg Critic Loss = -3.9420, Val Loss = 0.0257\n"
     ]
    },
    {
     "data": {
      "text/plain": [
       "Epoch 40/150:   0%|          | 0/11 [00:00<?, ?batch/s]"
      ],
      "application/vnd.jupyter.widget-view+json": {
       "version_major": 2,
       "version_minor": 0,
       "model_id": "21ed4b9221bc400f97dad3a3bd0ceb78"
      }
     },
     "metadata": {},
     "output_type": "display_data"
    },
    {
     "name": "stdout",
     "output_type": "stream",
     "text": [
      "- Epoch 40: Avg AE Loss = 0.0466, Avg Critic Loss = -3.8871, Val Loss = 0.0257\n"
     ]
    },
    {
     "data": {
      "text/plain": [
       "Epoch 41/150:   0%|          | 0/11 [00:00<?, ?batch/s]"
      ],
      "application/vnd.jupyter.widget-view+json": {
       "version_major": 2,
       "version_minor": 0,
       "model_id": "199608595a3d4577ab24c94ffae2cba0"
      }
     },
     "metadata": {},
     "output_type": "display_data"
    },
    {
     "name": "stdout",
     "output_type": "stream",
     "text": [
      "- Epoch 41: Avg AE Loss = 0.0454, Avg Critic Loss = -3.8321, Val Loss = 0.0250\n"
     ]
    },
    {
     "data": {
      "text/plain": [
       "Epoch 42/150:   0%|          | 0/11 [00:00<?, ?batch/s]"
      ],
      "application/vnd.jupyter.widget-view+json": {
       "version_major": 2,
       "version_minor": 0,
       "model_id": "e11733a883fb4a57bffaca2b483a6fa0"
      }
     },
     "metadata": {},
     "output_type": "display_data"
    },
    {
     "name": "stdout",
     "output_type": "stream",
     "text": [
      "- Epoch 42: Avg AE Loss = 0.0450, Avg Critic Loss = -3.7802, Val Loss = 0.0240\n"
     ]
    },
    {
     "data": {
      "text/plain": [
       "Epoch 43/150:   0%|          | 0/11 [00:00<?, ?batch/s]"
      ],
      "application/vnd.jupyter.widget-view+json": {
       "version_major": 2,
       "version_minor": 0,
       "model_id": "30ecc4c0130744aa959c80941a887504"
      }
     },
     "metadata": {},
     "output_type": "display_data"
    },
    {
     "name": "stdout",
     "output_type": "stream",
     "text": [
      "- Epoch 43: Avg AE Loss = 0.0446, Avg Critic Loss = -3.7266, Val Loss = 0.0255\n"
     ]
    },
    {
     "data": {
      "text/plain": [
       "Epoch 44/150:   0%|          | 0/11 [00:00<?, ?batch/s]"
      ],
      "application/vnd.jupyter.widget-view+json": {
       "version_major": 2,
       "version_minor": 0,
       "model_id": "d3d3cefda4ba494a852b981d4ee67d18"
      }
     },
     "metadata": {},
     "output_type": "display_data"
    },
    {
     "name": "stdout",
     "output_type": "stream",
     "text": [
      "- Epoch 44: Avg AE Loss = 0.0428, Avg Critic Loss = -3.6770, Val Loss = 0.0232\n"
     ]
    },
    {
     "data": {
      "text/plain": [
       "Epoch 45/150:   0%|          | 0/11 [00:00<?, ?batch/s]"
      ],
      "application/vnd.jupyter.widget-view+json": {
       "version_major": 2,
       "version_minor": 0,
       "model_id": "e4cbd0174aee4eac82a2361c83224029"
      }
     },
     "metadata": {},
     "output_type": "display_data"
    },
    {
     "name": "stdout",
     "output_type": "stream",
     "text": [
      "- Epoch 45: Avg AE Loss = 0.0422, Avg Critic Loss = -3.6265, Val Loss = 0.0237\n"
     ]
    },
    {
     "data": {
      "text/plain": [
       "Epoch 46/150:   0%|          | 0/11 [00:00<?, ?batch/s]"
      ],
      "application/vnd.jupyter.widget-view+json": {
       "version_major": 2,
       "version_minor": 0,
       "model_id": "72d3abfd14f242708245ab3f94725842"
      }
     },
     "metadata": {},
     "output_type": "display_data"
    },
    {
     "name": "stdout",
     "output_type": "stream",
     "text": [
      "- Epoch 46: Avg AE Loss = 0.0424, Avg Critic Loss = -3.5793, Val Loss = 0.0217\n"
     ]
    },
    {
     "data": {
      "text/plain": [
       "Epoch 47/150:   0%|          | 0/11 [00:00<?, ?batch/s]"
      ],
      "application/vnd.jupyter.widget-view+json": {
       "version_major": 2,
       "version_minor": 0,
       "model_id": "289306aac9e2479baf4fdd67da8f0423"
      }
     },
     "metadata": {},
     "output_type": "display_data"
    },
    {
     "name": "stdout",
     "output_type": "stream",
     "text": [
      "- Epoch 47: Avg AE Loss = 0.0414, Avg Critic Loss = -3.5273, Val Loss = 0.0217\n"
     ]
    },
    {
     "data": {
      "text/plain": [
       "Epoch 48/150:   0%|          | 0/11 [00:00<?, ?batch/s]"
      ],
      "application/vnd.jupyter.widget-view+json": {
       "version_major": 2,
       "version_minor": 0,
       "model_id": "5b4d09ad4f6e4a4eb74949452923461c"
      }
     },
     "metadata": {},
     "output_type": "display_data"
    },
    {
     "name": "stdout",
     "output_type": "stream",
     "text": [
      "- Epoch 48: Avg AE Loss = 0.0405, Avg Critic Loss = -3.4799, Val Loss = 0.0212\n"
     ]
    },
    {
     "data": {
      "text/plain": [
       "Epoch 49/150:   0%|          | 0/11 [00:00<?, ?batch/s]"
      ],
      "application/vnd.jupyter.widget-view+json": {
       "version_major": 2,
       "version_minor": 0,
       "model_id": "8c92b2a0912c439d96e69bacf28cbfcc"
      }
     },
     "metadata": {},
     "output_type": "display_data"
    },
    {
     "name": "stdout",
     "output_type": "stream",
     "text": [
      "- Epoch 49: Avg AE Loss = 0.0401, Avg Critic Loss = -3.4367, Val Loss = 0.0205\n"
     ]
    },
    {
     "data": {
      "text/plain": [
       "Epoch 50/150:   0%|          | 0/11 [00:00<?, ?batch/s]"
      ],
      "application/vnd.jupyter.widget-view+json": {
       "version_major": 2,
       "version_minor": 0,
       "model_id": "88d35c2699a64a6fbcfef956dc5ca4c7"
      }
     },
     "metadata": {},
     "output_type": "display_data"
    },
    {
     "name": "stdout",
     "output_type": "stream",
     "text": [
      "- Epoch 50: Avg AE Loss = 0.0394, Avg Critic Loss = -3.3879, Val Loss = 0.0198\n"
     ]
    },
    {
     "data": {
      "text/plain": [
       "Epoch 51/150:   0%|          | 0/11 [00:00<?, ?batch/s]"
      ],
      "application/vnd.jupyter.widget-view+json": {
       "version_major": 2,
       "version_minor": 0,
       "model_id": "7ab806cd319a440db17926fdb6830ba5"
      }
     },
     "metadata": {},
     "output_type": "display_data"
    },
    {
     "name": "stdout",
     "output_type": "stream",
     "text": [
      "- Epoch 51: Avg AE Loss = 0.0385, Avg Critic Loss = -3.3453, Val Loss = 0.0205\n"
     ]
    },
    {
     "data": {
      "text/plain": [
       "Epoch 52/150:   0%|          | 0/11 [00:00<?, ?batch/s]"
      ],
      "application/vnd.jupyter.widget-view+json": {
       "version_major": 2,
       "version_minor": 0,
       "model_id": "916d2b8570c44235b12e4750c4783b9c"
      }
     },
     "metadata": {},
     "output_type": "display_data"
    },
    {
     "name": "stdout",
     "output_type": "stream",
     "text": [
      "- Epoch 52: Avg AE Loss = 0.0381, Avg Critic Loss = -3.3039, Val Loss = 0.0192\n"
     ]
    },
    {
     "data": {
      "text/plain": [
       "Epoch 53/150:   0%|          | 0/11 [00:00<?, ?batch/s]"
      ],
      "application/vnd.jupyter.widget-view+json": {
       "version_major": 2,
       "version_minor": 0,
       "model_id": "2fadecec496d48dc984f50b8d3ccd0bd"
      }
     },
     "metadata": {},
     "output_type": "display_data"
    },
    {
     "name": "stdout",
     "output_type": "stream",
     "text": [
      "- Epoch 53: Avg AE Loss = 0.0370, Avg Critic Loss = -3.2587, Val Loss = 0.0183\n"
     ]
    },
    {
     "data": {
      "text/plain": [
       "Epoch 54/150:   0%|          | 0/11 [00:00<?, ?batch/s]"
      ],
      "application/vnd.jupyter.widget-view+json": {
       "version_major": 2,
       "version_minor": 0,
       "model_id": "2d85a5e6959646bb913d07b5f2fb0549"
      }
     },
     "metadata": {},
     "output_type": "display_data"
    },
    {
     "name": "stdout",
     "output_type": "stream",
     "text": [
      "- Epoch 54: Avg AE Loss = 0.0368, Avg Critic Loss = -3.2170, Val Loss = 0.0177\n"
     ]
    },
    {
     "data": {
      "text/plain": [
       "Epoch 55/150:   0%|          | 0/11 [00:00<?, ?batch/s]"
      ],
      "application/vnd.jupyter.widget-view+json": {
       "version_major": 2,
       "version_minor": 0,
       "model_id": "2082f254f2c74617978c2d578fa4c606"
      }
     },
     "metadata": {},
     "output_type": "display_data"
    },
    {
     "name": "stdout",
     "output_type": "stream",
     "text": [
      "- Epoch 55: Avg AE Loss = 0.0365, Avg Critic Loss = -3.1765, Val Loss = 0.0190\n"
     ]
    },
    {
     "data": {
      "text/plain": [
       "Epoch 56/150:   0%|          | 0/11 [00:00<?, ?batch/s]"
      ],
      "application/vnd.jupyter.widget-view+json": {
       "version_major": 2,
       "version_minor": 0,
       "model_id": "fb2bbe16067f473fa12b0627da4438da"
      }
     },
     "metadata": {},
     "output_type": "display_data"
    },
    {
     "name": "stdout",
     "output_type": "stream",
     "text": [
      "- Epoch 56: Avg AE Loss = 0.0356, Avg Critic Loss = -3.1344, Val Loss = 0.0172\n"
     ]
    },
    {
     "data": {
      "text/plain": [
       "Epoch 57/150:   0%|          | 0/11 [00:00<?, ?batch/s]"
      ],
      "application/vnd.jupyter.widget-view+json": {
       "version_major": 2,
       "version_minor": 0,
       "model_id": "14c2c313943348828754722934a205c7"
      }
     },
     "metadata": {},
     "output_type": "display_data"
    },
    {
     "name": "stdout",
     "output_type": "stream",
     "text": [
      "- Epoch 57: Avg AE Loss = 0.0343, Avg Critic Loss = -3.0963, Val Loss = 0.0173\n"
     ]
    },
    {
     "data": {
      "text/plain": [
       "Epoch 58/150:   0%|          | 0/11 [00:00<?, ?batch/s]"
      ],
      "application/vnd.jupyter.widget-view+json": {
       "version_major": 2,
       "version_minor": 0,
       "model_id": "65e8c25dc35f4c8eab0fa200e56e64cc"
      }
     },
     "metadata": {},
     "output_type": "display_data"
    },
    {
     "name": "stdout",
     "output_type": "stream",
     "text": [
      "- Epoch 58: Avg AE Loss = 0.0342, Avg Critic Loss = -3.0567, Val Loss = 0.0166\n"
     ]
    },
    {
     "data": {
      "text/plain": [
       "Epoch 59/150:   0%|          | 0/11 [00:00<?, ?batch/s]"
      ],
      "application/vnd.jupyter.widget-view+json": {
       "version_major": 2,
       "version_minor": 0,
       "model_id": "0662beec8c6f437e8fe87ef1bb0621fd"
      }
     },
     "metadata": {},
     "output_type": "display_data"
    },
    {
     "name": "stdout",
     "output_type": "stream",
     "text": [
      "- Epoch 59: Avg AE Loss = 0.0330, Avg Critic Loss = -3.0194, Val Loss = 0.0154\n"
     ]
    },
    {
     "data": {
      "text/plain": [
       "Epoch 60/150:   0%|          | 0/11 [00:00<?, ?batch/s]"
      ],
      "application/vnd.jupyter.widget-view+json": {
       "version_major": 2,
       "version_minor": 0,
       "model_id": "c7c5b1327c734fb7b96c0a8e604a8de2"
      }
     },
     "metadata": {},
     "output_type": "display_data"
    },
    {
     "name": "stdout",
     "output_type": "stream",
     "text": [
      "- Epoch 60: Avg AE Loss = 0.0328, Avg Critic Loss = -2.9816, Val Loss = 0.0160\n"
     ]
    },
    {
     "data": {
      "text/plain": [
       "Epoch 61/150:   0%|          | 0/11 [00:00<?, ?batch/s]"
      ],
      "application/vnd.jupyter.widget-view+json": {
       "version_major": 2,
       "version_minor": 0,
       "model_id": "795b52070f704c22918d50182fdeb97d"
      }
     },
     "metadata": {},
     "output_type": "display_data"
    },
    {
     "name": "stdout",
     "output_type": "stream",
     "text": [
      "- Epoch 61: Avg AE Loss = 0.0321, Avg Critic Loss = -2.9480, Val Loss = 0.0148\n"
     ]
    },
    {
     "data": {
      "text/plain": [
       "Epoch 62/150:   0%|          | 0/11 [00:00<?, ?batch/s]"
      ],
      "application/vnd.jupyter.widget-view+json": {
       "version_major": 2,
       "version_minor": 0,
       "model_id": "00d3bc767c3544eaa841127bab57015d"
      }
     },
     "metadata": {},
     "output_type": "display_data"
    },
    {
     "name": "stdout",
     "output_type": "stream",
     "text": [
      "- Epoch 62: Avg AE Loss = 0.0319, Avg Critic Loss = -2.9086, Val Loss = 0.0151\n"
     ]
    },
    {
     "data": {
      "text/plain": [
       "Epoch 63/150:   0%|          | 0/11 [00:00<?, ?batch/s]"
      ],
      "application/vnd.jupyter.widget-view+json": {
       "version_major": 2,
       "version_minor": 0,
       "model_id": "779552a935fb4eceb454c643ef0d5646"
      }
     },
     "metadata": {},
     "output_type": "display_data"
    },
    {
     "name": "stdout",
     "output_type": "stream",
     "text": [
      "- Epoch 63: Avg AE Loss = 0.0315, Avg Critic Loss = -2.8747, Val Loss = 0.0148\n"
     ]
    },
    {
     "data": {
      "text/plain": [
       "Epoch 64/150:   0%|          | 0/11 [00:00<?, ?batch/s]"
      ],
      "application/vnd.jupyter.widget-view+json": {
       "version_major": 2,
       "version_minor": 0,
       "model_id": "9011b06952a44dd098e7a5677724c4bd"
      }
     },
     "metadata": {},
     "output_type": "display_data"
    },
    {
     "name": "stdout",
     "output_type": "stream",
     "text": [
      "- Epoch 64: Avg AE Loss = 0.0315, Avg Critic Loss = -2.8414, Val Loss = 0.0137\n"
     ]
    },
    {
     "data": {
      "text/plain": [
       "Epoch 65/150:   0%|          | 0/11 [00:00<?, ?batch/s]"
      ],
      "application/vnd.jupyter.widget-view+json": {
       "version_major": 2,
       "version_minor": 0,
       "model_id": "0f459612645e4a3e9caee35431aba9cc"
      }
     },
     "metadata": {},
     "output_type": "display_data"
    },
    {
     "name": "stdout",
     "output_type": "stream",
     "text": [
      "- Epoch 65: Avg AE Loss = 0.0306, Avg Critic Loss = -2.8077, Val Loss = 0.0136\n"
     ]
    },
    {
     "data": {
      "text/plain": [
       "Epoch 66/150:   0%|          | 0/11 [00:00<?, ?batch/s]"
      ],
      "application/vnd.jupyter.widget-view+json": {
       "version_major": 2,
       "version_minor": 0,
       "model_id": "88efd7065804459294934046febccfe8"
      }
     },
     "metadata": {},
     "output_type": "display_data"
    },
    {
     "name": "stdout",
     "output_type": "stream",
     "text": [
      "- Epoch 66: Avg AE Loss = 0.0295, Avg Critic Loss = -2.7733, Val Loss = 0.0141\n"
     ]
    },
    {
     "data": {
      "text/plain": [
       "Epoch 67/150:   0%|          | 0/11 [00:00<?, ?batch/s]"
      ],
      "application/vnd.jupyter.widget-view+json": {
       "version_major": 2,
       "version_minor": 0,
       "model_id": "535ea05b9b66482aa27ed0ea2c067402"
      }
     },
     "metadata": {},
     "output_type": "display_data"
    },
    {
     "name": "stdout",
     "output_type": "stream",
     "text": [
      "- Epoch 67: Avg AE Loss = 0.0286, Avg Critic Loss = -2.7440, Val Loss = 0.0138\n"
     ]
    },
    {
     "data": {
      "text/plain": [
       "Epoch 68/150:   0%|          | 0/11 [00:00<?, ?batch/s]"
      ],
      "application/vnd.jupyter.widget-view+json": {
       "version_major": 2,
       "version_minor": 0,
       "model_id": "1f54d81c153f44498003b141e5d20d0c"
      }
     },
     "metadata": {},
     "output_type": "display_data"
    },
    {
     "name": "stdout",
     "output_type": "stream",
     "text": [
      "- Epoch 68: Avg AE Loss = 0.0286, Avg Critic Loss = -2.7114, Val Loss = 0.0121\n"
     ]
    },
    {
     "data": {
      "text/plain": [
       "Epoch 69/150:   0%|          | 0/11 [00:00<?, ?batch/s]"
      ],
      "application/vnd.jupyter.widget-view+json": {
       "version_major": 2,
       "version_minor": 0,
       "model_id": "23bf260ca2ee4e01ab5cffa9b3e3bdc6"
      }
     },
     "metadata": {},
     "output_type": "display_data"
    },
    {
     "name": "stdout",
     "output_type": "stream",
     "text": [
      "- Epoch 69: Avg AE Loss = 0.0285, Avg Critic Loss = -2.6831, Val Loss = 0.0132\n"
     ]
    },
    {
     "data": {
      "text/plain": [
       "Epoch 70/150:   0%|          | 0/11 [00:00<?, ?batch/s]"
      ],
      "application/vnd.jupyter.widget-view+json": {
       "version_major": 2,
       "version_minor": 0,
       "model_id": "77f43ab279574d99aa9d8a266880c4a5"
      }
     },
     "metadata": {},
     "output_type": "display_data"
    },
    {
     "name": "stdout",
     "output_type": "stream",
     "text": [
      "- Epoch 70: Avg AE Loss = 0.0277, Avg Critic Loss = -2.6504, Val Loss = 0.0128\n"
     ]
    },
    {
     "data": {
      "text/plain": [
       "Epoch 71/150:   0%|          | 0/11 [00:00<?, ?batch/s]"
      ],
      "application/vnd.jupyter.widget-view+json": {
       "version_major": 2,
       "version_minor": 0,
       "model_id": "b9993f975c7f4600a80df2891420292a"
      }
     },
     "metadata": {},
     "output_type": "display_data"
    },
    {
     "name": "stdout",
     "output_type": "stream",
     "text": [
      "- Epoch 71: Avg AE Loss = 0.0277, Avg Critic Loss = -2.6237, Val Loss = 0.0127\n"
     ]
    },
    {
     "data": {
      "text/plain": [
       "Epoch 72/150:   0%|          | 0/11 [00:00<?, ?batch/s]"
      ],
      "application/vnd.jupyter.widget-view+json": {
       "version_major": 2,
       "version_minor": 0,
       "model_id": "de90b18ed7a942769b5c8ed0151a0750"
      }
     },
     "metadata": {},
     "output_type": "display_data"
    },
    {
     "name": "stdout",
     "output_type": "stream",
     "text": [
      "- Epoch 72: Avg AE Loss = 0.0273, Avg Critic Loss = -2.5946, Val Loss = 0.0121\n"
     ]
    },
    {
     "data": {
      "text/plain": [
       "Epoch 73/150:   0%|          | 0/11 [00:00<?, ?batch/s]"
      ],
      "application/vnd.jupyter.widget-view+json": {
       "version_major": 2,
       "version_minor": 0,
       "model_id": "369548e4718e4f8d9eba7edad428a063"
      }
     },
     "metadata": {},
     "output_type": "display_data"
    },
    {
     "name": "stdout",
     "output_type": "stream",
     "text": [
      "- Epoch 73: Avg AE Loss = 0.0277, Avg Critic Loss = -2.5685, Val Loss = 0.0118\n"
     ]
    },
    {
     "data": {
      "text/plain": [
       "Epoch 74/150:   0%|          | 0/11 [00:00<?, ?batch/s]"
      ],
      "application/vnd.jupyter.widget-view+json": {
       "version_major": 2,
       "version_minor": 0,
       "model_id": "11e7af85e75e4e7a8cbc70d5bb4b1ba5"
      }
     },
     "metadata": {},
     "output_type": "display_data"
    },
    {
     "name": "stdout",
     "output_type": "stream",
     "text": [
      "- Epoch 74: Avg AE Loss = 0.0268, Avg Critic Loss = -2.5399, Val Loss = 0.0123\n"
     ]
    },
    {
     "data": {
      "text/plain": [
       "Epoch 75/150:   0%|          | 0/11 [00:00<?, ?batch/s]"
      ],
      "application/vnd.jupyter.widget-view+json": {
       "version_major": 2,
       "version_minor": 0,
       "model_id": "56a32ee55ecd4722a19a854730315f5f"
      }
     },
     "metadata": {},
     "output_type": "display_data"
    },
    {
     "name": "stdout",
     "output_type": "stream",
     "text": [
      "- Epoch 75: Avg AE Loss = 0.0262, Avg Critic Loss = -2.5154, Val Loss = 0.0112\n"
     ]
    },
    {
     "data": {
      "text/plain": [
       "Epoch 76/150:   0%|          | 0/11 [00:00<?, ?batch/s]"
      ],
      "application/vnd.jupyter.widget-view+json": {
       "version_major": 2,
       "version_minor": 0,
       "model_id": "c1fe940215bf4f0cba1a952819633976"
      }
     },
     "metadata": {},
     "output_type": "display_data"
    },
    {
     "name": "stdout",
     "output_type": "stream",
     "text": [
      "- Epoch 76: Avg AE Loss = 0.0258, Avg Critic Loss = -2.4886, Val Loss = 0.0110\n"
     ]
    },
    {
     "data": {
      "text/plain": [
       "Epoch 77/150:   0%|          | 0/11 [00:00<?, ?batch/s]"
      ],
      "application/vnd.jupyter.widget-view+json": {
       "version_major": 2,
       "version_minor": 0,
       "model_id": "17c5d7b7615b42648d10f1820860549f"
      }
     },
     "metadata": {},
     "output_type": "display_data"
    },
    {
     "name": "stdout",
     "output_type": "stream",
     "text": [
      "- Epoch 77: Avg AE Loss = 0.0252, Avg Critic Loss = -2.4644, Val Loss = 0.0109\n"
     ]
    },
    {
     "data": {
      "text/plain": [
       "Epoch 78/150:   0%|          | 0/11 [00:00<?, ?batch/s]"
      ],
      "application/vnd.jupyter.widget-view+json": {
       "version_major": 2,
       "version_minor": 0,
       "model_id": "19c01803bcd54a3d90aff72e2bbf5e3c"
      }
     },
     "metadata": {},
     "output_type": "display_data"
    },
    {
     "name": "stdout",
     "output_type": "stream",
     "text": [
      "- Epoch 78: Avg AE Loss = 0.0250, Avg Critic Loss = -2.4407, Val Loss = 0.0109\n"
     ]
    },
    {
     "data": {
      "text/plain": [
       "Epoch 79/150:   0%|          | 0/11 [00:00<?, ?batch/s]"
      ],
      "application/vnd.jupyter.widget-view+json": {
       "version_major": 2,
       "version_minor": 0,
       "model_id": "1296358748d1497cba1fbca711ab26c0"
      }
     },
     "metadata": {},
     "output_type": "display_data"
    },
    {
     "name": "stdout",
     "output_type": "stream",
     "text": [
      "- Epoch 79: Avg AE Loss = 0.0243, Avg Critic Loss = -2.4162, Val Loss = 0.0105\n"
     ]
    },
    {
     "data": {
      "text/plain": [
       "Epoch 80/150:   0%|          | 0/11 [00:00<?, ?batch/s]"
      ],
      "application/vnd.jupyter.widget-view+json": {
       "version_major": 2,
       "version_minor": 0,
       "model_id": "5a65b4b344084a24a491ff5b731debf6"
      }
     },
     "metadata": {},
     "output_type": "display_data"
    },
    {
     "name": "stdout",
     "output_type": "stream",
     "text": [
      "- Epoch 80: Avg AE Loss = 0.0234, Avg Critic Loss = -2.3723, Val Loss = 0.0093\n"
     ]
    },
    {
     "data": {
      "text/plain": [
       "Epoch 81/150:   0%|          | 0/11 [00:00<?, ?batch/s]"
      ],
      "application/vnd.jupyter.widget-view+json": {
       "version_major": 2,
       "version_minor": 0,
       "model_id": "97ce7fe3f2d04e56887d841fb754c226"
      }
     },
     "metadata": {},
     "output_type": "display_data"
    },
    {
     "name": "stdout",
     "output_type": "stream",
     "text": [
      "- Epoch 81: Avg AE Loss = 0.0216, Avg Critic Loss = -2.1836, Val Loss = 0.0087\n"
     ]
    },
    {
     "data": {
      "text/plain": [
       "Epoch 82/150:   0%|          | 0/11 [00:00<?, ?batch/s]"
      ],
      "application/vnd.jupyter.widget-view+json": {
       "version_major": 2,
       "version_minor": 0,
       "model_id": "f37d991e4f8743b29a45fcd665015fc9"
      }
     },
     "metadata": {},
     "output_type": "display_data"
    },
    {
     "name": "stdout",
     "output_type": "stream",
     "text": [
      "- Epoch 82: Avg AE Loss = 0.0213, Avg Critic Loss = -2.1481, Val Loss = 0.0080\n"
     ]
    },
    {
     "data": {
      "text/plain": [
       "Epoch 83/150:   0%|          | 0/11 [00:00<?, ?batch/s]"
      ],
      "application/vnd.jupyter.widget-view+json": {
       "version_major": 2,
       "version_minor": 0,
       "model_id": "6829fce108804d34a9748671968bfe89"
      }
     },
     "metadata": {},
     "output_type": "display_data"
    },
    {
     "name": "stdout",
     "output_type": "stream",
     "text": [
      "- Epoch 83: Avg AE Loss = 0.0211, Avg Critic Loss = -2.1179, Val Loss = 0.0081\n"
     ]
    },
    {
     "data": {
      "text/plain": [
       "Epoch 84/150:   0%|          | 0/11 [00:00<?, ?batch/s]"
      ],
      "application/vnd.jupyter.widget-view+json": {
       "version_major": 2,
       "version_minor": 0,
       "model_id": "635a3a73a6fc448893b2510ca0d0a4b1"
      }
     },
     "metadata": {},
     "output_type": "display_data"
    },
    {
     "name": "stdout",
     "output_type": "stream",
     "text": [
      "- Epoch 84: Avg AE Loss = 0.0205, Avg Critic Loss = -2.0891, Val Loss = 0.0076\n"
     ]
    },
    {
     "data": {
      "text/plain": [
       "Epoch 85/150:   0%|          | 0/11 [00:00<?, ?batch/s]"
      ],
      "application/vnd.jupyter.widget-view+json": {
       "version_major": 2,
       "version_minor": 0,
       "model_id": "c7a6f529f0534d02a50a396da13b1959"
      }
     },
     "metadata": {},
     "output_type": "display_data"
    },
    {
     "name": "stdout",
     "output_type": "stream",
     "text": [
      "- Epoch 85: Avg AE Loss = 0.0195, Avg Critic Loss = -2.0624, Val Loss = 0.0076\n"
     ]
    },
    {
     "data": {
      "text/plain": [
       "Epoch 86/150:   0%|          | 0/11 [00:00<?, ?batch/s]"
      ],
      "application/vnd.jupyter.widget-view+json": {
       "version_major": 2,
       "version_minor": 0,
       "model_id": "6fef0271f98440518e581c2dd8e7dcd4"
      }
     },
     "metadata": {},
     "output_type": "display_data"
    },
    {
     "name": "stdout",
     "output_type": "stream",
     "text": [
      "- Epoch 86: Avg AE Loss = 0.0196, Avg Critic Loss = -2.0381, Val Loss = 0.0080\n"
     ]
    },
    {
     "data": {
      "text/plain": [
       "Epoch 87/150:   0%|          | 0/11 [00:00<?, ?batch/s]"
      ],
      "application/vnd.jupyter.widget-view+json": {
       "version_major": 2,
       "version_minor": 0,
       "model_id": "d2927740928f4ee8b05536f1d423e62b"
      }
     },
     "metadata": {},
     "output_type": "display_data"
    },
    {
     "name": "stdout",
     "output_type": "stream",
     "text": [
      "- Epoch 87: Avg AE Loss = 0.0201, Avg Critic Loss = -2.0160, Val Loss = 0.0073\n"
     ]
    },
    {
     "data": {
      "text/plain": [
       "Epoch 88/150:   0%|          | 0/11 [00:00<?, ?batch/s]"
      ],
      "application/vnd.jupyter.widget-view+json": {
       "version_major": 2,
       "version_minor": 0,
       "model_id": "ff1004ccf33548e28facd98e51315a66"
      }
     },
     "metadata": {},
     "output_type": "display_data"
    },
    {
     "name": "stdout",
     "output_type": "stream",
     "text": [
      "- Epoch 88: Avg AE Loss = 0.0186, Avg Critic Loss = -1.9937, Val Loss = 0.0076\n"
     ]
    },
    {
     "data": {
      "text/plain": [
       "Epoch 89/150:   0%|          | 0/11 [00:00<?, ?batch/s]"
      ],
      "application/vnd.jupyter.widget-view+json": {
       "version_major": 2,
       "version_minor": 0,
       "model_id": "dae8862e3aac47c18fe8f814ea53c1e5"
      }
     },
     "metadata": {},
     "output_type": "display_data"
    },
    {
     "name": "stdout",
     "output_type": "stream",
     "text": [
      "- Epoch 89: Avg AE Loss = 0.0190, Avg Critic Loss = -1.9724, Val Loss = 0.0072\n"
     ]
    },
    {
     "data": {
      "text/plain": [
       "Epoch 90/150:   0%|          | 0/11 [00:00<?, ?batch/s]"
      ],
      "application/vnd.jupyter.widget-view+json": {
       "version_major": 2,
       "version_minor": 0,
       "model_id": "adf67a27ed5d4bb3bc26206d3a65d90e"
      }
     },
     "metadata": {},
     "output_type": "display_data"
    },
    {
     "name": "stdout",
     "output_type": "stream",
     "text": [
      "- Epoch 90: Avg AE Loss = 0.0176, Avg Critic Loss = -1.9521, Val Loss = 0.0069\n"
     ]
    },
    {
     "data": {
      "text/plain": [
       "Epoch 91/150:   0%|          | 0/11 [00:00<?, ?batch/s]"
      ],
      "application/vnd.jupyter.widget-view+json": {
       "version_major": 2,
       "version_minor": 0,
       "model_id": "7d2123dd867a4080ac2d9a6c15cd37b1"
      }
     },
     "metadata": {},
     "output_type": "display_data"
    },
    {
     "name": "stdout",
     "output_type": "stream",
     "text": [
      "- Epoch 91: Avg AE Loss = 0.0180, Avg Critic Loss = -1.9332, Val Loss = 0.0066\n"
     ]
    },
    {
     "data": {
      "text/plain": [
       "Epoch 92/150:   0%|          | 0/11 [00:00<?, ?batch/s]"
      ],
      "application/vnd.jupyter.widget-view+json": {
       "version_major": 2,
       "version_minor": 0,
       "model_id": "973de0fd3f284263b0a8a5245ff8419d"
      }
     },
     "metadata": {},
     "output_type": "display_data"
    },
    {
     "name": "stdout",
     "output_type": "stream",
     "text": [
      "- Epoch 92: Avg AE Loss = 0.0181, Avg Critic Loss = -1.9136, Val Loss = 0.0070\n"
     ]
    },
    {
     "data": {
      "text/plain": [
       "Epoch 93/150:   0%|          | 0/11 [00:00<?, ?batch/s]"
      ],
      "application/vnd.jupyter.widget-view+json": {
       "version_major": 2,
       "version_minor": 0,
       "model_id": "e0acbda31a1d4583a5a3f291b839c8c1"
      }
     },
     "metadata": {},
     "output_type": "display_data"
    },
    {
     "name": "stdout",
     "output_type": "stream",
     "text": [
      "- Epoch 93: Avg AE Loss = 0.0171, Avg Critic Loss = -1.8956, Val Loss = 0.0067\n"
     ]
    },
    {
     "data": {
      "text/plain": [
       "Epoch 94/150:   0%|          | 0/11 [00:00<?, ?batch/s]"
      ],
      "application/vnd.jupyter.widget-view+json": {
       "version_major": 2,
       "version_minor": 0,
       "model_id": "ec5e2c290440435a95d1f6bae7bc24d6"
      }
     },
     "metadata": {},
     "output_type": "display_data"
    },
    {
     "name": "stdout",
     "output_type": "stream",
     "text": [
      "- Epoch 94: Avg AE Loss = 0.0171, Avg Critic Loss = -1.8777, Val Loss = 0.0064\n"
     ]
    },
    {
     "data": {
      "text/plain": [
       "Epoch 95/150:   0%|          | 0/11 [00:00<?, ?batch/s]"
      ],
      "application/vnd.jupyter.widget-view+json": {
       "version_major": 2,
       "version_minor": 0,
       "model_id": "a9f211df00f74f53bf261ae31200e3d0"
      }
     },
     "metadata": {},
     "output_type": "display_data"
    },
    {
     "name": "stdout",
     "output_type": "stream",
     "text": [
      "- Epoch 95: Avg AE Loss = 0.0171, Avg Critic Loss = -1.8609, Val Loss = 0.0064\n"
     ]
    },
    {
     "data": {
      "text/plain": [
       "Epoch 96/150:   0%|          | 0/11 [00:00<?, ?batch/s]"
      ],
      "application/vnd.jupyter.widget-view+json": {
       "version_major": 2,
       "version_minor": 0,
       "model_id": "2645013b970f4bd48d82c122b472c8eb"
      }
     },
     "metadata": {},
     "output_type": "display_data"
    },
    {
     "name": "stdout",
     "output_type": "stream",
     "text": [
      "- Epoch 96: Avg AE Loss = 0.0171, Avg Critic Loss = -1.8430, Val Loss = 0.0063\n"
     ]
    },
    {
     "data": {
      "text/plain": [
       "Epoch 97/150:   0%|          | 0/11 [00:00<?, ?batch/s]"
      ],
      "application/vnd.jupyter.widget-view+json": {
       "version_major": 2,
       "version_minor": 0,
       "model_id": "338d4356f61e4a26bb983192318dba7e"
      }
     },
     "metadata": {},
     "output_type": "display_data"
    },
    {
     "name": "stdout",
     "output_type": "stream",
     "text": [
      "- Epoch 97: Avg AE Loss = 0.0161, Avg Critic Loss = -1.7547, Val Loss = 0.0048\n"
     ]
    },
    {
     "data": {
      "text/plain": [
       "Epoch 98/150:   0%|          | 0/11 [00:00<?, ?batch/s]"
      ],
      "application/vnd.jupyter.widget-view+json": {
       "version_major": 2,
       "version_minor": 0,
       "model_id": "e0e2f81962e543d68ad966315c04bcb2"
      }
     },
     "metadata": {},
     "output_type": "display_data"
    },
    {
     "name": "stdout",
     "output_type": "stream",
     "text": [
      "- Epoch 98: Avg AE Loss = 0.0135, Avg Critic Loss = -1.4774, Val Loss = 0.0040\n"
     ]
    },
    {
     "data": {
      "text/plain": [
       "Epoch 99/150:   0%|          | 0/11 [00:00<?, ?batch/s]"
      ],
      "application/vnd.jupyter.widget-view+json": {
       "version_major": 2,
       "version_minor": 0,
       "model_id": "a1e410197f9740d4a169de365326d2dc"
      }
     },
     "metadata": {},
     "output_type": "display_data"
    },
    {
     "name": "stdout",
     "output_type": "stream",
     "text": [
      "- Epoch 99: Avg AE Loss = 0.0129, Avg Critic Loss = -1.4779, Val Loss = 0.0040\n"
     ]
    },
    {
     "data": {
      "text/plain": [
       "Epoch 100/150:   0%|          | 0/11 [00:00<?, ?batch/s]"
      ],
      "application/vnd.jupyter.widget-view+json": {
       "version_major": 2,
       "version_minor": 0,
       "model_id": "6b5693a03088440581423c603426e6f0"
      }
     },
     "metadata": {},
     "output_type": "display_data"
    },
    {
     "name": "stdout",
     "output_type": "stream",
     "text": [
      "- Epoch 100: Avg AE Loss = 0.0120, Avg Critic Loss = -1.4617, Val Loss = 0.0040\n"
     ]
    },
    {
     "data": {
      "text/plain": [
       "Epoch 101/150:   0%|          | 0/11 [00:00<?, ?batch/s]"
      ],
      "application/vnd.jupyter.widget-view+json": {
       "version_major": 2,
       "version_minor": 0,
       "model_id": "524691e662a443b5b537c8e7d77f9174"
      }
     },
     "metadata": {},
     "output_type": "display_data"
    },
    {
     "name": "stdout",
     "output_type": "stream",
     "text": [
      "- Epoch 101: Avg AE Loss = 0.0114, Avg Critic Loss = -1.4563, Val Loss = 0.0040\n"
     ]
    },
    {
     "data": {
      "text/plain": [
       "Epoch 102/150:   0%|          | 0/11 [00:00<?, ?batch/s]"
      ],
      "application/vnd.jupyter.widget-view+json": {
       "version_major": 2,
       "version_minor": 0,
       "model_id": "81aa4a1e7a0847a2b4c03de2c0f1033f"
      }
     },
     "metadata": {},
     "output_type": "display_data"
    },
    {
     "name": "stdout",
     "output_type": "stream",
     "text": [
      "- Epoch 102: Avg AE Loss = 0.0110, Avg Critic Loss = -1.4540, Val Loss = 0.0040\n"
     ]
    },
    {
     "data": {
      "text/plain": [
       "Epoch 103/150:   0%|          | 0/11 [00:00<?, ?batch/s]"
      ],
      "application/vnd.jupyter.widget-view+json": {
       "version_major": 2,
       "version_minor": 0,
       "model_id": "460e68cc66554a708ae26192e469374a"
      }
     },
     "metadata": {},
     "output_type": "display_data"
    },
    {
     "name": "stdout",
     "output_type": "stream",
     "text": [
      "- Epoch 103: Avg AE Loss = 0.0112, Avg Critic Loss = -1.4516, Val Loss = 0.0039\n"
     ]
    },
    {
     "data": {
      "text/plain": [
       "Epoch 104/150:   0%|          | 0/11 [00:00<?, ?batch/s]"
      ],
      "application/vnd.jupyter.widget-view+json": {
       "version_major": 2,
       "version_minor": 0,
       "model_id": "449b3b91a37f442fb2cdb121613f6437"
      }
     },
     "metadata": {},
     "output_type": "display_data"
    },
    {
     "name": "stdout",
     "output_type": "stream",
     "text": [
      "- Epoch 104: Avg AE Loss = 0.0112, Avg Critic Loss = -1.4494, Val Loss = 0.0039\n"
     ]
    },
    {
     "data": {
      "text/plain": [
       "Epoch 105/150:   0%|          | 0/11 [00:00<?, ?batch/s]"
      ],
      "application/vnd.jupyter.widget-view+json": {
       "version_major": 2,
       "version_minor": 0,
       "model_id": "fd50f1ad71d849debb103102b72e4eb1"
      }
     },
     "metadata": {},
     "output_type": "display_data"
    },
    {
     "name": "stdout",
     "output_type": "stream",
     "text": [
      "- Epoch 105: Avg AE Loss = 0.0111, Avg Critic Loss = -1.4471, Val Loss = 0.0039\n"
     ]
    },
    {
     "data": {
      "text/plain": [
       "Epoch 106/150:   0%|          | 0/11 [00:00<?, ?batch/s]"
      ],
      "application/vnd.jupyter.widget-view+json": {
       "version_major": 2,
       "version_minor": 0,
       "model_id": "e57827895d9d4f788580107462cee3ad"
      }
     },
     "metadata": {},
     "output_type": "display_data"
    },
    {
     "name": "stdout",
     "output_type": "stream",
     "text": [
      "- Epoch 106: Avg AE Loss = 0.0113, Avg Critic Loss = -1.4448, Val Loss = 0.0039\n"
     ]
    },
    {
     "data": {
      "text/plain": [
       "Epoch 107/150:   0%|          | 0/11 [00:00<?, ?batch/s]"
      ],
      "application/vnd.jupyter.widget-view+json": {
       "version_major": 2,
       "version_minor": 0,
       "model_id": "cb4ed42f13f24285b315375550171233"
      }
     },
     "metadata": {},
     "output_type": "display_data"
    },
    {
     "name": "stdout",
     "output_type": "stream",
     "text": [
      "- Epoch 107: Avg AE Loss = 0.0110, Avg Critic Loss = -1.4428, Val Loss = 0.0039\n"
     ]
    },
    {
     "data": {
      "text/plain": [
       "Epoch 108/150:   0%|          | 0/11 [00:00<?, ?batch/s]"
      ],
      "application/vnd.jupyter.widget-view+json": {
       "version_major": 2,
       "version_minor": 0,
       "model_id": "077ca00f502a485bae10aab4e9a33ce9"
      }
     },
     "metadata": {},
     "output_type": "display_data"
    },
    {
     "name": "stdout",
     "output_type": "stream",
     "text": [
      "- Epoch 108: Avg AE Loss = 0.0114, Avg Critic Loss = -1.4405, Val Loss = 0.0039\n"
     ]
    },
    {
     "data": {
      "text/plain": [
       "Epoch 109/150:   0%|          | 0/11 [00:00<?, ?batch/s]"
      ],
      "application/vnd.jupyter.widget-view+json": {
       "version_major": 2,
       "version_minor": 0,
       "model_id": "931819361c90431f9c5e3b93f21da9de"
      }
     },
     "metadata": {},
     "output_type": "display_data"
    },
    {
     "name": "stdout",
     "output_type": "stream",
     "text": [
      "- Epoch 109: Avg AE Loss = 0.0114, Avg Critic Loss = -1.4383, Val Loss = 0.0039\n"
     ]
    },
    {
     "data": {
      "text/plain": [
       "Epoch 110/150:   0%|          | 0/11 [00:00<?, ?batch/s]"
      ],
      "application/vnd.jupyter.widget-view+json": {
       "version_major": 2,
       "version_minor": 0,
       "model_id": "69723da73fec48d89eadaeb63a6db433"
      }
     },
     "metadata": {},
     "output_type": "display_data"
    },
    {
     "name": "stdout",
     "output_type": "stream",
     "text": [
      "- Epoch 110: Avg AE Loss = 0.0110, Avg Critic Loss = -1.4363, Val Loss = 0.0038\n"
     ]
    },
    {
     "data": {
      "text/plain": [
       "Epoch 111/150:   0%|          | 0/11 [00:00<?, ?batch/s]"
      ],
      "application/vnd.jupyter.widget-view+json": {
       "version_major": 2,
       "version_minor": 0,
       "model_id": "19cdb1ee1cd948a8947cac5bcd151ff9"
      }
     },
     "metadata": {},
     "output_type": "display_data"
    },
    {
     "name": "stdout",
     "output_type": "stream",
     "text": [
      "- Epoch 111: Avg AE Loss = 0.0105, Avg Critic Loss = -1.4345, Val Loss = 0.0039\n"
     ]
    },
    {
     "data": {
      "text/plain": [
       "Epoch 112/150:   0%|          | 0/11 [00:00<?, ?batch/s]"
      ],
      "application/vnd.jupyter.widget-view+json": {
       "version_major": 2,
       "version_minor": 0,
       "model_id": "b3cc490fec8742fcb8990e3fed1815eb"
      }
     },
     "metadata": {},
     "output_type": "display_data"
    },
    {
     "name": "stdout",
     "output_type": "stream",
     "text": [
      "- Epoch 112: Avg AE Loss = 0.0112, Avg Critic Loss = -1.4323, Val Loss = 0.0038\n"
     ]
    },
    {
     "data": {
      "text/plain": [
       "Epoch 113/150:   0%|          | 0/11 [00:00<?, ?batch/s]"
      ],
      "application/vnd.jupyter.widget-view+json": {
       "version_major": 2,
       "version_minor": 0,
       "model_id": "9b3f3eca88e14ef1b3f8e46fc5d8127e"
      }
     },
     "metadata": {},
     "output_type": "display_data"
    },
    {
     "name": "stdout",
     "output_type": "stream",
     "text": [
      "- Epoch 113: Avg AE Loss = 0.0112, Avg Critic Loss = -1.4304, Val Loss = 0.0038\n"
     ]
    },
    {
     "data": {
      "text/plain": [
       "Epoch 114/150:   0%|          | 0/11 [00:00<?, ?batch/s]"
      ],
      "application/vnd.jupyter.widget-view+json": {
       "version_major": 2,
       "version_minor": 0,
       "model_id": "4f8f54811f944ee6be58569920e31a29"
      }
     },
     "metadata": {},
     "output_type": "display_data"
    },
    {
     "name": "stdout",
     "output_type": "stream",
     "text": [
      "- Epoch 114: Avg AE Loss = 0.0114, Avg Critic Loss = -1.4284, Val Loss = 0.0038\n"
     ]
    },
    {
     "data": {
      "text/plain": [
       "Epoch 115/150:   0%|          | 0/11 [00:00<?, ?batch/s]"
      ],
      "application/vnd.jupyter.widget-view+json": {
       "version_major": 2,
       "version_minor": 0,
       "model_id": "7a95bf1be29748f48955e4a91394f772"
      }
     },
     "metadata": {},
     "output_type": "display_data"
    },
    {
     "name": "stdout",
     "output_type": "stream",
     "text": [
      "- Epoch 115: Avg AE Loss = 0.0113, Avg Critic Loss = -1.4265, Val Loss = 0.0038\n"
     ]
    },
    {
     "data": {
      "text/plain": [
       "Epoch 116/150:   0%|          | 0/11 [00:00<?, ?batch/s]"
      ],
      "application/vnd.jupyter.widget-view+json": {
       "version_major": 2,
       "version_minor": 0,
       "model_id": "c02c7bddb9464f26b93544eb75d1b8c0"
      }
     },
     "metadata": {},
     "output_type": "display_data"
    },
    {
     "name": "stdout",
     "output_type": "stream",
     "text": [
      "- Epoch 116: Avg AE Loss = 0.0110, Avg Critic Loss = -1.4246, Val Loss = 0.0038\n"
     ]
    },
    {
     "data": {
      "text/plain": [
       "Epoch 117/150:   0%|          | 0/11 [00:00<?, ?batch/s]"
      ],
      "application/vnd.jupyter.widget-view+json": {
       "version_major": 2,
       "version_minor": 0,
       "model_id": "beaa7fb71b4a42c4bbe5838a03024a11"
      }
     },
     "metadata": {},
     "output_type": "display_data"
    },
    {
     "name": "stdout",
     "output_type": "stream",
     "text": [
      "- Epoch 117: Avg AE Loss = 0.0107, Avg Critic Loss = -1.4227, Val Loss = 0.0038\n"
     ]
    },
    {
     "data": {
      "text/plain": [
       "Epoch 118/150:   0%|          | 0/11 [00:00<?, ?batch/s]"
      ],
      "application/vnd.jupyter.widget-view+json": {
       "version_major": 2,
       "version_minor": 0,
       "model_id": "121f193323aa4b83a7c400a00d94cbf3"
      }
     },
     "metadata": {},
     "output_type": "display_data"
    },
    {
     "name": "stdout",
     "output_type": "stream",
     "text": [
      "- Epoch 118: Avg AE Loss = 0.0111, Avg Critic Loss = -1.4208, Val Loss = 0.0038\n"
     ]
    },
    {
     "data": {
      "text/plain": [
       "Epoch 119/150:   0%|          | 0/11 [00:00<?, ?batch/s]"
      ],
      "application/vnd.jupyter.widget-view+json": {
       "version_major": 2,
       "version_minor": 0,
       "model_id": "6eb8ca7dcacf4e6b902903a292e816fe"
      }
     },
     "metadata": {},
     "output_type": "display_data"
    },
    {
     "name": "stdout",
     "output_type": "stream",
     "text": [
      "- Epoch 119: Avg AE Loss = 0.0115, Avg Critic Loss = -1.4189, Val Loss = 0.0038\n"
     ]
    },
    {
     "data": {
      "text/plain": [
       "Epoch 120/150:   0%|          | 0/11 [00:00<?, ?batch/s]"
      ],
      "application/vnd.jupyter.widget-view+json": {
       "version_major": 2,
       "version_minor": 0,
       "model_id": "b752f12c17614bbb92dbfaeeb270c88a"
      }
     },
     "metadata": {},
     "output_type": "display_data"
    },
    {
     "name": "stdout",
     "output_type": "stream",
     "text": [
      "- Epoch 120: Avg AE Loss = 0.0112, Avg Critic Loss = -1.4171, Val Loss = 0.0038\n"
     ]
    },
    {
     "data": {
      "text/plain": [
       "Epoch 121/150:   0%|          | 0/11 [00:00<?, ?batch/s]"
      ],
      "application/vnd.jupyter.widget-view+json": {
       "version_major": 2,
       "version_minor": 0,
       "model_id": "e4729840ceed4f4ea832f5290ce8ff7d"
      }
     },
     "metadata": {},
     "output_type": "display_data"
    },
    {
     "name": "stdout",
     "output_type": "stream",
     "text": [
      "- Epoch 121: Avg AE Loss = 0.0109, Avg Critic Loss = -1.4153, Val Loss = 0.0037\n"
     ]
    },
    {
     "data": {
      "text/plain": [
       "Epoch 122/150:   0%|          | 0/11 [00:00<?, ?batch/s]"
      ],
      "application/vnd.jupyter.widget-view+json": {
       "version_major": 2,
       "version_minor": 0,
       "model_id": "4ed668b006514b2487c966cd47268185"
      }
     },
     "metadata": {},
     "output_type": "display_data"
    },
    {
     "name": "stdout",
     "output_type": "stream",
     "text": [
      "- Epoch 122: Avg AE Loss = 0.0103, Avg Critic Loss = -1.4135, Val Loss = 0.0037\n"
     ]
    },
    {
     "data": {
      "text/plain": [
       "Epoch 123/150:   0%|          | 0/11 [00:00<?, ?batch/s]"
      ],
      "application/vnd.jupyter.widget-view+json": {
       "version_major": 2,
       "version_minor": 0,
       "model_id": "6416cb58f7654c1a8dac9c537856cba9"
      }
     },
     "metadata": {},
     "output_type": "display_data"
    },
    {
     "name": "stdout",
     "output_type": "stream",
     "text": [
      "- Epoch 123: Avg AE Loss = 0.0109, Avg Critic Loss = -1.4116, Val Loss = 0.0037\n"
     ]
    },
    {
     "data": {
      "text/plain": [
       "Epoch 124/150:   0%|          | 0/11 [00:00<?, ?batch/s]"
      ],
      "application/vnd.jupyter.widget-view+json": {
       "version_major": 2,
       "version_minor": 0,
       "model_id": "2b66654bf6bc4c7fa0dc2bb29fc4eede"
      }
     },
     "metadata": {},
     "output_type": "display_data"
    },
    {
     "name": "stdout",
     "output_type": "stream",
     "text": [
      "- Epoch 124: Avg AE Loss = 0.0105, Avg Critic Loss = -1.4099, Val Loss = 0.0037\n"
     ]
    },
    {
     "data": {
      "text/plain": [
       "Epoch 125/150:   0%|          | 0/11 [00:00<?, ?batch/s]"
      ],
      "application/vnd.jupyter.widget-view+json": {
       "version_major": 2,
       "version_minor": 0,
       "model_id": "5f3cef5863ad484284fd990516c7fd85"
      }
     },
     "metadata": {},
     "output_type": "display_data"
    },
    {
     "name": "stdout",
     "output_type": "stream",
     "text": [
      "- Epoch 125: Avg AE Loss = 0.0107, Avg Critic Loss = -1.4080, Val Loss = 0.0037\n"
     ]
    },
    {
     "data": {
      "text/plain": [
       "Epoch 126/150:   0%|          | 0/11 [00:00<?, ?batch/s]"
      ],
      "application/vnd.jupyter.widget-view+json": {
       "version_major": 2,
       "version_minor": 0,
       "model_id": "6c29025c21274b74b6d2b564982a9c1b"
      }
     },
     "metadata": {},
     "output_type": "display_data"
    },
    {
     "name": "stdout",
     "output_type": "stream",
     "text": [
      "- Epoch 126: Avg AE Loss = 0.0109, Avg Critic Loss = -1.4063, Val Loss = 0.0037\n"
     ]
    },
    {
     "data": {
      "text/plain": [
       "Epoch 127/150:   0%|          | 0/11 [00:00<?, ?batch/s]"
      ],
      "application/vnd.jupyter.widget-view+json": {
       "version_major": 2,
       "version_minor": 0,
       "model_id": "51fe219065a44754a300c8ae33bae177"
      }
     },
     "metadata": {},
     "output_type": "display_data"
    },
    {
     "name": "stdout",
     "output_type": "stream",
     "text": [
      "- Epoch 127: Avg AE Loss = 0.0107, Avg Critic Loss = -1.4045, Val Loss = 0.0037\n"
     ]
    },
    {
     "data": {
      "text/plain": [
       "Epoch 128/150:   0%|          | 0/11 [00:00<?, ?batch/s]"
      ],
      "application/vnd.jupyter.widget-view+json": {
       "version_major": 2,
       "version_minor": 0,
       "model_id": "c96dab2bd4a04f41a20909d48935db85"
      }
     },
     "metadata": {},
     "output_type": "display_data"
    },
    {
     "name": "stdout",
     "output_type": "stream",
     "text": [
      "- Epoch 128: Avg AE Loss = 0.0103, Avg Critic Loss = -1.4029, Val Loss = 0.0037\n"
     ]
    },
    {
     "data": {
      "text/plain": [
       "Epoch 129/150:   0%|          | 0/11 [00:00<?, ?batch/s]"
      ],
      "application/vnd.jupyter.widget-view+json": {
       "version_major": 2,
       "version_minor": 0,
       "model_id": "9f73f95868234b00b829838a8eddf28a"
      }
     },
     "metadata": {},
     "output_type": "display_data"
    },
    {
     "name": "stdout",
     "output_type": "stream",
     "text": [
      "- Epoch 129: Avg AE Loss = 0.0108, Avg Critic Loss = -1.4010, Val Loss = 0.0037\n"
     ]
    },
    {
     "data": {
      "text/plain": [
       "Epoch 130/150:   0%|          | 0/11 [00:00<?, ?batch/s]"
      ],
      "application/vnd.jupyter.widget-view+json": {
       "version_major": 2,
       "version_minor": 0,
       "model_id": "5e6d2d31510c4c9282bac050f97898a6"
      }
     },
     "metadata": {},
     "output_type": "display_data"
    },
    {
     "name": "stdout",
     "output_type": "stream",
     "text": [
      "- Epoch 130: Avg AE Loss = 0.0108, Avg Critic Loss = -1.3993, Val Loss = 0.0037\n"
     ]
    },
    {
     "data": {
      "text/plain": [
       "Epoch 131/150:   0%|          | 0/11 [00:00<?, ?batch/s]"
      ],
      "application/vnd.jupyter.widget-view+json": {
       "version_major": 2,
       "version_minor": 0,
       "model_id": "0b674feab9e94d639eaefa229f5f6ad9"
      }
     },
     "metadata": {},
     "output_type": "display_data"
    },
    {
     "name": "stdout",
     "output_type": "stream",
     "text": [
      "- Epoch 131: Avg AE Loss = 0.0106, Avg Critic Loss = -1.3977, Val Loss = 0.0037\n"
     ]
    },
    {
     "data": {
      "text/plain": [
       "Epoch 132/150:   0%|          | 0/11 [00:00<?, ?batch/s]"
      ],
      "application/vnd.jupyter.widget-view+json": {
       "version_major": 2,
       "version_minor": 0,
       "model_id": "f6d4df182b654fe49e008c3029cf313e"
      }
     },
     "metadata": {},
     "output_type": "display_data"
    },
    {
     "name": "stdout",
     "output_type": "stream",
     "text": [
      "- Epoch 132: Avg AE Loss = 0.0109, Avg Critic Loss = -1.3960, Val Loss = 0.0036\n"
     ]
    },
    {
     "data": {
      "text/plain": [
       "Epoch 133/150:   0%|          | 0/11 [00:00<?, ?batch/s]"
      ],
      "application/vnd.jupyter.widget-view+json": {
       "version_major": 2,
       "version_minor": 0,
       "model_id": "c0bff7165e1d451ab88e62a248604c5c"
      }
     },
     "metadata": {},
     "output_type": "display_data"
    },
    {
     "name": "stdout",
     "output_type": "stream",
     "text": [
      "- Epoch 133: Avg AE Loss = 0.0107, Avg Critic Loss = -1.3942, Val Loss = 0.0036\n"
     ]
    },
    {
     "data": {
      "text/plain": [
       "Epoch 134/150:   0%|          | 0/11 [00:00<?, ?batch/s]"
      ],
      "application/vnd.jupyter.widget-view+json": {
       "version_major": 2,
       "version_minor": 0,
       "model_id": "d95cd2826ea94efa8f30b5684b793ef6"
      }
     },
     "metadata": {},
     "output_type": "display_data"
    },
    {
     "name": "stdout",
     "output_type": "stream",
     "text": [
      "- Epoch 134: Avg AE Loss = 0.0102, Avg Critic Loss = -1.3927, Val Loss = 0.0036\n"
     ]
    },
    {
     "data": {
      "text/plain": [
       "Epoch 135/150:   0%|          | 0/11 [00:00<?, ?batch/s]"
      ],
      "application/vnd.jupyter.widget-view+json": {
       "version_major": 2,
       "version_minor": 0,
       "model_id": "8ff4f3144f374a48a43217d376a59679"
      }
     },
     "metadata": {},
     "output_type": "display_data"
    },
    {
     "name": "stdout",
     "output_type": "stream",
     "text": [
      "- Epoch 135: Avg AE Loss = 0.0108, Avg Critic Loss = -1.3909, Val Loss = 0.0036\n"
     ]
    },
    {
     "data": {
      "text/plain": [
       "Epoch 136/150:   0%|          | 0/11 [00:00<?, ?batch/s]"
      ],
      "application/vnd.jupyter.widget-view+json": {
       "version_major": 2,
       "version_minor": 0,
       "model_id": "d02c5249df534074a14132bd6a4eee19"
      }
     },
     "metadata": {},
     "output_type": "display_data"
    },
    {
     "name": "stdout",
     "output_type": "stream",
     "text": [
      "- Epoch 136: Avg AE Loss = 0.0106, Avg Critic Loss = -1.3892, Val Loss = 0.0036\n"
     ]
    },
    {
     "data": {
      "text/plain": [
       "Epoch 137/150:   0%|          | 0/11 [00:00<?, ?batch/s]"
      ],
      "application/vnd.jupyter.widget-view+json": {
       "version_major": 2,
       "version_minor": 0,
       "model_id": "aa4000029e2645e6bada8af6ac439fbb"
      }
     },
     "metadata": {},
     "output_type": "display_data"
    },
    {
     "name": "stdout",
     "output_type": "stream",
     "text": [
      "- Epoch 137: Avg AE Loss = 0.0106, Avg Critic Loss = -1.3876, Val Loss = 0.0036\n"
     ]
    },
    {
     "data": {
      "text/plain": [
       "Epoch 138/150:   0%|          | 0/11 [00:00<?, ?batch/s]"
      ],
      "application/vnd.jupyter.widget-view+json": {
       "version_major": 2,
       "version_minor": 0,
       "model_id": "695f37b29c8e44efa6dd159972980d69"
      }
     },
     "metadata": {},
     "output_type": "display_data"
    },
    {
     "name": "stdout",
     "output_type": "stream",
     "text": [
      "- Epoch 138: Avg AE Loss = 0.0105, Avg Critic Loss = -1.3859, Val Loss = 0.0036\n"
     ]
    },
    {
     "data": {
      "text/plain": [
       "Epoch 139/150:   0%|          | 0/11 [00:00<?, ?batch/s]"
      ],
      "application/vnd.jupyter.widget-view+json": {
       "version_major": 2,
       "version_minor": 0,
       "model_id": "bd52cc9d4f4946069b5ba7f88d807ae7"
      }
     },
     "metadata": {},
     "output_type": "display_data"
    },
    {
     "name": "stdout",
     "output_type": "stream",
     "text": [
      "- Epoch 139: Avg AE Loss = 0.0107, Avg Critic Loss = -1.3843, Val Loss = 0.0036\n"
     ]
    },
    {
     "data": {
      "text/plain": [
       "Epoch 140/150:   0%|          | 0/11 [00:00<?, ?batch/s]"
      ],
      "application/vnd.jupyter.widget-view+json": {
       "version_major": 2,
       "version_minor": 0,
       "model_id": "44bb73f9af7a40c5a7cf6b1a6c25f3f5"
      }
     },
     "metadata": {},
     "output_type": "display_data"
    },
    {
     "name": "stdout",
     "output_type": "stream",
     "text": [
      "- Epoch 140: Avg AE Loss = 0.0105, Avg Critic Loss = -1.3827, Val Loss = 0.0036\n"
     ]
    },
    {
     "data": {
      "text/plain": [
       "Epoch 141/150:   0%|          | 0/11 [00:00<?, ?batch/s]"
      ],
      "application/vnd.jupyter.widget-view+json": {
       "version_major": 2,
       "version_minor": 0,
       "model_id": "926872dd35814a84875a44acb1569e55"
      }
     },
     "metadata": {},
     "output_type": "display_data"
    },
    {
     "name": "stdout",
     "output_type": "stream",
     "text": [
      "- Epoch 141: Avg AE Loss = 0.0102, Avg Critic Loss = -1.3811, Val Loss = 0.0036\n"
     ]
    },
    {
     "data": {
      "text/plain": [
       "Epoch 142/150:   0%|          | 0/11 [00:00<?, ?batch/s]"
      ],
      "application/vnd.jupyter.widget-view+json": {
       "version_major": 2,
       "version_minor": 0,
       "model_id": "6786946f841043b3ae0a83e4e0ac8990"
      }
     },
     "metadata": {},
     "output_type": "display_data"
    },
    {
     "name": "stdout",
     "output_type": "stream",
     "text": [
      "- Epoch 142: Avg AE Loss = 0.0100, Avg Critic Loss = -1.3794, Val Loss = 0.0036\n"
     ]
    },
    {
     "data": {
      "text/plain": [
       "Epoch 143/150:   0%|          | 0/11 [00:00<?, ?batch/s]"
      ],
      "application/vnd.jupyter.widget-view+json": {
       "version_major": 2,
       "version_minor": 0,
       "model_id": "94c1f4cf7fcd4d1f975fa08bb2b21a9f"
      }
     },
     "metadata": {},
     "output_type": "display_data"
    },
    {
     "name": "stdout",
     "output_type": "stream",
     "text": [
      "- Epoch 143: Avg AE Loss = 0.0101, Avg Critic Loss = -1.3778, Val Loss = 0.0036\n"
     ]
    },
    {
     "data": {
      "text/plain": [
       "Epoch 144/150:   0%|          | 0/11 [00:00<?, ?batch/s]"
      ],
      "application/vnd.jupyter.widget-view+json": {
       "version_major": 2,
       "version_minor": 0,
       "model_id": "2bde46beee0a44a1b194c3206729e133"
      }
     },
     "metadata": {},
     "output_type": "display_data"
    },
    {
     "name": "stdout",
     "output_type": "stream",
     "text": [
      "- Epoch 144: Avg AE Loss = 0.0099, Avg Critic Loss = -1.3763, Val Loss = 0.0035\n"
     ]
    },
    {
     "data": {
      "text/plain": [
       "Epoch 145/150:   0%|          | 0/11 [00:00<?, ?batch/s]"
      ],
      "application/vnd.jupyter.widget-view+json": {
       "version_major": 2,
       "version_minor": 0,
       "model_id": "4d2522c829ee4befbc9e008f394bb9d4"
      }
     },
     "metadata": {},
     "output_type": "display_data"
    },
    {
     "name": "stdout",
     "output_type": "stream",
     "text": [
      "- Epoch 145: Avg AE Loss = 0.0100, Avg Critic Loss = -1.3746, Val Loss = 0.0035\n"
     ]
    },
    {
     "data": {
      "text/plain": [
       "Epoch 146/150:   0%|          | 0/11 [00:00<?, ?batch/s]"
      ],
      "application/vnd.jupyter.widget-view+json": {
       "version_major": 2,
       "version_minor": 0,
       "model_id": "cb61351ed9f64df3920cd5d5eb58cb3c"
      }
     },
     "metadata": {},
     "output_type": "display_data"
    },
    {
     "name": "stdout",
     "output_type": "stream",
     "text": [
      "- Epoch 146: Avg AE Loss = 0.0098, Avg Critic Loss = -1.3731, Val Loss = 0.0035\n"
     ]
    },
    {
     "data": {
      "text/plain": [
       "Epoch 147/150:   0%|          | 0/11 [00:00<?, ?batch/s]"
      ],
      "application/vnd.jupyter.widget-view+json": {
       "version_major": 2,
       "version_minor": 0,
       "model_id": "afa65c9f3535400fadea64b2e3d8461c"
      }
     },
     "metadata": {},
     "output_type": "display_data"
    },
    {
     "name": "stdout",
     "output_type": "stream",
     "text": [
      "- Epoch 147: Avg AE Loss = 0.0094, Avg Critic Loss = -1.3714, Val Loss = 0.0035\n"
     ]
    },
    {
     "data": {
      "text/plain": [
       "Epoch 148/150:   0%|          | 0/11 [00:00<?, ?batch/s]"
      ],
      "application/vnd.jupyter.widget-view+json": {
       "version_major": 2,
       "version_minor": 0,
       "model_id": "dde0e188b75745f4a1213b0baa9eb2c0"
      }
     },
     "metadata": {},
     "output_type": "display_data"
    },
    {
     "name": "stdout",
     "output_type": "stream",
     "text": [
      "- Epoch 148: Avg AE Loss = 0.0093, Avg Critic Loss = -1.3700, Val Loss = 0.0035\n"
     ]
    },
    {
     "data": {
      "text/plain": [
       "Epoch 149/150:   0%|          | 0/11 [00:00<?, ?batch/s]"
      ],
      "application/vnd.jupyter.widget-view+json": {
       "version_major": 2,
       "version_minor": 0,
       "model_id": "56b9f64aa7f14eb7bfe0359a0be7938d"
      }
     },
     "metadata": {},
     "output_type": "display_data"
    },
    {
     "name": "stdout",
     "output_type": "stream",
     "text": [
      "- Epoch 149: Avg AE Loss = 0.0093, Avg Critic Loss = -1.3683, Val Loss = 0.0035\n"
     ]
    },
    {
     "data": {
      "text/plain": [
       "Epoch 150/150:   0%|          | 0/11 [00:00<?, ?batch/s]"
      ],
      "application/vnd.jupyter.widget-view+json": {
       "version_major": 2,
       "version_minor": 0,
       "model_id": "d4a0555b47bc4b798835420c0b4439c1"
      }
     },
     "metadata": {},
     "output_type": "display_data"
    },
    {
     "name": "stdout",
     "output_type": "stream",
     "text": [
      "- Epoch 150: Avg AE Loss = 0.0098, Avg Critic Loss = -1.3668, Val Loss = 0.0035\n",
      "Обучение завершено.\n",
      "AUROC: 0.8326\n",
      "Лучший threshold: 0.0035\n",
      "Accuracy: 0.7863\n",
      "Precision: 0.8385\n",
      "Recall: 0.7527\n",
      "F1: 0.7933\n",
      "Матрица ошибок:\n",
      "TN: 324.0000\n",
      "FP: 68.0000\n",
      "FN: 116.0000\n",
      "TP: 353.0000\n"
     ]
    },
    {
     "data": {
      "text/plain": [
       "<Figure size 1200x500 with 1 Axes>"
      ],
      "image/png": "[encoded data removed]"
     },
     "metadata": {},
     "output_type": "display_data"
    },
    {
     "data": {
      "text/plain": [
       "<Figure size 600x600 with 1 Axes>"
      ],
      "image/png": "[encoded data removed]"
     },
     "metadata": {},
     "output_type": "display_data"
    },
    {
     "data": {
      "text/plain": [
       "<Figure size 800x500 with 1 Axes>"
      ],
      "image/png": "[encoded data removed]"
     },
     "metadata": {},
     "output_type": "display_data"
    },
    {
     "name": "stdout",
     "output_type": "stream",
     "text": [
      "\n"
     ]
    }
   ],
   "execution_count": 18
  },
  {
   "metadata": {
    "ExecuteTime": {
     "end_time": "2025-03-31T10:30:50.846749Z",
     "start_time": "2025-03-31T10:30:50.834748Z"
    }
   },
   "cell_type": "code",
   "source": [
    "# Создаем DataFrame и сохраняем в CSV\n",
    "base_dir = 'ARP-STP-n_packets=2_l=100'\n",
    "results_df = pd.DataFrame(results)\n",
    "results_df.to_csv(f'{base_dir}_attack_metrics_report.csv', index=False)\n",
    "print(f\"\\nMetrics saved to {base_dir}_attack_metrics_report.csv\")"
   ],
   "id": "7cc511f453cbe873",
   "outputs": [
    {
     "name": "stdout",
     "output_type": "stream",
     "text": [
      "\n",
      "Metrics saved to n_packets=5_l=100_attack_metrics_report.csv\n"
     ]
    }
   ],
   "execution_count": 24
  },
  {
   "metadata": {
    "ExecuteTime": {
     "end_time": "2025-03-31T10:38:36.276203Z",
     "start_time": "2025-03-31T10:38:36.265684Z"
    }
   },
   "cell_type": "code",
   "source": "results_df",
   "id": "13ad12b04815ece3",
   "outputs": [
    {
     "data": {
      "text/plain": [
       "  Attack Category     AUROC  Accuracy  Precision    Recall  F1 Score  \\\n",
       "0     botnet-ares  0.446798  0.477211   0.477171  1.000000  0.646060   \n",
       "1       brute-ftp  0.828842  0.939397   0.939500  0.999884  0.968752   \n",
       "2      brute-http  0.832601  0.786295   0.838480  0.752665  0.793258   \n",
       "3       brute-ssh  0.788103  0.889950   0.890089  0.999824  0.941771   \n",
       "4     inf-dropbox  0.476054  0.664759   0.664815  0.999747  0.798584   \n",
       "5         inf-usb  0.562467  0.965696   0.968043  0.996573  0.982101   \n",
       "6         sql-inj  0.949074  0.952381   0.900000  1.000000  0.947368   \n",
       "7             xss  0.533618  0.572271   0.573964  0.994872  0.727955   \n",
       "\n",
       "   True Negative  False Positive  False Negative  True Positive   ROC AUC  \n",
       "0              1            6882               0           6281  0.446798  \n",
       "1              0             554               1           8603  0.828842  \n",
       "2            324              68             116            353  0.832601  \n",
       "3              0             702               1           5685  0.788103  \n",
       "4              1            1991               1           3949  0.476054  \n",
       "5             38              48               5           1454  0.562467  \n",
       "6             22               2               0             18  0.949074  \n",
       "7              0             144               1            194  0.533618  "
      ],
      "text/html": [
       "<div>\n",
       "<style scoped>\n",
       "    .dataframe tbody tr th:only-of-type {\n",
       "        vertical-align: middle;\n",
       "    }\n",
       "\n",
       "    .dataframe tbody tr th {\n",
       "        vertical-align: top;\n",
       "    }\n",
       "\n",
       "    .dataframe thead th {\n",
       "        text-align: right;\n",
       "    }\n",
       "</style>\n",
       "<table border=\"1\" class=\"dataframe\">\n",
       "  <thead>\n",
       "    <tr style=\"text-align: right;\">\n",
       "      <th></th>\n",
       "      <th>Attack Category</th>\n",
       "      <th>AUROC</th>\n",
       "      <th>Accuracy</th>\n",
       "      <th>Precision</th>\n",
       "      <th>Recall</th>\n",
       "      <th>F1 Score</th>\n",
       "      <th>True Negative</th>\n",
       "      <th>False Positive</th>\n",
       "      <th>False Negative</th>\n",
       "      <th>True Positive</th>\n",
       "      <th>ROC AUC</th>\n",
       "    </tr>\n",
       "  </thead>\n",
       "  <tbody>\n",
       "    <tr>\n",
       "      <th>0</th>\n",
       "      <td>botnet-ares</td>\n",
       "      <td>0.446798</td>\n",
       "      <td>0.477211</td>\n",
       "      <td>0.477171</td>\n",
       "      <td>1.000000</td>\n",
       "      <td>0.646060</td>\n",
       "      <td>1</td>\n",
       "      <td>6882</td>\n",
       "      <td>0</td>\n",
       "      <td>6281</td>\n",
       "      <td>0.446798</td>\n",
       "    </tr>\n",
       "    <tr>\n",
       "      <th>1</th>\n",
       "      <td>brute-ftp</td>\n",
       "      <td>0.828842</td>\n",
       "      <td>0.939397</td>\n",
       "      <td>0.939500</td>\n",
       "      <td>0.999884</td>\n",
       "      <td>0.968752</td>\n",
       "      <td>0</td>\n",
       "      <td>554</td>\n",
       "      <td>1</td>\n",
       "      <td>8603</td>\n",
       "      <td>0.828842</td>\n",
       "    </tr>\n",
       "    <tr>\n",
       "      <th>2</th>\n",
       "      <td>brute-http</td>\n",
       "      <td>0.832601</td>\n",
       "      <td>0.786295</td>\n",
       "      <td>0.838480</td>\n",
       "      <td>0.752665</td>\n",
       "      <td>0.793258</td>\n",
       "      <td>324</td>\n",
       "      <td>68</td>\n",
       "      <td>116</td>\n",
       "      <td>353</td>\n",
       "      <td>0.832601</td>\n",
       "    </tr>\n",
       "    <tr>\n",
       "      <th>3</th>\n",
       "      <td>brute-ssh</td>\n",
       "      <td>0.788103</td>\n",
       "      <td>0.889950</td>\n",
       "      <td>0.890089</td>\n",
       "      <td>0.999824</td>\n",
       "      <td>0.941771</td>\n",
       "      <td>0</td>\n",
       "      <td>702</td>\n",
       "      <td>1</td>\n",
       "      <td>5685</td>\n",
       "      <td>0.788103</td>\n",
       "    </tr>\n",
       "    <tr>\n",
       "      <th>4</th>\n",
       "      <td>inf-dropbox</td>\n",
       "      <td>0.476054</td>\n",
       "      <td>0.664759</td>\n",
       "      <td>0.664815</td>\n",
       "      <td>0.999747</td>\n",
       "      <td>0.798584</td>\n",
       "      <td>1</td>\n",
       "      <td>1991</td>\n",
       "      <td>1</td>\n",
       "      <td>3949</td>\n",
       "      <td>0.476054</td>\n",
       "    </tr>\n",
       "    <tr>\n",
       "      <th>5</th>\n",
       "      <td>inf-usb</td>\n",
       "      <td>0.562467</td>\n",
       "      <td>0.965696</td>\n",
       "      <td>0.968043</td>\n",
       "      <td>0.996573</td>\n",
       "      <td>0.982101</td>\n",
       "      <td>38</td>\n",
       "      <td>48</td>\n",
       "      <td>5</td>\n",
       "      <td>1454</td>\n",
       "      <td>0.562467</td>\n",
       "    </tr>\n",
       "    <tr>\n",
       "      <th>6</th>\n",
       "      <td>sql-inj</td>\n",
       "      <td>0.949074</td>\n",
       "      <td>0.952381</td>\n",
       "      <td>0.900000</td>\n",
       "      <td>1.000000</td>\n",
       "      <td>0.947368</td>\n",
       "      <td>22</td>\n",
       "      <td>2</td>\n",
       "      <td>0</td>\n",
       "      <td>18</td>\n",
       "      <td>0.949074</td>\n",
       "    </tr>\n",
       "    <tr>\n",
       "      <th>7</th>\n",
       "      <td>xss</td>\n",
       "      <td>0.533618</td>\n",
       "      <td>0.572271</td>\n",
       "      <td>0.573964</td>\n",
       "      <td>0.994872</td>\n",
       "      <td>0.727955</td>\n",
       "      <td>0</td>\n",
       "      <td>144</td>\n",
       "      <td>1</td>\n",
       "      <td>194</td>\n",
       "      <td>0.533618</td>\n",
       "    </tr>\n",
       "  </tbody>\n",
       "</table>\n",
       "</div>"
      ]
     },
     "execution_count": 25,
     "metadata": {},
     "output_type": "execute_result"
    }
   ],
   "execution_count": 25
  }
 ],
 "metadata": {
  "kernelspec": {
   "display_name": "ml",
   "language": "python",
   "name": "ml"
  },
  "language_info": {
   "codemirror_mode": {
    "name": "ipython",
    "version": 2
   },
   "file_extension": ".py",
   "mimetype": "text/x-python",
   "name": "python",
   "nbconvert_exporter": "python",
   "pygments_lexer": "ipython2",
   "version": "2.7.6"
  }
 },
 "nbformat": 4,
 "nbformat_minor": 5
}
