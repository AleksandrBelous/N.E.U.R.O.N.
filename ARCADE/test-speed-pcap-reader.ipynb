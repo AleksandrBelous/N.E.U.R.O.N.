{
 "cells": [
  {
   "metadata": {
    "ExecuteTime": {
     "end_time": "2025-03-26T19:52:50.398288Z",
     "start_time": "2025-03-26T19:52:50.099201Z"
    }
   },
   "cell_type": "code",
   "source": [
    "import time\n",
    "import multiprocessing\n",
    "from scapy.utils import PcapReader, rdpcap\n",
    "from scapy.layers.l2 import Ether\n",
    "from scapy.layers.inet import IP\n",
    "from scapy.config import conf\n",
    "\n",
    "conf.l2types.register(1, Ether)"
   ],
   "id": "d89cc14552baee39",
   "outputs": [],
   "execution_count": 1
  },
  {
   "metadata": {
    "ExecuteTime": {
     "end_time": "2025-03-26T19:52:50.406633Z",
     "start_time": "2025-03-26T19:52:50.403341Z"
    }
   },
   "cell_type": "code",
   "source": [
    "def process_packet(pkt, index):\n",
    "    \"\"\"\n",
    "    Обработка пакета: проверка IP-слоя и извлечение 5-tuple.\n",
    "    \"\"\"\n",
    "    if not pkt.haslayer(IP):\n",
    "        return None\n",
    "\n",
    "    try:\n",
    "        ip_layer = pkt[IP]\n",
    "        src = ip_layer.src\n",
    "        dst = ip_layer.dst\n",
    "        proto = ip_layer.proto\n",
    "        sport = pkt.sport if hasattr(pkt, \"sport\") else None\n",
    "        dport = pkt.dport if hasattr(pkt, \"dport\") else None\n",
    "        flow_key = (src, dst, sport, dport, proto)\n",
    "        return index, flow_key\n",
    "    except Exception as e:\n",
    "        return None"
   ],
   "id": "fdc07eb1d910af19",
   "outputs": [],
   "execution_count": 2
  },
  {
   "metadata": {
    "ExecuteTime": {
     "end_time": "2025-03-26T19:52:50.502401Z",
     "start_time": "2025-03-26T19:52:50.500207Z"
    }
   },
   "cell_type": "code",
   "source": [
    "# Ленивый подход\n",
    "def read_pcap_lazy(file_path):\n",
    "    \"\"\"\n",
    "    Эффективное чтение pcap-файла с помощью генератора.\n",
    "    \"\"\"\n",
    "    with PcapReader(file_path) as pcap_reader:\n",
    "        for packet in pcap_reader:\n",
    "            yield packet"
   ],
   "id": "1919efd382684b1d",
   "outputs": [],
   "execution_count": 3
  },
  {
   "metadata": {
    "ExecuteTime": {
     "end_time": "2025-03-26T19:52:50.546644Z",
     "start_time": "2025-03-26T19:52:50.543745Z"
    }
   },
   "cell_type": "code",
   "source": [
    "def lazy_processing(file_path, output_file):\n",
    "    \"\"\"\n",
    "    Обработка пакетов с помощью ленивого подхода.\n",
    "    \"\"\"\n",
    "    with open(output_file, \"w\") as f:\n",
    "        for index, pkt in enumerate(read_pcap_lazy(file_path)):\n",
    "            result = process_packet(pkt, index)\n",
    "            if result:\n",
    "                f.write(f\"{result[0]}: {result[1]}\\n\")\n",
    "    print(f\"Lazy processing completed. Results saved to {output_file}\")"
   ],
   "id": "295f432b98928660",
   "outputs": [],
   "execution_count": 4
  },
  {
   "metadata": {
    "ExecuteTime": {
     "end_time": "2025-03-26T19:52:50.594746Z",
     "start_time": "2025-03-26T19:52:50.591085Z"
    }
   },
   "cell_type": "code",
   "source": [
    "# Обработка с использованием rdpcap\n",
    "def rdpcap_processing(file_path, output_file):\n",
    "    \"\"\"\n",
    "    Обработка пакетов с использованием scapy.rdpcap (чтение всех пакетов сразу) и tqdm.\n",
    "    \"\"\"\n",
    "    packets = rdpcap(file_path)\n",
    "    with open(output_file, \"w\") as f:\n",
    "        for index, pkt in enumerate(packets):\n",
    "            result = process_packet(pkt, index)\n",
    "            if result:\n",
    "                f.write(f\"{result[0]}: {result[1]}\\n\")\n",
    "    print(f\"Rdpcap processing completed. Results saved to {output_file}\")"
   ],
   "id": "e27ba1353ad26ab6",
   "outputs": [],
   "execution_count": 5
  },
  {
   "metadata": {
    "ExecuteTime": {
     "end_time": "2025-03-26T19:52:50.643978Z",
     "start_time": "2025-03-26T19:52:50.639315Z"
    }
   },
   "cell_type": "code",
   "source": [
    "# Параллельный подход\n",
    "def worker(input_queue, output_queue):\n",
    "    \"\"\"\n",
    "    Рабочий процесс для параллельной обработки пакетов.\n",
    "    \"\"\"\n",
    "    while True:\n",
    "        task = input_queue.get()\n",
    "        if task is None:  # Сигнал завершения\n",
    "            break\n",
    "        index, pkt = task\n",
    "        result = process_packet(pkt, index)\n",
    "        if result:\n",
    "            output_queue.put(result)\n",
    "\n",
    "\n",
    "def parallel_processing(file_path, output_file, num_workers=4):\n",
    "    \"\"\"\n",
    "    Обработка пакетов с использованием multiprocessing.\n",
    "    \"\"\"\n",
    "    input_queue = multiprocessing.Queue(maxsize=1000)\n",
    "    output_queue = multiprocessing.Queue()\n",
    "\n",
    "    # Запуск рабочих процессов\n",
    "    workers = []\n",
    "    for _ in range(num_workers):\n",
    "        p = multiprocessing.Process(target=worker, args=(input_queue, output_queue))\n",
    "        p.start()\n",
    "        workers.append(p)\n",
    "\n",
    "    # Чтение пакетов и передача в input_queue\n",
    "    with PcapReader(file_path) as pcap_reader:\n",
    "        for index, pkt in enumerate(pcap_reader):\n",
    "            input_queue.put((index, pkt))\n",
    "\n",
    "    # Отправка сигналов завершения\n",
    "    for _ in range(num_workers):\n",
    "        input_queue.put(None)\n",
    "\n",
    "    # Сохранение результатов\n",
    "    with open(output_file, \"w\") as f:\n",
    "        processed_count = 0\n",
    "        while processed_count < index + 1:\n",
    "            result = output_queue.get()\n",
    "            f.write(f\"{result[0]}: {result[1]}\\n\")\n",
    "            processed_count += 1\n",
    "    print(f\"Multiprocess complete and results saved to {output_file}\")\n",
    "\n",
    "    # Ожидание завершения рабочих процессов\n",
    "    for p in workers:\n",
    "        p.join()"
   ],
   "id": "1f3ef9e6260fb9c8",
   "outputs": [],
   "execution_count": 6
  },
  {
   "metadata": {
    "ExecuteTime": {
     "end_time": "2025-03-26T19:53:18.225365Z",
     "start_time": "2025-03-26T19:52:58.391118Z"
    }
   },
   "cell_type": "code",
   "source": [
    "# Сравнение времени\n",
    "if __name__ == \"__main__\":\n",
    "    pcap_file = \"/run/media/nemo/Projects/GitVerse/SIMON/pcaps/2.pcap\"\n",
    "    lazy_output = \"lazy_output.txt\"\n",
    "    parallel_output = \"parallel_output.txt\"\n",
    "    rdpcap_output = \"rdpcap_output.txt\"\n",
    "\n",
    "    # Ленивый подход\n",
    "    start_time = time.time()\n",
    "    lazy_processing(pcap_file, lazy_output)\n",
    "    lazy_time = time.time() - start_time\n",
    "    print(f\"Lazy processing time: {lazy_time:.2f} seconds\")\n",
    "\n",
    "    # Обработка с использованием rdpcap\n",
    "    start_time = time.time()\n",
    "    rdpcap_processing(pcap_file, rdpcap_output)\n",
    "    rdpcap_time = time.time() - start_time\n",
    "    print(f\"Rdpcap processing time: {rdpcap_time:.2f} seconds\")\n",
    "\n",
    "    # Параллельный подход\n",
    "    start_time = time.time()\n",
    "    # parallel_processing(pcap_file, parallel_output, num_workers=4)\n",
    "    parallel_time = time.time() - start_time\n",
    "    print(f\"Parallel processing time: {parallel_time:.2f} seconds\")"
   ],
   "id": "bf6c72e7c274a805",
   "outputs": [
    {
     "name": "stdout",
     "output_type": "stream",
     "text": [
      "Lazy processing completed. Results saved to lazy_output.txt\n",
      "Lazy processing time: 9.43 seconds\n",
      "Rdpcap processing completed. Results saved to rdpcap_output.txt\n",
      "Rdpcap processing time: 10.40 seconds\n",
      "Parallel processing time: 0.00 seconds\n"
     ]
    }
   ],
   "execution_count": 7
  }
 ],
 "metadata": {
  "kernelspec": {
   "display_name": "ml",
   "language": "python",
   "name": "ml"
  },
  "language_info": {
   "codemirror_mode": {
    "name": "ipython",
    "version": 2
   },
   "file_extension": ".py",
   "mimetype": "text/x-python",
   "name": "python",
   "nbconvert_exporter": "python",
   "pygments_lexer": "ipython2",
   "version": "2.7.6"
  }
 },
 "nbformat": 4,
 "nbformat_minor": 5
}
