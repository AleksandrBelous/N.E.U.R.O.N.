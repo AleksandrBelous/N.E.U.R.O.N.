{
 "cells": [
  {
   "cell_type": "code",
   "execution_count": null,
   "metadata": {},
   "outputs": [],
   "source": [
    "#!/usr/bin/env python3\n",
    "import argparse\n",
    "import time\n",
    "import numpy as np\n",
    "import scipy.special as sp\n",
    "import matplotlib.pyplot as plt\n",
    "from scapy.all import send\n",
    "from scapy.layers.inet import IP, TCP"
   ]
  },
  {
   "cell_type": "code",
   "execution_count": null,
   "metadata": {},
   "outputs": [],
   "source": [
    "# Функция генерации массива (число пакетов в секунду) по выбранному распределению\n",
    "def generate_distribution(dist, num_seconds, params):\n",
    "    if dist == \"constant\":\n",
    "        # Для constant просто заполняем массив значением, по умолчанию 1000 п/с.\n",
    "        value = float(params.get(\"value\", 1000))\n",
    "        distribution = np.full(num_seconds, value)\n",
    "\n",
    "    elif dist == \"uniform\":\n",
    "        # Равномерное распределение с нижней и верхней границей.\n",
    "        # Значения по умолчанию: low=800, high=1200 для среднего около 1000.\n",
    "        low = float(params.get(\"low\", 800))\n",
    "        high = float(params.get(\"high\", 1200))\n",
    "        distribution = np.random.uniform(low, high, num_seconds)\n",
    "\n",
    "    elif dist == \"exponential\":\n",
    "        # Экспоненциальное распределение с параметром scale.\n",
    "        # По умолчанию scale=1000, что задаёт среднее значение 1000.\n",
    "        scale = float(params.get(\"scale\", 1000))\n",
    "        distribution = np.random.exponential(scale, num_seconds)\n",
    "\n",
    "    elif dist == \"normal\":\n",
    "        # Нормальное распределение с параметрами mean и std.\n",
    "        mean = float(params.get(\"mean\", 1000))\n",
    "        std = float(params.get(\"std\", 100))\n",
    "        distribution = np.random.normal(mean, std, num_seconds)\n",
    "        # Исключаем отрицательные значения.\n",
    "        distribution = np.clip(distribution, 0, None)\n",
    "\n",
    "    elif dist == \"pareto\":\n",
    "        # Распределение Парето.\n",
    "        # Формула для среднего: mean = (a * xm) / (a - 1), a > 1.\n",
    "        # Выбираем xm так, чтобы получить среднее ≈ 1000.\n",
    "        a = float(params.get(\"a\", 2.5))\n",
    "        xm = 1000 * (a - 1) / a\n",
    "        distribution = np.random.pareto(a, num_seconds) * xm + xm\n",
    "\n",
    "    elif dist == \"poisson\":\n",
    "        # Распределение Пуассона с параметром lam по умолчанию равным 1000.\n",
    "        lam = float(params.get(\"lam\", 1000))\n",
    "        distribution = np.random.poisson(lam, num_seconds)\n",
    "\n",
    "    elif dist in [\"cauchy\", \"caushy\"]:\n",
    "        # Распределение Коши. Поскольку математическое ожидание не определено,\n",
    "        # используем сдвиг и масштаб (по умолчанию loc=1000, scale=100)\n",
    "        loc = float(params.get(\"loc\", 1000))\n",
    "        scale = float(params.get(\"scale\", 100))\n",
    "        distribution = np.random.standard_cauchy(num_seconds) * scale + loc\n",
    "        # Ограничиваем выбросы, чтобы избежать слишком экстремальных значений.\n",
    "        distribution = np.clip(distribution, 0, 5000)\n",
    "\n",
    "    elif dist == \"gamma\":\n",
    "        # Гамма-распределение: mean = k * theta.\n",
    "        # По умолчанию k=10, theta=100, что даёт среднее 1000.\n",
    "        k = float(params.get(\"k\", 10))\n",
    "        theta = float(params.get(\"theta\", 100))\n",
    "        distribution = np.random.gamma(k, theta, num_seconds)\n",
    "\n",
    "    elif dist == \"weibull\":\n",
    "        # Распределение Вейбулла. Среднее равно lam * Gamma(1 + 1/a).\n",
    "        # По умолчанию a=1.5, lam вычисляем так, чтобы среднее ≈ 1000.\n",
    "        a = float(params.get(\"a\", 1.5))\n",
    "        gamma_val = sp.gamma(1 + 1 / a)\n",
    "        lam = float(params.get(\"lam\", 1000 / gamma_val))\n",
    "        distribution = np.random.weibull(a, num_seconds) * lam\n",
    "\n",
    "    else:\n",
    "        raise ValueError(\"Unsupported distribution type\")\n",
    "    \n",
    "    # Округляем до целых чисел (число пакетов в секунду) и возвращаем\n",
    "    distribution = np.rint(distribution).astype(int)\n",
    "    return distribution"
   ]
  },
  {
   "cell_type": "code",
   "execution_count": 3,
   "metadata": {},
   "outputs": [],
   "source": [
    "# Функция для построения графика распределения\n",
    "def plot_distribution(dist_array, distribution_name):\n",
    "    plt.figure(figsize=(10, 6))\n",
    "    plt.plot(dist_array, marker=\"o\", linestyle=\"-\", markersize=2)\n",
    "    plt.title(f\"Распределение количества пакетов в секунду: {distribution_name}\")\n",
    "    plt.xlabel(\"Время (секунды)\")\n",
    "    plt.ylabel(\"Пакетов в секунду\")\n",
    "    plt.grid(True)\n",
    "    plt.show()"
   ]
  },
  {
   "cell_type": "code",
   "execution_count": 4,
   "metadata": {},
   "outputs": [],
   "source": [
    "# Функция отправки TCP-пакетов по заданному количеству в секунду\n",
    "def send_packets(dst_ip, dst_port, dist_array):\n",
    "    # Формируем базовый пакет с указанным IP и TCP портом\n",
    "    packet = IP(dst=dst_ip) / TCP(dport=dst_port)\n",
    "    for sec, packets in enumerate(dist_array):\n",
    "        start_time = time.time()\n",
    "        print(f\"Секунда {sec+1}: отправка {packets} пакетов\")\n",
    "        # Отправляем требуемое количество пакетов в эту секунду\n",
    "        for _ in range(packets):\n",
    "            send(packet, verbose=False)\n",
    "        # Ждём до окончания текущей секунды\n",
    "        elapsed = time.time() - start_time\n",
    "        if elapsed < 1:\n",
    "            time.sleep(1 - elapsed)"
   ]
  },
  {
   "cell_type": "code",
   "execution_count": 5,
   "metadata": {},
   "outputs": [],
   "source": [
    "# Парсинг параметров распределения, переданных в виде строки key=value, ...\n",
    "def parse_distribution_params(params_str):\n",
    "    params = {}\n",
    "    if params_str:\n",
    "        for item in params_str.split(\",\"):\n",
    "            key, value = item.split(\"=\")\n",
    "            params[key.strip()] = value.strip()\n",
    "    return params"
   ]
  },
  {
   "cell_type": "code",
   "execution_count": null,
   "metadata": {},
   "outputs": [],
   "source": [
    "def main():\n",
    "    parser = argparse.ArgumentParser(\n",
    "        description=\"Генератор TCP-трафика с использованием Scapy и различных распределений (по умолчанию 10 минут)\"\n",
    "    )\n",
    "    parser.add_argument(\"dst_ip\", help=\"IP-адрес получателя\")\n",
    "    parser.add_argument(\"dst_port\", type=int, help=\"TCP-порт получателя\")\n",
    "    parser.add_argument(\n",
    "        \"-d\",\n",
    "        \"--duration\",\n",
    "        type=int,\n",
    "        default=600,\n",
    "        help=\"Продолжительность отправки в секундах (по умолчанию 600 секунд = 10 минут)\",\n",
    "    )\n",
    "    parser.add_argument(\n",
    "        \"-t\",\n",
    "        \"--type\",\n",
    "        choices=[\n",
    "            \"constant\",\n",
    "            \"uniform\",\n",
    "            \"exponential\",\n",
    "            \"normal\",\n",
    "            \"pareto\",\n",
    "            \"poisson\",\n",
    "            \"cauchy\",\n",
    "            \"gamma\",\n",
    "            \"weibull\",\n",
    "        ],\n",
    "        default=\"constant\",\n",
    "        help=\"Тип распределения (по умолчанию constant)\",\n",
    "    )\n",
    "    parser.add_argument(\n",
    "        \"-p\",\n",
    "        \"--params\",\n",
    "        type=str,\n",
    "        default=\"\",\n",
    "        help=\"Параметры распределения в формате key=value,key2=value2 (например: mean=1000,std=100)\",\n",
    "    )\n",
    "    args = parser.parse_args()\n",
    "\n",
    "    # Парсим дополнительные параметры распределения\n",
    "    params = parse_distribution_params(args.params)\n",
    "    print(f\"Используем распределение {args.type} с параметрами: {params}\")\n",
    "\n",
    "    # Генерируем массив значений (число пакетов в секунду) для каждой секунды\n",
    "    dist_array = generate_distribution(args.type, args.duration, params)\n",
    "    print(\"Сгенерирован массив количества пакетов в секунду.\")\n",
    "\n",
    "    # Строим график распределения\n",
    "    plot_distribution(dist_array, args.type)\n",
    "\n",
    "    # Отправляем пакеты с заданным количеством в каждую секунду\n",
    "    print(f\"Отправка TCP-пакетов на {args.dst_ip}:{args.dst_port}\")\n",
    "    # send_packets(args.dst_ip, args.dst_port, dist_array)"
   ]
  },
  {
   "cell_type": "code",
   "execution_count": 7,
   "metadata": {},
   "outputs": [
    {
     "name": "stderr",
     "output_type": "stream",
     "text": [
      "usage: ipykernel_launcher.py [-h] [-d DURATION]\n",
      "                             [-t {constant,uniform,exponential,normal,pareto,poisson,cauchy,gamma,weibull}]\n",
      "                             [-p PARAMS]\n",
      "                             dst_ip dst_port\n",
      "ipykernel_launcher.py: error: the following arguments are required: dst_ip, dst_port\n"
     ]
    },
    {
     "ename": "SystemExit",
     "evalue": "2",
     "output_type": "error",
     "traceback": [
      "An exception has occurred, use %tb to see the full traceback.\n",
      "\u001B[0;31mSystemExit\u001B[0m\u001B[0;31m:\u001B[0m 2\n"
     ]
    },
    {
     "name": "stderr",
     "output_type": "stream",
     "text": [
      "/home/nemo/anaconda3/envs/py-scapy/lib/python3.11/site-packages/IPython/core/interactiveshell.py:3585: UserWarning: To exit: use 'exit', 'quit', or Ctrl-D.\n",
      "  warn(\"To exit: use 'exit', 'quit', or Ctrl-D.\", stacklevel=1)\n"
     ]
    }
   ],
   "source": [
    "if __name__ == \"__main__\":\n",
    "    main()"
   ]
  }
 ],
 "metadata": {
  "kernelspec": {
   "display_name": "py-scapy",
   "language": "python",
   "name": "py-scapy"
  },
  "language_info": {
   "codemirror_mode": {
    "name": "ipython",
    "version": 3
   },
   "file_extension": ".py",
   "mimetype": "text/x-python",
   "name": "python",
   "nbconvert_exporter": "python",
   "pygments_lexer": "ipython3",
   "version": "3.11.5"
  }
 },
 "nbformat": 4,
 "nbformat_minor": 2
}
